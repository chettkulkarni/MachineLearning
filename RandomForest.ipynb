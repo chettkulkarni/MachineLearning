{
  "nbformat": 4,
  "nbformat_minor": 0,
  "metadata": {
    "colab": {
      "name": "Copy of RandomForest.ipynb",
      "provenance": [],
      "include_colab_link": true
    },
    "kernelspec": {
      "name": "python3",
      "display_name": "Python 3"
    },
    "accelerator": "GPU"
  },
  "cells": [
    {
      "cell_type": "markdown",
      "metadata": {
        "id": "view-in-github",
        "colab_type": "text"
      },
      "source": [
        "<a href=\"https://colab.research.google.com/github/chettkulkarni/MachineLearning/blob/master/RandomForest.ipynb\" target=\"_parent\"><img src=\"https://colab.research.google.com/assets/colab-badge.svg\" alt=\"Open In Colab\"/></a>"
      ]
    },
    {
      "cell_type": "markdown",
      "metadata": {
        "id": "wpSQ_rh8za8u",
        "colab_type": "text"
      },
      "source": [
        "# Assignment: Random Forest "
      ]
    },
    {
      "cell_type": "code",
      "metadata": {
        "id": "4YOvXv3uvDh2",
        "colab_type": "code",
        "outputId": "e34ef60d-e62e-48e3-f954-a79b39ae67cf",
        "colab": {
          "base_uri": "https://localhost:8080/",
          "height": 71
        }
      },
      "source": [
        "#Import Necessary Libraries\n",
        "import requests\n",
        "import pandas as pd\n",
        "from sklearn.ensemble import RandomForestClassifier\n",
        "from sklearn.model_selection import train_test_split\n",
        "from sklearn.metrics import confusion_matrix\n",
        "from sklearn.tree import export_graphviz\n",
        "from sklearn.externals.six import StringIO \n",
        "from IPython.display import Image \n",
        "from pydot import graph_from_dot_data\n",
        "from sklearn.metrics import accuracy_score\n",
        "from sklearn.metrics import classification_report \n",
        "from sklearn.tree import DecisionTreeClassifier \n",
        "import numpy as np\n",
        "import seaborn as sns\n",
        "import matplotlib.pyplot as plt"
      ],
      "execution_count": 0,
      "outputs": [
        {
          "output_type": "stream",
          "text": [
            "/usr/local/lib/python3.6/dist-packages/sklearn/externals/six.py:31: FutureWarning: The module is deprecated in version 0.21 and will be removed in version 0.23 since we've dropped support for Python 2.7. Please rely on the official version of six (https://pypi.org/project/six/).\n",
            "  \"(https://pypi.org/project/six/).\", FutureWarning)\n"
          ],
          "name": "stderr"
        }
      ]
    },
    {
      "cell_type": "code",
      "metadata": {
        "id": "86gNHM9B2MbJ",
        "colab_type": "code",
        "outputId": "cb2e6c46-2523-49a7-d82e-de5e5aca5b24",
        "colab": {
          "base_uri": "https://localhost:8080/",
          "height": 51
        }
      },
      "source": [
        "# Read csv file into colaboratory\n",
        "!pip install -U -q PyDrive\n",
        "from pydrive.auth import GoogleAuth\n",
        "from pydrive.drive import GoogleDrive\n",
        "from google.colab import auth\n",
        "from oauth2client.client import GoogleCredentials\n",
        "# Authenticate and create the PyDrive client.\n",
        "auth.authenticate_user()\n",
        "gauth = GoogleAuth()\n",
        "gauth.credentials = GoogleCredentials.get_application_default()\n",
        "drive = GoogleDrive(gauth)\n",
        "\n",
        "link = 'https://drive.google.com/open?id=1acpzg9EPc-0AO2gFYSiPD_wqVQtyqeYT'\n",
        "fluff, id = link.split('=')\n",
        "print (id) # Verify that you have everything after '='\n",
        "\n",
        "\n",
        "downloaded = drive.CreateFile({'id':id}) \n",
        "downloaded.GetContentFile('Fire.csv')\n"
      ],
      "execution_count": 0,
      "outputs": [
        {
          "output_type": "stream",
          "text": [
            "1acpzg9EPc-0AO2gFYSiPD_wqVQtyqeYT\n",
            "1acpzg9EPc-0AO2gFYSiPD_wqVQtyqeYT\n"
          ],
          "name": "stdout"
        }
      ]
    },
    {
      "cell_type": "markdown",
      "metadata": {
        "id": "5Ufm_xaJ4txu",
        "colab_type": "text"
      },
      "source": [
        "## Preprocess the Fire Dataset"
      ]
    },
    {
      "cell_type": "code",
      "metadata": {
        "id": "0x5RTiVU2WST",
        "colab_type": "code",
        "colab": {}
      },
      "source": [
        "# Read the csv file and create a dataframe\n",
        "df=pd.read_csv('Fire.csv')"
      ],
      "execution_count": 0,
      "outputs": []
    },
    {
      "cell_type": "code",
      "metadata": {
        "id": "Gl5VpFAS2x5R",
        "colab_type": "code",
        "colab": {}
      },
      "source": [
        "df1 = df.drop(columns=['Unnamed: 0'])"
      ],
      "execution_count": 0,
      "outputs": []
    },
    {
      "cell_type": "code",
      "metadata": {
        "id": "4OrIWPov6u1Y",
        "colab_type": "code",
        "colab": {}
      },
      "source": [
        "# Find the Correlation between various features\n",
        "cor=df1.corr()"
      ],
      "execution_count": 0,
      "outputs": []
    },
    {
      "cell_type": "code",
      "metadata": {
        "id": "aBeep2WT681v",
        "colab_type": "code",
        "outputId": "4130a8af-fc43-49e4-f7ed-b2c58e0020c2",
        "colab": {
          "base_uri": "https://localhost:8080/",
          "height": 1000
        }
      },
      "source": [
        "# Heatmap to show the correllation between the features in the Fire dataset\n",
        "f, ax = plt.subplots(figsize=(11, 9))\n",
        "sns.heatmap(cor)"
      ],
      "execution_count": 0,
      "outputs": [
        {
          "output_type": "execute_result",
          "data": {
            "text/plain": [
              "<matplotlib.axes._subplots.AxesSubplot at 0x7f78e0427f60>"
            ]
          },
          "metadata": {
            "tags": []
          },
          "execution_count": 6
        },
        {
          "output_type": "display_data",
          "data": {
            "image/png": "[encoded data removed]",
            "text/plain": [
              "<Figure size 792x648 with 2 Axes>"
            ]
          },
          "metadata": {
            "tags": []
          }
        },
        {
          "output_type": "execute_result",
          "data": {
            "text/plain": [
              "<matplotlib.axes._subplots.AxesSubplot at 0x7f78dc38cfd0>"
            ]
          },
          "metadata": {
            "tags": []
          },
          "execution_count": 23
        },
        {
          "output_type": "display_data",
          "data": {
            "image/png": "[encoded data removed]",
            "text/plain": [
              "<Figure size 792x648 with 2 Axes>"
            ]
          },
          "metadata": {
            "tags": []
          }
        }
      ]
    },
    {
      "cell_type": "code",
      "metadata": {
        "id": "v8vavywn17qT",
        "colab_type": "code",
        "outputId": "0bf5a21c-7d58-46a8-bf2d-1739b80e5f4d",
        "colab": {
          "base_uri": "https://localhost:8080/",
          "height": 821
        }
      },
      "source": [
        "df1"
      ],
      "execution_count": 0,
      "outputs": [
        {
          "output_type": "execute_result",
          "data": {
            "text/html": [
              "<div>\n",
              "<style scoped>\n",
              "    .dataframe tbody tr th:only-of-type {\n",
              "        vertical-align: middle;\n",
              "    }\n",
              "\n",
              "    .dataframe tbody tr th {\n",
              "        vertical-align: top;\n",
              "    }\n",
              "\n",
              "    .dataframe thead th {\n",
              "        text-align: right;\n",
              "    }\n",
              "</style>\n",
              "<table border=\"1\" class=\"dataframe\">\n",
              "  <thead>\n",
              "    <tr style=\"text-align: right;\">\n",
              "      <th></th>\n",
              "      <th>LATITUDE</th>\n",
              "      <th>LONGITUDE</th>\n",
              "      <th>date</th>\n",
              "      <th>TMAX</th>\n",
              "      <th>PRCP</th>\n",
              "      <th>TOBS</th>\n",
              "      <th>SNOW</th>\n",
              "      <th>STAT_CAUSE_CODE</th>\n",
              "      <th>DISCOVERY_DOY</th>\n",
              "      <th>FIRE_SIZE</th>\n",
              "    </tr>\n",
              "  </thead>\n",
              "  <tbody>\n",
              "    <tr>\n",
              "      <th>0</th>\n",
              "      <td>19.0</td>\n",
              "      <td>-155.0</td>\n",
              "      <td>19960110</td>\n",
              "      <td>205.500000</td>\n",
              "      <td>0.000000</td>\n",
              "      <td>139.000000</td>\n",
              "      <td>0.0</td>\n",
              "      <td>9.0</td>\n",
              "      <td>5</td>\n",
              "      <td>5.0</td>\n",
              "    </tr>\n",
              "    <tr>\n",
              "      <th>1</th>\n",
              "      <td>19.0</td>\n",
              "      <td>-155.0</td>\n",
              "      <td>19960609</td>\n",
              "      <td>211.000000</td>\n",
              "      <td>195.000000</td>\n",
              "      <td>183.000000</td>\n",
              "      <td>0.0</td>\n",
              "      <td>9.0</td>\n",
              "      <td>159</td>\n",
              "      <td>5.0</td>\n",
              "    </tr>\n",
              "    <tr>\n",
              "      <th>2</th>\n",
              "      <td>19.0</td>\n",
              "      <td>-155.0</td>\n",
              "      <td>19960612</td>\n",
              "      <td>233.500000</td>\n",
              "      <td>0.000000</td>\n",
              "      <td>172.000000</td>\n",
              "      <td>0.0</td>\n",
              "      <td>4.0</td>\n",
              "      <td>164</td>\n",
              "      <td>0.1</td>\n",
              "    </tr>\n",
              "    <tr>\n",
              "      <th>3</th>\n",
              "      <td>19.0</td>\n",
              "      <td>-155.0</td>\n",
              "      <td>19960903</td>\n",
              "      <td>227.500000</td>\n",
              "      <td>135.800000</td>\n",
              "      <td>194.000000</td>\n",
              "      <td>0.0</td>\n",
              "      <td>4.0</td>\n",
              "      <td>247</td>\n",
              "      <td>0.1</td>\n",
              "    </tr>\n",
              "    <tr>\n",
              "      <th>4</th>\n",
              "      <td>19.0</td>\n",
              "      <td>-155.0</td>\n",
              "      <td>19961217</td>\n",
              "      <td>172.000000</td>\n",
              "      <td>4.400000</td>\n",
              "      <td>111.000000</td>\n",
              "      <td>0.0</td>\n",
              "      <td>4.0</td>\n",
              "      <td>352</td>\n",
              "      <td>0.1</td>\n",
              "    </tr>\n",
              "    <tr>\n",
              "      <th>...</th>\n",
              "      <td>...</td>\n",
              "      <td>...</td>\n",
              "      <td>...</td>\n",
              "      <td>...</td>\n",
              "      <td>...</td>\n",
              "      <td>...</td>\n",
              "      <td>...</td>\n",
              "      <td>...</td>\n",
              "      <td>...</td>\n",
              "      <td>...</td>\n",
              "    </tr>\n",
              "    <tr>\n",
              "      <th>389982</th>\n",
              "      <td>65.0</td>\n",
              "      <td>-148.0</td>\n",
              "      <td>19980701</td>\n",
              "      <td>278.900000</td>\n",
              "      <td>5.307692</td>\n",
              "      <td>188.142857</td>\n",
              "      <td>0.0</td>\n",
              "      <td>1.0</td>\n",
              "      <td>182</td>\n",
              "      <td>2.0</td>\n",
              "    </tr>\n",
              "    <tr>\n",
              "      <th>389983</th>\n",
              "      <td>65.0</td>\n",
              "      <td>-148.0</td>\n",
              "      <td>19980831</td>\n",
              "      <td>153.222222</td>\n",
              "      <td>6.230769</td>\n",
              "      <td>89.000000</td>\n",
              "      <td>0.0</td>\n",
              "      <td>1.0</td>\n",
              "      <td>185</td>\n",
              "      <td>857.0</td>\n",
              "    </tr>\n",
              "    <tr>\n",
              "      <th>389984</th>\n",
              "      <td>65.0</td>\n",
              "      <td>-147.0</td>\n",
              "      <td>19980506</td>\n",
              "      <td>150.200000</td>\n",
              "      <td>0.000000</td>\n",
              "      <td>62.500000</td>\n",
              "      <td>0.0</td>\n",
              "      <td>7.0</td>\n",
              "      <td>120</td>\n",
              "      <td>80.0</td>\n",
              "    </tr>\n",
              "    <tr>\n",
              "      <th>389985</th>\n",
              "      <td>65.0</td>\n",
              "      <td>-147.0</td>\n",
              "      <td>19980613</td>\n",
              "      <td>182.750000</td>\n",
              "      <td>16.333333</td>\n",
              "      <td>127.750000</td>\n",
              "      <td>0.0</td>\n",
              "      <td>7.0</td>\n",
              "      <td>150</td>\n",
              "      <td>15.0</td>\n",
              "    </tr>\n",
              "    <tr>\n",
              "      <th>389986</th>\n",
              "      <td>65.0</td>\n",
              "      <td>-147.0</td>\n",
              "      <td>19980622</td>\n",
              "      <td>135.400000</td>\n",
              "      <td>28.625000</td>\n",
              "      <td>104.000000</td>\n",
              "      <td>0.0</td>\n",
              "      <td>7.0</td>\n",
              "      <td>164</td>\n",
              "      <td>1.0</td>\n",
              "    </tr>\n",
              "  </tbody>\n",
              "</table>\n",
              "<p>389987 rows × 10 columns</p>\n",
              "</div>"
            ],
            "text/plain": [
              "        LATITUDE  LONGITUDE  ...  DISCOVERY_DOY  FIRE_SIZE\n",
              "0           19.0     -155.0  ...              5        5.0\n",
              "1           19.0     -155.0  ...            159        5.0\n",
              "2           19.0     -155.0  ...            164        0.1\n",
              "3           19.0     -155.0  ...            247        0.1\n",
              "4           19.0     -155.0  ...            352        0.1\n",
              "...          ...        ...  ...            ...        ...\n",
              "389982      65.0     -148.0  ...            182        2.0\n",
              "389983      65.0     -148.0  ...            185      857.0\n",
              "389984      65.0     -147.0  ...            120       80.0\n",
              "389985      65.0     -147.0  ...            150       15.0\n",
              "389986      65.0     -147.0  ...            164        1.0\n",
              "\n",
              "[389987 rows x 10 columns]"
            ]
          },
          "metadata": {
            "tags": []
          },
          "execution_count": 7
        },
        {
          "output_type": "execute_result",
          "data": {
            "text/html": [
              "<div>\n",
              "<style scoped>\n",
              "    .dataframe tbody tr th:only-of-type {\n",
              "        vertical-align: middle;\n",
              "    }\n",
              "\n",
              "    .dataframe tbody tr th {\n",
              "        vertical-align: top;\n",
              "    }\n",
              "\n",
              "    .dataframe thead th {\n",
              "        text-align: right;\n",
              "    }\n",
              "</style>\n",
              "<table border=\"1\" class=\"dataframe\">\n",
              "  <thead>\n",
              "    <tr style=\"text-align: right;\">\n",
              "      <th></th>\n",
              "      <th>LATITUDE</th>\n",
              "      <th>LONGITUDE</th>\n",
              "      <th>date</th>\n",
              "      <th>TMAX</th>\n",
              "      <th>PRCP</th>\n",
              "      <th>TOBS</th>\n",
              "      <th>SNOW</th>\n",
              "      <th>STAT_CAUSE_CODE</th>\n",
              "      <th>DISCOVERY_DOY</th>\n",
              "      <th>FIRE_SIZE</th>\n",
              "    </tr>\n",
              "  </thead>\n",
              "  <tbody>\n",
              "    <tr>\n",
              "      <th>0</th>\n",
              "      <td>19.0</td>\n",
              "      <td>-155.0</td>\n",
              "      <td>19960110</td>\n",
              "      <td>205.500000</td>\n",
              "      <td>0.000000</td>\n",
              "      <td>139.000000</td>\n",
              "      <td>0.0</td>\n",
              "      <td>9.0</td>\n",
              "      <td>5</td>\n",
              "      <td>5.0</td>\n",
              "    </tr>\n",
              "    <tr>\n",
              "      <th>1</th>\n",
              "      <td>19.0</td>\n",
              "      <td>-155.0</td>\n",
              "      <td>19960609</td>\n",
              "      <td>211.000000</td>\n",
              "      <td>195.000000</td>\n",
              "      <td>183.000000</td>\n",
              "      <td>0.0</td>\n",
              "      <td>9.0</td>\n",
              "      <td>159</td>\n",
              "      <td>5.0</td>\n",
              "    </tr>\n",
              "    <tr>\n",
              "      <th>2</th>\n",
              "      <td>19.0</td>\n",
              "      <td>-155.0</td>\n",
              "      <td>19960612</td>\n",
              "      <td>233.500000</td>\n",
              "      <td>0.000000</td>\n",
              "      <td>172.000000</td>\n",
              "      <td>0.0</td>\n",
              "      <td>4.0</td>\n",
              "      <td>164</td>\n",
              "      <td>0.1</td>\n",
              "    </tr>\n",
              "    <tr>\n",
              "      <th>3</th>\n",
              "      <td>19.0</td>\n",
              "      <td>-155.0</td>\n",
              "      <td>19960903</td>\n",
              "      <td>227.500000</td>\n",
              "      <td>135.800000</td>\n",
              "      <td>194.000000</td>\n",
              "      <td>0.0</td>\n",
              "      <td>4.0</td>\n",
              "      <td>247</td>\n",
              "      <td>0.1</td>\n",
              "    </tr>\n",
              "    <tr>\n",
              "      <th>4</th>\n",
              "      <td>19.0</td>\n",
              "      <td>-155.0</td>\n",
              "      <td>19961217</td>\n",
              "      <td>172.000000</td>\n",
              "      <td>4.400000</td>\n",
              "      <td>111.000000</td>\n",
              "      <td>0.0</td>\n",
              "      <td>4.0</td>\n",
              "      <td>352</td>\n",
              "      <td>0.1</td>\n",
              "    </tr>\n",
              "    <tr>\n",
              "      <th>...</th>\n",
              "      <td>...</td>\n",
              "      <td>...</td>\n",
              "      <td>...</td>\n",
              "      <td>...</td>\n",
              "      <td>...</td>\n",
              "      <td>...</td>\n",
              "      <td>...</td>\n",
              "      <td>...</td>\n",
              "      <td>...</td>\n",
              "      <td>...</td>\n",
              "    </tr>\n",
              "    <tr>\n",
              "      <th>389982</th>\n",
              "      <td>65.0</td>\n",
              "      <td>-148.0</td>\n",
              "      <td>19980701</td>\n",
              "      <td>278.900000</td>\n",
              "      <td>5.307692</td>\n",
              "      <td>188.142857</td>\n",
              "      <td>0.0</td>\n",
              "      <td>1.0</td>\n",
              "      <td>182</td>\n",
              "      <td>2.0</td>\n",
              "    </tr>\n",
              "    <tr>\n",
              "      <th>389983</th>\n",
              "      <td>65.0</td>\n",
              "      <td>-148.0</td>\n",
              "      <td>19980831</td>\n",
              "      <td>153.222222</td>\n",
              "      <td>6.230769</td>\n",
              "      <td>89.000000</td>\n",
              "      <td>0.0</td>\n",
              "      <td>1.0</td>\n",
              "      <td>185</td>\n",
              "      <td>857.0</td>\n",
              "    </tr>\n",
              "    <tr>\n",
              "      <th>389984</th>\n",
              "      <td>65.0</td>\n",
              "      <td>-147.0</td>\n",
              "      <td>19980506</td>\n",
              "      <td>150.200000</td>\n",
              "      <td>0.000000</td>\n",
              "      <td>62.500000</td>\n",
              "      <td>0.0</td>\n",
              "      <td>7.0</td>\n",
              "      <td>120</td>\n",
              "      <td>80.0</td>\n",
              "    </tr>\n",
              "    <tr>\n",
              "      <th>389985</th>\n",
              "      <td>65.0</td>\n",
              "      <td>-147.0</td>\n",
              "      <td>19980613</td>\n",
              "      <td>182.750000</td>\n",
              "      <td>16.333333</td>\n",
              "      <td>127.750000</td>\n",
              "      <td>0.0</td>\n",
              "      <td>7.0</td>\n",
              "      <td>150</td>\n",
              "      <td>15.0</td>\n",
              "    </tr>\n",
              "    <tr>\n",
              "      <th>389986</th>\n",
              "      <td>65.0</td>\n",
              "      <td>-147.0</td>\n",
              "      <td>19980622</td>\n",
              "      <td>135.400000</td>\n",
              "      <td>28.625000</td>\n",
              "      <td>104.000000</td>\n",
              "      <td>0.0</td>\n",
              "      <td>7.0</td>\n",
              "      <td>164</td>\n",
              "      <td>1.0</td>\n",
              "    </tr>\n",
              "  </tbody>\n",
              "</table>\n",
              "<p>389987 rows × 10 columns</p>\n",
              "</div>"
            ],
            "text/plain": [
              "        LATITUDE  LONGITUDE  ...  DISCOVERY_DOY  FIRE_SIZE\n",
              "0           19.0     -155.0  ...              5        5.0\n",
              "1           19.0     -155.0  ...            159        5.0\n",
              "2           19.0     -155.0  ...            164        0.1\n",
              "3           19.0     -155.0  ...            247        0.1\n",
              "4           19.0     -155.0  ...            352        0.1\n",
              "...          ...        ...  ...            ...        ...\n",
              "389982      65.0     -148.0  ...            182        2.0\n",
              "389983      65.0     -148.0  ...            185      857.0\n",
              "389984      65.0     -147.0  ...            120       80.0\n",
              "389985      65.0     -147.0  ...            150       15.0\n",
              "389986      65.0     -147.0  ...            164        1.0\n",
              "\n",
              "[389987 rows x 10 columns]"
            ]
          },
          "metadata": {
            "tags": []
          },
          "execution_count": 24
        }
      ]
    },
    {
      "cell_type": "code",
      "metadata": {
        "id": "GVYiu0Ac5jWv",
        "colab_type": "code",
        "outputId": "1d3ae907-6b5c-4f15-cf07-9cc11f601b50",
        "colab": {
          "base_uri": "https://localhost:8080/",
          "height": 34
        }
      },
      "source": [
        "df1['STAT_CAUSE_CODE'].unique()"
      ],
      "execution_count": 0,
      "outputs": [
        {
          "output_type": "execute_result",
          "data": {
            "text/plain": [
              "array([ 9.,  4.,  3.,  1.,  7.,  5.,  2., 12., 10.,  8., 11., 13.,  6.])"
            ]
          },
          "metadata": {
            "tags": []
          },
          "execution_count": 8
        },
        {
          "output_type": "execute_result",
          "data": {
            "text/plain": [
              "array([ 9.,  4.,  3.,  1.,  7.,  5.,  2., 12., 10.,  8., 11., 13.,  6.])"
            ]
          },
          "metadata": {
            "tags": []
          },
          "execution_count": 25
        }
      ]
    },
    {
      "cell_type": "code",
      "metadata": {
        "id": "t-qLK80G3cRl",
        "colab_type": "code",
        "outputId": "fc6b16d2-23fa-4f81-d037-b41651f17c56",
        "colab": {
          "base_uri": "https://localhost:8080/",
          "height": 391
        }
      },
      "source": [
        "X=df1.loc[:, df1.columns != 'STAT_CAUSE_CODE']\n",
        "X.head()"
      ],
      "execution_count": 0,
      "outputs": [
        {
          "output_type": "execute_result",
          "data": {
            "text/html": [
              "<div>\n",
              "<style scoped>\n",
              "    .dataframe tbody tr th:only-of-type {\n",
              "        vertical-align: middle;\n",
              "    }\n",
              "\n",
              "    .dataframe tbody tr th {\n",
              "        vertical-align: top;\n",
              "    }\n",
              "\n",
              "    .dataframe thead th {\n",
              "        text-align: right;\n",
              "    }\n",
              "</style>\n",
              "<table border=\"1\" class=\"dataframe\">\n",
              "  <thead>\n",
              "    <tr style=\"text-align: right;\">\n",
              "      <th></th>\n",
              "      <th>LATITUDE</th>\n",
              "      <th>LONGITUDE</th>\n",
              "      <th>date</th>\n",
              "      <th>TMAX</th>\n",
              "      <th>PRCP</th>\n",
              "      <th>TOBS</th>\n",
              "      <th>SNOW</th>\n",
              "      <th>DISCOVERY_DOY</th>\n",
              "      <th>FIRE_SIZE</th>\n",
              "    </tr>\n",
              "  </thead>\n",
              "  <tbody>\n",
              "    <tr>\n",
              "      <th>0</th>\n",
              "      <td>19.0</td>\n",
              "      <td>-155.0</td>\n",
              "      <td>19960110</td>\n",
              "      <td>205.5</td>\n",
              "      <td>0.0</td>\n",
              "      <td>139.0</td>\n",
              "      <td>0.0</td>\n",
              "      <td>5</td>\n",
              "      <td>5.0</td>\n",
              "    </tr>\n",
              "    <tr>\n",
              "      <th>1</th>\n",
              "      <td>19.0</td>\n",
              "      <td>-155.0</td>\n",
              "      <td>19960609</td>\n",
              "      <td>211.0</td>\n",
              "      <td>195.0</td>\n",
              "      <td>183.0</td>\n",
              "      <td>0.0</td>\n",
              "      <td>159</td>\n",
              "      <td>5.0</td>\n",
              "    </tr>\n",
              "    <tr>\n",
              "      <th>2</th>\n",
              "      <td>19.0</td>\n",
              "      <td>-155.0</td>\n",
              "      <td>19960612</td>\n",
              "      <td>233.5</td>\n",
              "      <td>0.0</td>\n",
              "      <td>172.0</td>\n",
              "      <td>0.0</td>\n",
              "      <td>164</td>\n",
              "      <td>0.1</td>\n",
              "    </tr>\n",
              "    <tr>\n",
              "      <th>3</th>\n",
              "      <td>19.0</td>\n",
              "      <td>-155.0</td>\n",
              "      <td>19960903</td>\n",
              "      <td>227.5</td>\n",
              "      <td>135.8</td>\n",
              "      <td>194.0</td>\n",
              "      <td>0.0</td>\n",
              "      <td>247</td>\n",
              "      <td>0.1</td>\n",
              "    </tr>\n",
              "    <tr>\n",
              "      <th>4</th>\n",
              "      <td>19.0</td>\n",
              "      <td>-155.0</td>\n",
              "      <td>19961217</td>\n",
              "      <td>172.0</td>\n",
              "      <td>4.4</td>\n",
              "      <td>111.0</td>\n",
              "      <td>0.0</td>\n",
              "      <td>352</td>\n",
              "      <td>0.1</td>\n",
              "    </tr>\n",
              "  </tbody>\n",
              "</table>\n",
              "</div>"
            ],
            "text/plain": [
              "   LATITUDE  LONGITUDE      date   TMAX  ...   TOBS  SNOW  DISCOVERY_DOY  FIRE_SIZE\n",
              "0      19.0     -155.0  19960110  205.5  ...  139.0   0.0              5        5.0\n",
              "1      19.0     -155.0  19960609  211.0  ...  183.0   0.0            159        5.0\n",
              "2      19.0     -155.0  19960612  233.5  ...  172.0   0.0            164        0.1\n",
              "3      19.0     -155.0  19960903  227.5  ...  194.0   0.0            247        0.1\n",
              "4      19.0     -155.0  19961217  172.0  ...  111.0   0.0            352        0.1\n",
              "\n",
              "[5 rows x 9 columns]"
            ]
          },
          "metadata": {
            "tags": []
          },
          "execution_count": 9
        },
        {
          "output_type": "execute_result",
          "data": {
            "text/html": [
              "<div>\n",
              "<style scoped>\n",
              "    .dataframe tbody tr th:only-of-type {\n",
              "        vertical-align: middle;\n",
              "    }\n",
              "\n",
              "    .dataframe tbody tr th {\n",
              "        vertical-align: top;\n",
              "    }\n",
              "\n",
              "    .dataframe thead th {\n",
              "        text-align: right;\n",
              "    }\n",
              "</style>\n",
              "<table border=\"1\" class=\"dataframe\">\n",
              "  <thead>\n",
              "    <tr style=\"text-align: right;\">\n",
              "      <th></th>\n",
              "      <th>LATITUDE</th>\n",
              "      <th>LONGITUDE</th>\n",
              "      <th>date</th>\n",
              "      <th>TMAX</th>\n",
              "      <th>PRCP</th>\n",
              "      <th>TOBS</th>\n",
              "      <th>SNOW</th>\n",
              "      <th>DISCOVERY_DOY</th>\n",
              "      <th>FIRE_SIZE</th>\n",
              "    </tr>\n",
              "  </thead>\n",
              "  <tbody>\n",
              "    <tr>\n",
              "      <th>0</th>\n",
              "      <td>19.0</td>\n",
              "      <td>-155.0</td>\n",
              "      <td>19960110</td>\n",
              "      <td>205.5</td>\n",
              "      <td>0.0</td>\n",
              "      <td>139.0</td>\n",
              "      <td>0.0</td>\n",
              "      <td>5</td>\n",
              "      <td>5.0</td>\n",
              "    </tr>\n",
              "    <tr>\n",
              "      <th>1</th>\n",
              "      <td>19.0</td>\n",
              "      <td>-155.0</td>\n",
              "      <td>19960609</td>\n",
              "      <td>211.0</td>\n",
              "      <td>195.0</td>\n",
              "      <td>183.0</td>\n",
              "      <td>0.0</td>\n",
              "      <td>159</td>\n",
              "      <td>5.0</td>\n",
              "    </tr>\n",
              "    <tr>\n",
              "      <th>2</th>\n",
              "      <td>19.0</td>\n",
              "      <td>-155.0</td>\n",
              "      <td>19960612</td>\n",
              "      <td>233.5</td>\n",
              "      <td>0.0</td>\n",
              "      <td>172.0</td>\n",
              "      <td>0.0</td>\n",
              "      <td>164</td>\n",
              "      <td>0.1</td>\n",
              "    </tr>\n",
              "    <tr>\n",
              "      <th>3</th>\n",
              "      <td>19.0</td>\n",
              "      <td>-155.0</td>\n",
              "      <td>19960903</td>\n",
              "      <td>227.5</td>\n",
              "      <td>135.8</td>\n",
              "      <td>194.0</td>\n",
              "      <td>0.0</td>\n",
              "      <td>247</td>\n",
              "      <td>0.1</td>\n",
              "    </tr>\n",
              "    <tr>\n",
              "      <th>4</th>\n",
              "      <td>19.0</td>\n",
              "      <td>-155.0</td>\n",
              "      <td>19961217</td>\n",
              "      <td>172.0</td>\n",
              "      <td>4.4</td>\n",
              "      <td>111.0</td>\n",
              "      <td>0.0</td>\n",
              "      <td>352</td>\n",
              "      <td>0.1</td>\n",
              "    </tr>\n",
              "  </tbody>\n",
              "</table>\n",
              "</div>"
            ],
            "text/plain": [
              "   LATITUDE  LONGITUDE      date   TMAX  ...   TOBS  SNOW  DISCOVERY_DOY  FIRE_SIZE\n",
              "0      19.0     -155.0  19960110  205.5  ...  139.0   0.0              5        5.0\n",
              "1      19.0     -155.0  19960609  211.0  ...  183.0   0.0            159        5.0\n",
              "2      19.0     -155.0  19960612  233.5  ...  172.0   0.0            164        0.1\n",
              "3      19.0     -155.0  19960903  227.5  ...  194.0   0.0            247        0.1\n",
              "4      19.0     -155.0  19961217  172.0  ...  111.0   0.0            352        0.1\n",
              "\n",
              "[5 rows x 9 columns]"
            ]
          },
          "metadata": {
            "tags": []
          },
          "execution_count": 26
        }
      ]
    },
    {
      "cell_type": "code",
      "metadata": {
        "id": "hjsKfc5M3oat",
        "colab_type": "code",
        "outputId": "be7369f2-6185-4c21-818b-b76d2705ee7a",
        "colab": {
          "base_uri": "https://localhost:8080/",
          "height": 204
        }
      },
      "source": [
        "Y=df1['STAT_CAUSE_CODE']\n",
        "Y.head()"
      ],
      "execution_count": 0,
      "outputs": [
        {
          "output_type": "execute_result",
          "data": {
            "text/plain": [
              "0    9.0\n",
              "1    9.0\n",
              "2    4.0\n",
              "3    4.0\n",
              "4    4.0\n",
              "Name: STAT_CAUSE_CODE, dtype: float64"
            ]
          },
          "metadata": {
            "tags": []
          },
          "execution_count": 10
        },
        {
          "output_type": "execute_result",
          "data": {
            "text/plain": [
              "0    9.0\n",
              "1    9.0\n",
              "2    4.0\n",
              "3    4.0\n",
              "4    4.0\n",
              "Name: STAT_CAUSE_CODE, dtype: float64"
            ]
          },
          "metadata": {
            "tags": []
          },
          "execution_count": 27
        }
      ]
    },
    {
      "cell_type": "code",
      "metadata": {
        "id": "js4AfpWz2yVe",
        "colab_type": "code",
        "colab": {}
      },
      "source": [
        "X_train, X_test, y_train, y_test = train_test_split(X, Y, random_state=1)"
      ],
      "execution_count": 0,
      "outputs": []
    },
    {
      "cell_type": "markdown",
      "metadata": {
        "id": "X9SShV3P5D1J",
        "colab_type": "text"
      },
      "source": [
        "## Train the Model"
      ]
    },
    {
      "cell_type": "code",
      "metadata": {
        "id": "F9Xi-CWJJ__5",
        "colab_type": "code",
        "outputId": "3787e7e2-0091-426e-b718-7c34a186cddd",
        "colab": {
          "base_uri": "https://localhost:8080/",
          "height": 204
        }
      },
      "source": [
        "dt = DecisionTreeClassifier()\n",
        "dt.fit(X_train, y_train)"
      ],
      "execution_count": 0,
      "outputs": [
        {
          "output_type": "execute_result",
          "data": {
            "text/plain": [
              "DecisionTreeClassifier(ccp_alpha=0.0, class_weight=None, criterion='gini',\n",
              "                       max_depth=None, max_features=None, max_leaf_nodes=None,\n",
              "                       min_impurity_decrease=0.0, min_impurity_split=None,\n",
              "                       min_samples_leaf=1, min_samples_split=2,\n",
              "                       min_weight_fraction_leaf=0.0, presort='deprecated',\n",
              "                       random_state=None, splitter='best')"
            ]
          },
          "metadata": {
            "tags": []
          },
          "execution_count": 12
        },
        {
          "output_type": "execute_result",
          "data": {
            "text/plain": [
              "DecisionTreeClassifier(ccp_alpha=0.0, class_weight=None, criterion='gini',\n",
              "                       max_depth=None, max_features=None, max_leaf_nodes=None,\n",
              "                       min_impurity_decrease=0.0, min_impurity_split=None,\n",
              "                       min_samples_leaf=1, min_samples_split=2,\n",
              "                       min_weight_fraction_leaf=0.0, presort='deprecated',\n",
              "                       random_state=None, splitter='best')"
            ]
          },
          "metadata": {
            "tags": []
          },
          "execution_count": 29
        }
      ]
    },
    {
      "cell_type": "code",
      "metadata": {
        "id": "6pujh9eTKDSj",
        "colab_type": "code",
        "colab": {}
      },
      "source": [
        "y_pred = dt.predict(X_test)"
      ],
      "execution_count": 0,
      "outputs": []
    },
    {
      "cell_type": "code",
      "metadata": {
        "id": "8QgvFtaXKFq6",
        "colab_type": "code",
        "outputId": "c27575af-20c6-49bb-8f97-f637011df510",
        "colab": {
          "base_uri": "https://localhost:8080/",
          "height": 34
        }
      },
      "source": [
        "from sklearn.metrics import accuracy_score\n",
        "accuracy_score(y_test, y_pred)*100"
      ],
      "execution_count": 0,
      "outputs": [
        {
          "output_type": "execute_result",
          "data": {
            "text/plain": [
              "51.95441911033159"
            ]
          },
          "metadata": {
            "tags": []
          },
          "execution_count": 14
        },
        {
          "output_type": "execute_result",
          "data": {
            "text/plain": [
              "51.955444782916395"
            ]
          },
          "metadata": {
            "tags": []
          },
          "execution_count": 31
        }
      ]
    },
    {
      "cell_type": "code",
      "metadata": {
        "id": "iuBZcbtdKJUC",
        "colab_type": "code",
        "outputId": "291e4200-8ef9-494f-a8ca-7beb9eed3d9b",
        "colab": {
          "base_uri": "https://localhost:8080/",
          "height": 34
        }
      },
      "source": [
        "dt = DecisionTreeClassifier(criterion='entropy')\n",
        "dt.fit(X_train, y_train)\n",
        "y_pred = dt.predict(X_test)\n",
        "accuracy_score(y_test, y_pred)*100"
      ],
      "execution_count": 0,
      "outputs": [
        {
          "output_type": "execute_result",
          "data": {
            "text/plain": [
              "52.43751089777121"
            ]
          },
          "metadata": {
            "tags": []
          },
          "execution_count": 15
        },
        {
          "output_type": "execute_result",
          "data": {
            "text/plain": [
              "52.36981650717458"
            ]
          },
          "metadata": {
            "tags": []
          },
          "execution_count": 32
        }
      ]
    },
    {
      "cell_type": "code",
      "metadata": {
        "id": "Fe3qBm7IKMl3",
        "colab_type": "code",
        "outputId": "858ffd9e-b87c-4035-826f-d014bc36fca4",
        "colab": {
          "base_uri": "https://localhost:8080/",
          "height": 1000
        }
      },
      "source": [
        "print(\"Confusion Matrix: \",confusion_matrix(y_test, y_pred)) \n",
        "print (\"Accuracy : \",accuracy_score(y_test,y_pred)*100) \n",
        "print(\"Report : \",classification_report(y_test, y_pred))"
      ],
      "execution_count": 0,
      "outputs": [
        {
          "output_type": "stream",
          "text": [
            "Confusion Matrix:  [[20367   577   315   963   683   112   521   264  1161   104    73    14\n",
            "    458]\n",
            " [  577  1128   226   314   792    64   583   239   885    44    67    35\n",
            "     63]\n",
            " [  333   250   313   248   560    31   359   126   517    30    17    11\n",
            "     49]\n",
            " [ 1061   343   270  1689   508    51   412   141   743    40    24     8\n",
            "    115]\n",
            " [  749   937   642   612  8061   208  3413   851  1617   101    94    49\n",
            "    144]\n",
            " [  108    52    23    40   178   283   103    21    72     5     8     1\n",
            "     18]\n",
            " [  534   645   398   391  3418   123  7587   390  1677   119    79    26\n",
            "    234]\n",
            " [  238   250   145   170   835    31   419   760   388    54    26    33\n",
            "     30]\n",
            " [ 1295   909   551   841  1620    80  1677   414  5733    83   110    17\n",
            "    153]\n",
            " [  120    51    33    46    79     9   102    55    66   332    10     3\n",
            "      4]\n",
            " [   73    70    25    26    60    10    68    17   111     7    57     5\n",
            "      5]\n",
            " [   10    44     7    10    57     0    28    19    20     7     3    30\n",
            "      1]\n",
            " [  477    53    59   117   155    16   236    16   141     7     3     1\n",
            "   4785]]\n",
            "Accuracy :  52.43751089777121\n",
            "Report :                precision    recall  f1-score   support\n",
            "\n",
            "         1.0       0.79      0.80      0.79     25612\n",
            "         2.0       0.21      0.22      0.22      5017\n",
            "         3.0       0.10      0.11      0.11      2844\n",
            "         4.0       0.31      0.31      0.31      5405\n",
            "         5.0       0.47      0.46      0.47     17478\n",
            "         6.0       0.28      0.31      0.29       912\n",
            "         7.0       0.49      0.49      0.49     15621\n",
            "         8.0       0.23      0.22      0.23      3379\n",
            "         9.0       0.44      0.43      0.43     13483\n",
            "        10.0       0.36      0.36      0.36       910\n",
            "        11.0       0.10      0.11      0.10       534\n",
            "        12.0       0.13      0.13      0.13       236\n",
            "        13.0       0.79      0.79      0.79      6066\n",
            "\n",
            "    accuracy                           0.52     97497\n",
            "   macro avg       0.36      0.36      0.36     97497\n",
            "weighted avg       0.52      0.52      0.52     97497\n",
            "\n",
            "Confusion Matrix:  [[20350   574   300   952   646   115   546   279  1206   113    76    12\n",
            "    443]\n",
            " [  570  1114   236   313   802    59   582   243   904    44    64    30\n",
            "     56]\n",
            " [  322   261   319   257   564    28   363   112   512    31    19    10\n",
            "     46]\n",
            " [ 1079   338   272  1662   528    36   416   147   735    35    29     9\n",
            "    119]\n",
            " [  743   944   656   622  8030   198  3396   873  1641   102    89    43\n",
            "    141]\n",
            " [  104    52    23    41   168   277   112    22    81     8     8     0\n",
            "     16]\n",
            " [  537   643   421   396  3379   127  7600   379  1670   122    85    28\n",
            "    234]\n",
            " [  231   233   148   183   840    32   408   767   388    53    24    36\n",
            "     36]\n",
            " [ 1268   933   556   832  1611    71  1696   405  5744    92   119    16\n",
            "    140]\n",
            " [  123    47    29    46    87    10   102    51    77   322    11     2\n",
            "      3]\n",
            " [   69    77    25    27    56    11    66    18   103     8    65     5\n",
            "      4]\n",
            " [   10    45     6    10    55     0    26    27    18     6     3    30\n",
            "      0]\n",
            " [  467    57    50   122   160    18   238    17   143     8     6     1\n",
            "   4779]]\n",
            "Accuracy :  52.36981650717458\n",
            "Report :                precision    recall  f1-score   support\n",
            "\n",
            "         1.0       0.79      0.79      0.79     25612\n",
            "         2.0       0.21      0.22      0.22      5017\n",
            "         3.0       0.10      0.11      0.11      2844\n",
            "         4.0       0.30      0.31      0.31      5405\n",
            "         5.0       0.47      0.46      0.47     17478\n",
            "         6.0       0.28      0.30      0.29       912\n",
            "         7.0       0.49      0.49      0.49     15621\n",
            "         8.0       0.23      0.23      0.23      3379\n",
            "         9.0       0.43      0.43      0.43     13483\n",
            "        10.0       0.34      0.35      0.35       910\n",
            "        11.0       0.11      0.12      0.11       534\n",
            "        12.0       0.14      0.13      0.13       236\n",
            "        13.0       0.79      0.79      0.79      6066\n",
            "\n",
            "    accuracy                           0.52     97497\n",
            "   macro avg       0.36      0.36      0.36     97497\n",
            "weighted avg       0.52      0.52      0.52     97497\n",
            "\n"
          ],
          "name": "stdout"
        }
      ]
    },
    {
      "cell_type": "code",
      "metadata": {
        "id": "VAzfa8H33SfT",
        "colab_type": "code",
        "outputId": "ab0ee863-b871-4d5c-aeb5-f02db1a5f68f",
        "colab": {
          "base_uri": "https://localhost:8080/",
          "height": 272
        }
      },
      "source": [
        "clf = RandomForestClassifier()\n",
        "clf.fit(X_train, y_train)"
      ],
      "execution_count": 0,
      "outputs": [
        {
          "output_type": "execute_result",
          "data": {
            "text/plain": [
              "RandomForestClassifier(bootstrap=True, ccp_alpha=0.0, class_weight=None,\n",
              "                       criterion='gini', max_depth=None, max_features='auto',\n",
              "                       max_leaf_nodes=None, max_samples=None,\n",
              "                       min_impurity_decrease=0.0, min_impurity_split=None,\n",
              "                       min_samples_leaf=1, min_samples_split=2,\n",
              "                       min_weight_fraction_leaf=0.0, n_estimators=100,\n",
              "                       n_jobs=None, oob_score=False, random_state=None,\n",
              "                       verbose=0, warm_start=False)"
            ]
          },
          "metadata": {
            "tags": []
          },
          "execution_count": 17
        },
        {
          "output_type": "execute_result",
          "data": {
            "text/plain": [
              "RandomForestClassifier(bootstrap=True, ccp_alpha=0.0, class_weight=None,\n",
              "                       criterion='gini', max_depth=None, max_features='auto',\n",
              "                       max_leaf_nodes=None, max_samples=None,\n",
              "                       min_impurity_decrease=0.0, min_impurity_split=None,\n",
              "                       min_samples_leaf=1, min_samples_split=2,\n",
              "                       min_weight_fraction_leaf=0.0, n_estimators=100,\n",
              "                       n_jobs=None, oob_score=False, random_state=None,\n",
              "                       verbose=0, warm_start=False)"
            ]
          },
          "metadata": {
            "tags": []
          },
          "execution_count": 34
        }
      ]
    },
    {
      "cell_type": "code",
      "metadata": {
        "id": "h_5Rp2Xv3W6k",
        "colab_type": "code",
        "outputId": "53dd1b2d-2042-4fc6-b77c-c8228fdfc7ff",
        "colab": {
          "base_uri": "https://localhost:8080/",
          "height": 85
        }
      },
      "source": [
        "y_pred = clf.predict(X_test)\n",
        "print(\"Predicted values:\") \n",
        "print(y_pred) "
      ],
      "execution_count": 0,
      "outputs": [
        {
          "output_type": "stream",
          "text": [
            "Predicted values:\n",
            "[7. 5. 1. ... 7. 9. 9.]\n",
            "Predicted values:\n",
            "[7. 5. 1. ... 7. 9. 9.]\n"
          ],
          "name": "stdout"
        }
      ]
    },
    {
      "cell_type": "markdown",
      "metadata": {
        "id": "PxOLxwhQ5G9w",
        "colab_type": "text"
      },
      "source": [
        "## Evaluate the Random Forest Classifier Model"
      ]
    },
    {
      "cell_type": "code",
      "metadata": {
        "id": "pXJvy6Pq3apn",
        "colab_type": "code",
        "outputId": "bd450c11-b4f0-42df-fcdb-1618aa9124c8",
        "colab": {
          "base_uri": "https://localhost:8080/",
          "height": 1000
        }
      },
      "source": [
        "print(\"Confusion Matrix: \",confusion_matrix(y_test, y_pred)) \n",
        "print (\"Accuracy : \",accuracy_score(y_test,y_pred)*100) \n",
        "print(\"Report : \",classification_report(y_test, y_pred))"
      ],
      "execution_count": 0,
      "outputs": [
        {
          "output_type": "stream",
          "text": [
            "Confusion Matrix:  [[23055   210    81   459   442    11   333    81   714    40    14     3\n",
            "    169]\n",
            " [  794  1057    92   254   958    18   529   154  1063    27    22    18\n",
            "     31]\n",
            " [  409   181   175   296   683     7   348    77   606    25     9     2\n",
            "     26]\n",
            " [ 1443   185   106  1859   603    12   326    65   723    16     5     2\n",
            "     60]\n",
            " [  810   497   226   378 10091    69  3335   560  1279    58    34    21\n",
            "    120]\n",
            " [  139    33     6    34   237   259   109     9    66     6     4     0\n",
            "     10]\n",
            " [  551   332   123   221  3327    35  8874   245  1611    54    25     9\n",
            "    214]\n",
            " [  306   172    62   137  1007    13   381   788   428    41     4    18\n",
            "     22]\n",
            " [ 1500   660   211   699  1657    21  1469   260  6826    55    33     6\n",
            "     86]\n",
            " [  177    22    18    20    87     2   107    36    78   359     0     2\n",
            "      2]\n",
            " [  102    47    11    17    69     4    49     8   167     3    51     2\n",
            "      4]\n",
            " [   12    24     3     6    74     0    25    26    32     5     1    28\n",
            "      0]\n",
            " [  682    27    18    74   159     4   145     4   102     1     1     0\n",
            "   4849]]\n",
            "Accuracy :  59.76696718873401\n",
            "Report :                precision    recall  f1-score   support\n",
            "\n",
            "         1.0       0.77      0.90      0.83     25612\n",
            "         2.0       0.31      0.21      0.25      5017\n",
            "         3.0       0.15      0.06      0.09      2844\n",
            "         4.0       0.42      0.34      0.38      5405\n",
            "         5.0       0.52      0.58      0.55     17478\n",
            "         6.0       0.57      0.28      0.38       912\n",
            "         7.0       0.55      0.57      0.56     15621\n",
            "         8.0       0.34      0.23      0.28      3379\n",
            "         9.0       0.50      0.51      0.50     13483\n",
            "        10.0       0.52      0.39      0.45       910\n",
            "        11.0       0.25      0.10      0.14       534\n",
            "        12.0       0.25      0.12      0.16       236\n",
            "        13.0       0.87      0.80      0.83      6066\n",
            "\n",
            "    accuracy                           0.60     97497\n",
            "   macro avg       0.46      0.39      0.41     97497\n",
            "weighted avg       0.57      0.60      0.58     97497\n",
            "\n",
            "Confusion Matrix:  [[23055   210    81   459   442    11   333    81   714    40    14     3\n",
            "    169]\n",
            " [  794  1057    92   254   958    18   529   154  1063    27    22    18\n",
            "     31]\n",
            " [  409   181   175   296   683     7   348    77   606    25     9     2\n",
            "     26]\n",
            " [ 1443   185   106  1859   603    12   326    65   723    16     5     2\n",
            "     60]\n",
            " [  810   497   226   378 10091    69  3335   560  1279    58    34    21\n",
            "    120]\n",
            " [  139    33     6    34   237   259   109     9    66     6     4     0\n",
            "     10]\n",
            " [  551   332   123   221  3327    35  8874   245  1611    54    25     9\n",
            "    214]\n",
            " [  306   172    62   137  1007    13   381   788   428    41     4    18\n",
            "     22]\n",
            " [ 1500   660   211   699  1657    21  1469   260  6826    55    33     6\n",
            "     86]\n",
            " [  177    22    18    20    87     2   107    36    78   359     0     2\n",
            "      2]\n",
            " [  102    47    11    17    69     4    49     8   167     3    51     2\n",
            "      4]\n",
            " [   12    24     3     6    74     0    25    26    32     5     1    28\n",
            "      0]\n",
            " [  682    27    18    74   159     4   145     4   102     1     1     0\n",
            "   4849]]\n",
            "Accuracy :  59.76696718873401\n",
            "Report :                precision    recall  f1-score   support\n",
            "\n",
            "         1.0       0.77      0.90      0.83     25612\n",
            "         2.0       0.31      0.21      0.25      5017\n",
            "         3.0       0.15      0.06      0.09      2844\n",
            "         4.0       0.42      0.34      0.38      5405\n",
            "         5.0       0.52      0.58      0.55     17478\n",
            "         6.0       0.57      0.28      0.38       912\n",
            "         7.0       0.55      0.57      0.56     15621\n",
            "         8.0       0.34      0.23      0.28      3379\n",
            "         9.0       0.50      0.51      0.50     13483\n",
            "        10.0       0.52      0.39      0.45       910\n",
            "        11.0       0.25      0.10      0.14       534\n",
            "        12.0       0.25      0.12      0.16       236\n",
            "        13.0       0.87      0.80      0.83      6066\n",
            "\n",
            "    accuracy                           0.60     97497\n",
            "   macro avg       0.46      0.39      0.41     97497\n",
            "weighted avg       0.57      0.60      0.58     97497\n",
            "\n"
          ],
          "name": "stdout"
        }
      ]
    },
    {
      "cell_type": "markdown",
      "metadata": {
        "id": "16UBvxou5VAz",
        "colab_type": "text"
      },
      "source": [
        "## Result"
      ]
    },
    {
      "cell_type": "markdown",
      "metadata": {
        "id": "uirL04ZV4ST-",
        "colab_type": "text"
      },
      "source": [
        "Random Forest Classifier gave better result than Decision Tree with an accuracy of `59.87%` whereas Decision Tree gave an accuracy of `51.85%`\n",
        "\n",
        "Precision for Rforest for many different cases ranged from 10% to 79%\n",
        "Precision for Dtree for many different cases ranged from 10% to 77% ,\n",
        "\n",
        "so in total rForest is performing better,\n",
        "\n",
        "We think we have too many categories to categorize, we might try to reduce the number of categories(club closely related categories,in the next iteration)"
      ]
    },
    {
      "cell_type": "code",
      "metadata": {
        "id": "crpiy0e7MtAW",
        "colab_type": "code",
        "colab": {}
      },
      "source": [
        ""
      ],
      "execution_count": 0,
      "outputs": []
    }
  ]
}