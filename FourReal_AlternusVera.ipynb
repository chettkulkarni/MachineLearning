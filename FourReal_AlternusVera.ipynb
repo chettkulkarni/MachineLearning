{
  "nbformat": 4,
  "nbformat_minor": 0,
  "metadata": {
    "colab": {
      "name": "FourReal_AlternusVera.ipynb",
      "provenance": [],
      "collapsed_sections": [],
      "toc_visible": true,
      "include_colab_link": true
    },
    "kernelspec": {
      "name": "python3",
      "display_name": "Python 3"
    }
  },
  "cells": [
    {
      "cell_type": "markdown",
      "metadata": {
        "id": "view-in-github",
        "colab_type": "text"
      },
      "source": [
        "<a href=\"https://colab.research.google.com/github/chettkulkarni/MachineLearning/blob/master/FourReal_AlternusVera.ipynb\" target=\"_parent\"><img src=\"https://colab.research.google.com/assets/colab-badge.svg\" alt=\"Open In Colab\"/></a>"
      ]
    },
    {
      "cell_type": "code",
      "metadata": {
        "id": "ctJLpDlXjrYL",
        "colab_type": "code",
        "outputId": "b7d43f82-2373-4629-8b8b-ffeae7e3f428",
        "colab": {
          "base_uri": "https://localhost:8080/",
          "height": 641
        }
      },
      "source": [
        "import warnings\n",
        "warnings.filterwarnings(\"ignore\")\n",
        "\n",
        "!pip install nltk\n",
        "!pip install gensim\n",
        "import nltk\n",
        "nltk.download('punkt')\n",
        "nltk.download('wordnet')\n",
        "nltk.download('stopwords')\n",
        "\n",
        "import numpy as np\n",
        "import pandas as pd\n",
        "import nltk\n",
        "import gensim\n",
        "from gensim.models.doc2vec import TaggedDocument, Doc2Vec\n",
        "import re\n",
        "from nltk.tokenize import word_tokenize\n",
        "from nltk.corpus import stopwords\n",
        "from wordcloud import WordCloud \n",
        "import matplotlib.pyplot as plt\n",
        "% matplotlib inline\n",
        "from sklearn.linear_model import  LogisticRegression\n",
        "from sklearn.model_selection import train_test_split\n",
        "from sklearn.metrics import confusion_matrix, f1_score, classification_report\n",
        "from nltk.stem.porter import *\n",
        "from sklearn import metrics\n",
        "import pickle\n",
        "from fastai import *\n",
        "from fastai.tabular import *\n",
        "\n",
        "\n",
        "\n",
        "import string\n",
        "from nltk.stem import WordNetLemmatizer\n",
        "from nltk.tokenize import RegexpTokenizer\n",
        "# from nltk.corpus import stopwords\n",
        "# nltk.download('stopwords')\n",
        "from nltk.stem.porter import PorterStemmer\n",
        "\n",
        "# TensorFlow and tf.keras\n",
        "import tensorflow as tf\n",
        "from tensorflow import keras\n",
        "from keras.preprocessing import sequence\n",
        "from keras.preprocessing.text import Tokenizer\n",
        "\n",
        "# NLTK libraries\n",
        "import nltk\n",
        "from nltk.stem.wordnet import WordNetLemmatizer\n",
        "from nltk.corpus import stopwords\n",
        "nltk.download('stopwords')\n",
        "nltk.download('averaged_perceptron_tagger')\n",
        "nltk.download('punkt')\n",
        "nltk.download('wordnet')\n",
        "import re\n",
        "\n",
        "# Helper libraries\n",
        "import numpy as np\n",
        "import matplotlib.pyplot as plt\n",
        "\n",
        "print(tf.__version__)"
      ],
      "execution_count": 1,
      "outputs": [
        {
          "output_type": "stream",
          "text": [
            "Requirement already satisfied: nltk in /usr/local/lib/python3.6/dist-packages (3.2.5)\n",
            "Requirement already satisfied: six in /usr/local/lib/python3.6/dist-packages (from nltk) (1.12.0)\n",
            "Requirement already satisfied: gensim in /usr/local/lib/python3.6/dist-packages (3.6.0)\n",
            "Requirement already satisfied: smart-open>=1.2.1 in /usr/local/lib/python3.6/dist-packages (from gensim) (1.11.1)\n",
            "Requirement already satisfied: six>=1.5.0 in /usr/local/lib/python3.6/dist-packages (from gensim) (1.12.0)\n",
            "Requirement already satisfied: numpy>=1.11.3 in /usr/local/lib/python3.6/dist-packages (from gensim) (1.18.3)\n",
            "Requirement already satisfied: scipy>=0.18.1 in /usr/local/lib/python3.6/dist-packages (from gensim) (1.4.1)\n",
            "Requirement already satisfied: boto in /usr/local/lib/python3.6/dist-packages (from smart-open>=1.2.1->gensim) (2.49.0)\n",
            "Requirement already satisfied: requests in /usr/local/lib/python3.6/dist-packages (from smart-open>=1.2.1->gensim) (2.21.0)\n",
            "Requirement already satisfied: boto3 in /usr/local/lib/python3.6/dist-packages (from smart-open>=1.2.1->gensim) (1.12.46)\n",
            "Requirement already satisfied: chardet<3.1.0,>=3.0.2 in /usr/local/lib/python3.6/dist-packages (from requests->smart-open>=1.2.1->gensim) (3.0.4)\n",
            "Requirement already satisfied: urllib3<1.25,>=1.21.1 in /usr/local/lib/python3.6/dist-packages (from requests->smart-open>=1.2.1->gensim) (1.24.3)\n",
            "Requirement already satisfied: certifi>=2017.4.17 in /usr/local/lib/python3.6/dist-packages (from requests->smart-open>=1.2.1->gensim) (2020.4.5.1)\n",
            "Requirement already satisfied: idna<2.9,>=2.5 in /usr/local/lib/python3.6/dist-packages (from requests->smart-open>=1.2.1->gensim) (2.8)\n",
            "Requirement already satisfied: jmespath<1.0.0,>=0.7.1 in /usr/local/lib/python3.6/dist-packages (from boto3->smart-open>=1.2.1->gensim) (0.9.5)\n",
            "Requirement already satisfied: s3transfer<0.4.0,>=0.3.0 in /usr/local/lib/python3.6/dist-packages (from boto3->smart-open>=1.2.1->gensim) (0.3.3)\n",
            "Requirement already satisfied: botocore<1.16.0,>=1.15.46 in /usr/local/lib/python3.6/dist-packages (from boto3->smart-open>=1.2.1->gensim) (1.15.46)\n",
            "Requirement already satisfied: python-dateutil<3.0.0,>=2.1 in /usr/local/lib/python3.6/dist-packages (from botocore<1.16.0,>=1.15.46->boto3->smart-open>=1.2.1->gensim) (2.8.1)\n",
            "Requirement already satisfied: docutils<0.16,>=0.10 in /usr/local/lib/python3.6/dist-packages (from botocore<1.16.0,>=1.15.46->boto3->smart-open>=1.2.1->gensim) (0.15.2)\n",
            "[nltk_data] Downloading package punkt to /root/nltk_data...\n",
            "[nltk_data]   Unzipping tokenizers/punkt.zip.\n",
            "[nltk_data] Downloading package wordnet to /root/nltk_data...\n",
            "[nltk_data]   Unzipping corpora/wordnet.zip.\n",
            "[nltk_data] Downloading package stopwords to /root/nltk_data...\n",
            "[nltk_data]   Unzipping corpora/stopwords.zip.\n"
          ],
          "name": "stdout"
        },
        {
          "output_type": "stream",
          "text": [
            "Using TensorFlow backend.\n"
          ],
          "name": "stderr"
        },
        {
          "output_type": "stream",
          "text": [
            "[nltk_data] Downloading package stopwords to /root/nltk_data...\n",
            "[nltk_data]   Package stopwords is already up-to-date!\n",
            "[nltk_data] Downloading package averaged_perceptron_tagger to\n",
            "[nltk_data]     /root/nltk_data...\n",
            "[nltk_data]   Unzipping taggers/averaged_perceptron_tagger.zip.\n",
            "[nltk_data] Downloading package punkt to /root/nltk_data...\n",
            "[nltk_data]   Package punkt is already up-to-date!\n",
            "[nltk_data] Downloading package wordnet to /root/nltk_data...\n",
            "[nltk_data]   Package wordnet is already up-to-date!\n",
            "2.2.0-rc3\n"
          ],
          "name": "stdout"
        }
      ]
    },
    {
      "cell_type": "code",
      "metadata": {
        "id": "4FcxkVUjjlrS",
        "colab_type": "code",
        "colab": {}
      },
      "source": [
        "# Read data file into colaboratory\n",
        "!pip install -U -q PyDrive\n",
        "from pydrive.auth import GoogleAuth\n",
        "from pydrive.drive import GoogleDrive\n",
        "from google.colab import auth\n",
        "from oauth2client.client import GoogleCredentials\n",
        "\n",
        "# Authenticate and create the PyDrive client.\n",
        "auth.authenticate_user()\n",
        "gauth = GoogleAuth()\n",
        "gauth.credentials = GoogleCredentials.get_application_default()\n",
        "drive = GoogleDrive(gauth)\n",
        "\n"
      ],
      "execution_count": 0,
      "outputs": []
    },
    {
      "cell_type": "code",
      "metadata": {
        "id": "HBHm6EMMjfkS",
        "colab_type": "code",
        "colab": {}
      },
      "source": [
        "def predict(statement, speaker_job_title, state_info, context):\n",
        "  #loading the doc2vec model from drive to generate embeddings for statement\n",
        "  link = 'https://drive.google.com/open?id=1_V05R-BGe_--SVrcnAeTdT8en5AimDXQ'\n",
        "  fluff, id = link.split('=')\n",
        "  \n",
        "  #downloading the doc2vec model\n",
        "  downloaded = drive.CreateFile({'id':id}) \n",
        "  downloaded.GetContentFile('doc2vec_model.sav')\n",
        "  d2vmodel = pickle.load(open('doc2vec_model.sav', 'rb'))\n",
        "  \n",
        "  statement_wordvec = [d2vmodel.infer_vector(word_tokenize(statement))]\n",
        "  \n",
        "  #creating the dataframe with our statement embeddings and other categorical columns \n",
        "  #to get a party affiliation probability vector for our final prediction\n",
        "  df = pd.DataFrame(statement_wordvec)\n",
        "  df['speaker_job_title']= speaker_job_title\n",
        "  df['state_info'] = state_info\n",
        "  df['context'] = context\n",
        "  df.columns = ['Embed_0', 'Embed_1', 'Embed_2', 'Embed_3', 'Embed_4', 'Embed_5', 'Embed_6', 'Embed_7','Embed_8', 'Embed_9', 'speaker_job_title', 'state_info', 'context']\n",
        "      \n",
        "  #Loading our NN model to get party affiliation probability vector\n",
        "  link = 'https://drive.google.com/open?id=1s3SWGxmF7xKiuplr118l__cgFaemRqrI'\n",
        "  fluff, id = link.split('=')\n",
        "  \n",
        "  #downloading the NN model\n",
        "  downloaded = drive.CreateFile({'id':id}) \n",
        "  downloaded.GetContentFile('export.pkl')\n",
        "  NN_model = load_learner('/content')\n",
        "\n",
        "  pred = NN_model.predict(df.iloc[0])\n",
        "  pf_pred = pred[0] \n",
        "  pf_probability_vector = pred[2] #party affiliation probability vector\n",
        "\n",
        "  #creating dataframe for our final prediction between 0 and 1 (0 being false, 1 being true)\n",
        "  #converting vector to dataframe columns\n",
        "  v = []\n",
        "  for i in pf_probability_vector:\n",
        "    a = float(i)\n",
        "    v.append(a)\n",
        "\n",
        "  columns = ['Prob_republican','Prob_democrat', 'Prob_no_affliation', 'Prob_other']\n",
        "  final_df = pd.DataFrame(v).transpose()\n",
        "  final_df.columns = columns\n",
        "\n",
        "  #Loading our LR model to make final prediction whether a statement is true or false (0 being false, 1 being true)\n",
        "  link = 'https://drive.google.com/open?id=1I-H84N6Hi1yXXSia9A2zrf3jl99ZfEeU'\n",
        "  fluff, id = link.split('=')\n",
        "  \n",
        "  #downloading the doc2vec model\n",
        "  downloaded = drive.CreateFile({'id':id}) \n",
        "  downloaded.GetContentFile('partyAffiliation_model.sav')\n",
        "  pa_model = pickle.load(open('partyAffiliation_model.sav', 'rb'))\n",
        "\n",
        "  predicted = pa_model.predict(final_df)\n",
        "  predicedProb = pa_model.predict_proba(final_df)[:,1]\n",
        "  return predicted, predicedProb\n"
      ],
      "execution_count": 0,
      "outputs": []
    },
    {
      "cell_type": "code",
      "metadata": {
        "id": "AJ_MWuFjrvdR",
        "colab_type": "code",
        "outputId": "fc0312fd-3f4c-4260-805b-7066aac44381",
        "colab": {
          "base_uri": "https://localhost:8080/",
          "height": 34
        }
      },
      "source": [
        "def FourReal_getPartyAffiliationScore(statement, speaker_job_title, state_info, context): # return between 0 and 1, being 0 = True,  1 = Fake\n",
        "    if ( (statement == \"\") | (speaker_job_title == \"\") | (state_info == \"\") | (context == \"\")):\n",
        "        return 0\n",
        "    binaryValue, probValue = predict(statement, speaker_job_title, state_info, context)\n",
        "    return (1 - float(probValue))\n",
        "\n",
        "print(FourReal_getPartyAffiliationScore(\"Says the Annies List political group supports third-trimester abortions on demand\", \"State representative\",\t\"Texas\", \"a mailer\"))"
      ],
      "execution_count": 4,
      "outputs": [
        {
          "output_type": "stream",
          "text": [
            "0.4914553795538411\n"
          ],
          "name": "stdout"
        }
      ]
    },
    {
      "cell_type": "markdown",
      "metadata": {
        "id": "e6NhtajeQPVl",
        "colab_type": "text"
      },
      "source": [
        "#Title Vs Body"
      ]
    },
    {
      "cell_type": "code",
      "metadata": {
        "id": "hUpG8AgUQIOS",
        "colab_type": "code",
        "colab": {}
      },
      "source": [
        "def predict_tVsBScore(title,body):\n",
        "    # import string\n",
        "    # from nltk.stem import WordNetLemmatizer\n",
        "    # from nltk.tokenize import RegexpTokenizer\n",
        "    # from nltk.corpus import stopwords\n",
        "    # nltk.download('stopwords')\n",
        "    # from nltk.stem.porter import PorterStemmer\n",
        "    stemming = PorterStemmer()\n",
        "    lemma = WordNetLemmatizer()\n",
        "    def cleanUp(data):\n",
        "        data = \"\".join([i for i in str(data) if i not in string.punctuation])\n",
        "        tokenizer = RegexpTokenizer(r'\\w+')\n",
        "        data = tokenizer.tokenize(data.lower())\n",
        "        data = [i for i in data if i not in stopwords.words('english')]\n",
        "        data = [lemma.lemmatize(i) for i in data]\n",
        "        data = \" \".join([stemming.stem(i) for i in data])\n",
        "        # print(data)\n",
        "        return data\n",
        "\n",
        "    # import re\n",
        "    def break_subject(text):\n",
        "        if type(text) is float:\n",
        "          return []\n",
        "        import re\n",
        "        a = re.split('; |, |-',text)\n",
        "        # print(a)\n",
        "        return re.split('; |, |-',text)\n",
        "\n",
        "    cleanedBody = cleanUp(body)\n",
        "    subject = break_subject(title)\n",
        "\n",
        "    from nltk.corpus import wordnet \n",
        "    def generate_Synonyms(wordlist):\n",
        "        synonyms = set()\n",
        "        for i in wordlist:\n",
        "          if type(i) is not str:\n",
        "            continue\n",
        "          for syn in wordnet.synsets(i): \n",
        "              for l in syn.lemmas(): \n",
        "                  synonyms.add(l.name())\n",
        "        # print(list(synonyms))\n",
        "        return list(synonyms)\n",
        "    def combineSynonyms(data):\n",
        "        return ' '.join(data)\n",
        "    \n",
        "\n",
        "    finalSubject = generate_Synonyms(subject)\n",
        "    # print(finalSubject)\n",
        "    finalSubject1 = combineSynonyms(finalSubject)\n",
        "    # print(finalSubject1)\n",
        "\n",
        "    s = cleanedBody + '@@' + finalSubject1\n",
        "    # print(s)\n",
        "\n",
        "    from sklearn.feature_extraction.text import TfidfVectorizer\n",
        "    # create the transform\n",
        "    def cosine_sim(statement):\n",
        "        statement=statement.split('@@')\n",
        "        # print(statement)\n",
        "        text1,text2=statement[0],statement[1]\n",
        "        vectorizer = TfidfVectorizer(stop_words='english')\n",
        "        tfidf = vectorizer.fit_transform([text1, text2])\n",
        "        sim_score=((tfidf * tfidf.T).A)[0,1]\n",
        "        pred_label = 0\n",
        "        if sim_score*100>20:\n",
        "          pred_label = 1\n",
        "          \n",
        "        # if sim_score*100>0:\n",
        "        #   return 1\n",
        "        return sim_score , pred_label\n",
        "\n",
        "    import spacy\n",
        "    \n",
        "    # Load English tokenizer, tagger, parser, NER and word vectors\n",
        "    nlp = spacy.load('en')\n",
        "    def spacy_similarity(t1,t2):\n",
        "        doc1 = nlp(t1)\n",
        "        doc2 = nlp(t2)\n",
        "        return doc1.similarity(doc2)\n",
        "\n",
        "    \n",
        "    simScore , label = cosine_sim(s)\n",
        "    simScore2 = spacy_similarity(cleanedBody,finalSubject1)\n",
        "    \n",
        "    return label,simScore2"
      ],
      "execution_count": 0,
      "outputs": []
    },
    {
      "cell_type": "code",
      "metadata": {
        "id": "suNDv5MiQSzC",
        "colab_type": "code",
        "colab": {}
      },
      "source": [
        "def FourReal_getTitleVsBodyScore(title,body):\n",
        "    if ( (title == \"\") | (body == \"\")):\n",
        "        return 0\n",
        "    label, simScore = predict_tVsBScore(title,body)\n",
        "    return (1 - float(simScore))"
      ],
      "execution_count": 0,
      "outputs": []
    },
    {
      "cell_type": "code",
      "metadata": {
        "id": "tYF9ZCSwQW3Q",
        "colab_type": "code",
        "outputId": "60579da2-c61a-474f-d72c-94030b859cbb",
        "colab": {
          "base_uri": "https://localhost:8080/",
          "height": 34
        }
      },
      "source": [
        "FourReal_getTitleVsBodyScore('House','House Dem Aide: We Didn’t Even See Comey’s')"
      ],
      "execution_count": 7,
      "outputs": [
        {
          "output_type": "execute_result",
          "data": {
            "text/plain": [
              "0.45320832280296564"
            ]
          },
          "metadata": {
            "tags": []
          },
          "execution_count": 7
        }
      ]
    },
    {
      "cell_type": "markdown",
      "metadata": {
        "id": "QRZcAWUWS_lM",
        "colab_type": "text"
      },
      "source": [
        "#Network Factor"
      ]
    },
    {
      "cell_type": "code",
      "metadata": {
        "id": "xCfiWMd8S_Op",
        "colab_type": "code",
        "colab": {}
      },
      "source": [
        "# Read text file into colaboratory\n",
        "!pip install -U -q PyDrive\n",
        "from pydrive.auth import GoogleAuth\n",
        "from pydrive.drive import GoogleDrive\n",
        "from google.colab import auth\n",
        "from oauth2client.client import GoogleCredentials"
      ],
      "execution_count": 0,
      "outputs": []
    },
    {
      "cell_type": "code",
      "metadata": {
        "id": "kgDQU5vxQY9O",
        "colab_type": "code",
        "colab": {}
      },
      "source": [
        "# Authenticate and create the PyDrive client.\n",
        "auth.authenticate_user()\n",
        "gauth = GoogleAuth()\n",
        "gauth.credentials = GoogleCredentials.get_application_default()\n",
        "drive = GoogleDrive(gauth)"
      ],
      "execution_count": 0,
      "outputs": []
    },
    {
      "cell_type": "code",
      "metadata": {
        "id": "6Csu7hNyTI3r",
        "colab_type": "code",
        "colab": {}
      },
      "source": [
        "# Google drive link where the dataset is stored.\n",
        "link = 'https://drive.google.com/open?id=1OckRQ_VK1Ljrabnn9J9x7q3x95Du2Vb_'\n",
        "fluff, id = link.split('=')\n",
        "# Download the tsv file.\n",
        "downloaded = drive.CreateFile({'id':id}) \n",
        "downloaded.GetContentFile('model.hdf5')"
      ],
      "execution_count": 0,
      "outputs": []
    },
    {
      "cell_type": "code",
      "metadata": {
        "id": "3UG-9Y1vTd4N",
        "colab_type": "code",
        "colab": {}
      },
      "source": [
        "def FourReal_getNetwordBasedScore(text):\n",
        "  text = re.sub(\"[^a-zA-Z]\", \" \", str(text))\n",
        "  text =  text.lower()\n",
        "  text_words = nltk.word_tokenize(text)\n",
        "  stops = set(nltk.corpus.stopwords.words(\"english\"))\n",
        "  words = [w for w in  text_words  if not w in stops]\n",
        "  wordnet_lem = [WordNetLemmatizer().lemmatize(w) for w in words ]\n",
        "  stems = [nltk.stem.SnowballStemmer('english').stem(w) for w in wordnet_lem ]\n",
        "  text = \" \".join(stems)\n",
        "  model = tf.keras.models.load_model('model.hdf5')\n",
        "  tokenizer = Tokenizer(num_words=300, lower=True)\n",
        "  tokenizer.fit_on_texts(text)\n",
        "  test_sequences = tokenizer.texts_to_sequences(text)\n",
        "  test_padded_sequences = sequence.pad_sequences(test_sequences, maxlen=300)\n",
        "  result = model.predict_classes(test_padded_sequences)\n",
        "  true,fake = 0,0\n",
        "  total_occurrences = np.size(result)\n",
        "  for i in result:\n",
        "    if i==0:\n",
        "      true+=1\n",
        "    else:\n",
        "      fake+=1\n",
        "  return (fake/total_occurrences)\n",
        "  # print(\"Probability of text being true:\",(true/total_occurrences),\"Probability of text being fake:\",(fake/total_occurrences))"
      ],
      "execution_count": 0,
      "outputs": []
    },
    {
      "cell_type": "code",
      "metadata": {
        "id": "z4V6Dg1iThRi",
        "colab_type": "code",
        "outputId": "96f27db0-162e-463c-dac2-451c2bb86f24",
        "colab": {
          "base_uri": "https://localhost:8080/",
          "height": 106
        }
      },
      "source": [
        "FourReal_getNetwordBasedScore(\"Says the Annies List political group supports third-trimester abortions on demand.\")"
      ],
      "execution_count": 12,
      "outputs": [
        {
          "output_type": "stream",
          "text": [
            "WARNING:tensorflow:From <ipython-input-11-250aac98ef9a>:15: Sequential.predict_classes (from tensorflow.python.keras.engine.sequential) is deprecated and will be removed after 2021-01-01.\n",
            "Instructions for updating:\n",
            "Please use instead:* `np.argmax(model.predict(x), axis=-1)`,   if your model does multi-class classification   (e.g. if it uses a `softmax` last-layer activation).* `(model.predict(x) > 0.5).astype(\"int32\")`,   if your model does binary classification   (e.g. if it uses a `sigmoid` last-layer activation).\n"
          ],
          "name": "stdout"
        },
        {
          "output_type": "execute_result",
          "data": {
            "text/plain": [
              "0.6166666666666667"
            ]
          },
          "metadata": {
            "tags": []
          },
          "execution_count": 12
        }
      ]
    },
    {
      "cell_type": "markdown",
      "metadata": {
        "id": "XpmlUjwBUvJK",
        "colab_type": "text"
      },
      "source": [
        "#Stance Model"
      ]
    },
    {
      "cell_type": "code",
      "metadata": {
        "id": "r4iva8bwWZ6_",
        "colab_type": "code",
        "colab": {
          "base_uri": "https://localhost:8080/",
          "height": 173
        },
        "outputId": "508dfb6a-2cb3-4557-a065-cde48caee147"
      },
      "source": [
        "from sklearn.externals import joblib \n",
        "import re\n",
        "\n",
        "!pip install nltk\n",
        "import nltk\n",
        "\n",
        "\n",
        "nltk.download('vader_lexicon')\n",
        "nltk.download('punkt')\n",
        "nltk.download('wordnet')\n",
        "nltk.download('stopwords')\n",
        "\n",
        "from sklearn.model_selection import train_test_split\n",
        "from sklearn.feature_extraction.text import TfidfVectorizer\n",
        "from nltk import tokenize\n",
        "from nltk.sentiment.vader import SentimentIntensityAnalyzer\n",
        "from nltk.corpus import stopwords\n",
        "\n",
        "\n",
        "from nltk.tokenize import word_tokenize\n",
        "import pandas as pd"
      ],
      "execution_count": 13,
      "outputs": [
        {
          "output_type": "stream",
          "text": [
            "Requirement already satisfied: nltk in /usr/local/lib/python3.6/dist-packages (3.2.5)\n",
            "Requirement already satisfied: six in /usr/local/lib/python3.6/dist-packages (from nltk) (1.12.0)\n",
            "[nltk_data] Downloading package vader_lexicon to /root/nltk_data...\n",
            "[nltk_data] Downloading package punkt to /root/nltk_data...\n",
            "[nltk_data]   Package punkt is already up-to-date!\n",
            "[nltk_data] Downloading package wordnet to /root/nltk_data...\n",
            "[nltk_data]   Package wordnet is already up-to-date!\n",
            "[nltk_data] Downloading package stopwords to /root/nltk_data...\n",
            "[nltk_data]   Package stopwords is already up-to-date!\n"
          ],
          "name": "stdout"
        }
      ]
    },
    {
      "cell_type": "code",
      "metadata": {
        "id": "TYBpgMGneuvo",
        "colab_type": "code",
        "colab": {}
      },
      "source": [
        "# Read data file into colaboratory\n",
        "!pip install -U -q PyDrive\n",
        "from pydrive.auth import GoogleAuth\n",
        "from pydrive.drive import GoogleDrive\n",
        "from google.colab import auth\n",
        "from oauth2client.client import GoogleCredentials\n",
        "\n",
        "# Authenticate and create the PyDrive client.\n",
        "auth.authenticate_user()\n",
        "gauth = GoogleAuth()\n",
        "gauth.credentials = GoogleCredentials.get_application_default()\n",
        "drive = GoogleDrive(gauth)\n",
        "\n",
        "link = 'https://drive.google.com/open?id=1Gct0uLHt2x6jVt1SmcqlyyLPGhZu_Hfe'\n",
        "fluff, id = link.split('=')\n",
        "\n",
        "#downloading the doc2vec model\n",
        "downloaded = drive.CreateFile({'id':id}) \n",
        "downloaded.GetContentFile('le_speaker_job_title_code.pkl')"
      ],
      "execution_count": 0,
      "outputs": []
    },
    {
      "cell_type": "code",
      "metadata": {
        "id": "b06FKQrFfA7s",
        "colab_type": "code",
        "colab": {}
      },
      "source": [
        "link = 'https://drive.google.com/open?id=1pOEibOMRmNSHUZIHm0wdJfp3SgHRQ4Q2'\n",
        "fluff, id = link.split('=')\n",
        "\n",
        "#downloading the doc2vec model\n",
        "downloaded = drive.CreateFile({'id':id}) \n",
        "downloaded.GetContentFile('le_speaker.pkl')"
      ],
      "execution_count": 0,
      "outputs": []
    },
    {
      "cell_type": "code",
      "metadata": {
        "id": "Rl0a0UyVfJhr",
        "colab_type": "code",
        "colab": {}
      },
      "source": [
        "link = 'https://drive.google.com/open?id=1EqvpovqAxnKlu50oQCj_ryVF5fOxtilW'\n",
        "fluff, id = link.split('=')\n",
        "\n",
        "#downloading the doc2vec model\n",
        "downloaded = drive.CreateFile({'id':id}) \n",
        "downloaded.GetContentFile('RForest.pkl')"
      ],
      "execution_count": 0,
      "outputs": []
    },
    {
      "cell_type": "code",
      "metadata": {
        "id": "_nbwwvcDgfsK",
        "colab_type": "code",
        "colab": {}
      },
      "source": [
        "link = 'https://drive.google.com/open?id=1Wb8JEYXqYcifnTsMgamv8HaCzP_Vvxp2'\n",
        "fluff, id = link.split('=')\n",
        "\n",
        "#downloading the doc2vec model\n",
        "downloaded = drive.CreateFile({'id':id}) \n",
        "downloaded.GetContentFile('le_state_info_code.pkl')"
      ],
      "execution_count": 0,
      "outputs": []
    },
    {
      "cell_type": "code",
      "metadata": {
        "id": "PITTDlx1fV_U",
        "colab_type": "code",
        "colab": {}
      },
      "source": [
        "link = 'https://drive.google.com/open?id=1-SjP9druNndPShP9fSmtibvWel0FGgqP'\n",
        "fluff, id = link.split('=')\n",
        "\n",
        "#downloading the doc2vec model\n",
        "downloaded = drive.CreateFile({'id':id}) \n",
        "downloaded.GetContentFile('vectorizer.pkl')"
      ],
      "execution_count": 0,
      "outputs": []
    },
    {
      "cell_type": "code",
      "metadata": {
        "id": "JHhF1Iovfn1V",
        "colab_type": "code",
        "colab": {}
      },
      "source": [
        "link = 'https://drive.google.com/open?id=1iY7WghgNCFq8EYStlYNlqqFuRADpjsGa'\n",
        "fluff, id = link.split('=')\n",
        "\n",
        "#downloading the doc2vec model\n",
        "downloaded = drive.CreateFile({'id':id}) \n",
        "downloaded.GetContentFile('XGB.pkl')"
      ],
      "execution_count": 0,
      "outputs": []
    },
    {
      "cell_type": "code",
      "metadata": {
        "id": "Y9QqTxsuZRaG",
        "colab_type": "code",
        "colab": {}
      },
      "source": [
        "vector=joblib.load('vectorizer.pkl')\n",
        "loaded_model=joblib.load('RForest.pkl')\n",
        "\n",
        "le_speaker=joblib.load('le_speaker.pkl')\n",
        "le_speaker_job_title_code=joblib.load('le_speaker_job_title_code.pkl')\n",
        "le_state_info_code=joblib.load('le_state_info_code.pkl')\n",
        "model=joblib.load('XGB.pkl')"
      ],
      "execution_count": 0,
      "outputs": []
    },
    {
      "cell_type": "code",
      "metadata": {
        "id": "dlM6D6reZUZh",
        "colab_type": "code",
        "colab": {}
      },
      "source": [
        "stop_words = set(stopwords.words('english')) \n",
        "vector=joblib.load('vectorizer.pkl')\n",
        "loaded_model=joblib.load('RForest.pkl')\n",
        "def get_stance(statement):\n",
        "  p_statement= re.sub(r\"\\W\", \" \",str(statement))\n",
        "  p_statement=re.sub(r'[,\\.!?]', \" \",str(p_statement))\n",
        "  p_statement=re.sub(r\" \\d+\", \" \",str(p_statement))\n",
        "  p_statement=word_tokenize(p_statement.lower())\n",
        "  p_statement=' '.join(p_statement)\n",
        "  p_statement=' '.join([word for word in p_statement.split() if word not in stop_words])\n",
        "  liar_x = vector.transform([p_statement,])\n",
        "  stance=loaded_model.predict(liar_x)\n",
        "  return stance[0]"
      ],
      "execution_count": 0,
      "outputs": []
    },
    {
      "cell_type": "code",
      "metadata": {
        "id": "jpK4JjPYZp5u",
        "colab_type": "code",
        "colab": {}
      },
      "source": [
        "def FourReal_getStanceScore(statement,barely_true_counts,false_counts,half_true_counts,mostly_true_counts, pants_on_fire_counts,speaker,state_info,speaker_job_title):\n",
        "  speaker_job_title=le_speaker_job_title_code.transform([speaker_job_title])\n",
        "  speaker=le_speaker.transform([speaker])\n",
        "  state_info=le_state_info_code.transform([state_info])\n",
        "  df=pd.DataFrame([barely_true_counts])\n",
        "  df.columns=['barely_true_counts']\n",
        "  df['false_counts']=false_counts\n",
        "  df['half_true_counts']=half_true_counts\n",
        "  df['mostly_true_counts']=mostly_true_counts\n",
        "  df['pants_on_fire_counts']=pants_on_fire_counts\n",
        "  df['Stance']=get_stance(statement)\n",
        "  df['speaker_code']=speaker\n",
        "  df['state info_code']=state_info\n",
        "  df['speaker_job_title_code']=speaker_job_title\n",
        " \n",
        "  # X=np.array(barely_true_counts,false_counts,half_true_counts,mostly_true_counts, pants_on_fire_counts,Stance,speaker,speaker_job_title,state_info)\n",
        "  prediction=model.predict(df)\n",
        "  prediction_probability=model.predict_proba(df)[:,1]\n",
        "  return prediction_probability.item(0)"
      ],
      "execution_count": 0,
      "outputs": []
    },
    {
      "cell_type": "code",
      "metadata": {
        "id": "-wrbVIpuZsLt",
        "colab_type": "code",
        "colab": {
          "base_uri": "https://localhost:8080/",
          "height": 34
        },
        "outputId": "c3c4c58b-12e8-4ce7-ce13-3a81b17326ed"
      },
      "source": [
        "FourReal_getStanceScore('i am awsome',10,10,10,10, 10,'dwayne-bohac','Virginia','State representative')"
      ],
      "execution_count": 24,
      "outputs": [
        {
          "output_type": "execute_result",
          "data": {
            "text/plain": [
              "0.4783053994178772"
            ]
          },
          "metadata": {
            "tags": []
          },
          "execution_count": 24
        }
      ]
    },
    {
      "cell_type": "code",
      "metadata": {
        "id": "vNRZn5ZdT7r8",
        "colab_type": "code",
        "colab": {}
      },
      "source": [
        "def isFakeNews(statement,subject,speaker_job_title,state_info,context,barely_true_counts,false_counts,half_true_counts,mostly_true_counts, pants_on_fire_counts,speaker):\n",
        "  accur = [0.57,0.55,0.71,0.95] # using the (normalized) accuracy as weigths\n",
        "  w = [float(i)/sum(accur) for i in accur]\n",
        "  sumW = 0\n",
        "  prob = []\n",
        "  if ( (statement != \"\") & (speaker_job_title != \"\") & (state_info != \"\") & (context != \"\")):\n",
        "    prob.append(w[0] * FourReal_getPartyAffiliationScore(statement, speaker_job_title, state_info, context))\n",
        "    sumW += w[0]\n",
        "  if ((statement != \"\") & (subject != \"\")):\n",
        "    prob.append(w[1] * FourReal_getTitleVsBodyScore(statement,subject))\n",
        "    sumW += w[1]\n",
        "  if (statement!='' and barely_true_counts!='' and false_counts!='' and half_true_counts!='' and mostly_true_counts!='' and  pants_on_fire_counts!='' and speaker!='' and state_info!='' and speaker_job_title!=''):\n",
        "      prob.append(w[2] * FourReal_getStanceScore(statement,barely_true_counts,false_counts,half_true_counts,mostly_true_counts, pants_on_fire_counts,speaker,state_info,speaker_job_title))\n",
        "      sumW += w[2]\n",
        "  if (statement != \"\"):\n",
        "      prob.append(w[3] * FourReal_getNetwordBasedScore(statement))\n",
        "      sumW += w[3]\n",
        "    \n",
        "  probTotal = sum(prob[0:len(prob)]) / sumW\n",
        "  return probTotal\n",
        "    \n"
      ],
      "execution_count": 0,
      "outputs": []
    },
    {
      "cell_type": "code",
      "metadata": {
        "id": "muLDeEJkb2dO",
        "colab_type": "code",
        "colab": {
          "base_uri": "https://localhost:8080/",
          "height": 34
        },
        "outputId": "ddf0b74b-b5df-44b2-e50b-77d4c3f1bf34"
      },
      "source": [
        "result = isFakeNews(\"Says the Annies List political group supports\",\"abortion\",\"State representative\",\"Texas\",\"a mailer\",10,10,10,10, 10,'dwayne-bohac')\n",
        "\n",
        "if result > 0.5:\n",
        "    print(\"is FAKE NEWS!!!\")\n",
        "else:\n",
        "    print(\"it is NOT fake news!!!\")"
      ],
      "execution_count": 26,
      "outputs": [
        {
          "output_type": "stream",
          "text": [
            "is FAKE NEWS!!!\n"
          ],
          "name": "stdout"
        }
      ]
    },
    {
      "cell_type": "code",
      "metadata": {
        "id": "o1tp0eFscWn9",
        "colab_type": "code",
        "colab": {}
      },
      "source": [
        ""
      ],
      "execution_count": 0,
      "outputs": []
    }
  ]
}