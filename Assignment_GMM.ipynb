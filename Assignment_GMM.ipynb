{
  "nbformat": 4,
  "nbformat_minor": 0,
  "metadata": {
    "kernelspec": {
      "display_name": "Python 3",
      "language": "python",
      "name": "python3"
    },
    "language_info": {
      "codemirror_mode": {
        "name": "ipython",
        "version": 3
      },
      "file_extension": ".py",
      "mimetype": "text/x-python",
      "name": "python",
      "nbconvert_exporter": "python",
      "pygments_lexer": "ipython3",
      "version": "3.7.3"
    },
    "colab": {
      "name": "Assignment_GMM.ipynb",
      "provenance": [],
      "collapsed_sections": [],
      "include_colab_link": true
    }
  },
  "cells": [
    {
      "cell_type": "markdown",
      "metadata": {
        "id": "view-in-github",
        "colab_type": "text"
      },
      "source": [
        "<a href=\"https://colab.research.google.com/github/chettkulkarni/MachineLearning/blob/master/Assignment_GMM.ipynb\" target=\"_parent\"><img src=\"https://colab.research.google.com/assets/colab-badge.svg\" alt=\"Open In Colab\"/></a>"
      ]
    },
    {
      "cell_type": "markdown",
      "metadata": {
        "id": "7yBSjkyRCY2K",
        "colab_type": "text"
      },
      "source": [
        "# Wildfire Predictions"
      ]
    },
    {
      "cell_type": "markdown",
      "metadata": {
        "id": "mfKc-LC2CY2N",
        "colab_type": "text"
      },
      "source": [
        "Dataset:- We have the historical dataset collected by american governement on all the wildfires in history of usa from 1900 to 2015.\n",
        "\n",
        "Hypothesis:- Predicting Wildfire Damage Area based on several different features including\n",
        "FIRE_YEAR, STAT_CAUSE_DESCR, LATITUDE, LONGITUDE, STATE, DISCOVERY_DATE\n",
        "\n",
        "Task of this ntebook is to find if we can find effective clusters on the bases of datasets that we have.\n"
      ]
    },
    {
      "cell_type": "code",
      "metadata": {
        "id": "L8B2-i3nCY2O",
        "colab_type": "code",
        "colab": {}
      },
      "source": [
        "#importing libraries required and also connecting to the sqlite3 db wildfire dataset.\n",
        "\n",
        "import sqlite3\n",
        "import pandas as pd\n",
        "from matplotlib import pyplot as plt\n",
        "from sklearn.cluster import KMeans\n",
        "from sklearn import preprocessing\n",
        "from sklearn.cluster import KMeans\n",
        "from mpl_toolkits.mplot3d import Axes3D #\n",
        "# conn = sqlite3.connect('../FPA_FOD_20170508.sqlite')"
      ],
      "execution_count": 0,
      "outputs": []
    },
    {
      "cell_type": "code",
      "metadata": {
        "id": "y6PWVj9yCY2S",
        "colab_type": "code",
        "colab": {
          "base_uri": "https://localhost:8080/",
          "height": 122
        },
        "outputId": "082dfaf9-36e9-48ad-9286-8adbc354cd62"
      },
      "source": [
        "# conn\n",
        "from google.colab import drive\n",
        "drive.mount('/content/drive')"
      ],
      "execution_count": 2,
      "outputs": [
        {
          "output_type": "stream",
          "text": [
            "Go to this URL in a browser: https://accounts.google.com/o/oauth2/auth?client_id=947318989803-6bn6qk8qdgf4n4g3pfee6491hc0brc4i.apps.googleusercontent.com&redirect_uri=urn%3aietf%3awg%3aoauth%3a2.0%3aoob&response_type=code&scope=email%20https%3a%2f%2fwww.googleapis.com%2fauth%2fdocs.test%20https%3a%2f%2fwww.googleapis.com%2fauth%2fdrive%20https%3a%2f%2fwww.googleapis.com%2fauth%2fdrive.photos.readonly%20https%3a%2f%2fwww.googleapis.com%2fauth%2fpeopleapi.readonly\n",
            "\n",
            "Enter your authorization code:\n",
            "··········\n",
            "Mounted at /content/drive\n"
          ],
          "name": "stdout"
        }
      ]
    },
    {
      "cell_type": "code",
      "metadata": {
        "id": "Fzybkmi6CY2W",
        "colab_type": "code",
        "outputId": "87eb3013-47d6-4b81-b36d-120ccdd206da",
        "colab": {
          "base_uri": "https://localhost:8080/",
          "height": 71
        }
      },
      "source": [
        "#extracting meaningful columns\n",
        "# df = pd.read_sql_query(\"SELECT FIRE_YEAR,SOURCE_REPORTING_UNIT,LATITUDE,LONGITUDE,STATE,DISCOVERY_DATE,FIRE_SIZE,Shape,STAT_CAUSE_DESCR FROM 'Fires'\", conn)\n",
        "df=pd.read_csv('/content/drive/My Drive/Machine Learning/fire.csv')"
      ],
      "execution_count": 3,
      "outputs": [
        {
          "output_type": "stream",
          "text": [
            "/usr/local/lib/python3.6/dist-packages/IPython/core/interactiveshell.py:2718: DtypeWarning: Columns (9) have mixed types. Specify dtype option on import or set low_memory=False.\n",
            "  interactivity=interactivity, compiler=compiler, result=result)\n"
          ],
          "name": "stderr"
        }
      ]
    },
    {
      "cell_type": "code",
      "metadata": {
        "id": "V08OyTT-vxkb",
        "colab_type": "code",
        "outputId": "2774123c-4510-4f6e-9f6e-bff30e9a0f41",
        "colab": {
          "base_uri": "https://localhost:8080/",
          "height": 456
        }
      },
      "source": [
        "df"
      ],
      "execution_count": 4,
      "outputs": [
        {
          "output_type": "execute_result",
          "data": {
            "text/html": [
              "<div>\n",
              "<style scoped>\n",
              "    .dataframe tbody tr th:only-of-type {\n",
              "        vertical-align: middle;\n",
              "    }\n",
              "\n",
              "    .dataframe tbody tr th {\n",
              "        vertical-align: top;\n",
              "    }\n",
              "\n",
              "    .dataframe thead th {\n",
              "        text-align: right;\n",
              "    }\n",
              "</style>\n",
              "<table border=\"1\" class=\"dataframe\">\n",
              "  <thead>\n",
              "    <tr style=\"text-align: right;\">\n",
              "      <th></th>\n",
              "      <th>Unnamed: 0</th>\n",
              "      <th>FIRE_YEAR</th>\n",
              "      <th>STAT_CAUSE_DESCR</th>\n",
              "      <th>LATITUDE</th>\n",
              "      <th>LONGITUDE</th>\n",
              "      <th>STATE</th>\n",
              "      <th>DISCOVERY_DATE</th>\n",
              "      <th>FIRE_SIZE</th>\n",
              "      <th>Shape</th>\n",
              "      <th>COUNTY</th>\n",
              "      <th>STAT_CAUSE_DESCR.1</th>\n",
              "    </tr>\n",
              "  </thead>\n",
              "  <tbody>\n",
              "    <tr>\n",
              "      <th>0</th>\n",
              "      <td>0</td>\n",
              "      <td>2005</td>\n",
              "      <td>Miscellaneous</td>\n",
              "      <td>40.036944</td>\n",
              "      <td>-121.005833</td>\n",
              "      <td>CA</td>\n",
              "      <td>2453403.5</td>\n",
              "      <td>0.10</td>\n",
              "      <td>b'\\x00\\x01\\xad\\x10\\x00\\x00\\xe8d\\xc2\\x92_@^\\xc0...</td>\n",
              "      <td>63</td>\n",
              "      <td>Miscellaneous</td>\n",
              "    </tr>\n",
              "    <tr>\n",
              "      <th>1</th>\n",
              "      <td>1</td>\n",
              "      <td>2004</td>\n",
              "      <td>Lightning</td>\n",
              "      <td>38.933056</td>\n",
              "      <td>-120.404444</td>\n",
              "      <td>CA</td>\n",
              "      <td>2453137.5</td>\n",
              "      <td>0.25</td>\n",
              "      <td>b'\\x00\\x01\\xad\\x10\\x00\\x00T\\xb6\\xeej\\xe2\\x19^\\...</td>\n",
              "      <td>61</td>\n",
              "      <td>Lightning</td>\n",
              "    </tr>\n",
              "    <tr>\n",
              "      <th>2</th>\n",
              "      <td>2</td>\n",
              "      <td>2004</td>\n",
              "      <td>Debris Burning</td>\n",
              "      <td>38.984167</td>\n",
              "      <td>-120.735556</td>\n",
              "      <td>CA</td>\n",
              "      <td>2453156.5</td>\n",
              "      <td>0.10</td>\n",
              "      <td>b'\\x00\\x01\\xad\\x10\\x00\\x00\\xd0\\xa5\\xa0W\\x13/^\\...</td>\n",
              "      <td>17</td>\n",
              "      <td>Debris Burning</td>\n",
              "    </tr>\n",
              "    <tr>\n",
              "      <th>3</th>\n",
              "      <td>3</td>\n",
              "      <td>2004</td>\n",
              "      <td>Lightning</td>\n",
              "      <td>38.559167</td>\n",
              "      <td>-119.913333</td>\n",
              "      <td>CA</td>\n",
              "      <td>2453184.5</td>\n",
              "      <td>0.10</td>\n",
              "      <td>b'\\x00\\x01\\xad\\x10\\x00\\x00\\x94\\xac\\xa3\\rt\\xfa]...</td>\n",
              "      <td>3</td>\n",
              "      <td>Lightning</td>\n",
              "    </tr>\n",
              "    <tr>\n",
              "      <th>4</th>\n",
              "      <td>4</td>\n",
              "      <td>2004</td>\n",
              "      <td>Lightning</td>\n",
              "      <td>38.559167</td>\n",
              "      <td>-119.933056</td>\n",
              "      <td>CA</td>\n",
              "      <td>2453184.5</td>\n",
              "      <td>0.10</td>\n",
              "      <td>b'\\x00\\x01\\xad\\x10\\x00\\x00@\\xe3\\xaa.\\xb7\\xfb]\\...</td>\n",
              "      <td>3</td>\n",
              "      <td>Lightning</td>\n",
              "    </tr>\n",
              "    <tr>\n",
              "      <th>...</th>\n",
              "      <td>...</td>\n",
              "      <td>...</td>\n",
              "      <td>...</td>\n",
              "      <td>...</td>\n",
              "      <td>...</td>\n",
              "      <td>...</td>\n",
              "      <td>...</td>\n",
              "      <td>...</td>\n",
              "      <td>...</td>\n",
              "      <td>...</td>\n",
              "      <td>...</td>\n",
              "    </tr>\n",
              "    <tr>\n",
              "      <th>1880460</th>\n",
              "      <td>1880460</td>\n",
              "      <td>2015</td>\n",
              "      <td>Missing/Undefined</td>\n",
              "      <td>40.481637</td>\n",
              "      <td>-122.389375</td>\n",
              "      <td>CA</td>\n",
              "      <td>2457291.5</td>\n",
              "      <td>0.01</td>\n",
              "      <td>b'\\x00\\x01\\xad\\x10\\x00\\x00P\\xb8\\x1e\\x85\\xeb\\x9...</td>\n",
              "      <td>NaN</td>\n",
              "      <td>Missing/Undefined</td>\n",
              "    </tr>\n",
              "    <tr>\n",
              "      <th>1880461</th>\n",
              "      <td>1880461</td>\n",
              "      <td>2015</td>\n",
              "      <td>Miscellaneous</td>\n",
              "      <td>37.617619</td>\n",
              "      <td>-120.938570</td>\n",
              "      <td>CA</td>\n",
              "      <td>2457300.5</td>\n",
              "      <td>0.20</td>\n",
              "      <td>b'\\x00\\x01\\xad\\x10\\x00\\x00\\x00\\x80\\xbe\\x88\\x11...</td>\n",
              "      <td>NaN</td>\n",
              "      <td>Miscellaneous</td>\n",
              "    </tr>\n",
              "    <tr>\n",
              "      <th>1880462</th>\n",
              "      <td>1880462</td>\n",
              "      <td>2015</td>\n",
              "      <td>Missing/Undefined</td>\n",
              "      <td>37.617619</td>\n",
              "      <td>-120.938570</td>\n",
              "      <td>CA</td>\n",
              "      <td>2457144.5</td>\n",
              "      <td>0.10</td>\n",
              "      <td>b'\\x00\\x01\\xad\\x10\\x00\\x00\\x00\\x80\\xbe\\x88\\x11...</td>\n",
              "      <td>NaN</td>\n",
              "      <td>Missing/Undefined</td>\n",
              "    </tr>\n",
              "    <tr>\n",
              "      <th>1880463</th>\n",
              "      <td>1880463</td>\n",
              "      <td>2015</td>\n",
              "      <td>Missing/Undefined</td>\n",
              "      <td>37.672235</td>\n",
              "      <td>-120.898356</td>\n",
              "      <td>CA</td>\n",
              "      <td>2457309.5</td>\n",
              "      <td>2.00</td>\n",
              "      <td>b'\\x00\\x01\\xad\\x10\\x00\\x00x\\xba_\\xaa~9^\\xc0\\xb...</td>\n",
              "      <td>NaN</td>\n",
              "      <td>Missing/Undefined</td>\n",
              "    </tr>\n",
              "    <tr>\n",
              "      <th>1880464</th>\n",
              "      <td>1880464</td>\n",
              "      <td>2015</td>\n",
              "      <td>Miscellaneous</td>\n",
              "      <td>34.263217</td>\n",
              "      <td>-116.830950</td>\n",
              "      <td>CA</td>\n",
              "      <td>2457095.5</td>\n",
              "      <td>0.10</td>\n",
              "      <td>b'\\x00\\x01\\xad\\x10\\x00\\x00\\x1c\\xa7\\xe8H.5]\\xc0...</td>\n",
              "      <td>NaN</td>\n",
              "      <td>Miscellaneous</td>\n",
              "    </tr>\n",
              "  </tbody>\n",
              "</table>\n",
              "<p>1880465 rows × 11 columns</p>\n",
              "</div>"
            ],
            "text/plain": [
              "         Unnamed: 0  FIRE_YEAR  ... COUNTY  STAT_CAUSE_DESCR.1\n",
              "0                 0       2005  ...     63       Miscellaneous\n",
              "1                 1       2004  ...     61           Lightning\n",
              "2                 2       2004  ...     17      Debris Burning\n",
              "3                 3       2004  ...      3           Lightning\n",
              "4                 4       2004  ...      3           Lightning\n",
              "...             ...        ...  ...    ...                 ...\n",
              "1880460     1880460       2015  ...    NaN   Missing/Undefined\n",
              "1880461     1880461       2015  ...    NaN       Miscellaneous\n",
              "1880462     1880462       2015  ...    NaN   Missing/Undefined\n",
              "1880463     1880463       2015  ...    NaN   Missing/Undefined\n",
              "1880464     1880464       2015  ...    NaN       Miscellaneous\n",
              "\n",
              "[1880465 rows x 11 columns]"
            ]
          },
          "metadata": {
            "tags": []
          },
          "execution_count": 4
        }
      ]
    },
    {
      "cell_type": "code",
      "metadata": {
        "id": "EQ1ojF2rCY2Z",
        "colab_type": "code",
        "outputId": "47eb12ef-721e-40d0-a62c-7caec726c25b",
        "colab": {
          "base_uri": "https://localhost:8080/",
          "height": 85
        }
      },
      "source": [
        "df.columns"
      ],
      "execution_count": 5,
      "outputs": [
        {
          "output_type": "execute_result",
          "data": {
            "text/plain": [
              "Index(['Unnamed: 0', 'FIRE_YEAR', 'STAT_CAUSE_DESCR', 'LATITUDE', 'LONGITUDE',\n",
              "       'STATE', 'DISCOVERY_DATE', 'FIRE_SIZE', 'Shape', 'COUNTY',\n",
              "       'STAT_CAUSE_DESCR.1'],\n",
              "      dtype='object')"
            ]
          },
          "metadata": {
            "tags": []
          },
          "execution_count": 5
        }
      ]
    },
    {
      "cell_type": "code",
      "metadata": {
        "id": "J2ioJVykCY2c",
        "colab_type": "code",
        "colab": {}
      },
      "source": [
        "#finding pearson corelation in the dataset\n",
        "pearsoncorr=df.corr()"
      ],
      "execution_count": 0,
      "outputs": []
    },
    {
      "cell_type": "markdown",
      "metadata": {
        "id": "tTC88_p9CY2f",
        "colab_type": "text"
      },
      "source": [
        "The data in the dataset is hily un-corelated."
      ]
    },
    {
      "cell_type": "code",
      "metadata": {
        "id": "dmjOVVMPCY2g",
        "colab_type": "code",
        "outputId": "a63caaaf-20fe-4a22-fad4-086721612892",
        "colab": {
          "base_uri": "https://localhost:8080/",
          "height": 885
        }
      },
      "source": [
        "\n",
        "import seaborn as sb\n",
        "\n",
        "plt.figure(1,figsize=(15,15))\n",
        "sb.heatmap(pearsoncorr, \n",
        "            xticklabels=pearsoncorr.columns,\n",
        "            yticklabels=pearsoncorr.columns,\n",
        "            cmap='RdBu_r',\n",
        "            annot=True,\n",
        "\n",
        "            linewidth=0.5)"
      ],
      "execution_count": 7,
      "outputs": [
        {
          "output_type": "execute_result",
          "data": {
            "text/plain": [
              "<matplotlib.axes._subplots.AxesSubplot at 0x7f822b7fc6a0>"
            ]
          },
          "metadata": {
            "tags": []
          },
          "execution_count": 7
        },
        {
          "output_type": "display_data",
          "data": {
            "image/png": "[encoded data removed]",
            "text/plain": [
              "<Figure size 1080x1080 with 2 Axes>"
            ]
          },
          "metadata": {
            "tags": []
          }
        }
      ]
    },
    {
      "cell_type": "code",
      "metadata": {
        "id": "cdT7hjjTyAXt",
        "colab_type": "code",
        "colab": {}
      },
      "source": [
        "le = preprocessing.LabelEncoder()\n",
        "le.fit(df.STATE)\n",
        "df.STATE=le.transform(df.STATE)\n",
        "le.fit(df.STAT_CAUSE_DESCR)\n",
        "df.STAT_CAUSE_DESCR=le.transform(df.STAT_CAUSE_DESCR)\n",
        "new_df=df.groupby(by=['STATE','FIRE_YEAR'],axis=0)['FIRE_SIZE'].mean().reset_index()\n"
      ],
      "execution_count": 0,
      "outputs": []
    },
    {
      "cell_type": "code",
      "metadata": {
        "id": "n57nY9d9zLbE",
        "colab_type": "code",
        "outputId": "fd633f3f-152f-4bf7-c911-057ae7ec59c2",
        "colab": {
          "base_uri": "https://localhost:8080/",
          "height": 419
        }
      },
      "source": [
        "new_df"
      ],
      "execution_count": 18,
      "outputs": [
        {
          "output_type": "execute_result",
          "data": {
            "text/html": [
              "<div>\n",
              "<style scoped>\n",
              "    .dataframe tbody tr th:only-of-type {\n",
              "        vertical-align: middle;\n",
              "    }\n",
              "\n",
              "    .dataframe tbody tr th {\n",
              "        vertical-align: top;\n",
              "    }\n",
              "\n",
              "    .dataframe thead th {\n",
              "        text-align: right;\n",
              "    }\n",
              "</style>\n",
              "<table border=\"1\" class=\"dataframe\">\n",
              "  <thead>\n",
              "    <tr style=\"text-align: right;\">\n",
              "      <th></th>\n",
              "      <th>STATE</th>\n",
              "      <th>FIRE_YEAR</th>\n",
              "      <th>FIRE_SIZE</th>\n",
              "    </tr>\n",
              "  </thead>\n",
              "  <tbody>\n",
              "    <tr>\n",
              "      <th>0</th>\n",
              "      <td>0</td>\n",
              "      <td>1992</td>\n",
              "      <td>296.709771</td>\n",
              "    </tr>\n",
              "    <tr>\n",
              "      <th>1</th>\n",
              "      <td>0</td>\n",
              "      <td>1993</td>\n",
              "      <td>798.131823</td>\n",
              "    </tr>\n",
              "    <tr>\n",
              "      <th>2</th>\n",
              "      <td>0</td>\n",
              "      <td>1994</td>\n",
              "      <td>409.320156</td>\n",
              "    </tr>\n",
              "    <tr>\n",
              "      <th>3</th>\n",
              "      <td>0</td>\n",
              "      <td>1995</td>\n",
              "      <td>105.172488</td>\n",
              "    </tr>\n",
              "    <tr>\n",
              "      <th>4</th>\n",
              "      <td>0</td>\n",
              "      <td>1996</td>\n",
              "      <td>833.979387</td>\n",
              "    </tr>\n",
              "    <tr>\n",
              "      <th>...</th>\n",
              "      <td>...</td>\n",
              "      <td>...</td>\n",
              "      <td>...</td>\n",
              "    </tr>\n",
              "    <tr>\n",
              "      <th>1209</th>\n",
              "      <td>51</td>\n",
              "      <td>2011</td>\n",
              "      <td>210.672781</td>\n",
              "    </tr>\n",
              "    <tr>\n",
              "      <th>1210</th>\n",
              "      <td>51</td>\n",
              "      <td>2012</td>\n",
              "      <td>461.095086</td>\n",
              "    </tr>\n",
              "    <tr>\n",
              "      <th>1211</th>\n",
              "      <td>51</td>\n",
              "      <td>2013</td>\n",
              "      <td>93.497074</td>\n",
              "    </tr>\n",
              "    <tr>\n",
              "      <th>1212</th>\n",
              "      <td>51</td>\n",
              "      <td>2014</td>\n",
              "      <td>12.984689</td>\n",
              "    </tr>\n",
              "    <tr>\n",
              "      <th>1213</th>\n",
              "      <td>51</td>\n",
              "      <td>2015</td>\n",
              "      <td>58.261432</td>\n",
              "    </tr>\n",
              "  </tbody>\n",
              "</table>\n",
              "<p>1214 rows × 3 columns</p>\n",
              "</div>"
            ],
            "text/plain": [
              "      STATE  FIRE_YEAR   FIRE_SIZE\n",
              "0         0       1992  296.709771\n",
              "1         0       1993  798.131823\n",
              "2         0       1994  409.320156\n",
              "3         0       1995  105.172488\n",
              "4         0       1996  833.979387\n",
              "...     ...        ...         ...\n",
              "1209     51       2011  210.672781\n",
              "1210     51       2012  461.095086\n",
              "1211     51       2013   93.497074\n",
              "1212     51       2014   12.984689\n",
              "1213     51       2015   58.261432\n",
              "\n",
              "[1214 rows x 3 columns]"
            ]
          },
          "metadata": {
            "tags": []
          },
          "execution_count": 18
        }
      ]
    },
    {
      "cell_type": "code",
      "metadata": {
        "id": "1USp9E1f6cDJ",
        "colab_type": "code",
        "colab": {}
      },
      "source": [
        "\n"
      ],
      "execution_count": 0,
      "outputs": []
    },
    {
      "cell_type": "code",
      "metadata": {
        "id": "BpLAOzBc10vB",
        "colab_type": "code",
        "colab": {}
      },
      "source": [
        "df2=new_df\n",
        "from sklearn.mixture import GaussianMixture as GMM\n",
        "gmm = GMM(n_components=4).fit(df2)\n",
        "labels = gmm.predict(df2)\n"
      ],
      "execution_count": 0,
      "outputs": []
    },
    {
      "cell_type": "code",
      "metadata": {
        "id": "-x1kdisi5DdW",
        "colab_type": "code",
        "colab": {
          "base_uri": "https://localhost:8080/",
          "height": 863
        },
        "outputId": "377b58d1-0f7d-459b-947f-aa53b2374474"
      },
      "source": [
        "plt.figure(1,figsize=(15,15))\n",
        "plt.scatter(df2.FIRE_SIZE, df2.STATE, c=labels, s=40, cmap='viridis');\n",
        "# plt.scatter(df2.FIRE_SIZE, df2.FIRE_YEAR, c=labels, s=40, cmap='viridis');"
      ],
      "execution_count": 25,
      "outputs": [
        {
          "output_type": "display_data",
          "data": {
            "image/png": "[encoded data removed]",
            "text/plain": [
              "<Figure size 1080x1080 with 1 Axes>"
            ]
          },
          "metadata": {
            "tags": []
          }
        }
      ]
    },
    {
      "cell_type": "code",
      "metadata": {
        "id": "j0i6yl7Z6y8R",
        "colab_type": "code",
        "colab": {
          "base_uri": "https://localhost:8080/",
          "height": 102
        },
        "outputId": "c2e5a815-9e3c-4bfc-f633-b6aeefc6c9e7"
      },
      "source": [
        "probs = gmm.predict_proba(df2)\n",
        "print(probs[:5].round(3))"
      ],
      "execution_count": 24,
      "outputs": [
        {
          "output_type": "stream",
          "text": [
            "[[0.    0.032 0.    0.967]\n",
            " [0.    0.043 0.    0.957]\n",
            " [0.    0.04  0.    0.96 ]\n",
            " [0.955 0.003 0.    0.042]\n",
            " [0.    0.069 0.    0.931]]\n"
          ],
          "name": "stdout"
        }
      ]
    },
    {
      "cell_type": "code",
      "metadata": {
        "id": "4cPVPJj-73kz",
        "colab_type": "code",
        "colab": {}
      },
      "source": [
        ""
      ],
      "execution_count": 0,
      "outputs": []
    }
  ]
}