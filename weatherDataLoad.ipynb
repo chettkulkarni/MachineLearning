{
  "nbformat": 4,
  "nbformat_minor": 0,
  "metadata": {
    "colab": {
      "name": "weatherDataLoad.ipynb",
      "provenance": [],
      "collapsed_sections": [],
      "authorship_tag": "ABX9TyMlgNFa/KLDru28rbIxIV8m",
      "include_colab_link": true
    },
    "kernelspec": {
      "name": "python3",
      "display_name": "Python 3"
    },
    "accelerator": "GPU"
  },
  "cells": [
    {
      "cell_type": "markdown",
      "metadata": {
        "id": "view-in-github",
        "colab_type": "text"
      },
      "source": [
        "<a href=\"https://colab.research.google.com/github/chettkulkarni/MachineLearning/blob/master/weatherDataLoad.ipynb\" target=\"_parent\"><img src=\"https://colab.research.google.com/assets/colab-badge.svg\" alt=\"Open In Colab\"/></a>"
      ]
    },
    {
      "cell_type": "code",
      "metadata": {
        "id": "5rKto2fZygxi",
        "colab_type": "code",
        "colab": {}
      },
      "source": [
        "import requests\n",
        "import pandas as pd"
      ],
      "execution_count": 0,
      "outputs": []
    },
    {
      "cell_type": "code",
      "metadata": {
        "id": "xATI2IWZBusG",
        "colab_type": "code",
        "colab": {
          "base_uri": "https://localhost:8080/",
          "height": 34
        },
        "outputId": "13a358b5-84eb-41d8-89b3-2dd8d689a0a2"
      },
      "source": [
        "!pip install -U -q PyDrive\n",
        "from pydrive.auth import GoogleAuth\n",
        "from pydrive.drive import GoogleDrive\n",
        "from google.colab import auth\n",
        "from oauth2client.client import GoogleCredentials\n",
        "# Authenticate and create the PyDrive client.\n",
        "auth.authenticate_user()\n",
        "gauth = GoogleAuth()\n",
        "gauth.credentials = GoogleCredentials.get_application_default()\n",
        "drive = GoogleDrive(gauth)\n",
        "\n",
        "link = 'https://drive.google.com/open?id=1ApRYxyMqnFKH8XW1GbQ-KZNJdbdeEdV9'\n",
        "fluff, id = link.split('=')\n",
        "print (id) # Verify that you have everything after '='\n",
        "\n",
        "\n",
        "downloaded = drive.CreateFile({'id':id}) \n",
        "downloaded.GetContentFile('Fire.csv')"
      ],
      "execution_count": 2,
      "outputs": [
        {
          "output_type": "stream",
          "text": [
            "1ApRYxyMqnFKH8XW1GbQ-KZNJdbdeEdV9\n"
          ],
          "name": "stdout"
        }
      ]
    },
    {
      "cell_type": "code",
      "metadata": {
        "id": "NkXU3oSbyhU7",
        "colab_type": "code",
        "colab": {}
      },
      "source": [
        "#Api to fetch the records\n",
        "\n",
        "# response = requests.get(\"https://www.ncdc.noaa.gov/cdo-web/api/v2/data?datasetid=GHCND&startdate=2017-01-01&enddate=2017-01-31&locationid=FIPS:23&format=csv\", headers={'token': 'RGFmBkMzqCUgFXbiQWeqalQIAAoBMhTQ'})\n",
        "# response = requests.get(\"https://www.ncdc.noaa.gov/cdo-web/api/v2/locationcategories\", headers={'token': 'RGFmBkMzqCUgFXbiQWeqalQIAAoBMhTQ'})\n",
        "\n",
        "# response.content"
      ],
      "execution_count": 0,
      "outputs": []
    },
    {
      "cell_type": "code",
      "metadata": {
        "id": "knvhGVhVy2gl",
        "colab_type": "code",
        "colab": {}
      },
      "source": [
        "# responseObject=response.json()"
      ],
      "execution_count": 0,
      "outputs": []
    },
    {
      "cell_type": "code",
      "metadata": {
        "id": "caEBPfqNufQd",
        "colab_type": "code",
        "colab": {}
      },
      "source": [
        "# df=pd.DataFrame.from_dict(responseObject['results'])"
      ],
      "execution_count": 0,
      "outputs": []
    },
    {
      "cell_type": "code",
      "metadata": {
        "id": "wB6JTIqH2rCo",
        "colab_type": "code",
        "outputId": "d9a18907-f2c3-4ac7-d662-cb93207b30ff",
        "colab": {
          "base_uri": "https://localhost:8080/",
          "height": 34
        }
      },
      "source": [
        "# df\n",
        "files = [str(x)+'.csv.gz' for x in range(1993,1994)]\n",
        "files"
      ],
      "execution_count": 42,
      "outputs": [
        {
          "output_type": "execute_result",
          "data": {
            "text/plain": [
              "['1993.csv.gz']"
            ]
          },
          "metadata": {
            "tags": []
          },
          "execution_count": 42
        }
      ]
    },
    {
      "cell_type": "code",
      "metadata": {
        "id": "1q2_371rJ8Oa",
        "colab_type": "code",
        "outputId": "42b3d104-8509-44b3-9d8a-112737f6a101",
        "colab": {
          "base_uri": "https://localhost:8080/",
          "height": 51
        }
      },
      "source": [
        "#fetching data from ftp server for years from 1985 to 2000\n",
        "\n",
        "from ftplib import FTP\n",
        "from datetime import datetime\n",
        "\n",
        "start = datetime.now()\n",
        "ftp = FTP('ftp.ncdc.noaa.gov')\n",
        "ftp.login()\n",
        "ftp.cwd(\"pub/data/ghcn/daily/by_year/\")\n",
        "\n",
        "\n",
        "# Get All Files\n",
        "files = [str(x)+'.csv.gz' for x in range(1993,1994)]\n",
        "\n",
        "# Print out the files\n",
        "for file in files:\n",
        "\tprint(\"Downloading...\" + file)\n",
        "\tftp.retrbinary(\"RETR \" + file ,open(file, 'wb').write)\n",
        "\n",
        "ftp.close()\n",
        "\n",
        "end = datetime.now()\n",
        "diff = end - start\n",
        "print('All files downloaded for ' + str(diff.seconds) + 's')"
      ],
      "execution_count": 43,
      "outputs": [
        {
          "output_type": "stream",
          "text": [
            "Downloading...1993.csv.gz\n",
            "All files downloaded for 24s\n"
          ],
          "name": "stdout"
        }
      ]
    },
    {
      "cell_type": "code",
      "metadata": {
        "id": "17W4CiaOK2AI",
        "colab_type": "code",
        "colab": {}
      },
      "source": [
        "# df = pd.read_csv('1987.csv.gz', compression='gzip', header=0, sep=',', quotechar='\"', error_bad_lines=False)"
      ],
      "execution_count": 0,
      "outputs": []
    },
    {
      "cell_type": "code",
      "metadata": {
        "id": "6QLQrpGhYs5j",
        "colab_type": "code",
        "colab": {}
      },
      "source": [
        "# df"
      ],
      "execution_count": 0,
      "outputs": []
    },
    {
      "cell_type": "code",
      "metadata": {
        "id": "oVblE0-q3ANs",
        "colab_type": "code",
        "colab": {}
      },
      "source": [
        "#getting ready with sparkx instance"
      ],
      "execution_count": 0,
      "outputs": []
    },
    {
      "cell_type": "code",
      "metadata": {
        "id": "drRvwh6NYtzh",
        "colab_type": "code",
        "colab": {}
      },
      "source": [
        "!apt-get install openjdk-8-jdk-headless -qq > /dev/null\n",
        "!wget -q https://www-us.apache.org/dist/spark/spark-2.4.5/spark-2.4.5-bin-hadoop2.7.tgz\n",
        "!tar xf spark-2.4.5-bin-hadoop2.7.tgz\n",
        "!pip install -q findspark"
      ],
      "execution_count": 0,
      "outputs": []
    },
    {
      "cell_type": "code",
      "metadata": {
        "id": "941dXJgKcIos",
        "colab_type": "code",
        "colab": {
          "base_uri": "https://localhost:8080/",
          "height": 51
        },
        "outputId": "8a040a07-f37d-43c2-b6b5-96bf32ad1097"
      },
      "source": [
        "!pip install pyspark\n",
        "import pyspark\n",
        "from pyspark import SparkContext\n",
        "from pyspark.sql import SQLContext\n",
        "from pyspark import SparkFiles\n",
        "import pyspark.sql.functions as func"
      ],
      "execution_count": 151,
      "outputs": [
        {
          "output_type": "stream",
          "text": [
            "Requirement already satisfied: pyspark in /usr/local/lib/python3.6/dist-packages (2.4.5)\n",
            "Requirement already satisfied: py4j==0.10.7 in /usr/local/lib/python3.6/dist-packages (from pyspark) (0.10.7)\n"
          ],
          "name": "stdout"
        }
      ]
    },
    {
      "cell_type": "code",
      "metadata": {
        "id": "vF8vg5-GbEIq",
        "colab_type": "code",
        "colab": {}
      },
      "source": [
        "import os\n",
        "os.environ[\"JAVA_HOME\"] = \"/usr/lib/jvm/java-8-openjdk-amd64\"\n",
        "os.environ[\"SPARK_HOME\"] = \"/content/spark-2.4.5-bin-hadoop2.7\""
      ],
      "execution_count": 0,
      "outputs": []
    },
    {
      "cell_type": "code",
      "metadata": {
        "id": "q52KGCGU3FOJ",
        "colab_type": "code",
        "colab": {}
      },
      "source": [
        "#generating spark contect and sessions to consume our datasets"
      ],
      "execution_count": 0,
      "outputs": []
    },
    {
      "cell_type": "code",
      "metadata": {
        "id": "_DWRv7jMfp4s",
        "colab_type": "code",
        "colab": {}
      },
      "source": [
        "from pyspark.sql import SparkSession\n",
        "spark = SparkSession \\\n",
        "        .builder \\\n",
        "        .appName(\"gfcj\") \\\n",
        "        .getOrCreate()"
      ],
      "execution_count": 0,
      "outputs": []
    },
    {
      "cell_type": "code",
      "metadata": {
        "id": "o6cA_1853MOD",
        "colab_type": "code",
        "colab": {}
      },
      "source": [
        "#adding all the files to spark context to spread them into rdd and perform faster exexution on huge dataset"
      ],
      "execution_count": 0,
      "outputs": []
    },
    {
      "cell_type": "code",
      "metadata": {
        "id": "c2abOIlAbikp",
        "colab_type": "code",
        "colab": {}
      },
      "source": [
        "sc =SparkContext.getOrCreate()\n",
        "\n",
        "for file in files:\n",
        "  sc.addFile(file)"
      ],
      "execution_count": 0,
      "outputs": []
    },
    {
      "cell_type": "code",
      "metadata": {
        "id": "AzXpcXHhbBcG",
        "colab_type": "code",
        "colab": {}
      },
      "source": [
        "sqlContext = SQLContext(sc)\n",
        "sqlContext\n",
        "# df = sqlContext.read.csv(SparkFiles.get(files), header=True, inferSchema= True)\n",
        "# df.printSchema()\n",
        "\n",
        "spark.read.format(\"csv\").option(\"header\", \"true\").load(\"*.csv.gz\")\n",
        "df=spark.read.option(\"header\", \"false\").csv(\"*.csv.gz\")"
      ],
      "execution_count": 0,
      "outputs": []
    },
    {
      "cell_type": "code",
      "metadata": {
        "id": "972gSaH7bUgc",
        "colab_type": "code",
        "colab": {
          "base_uri": "https://localhost:8080/",
          "height": 187
        },
        "outputId": "452f2820-1115-47f6-abcc-19208c0ee10b"
      },
      "source": [
        "df.printSchema()"
      ],
      "execution_count": 46,
      "outputs": [
        {
          "output_type": "stream",
          "text": [
            "root\n",
            " |-- _c0: string (nullable = true)\n",
            " |-- _c1: string (nullable = true)\n",
            " |-- _c2: string (nullable = true)\n",
            " |-- _c3: string (nullable = true)\n",
            " |-- _c4: string (nullable = true)\n",
            " |-- _c5: string (nullable = true)\n",
            " |-- _c6: string (nullable = true)\n",
            " |-- _c7: string (nullable = true)\n",
            "\n"
          ],
          "name": "stdout"
        }
      ]
    },
    {
      "cell_type": "code",
      "metadata": {
        "id": "4KssyH6nhRUY",
        "colab_type": "code",
        "colab": {
          "base_uri": "https://localhost:8080/",
          "height": 204
        },
        "outputId": "faa8e899-1cb0-4218-8d2a-b0a358667d2d"
      },
      "source": [
        "df.show(5)"
      ],
      "execution_count": 47,
      "outputs": [
        {
          "output_type": "stream",
          "text": [
            "+-----------+--------+----+----+----+----+---+----+\n",
            "|        _c0|     _c1| _c2| _c3| _c4| _c5|_c6| _c7|\n",
            "+-----------+--------+----+----+----+----+---+----+\n",
            "|CA002303986|19930101|TMAX|-140|null|null|  C|null|\n",
            "|CA002303986|19930101|TMIN|-280|null|null|  C|null|\n",
            "|CA002303986|19930101|PRCP|   0|null|null|  C|null|\n",
            "|CA002303986|19930101|SNOW|   0|null|null|  C|null|\n",
            "|CA002303986|19930101|SNWD| 200|null|null|  C|null|\n",
            "+-----------+--------+----+----+----+----+---+----+\n",
            "only showing top 5 rows\n",
            "\n"
          ],
          "name": "stdout"
        }
      ]
    },
    {
      "cell_type": "code",
      "metadata": {
        "id": "A12tIlfLhszO",
        "colab_type": "code",
        "colab": {}
      },
      "source": [
        "sc.addFile('ghcnd-stations.csv')"
      ],
      "execution_count": 0,
      "outputs": []
    },
    {
      "cell_type": "code",
      "metadata": {
        "id": "Dm6K46Z0xwSG",
        "colab_type": "code",
        "colab": {}
      },
      "source": [
        "df2=spark.read.option(\"header\", \"true\").csv('ghcnd-stations.csv')"
      ],
      "execution_count": 0,
      "outputs": []
    },
    {
      "cell_type": "code",
      "metadata": {
        "id": "OQFENBQDx-lC",
        "colab_type": "code",
        "colab": {
          "base_uri": "https://localhost:8080/",
          "height": 34
        },
        "outputId": "588c6097-a382-408c-b68b-cd3ec639c1f4"
      },
      "source": [
        "df2"
      ],
      "execution_count": 50,
      "outputs": [
        {
          "output_type": "execute_result",
          "data": {
            "text/plain": [
              "DataFrame[id: string, lat: string, long: string, _c3: string, _c4: string, _c5: string]"
            ]
          },
          "metadata": {
            "tags": []
          },
          "execution_count": 50
        }
      ]
    },
    {
      "cell_type": "code",
      "metadata": {
        "id": "XAafATiYx_KP",
        "colab_type": "code",
        "colab": {
          "base_uri": "https://localhost:8080/",
          "height": 204
        },
        "outputId": "36ede18c-1b13-4a20-dc9d-1706b34b322e"
      },
      "source": [
        "df.show(5)"
      ],
      "execution_count": 51,
      "outputs": [
        {
          "output_type": "stream",
          "text": [
            "+-----------+--------+----+----+----+----+---+----+\n",
            "|        _c0|     _c1| _c2| _c3| _c4| _c5|_c6| _c7|\n",
            "+-----------+--------+----+----+----+----+---+----+\n",
            "|CA002303986|19930101|TMAX|-140|null|null|  C|null|\n",
            "|CA002303986|19930101|TMIN|-280|null|null|  C|null|\n",
            "|CA002303986|19930101|PRCP|   0|null|null|  C|null|\n",
            "|CA002303986|19930101|SNOW|   0|null|null|  C|null|\n",
            "|CA002303986|19930101|SNWD| 200|null|null|  C|null|\n",
            "+-----------+--------+----+----+----+----+---+----+\n",
            "only showing top 5 rows\n",
            "\n"
          ],
          "name": "stdout"
        }
      ]
    },
    {
      "cell_type": "code",
      "metadata": {
        "id": "t-fqNpPAyFOC",
        "colab_type": "code",
        "colab": {
          "base_uri": "https://localhost:8080/",
          "height": 204
        },
        "outputId": "43d36f40-7241-4f96-f250-513de2f4d46b"
      },
      "source": [
        "df2.show(5)"
      ],
      "execution_count": 52,
      "outputs": [
        {
          "output_type": "stream",
          "text": [
            "+-----------+-------+--------+----+----+----+\n",
            "|         id|    lat|    long| _c3| _c4| _c5|\n",
            "+-----------+-------+--------+----+----+----+\n",
            "|ACW00011604|17.1167|-61.7833|null|null|null|\n",
            "|ACW00011647|17.1333|-61.7833|null|null|null|\n",
            "|AE000041196| 25.333|  55.517|null|null|null|\n",
            "|AEM00041194| 25.255|  55.364|null|null|null|\n",
            "|AEM00041217| 24.433|  54.651|null|null|null|\n",
            "+-----------+-------+--------+----+----+----+\n",
            "only showing top 5 rows\n",
            "\n"
          ],
          "name": "stdout"
        }
      ]
    },
    {
      "cell_type": "code",
      "metadata": {
        "id": "rjCNW15fyvdH",
        "colab_type": "code",
        "colab": {}
      },
      "source": [
        "data=df.selectExpr('_c0 as id','_c1 as date','_c2 as type','_c3 as value')"
      ],
      "execution_count": 0,
      "outputs": []
    },
    {
      "cell_type": "code",
      "metadata": {
        "id": "VzhUCvkT0kUS",
        "colab_type": "code",
        "colab": {
          "base_uri": "https://localhost:8080/",
          "height": 459
        },
        "outputId": "a958c518-5365-4495-8a2e-3724507e01bc"
      },
      "source": [
        "data.show()"
      ],
      "execution_count": 54,
      "outputs": [
        {
          "output_type": "stream",
          "text": [
            "+-----------+--------+----+-----+\n",
            "|         id|    date|type|value|\n",
            "+-----------+--------+----+-----+\n",
            "|CA002303986|19930101|TMAX| -140|\n",
            "|CA002303986|19930101|TMIN| -280|\n",
            "|CA002303986|19930101|PRCP|    0|\n",
            "|CA002303986|19930101|SNOW|    0|\n",
            "|CA002303986|19930101|SNWD|  200|\n",
            "|ASN00037003|19930101|PRCP|    0|\n",
            "|USC00242347|19930101|TMAX| -183|\n",
            "|USC00242347|19930101|TMIN| -289|\n",
            "|USC00242347|19930101|TOBS| -189|\n",
            "|USC00242347|19930101|PRCP|    0|\n",
            "|USC00242347|19930101|SNOW|    0|\n",
            "|NOE00133566|19930101|TMAX|   85|\n",
            "|NOE00133566|19930101|TMIN|   41|\n",
            "|NOE00133566|19930101|PRCP|   30|\n",
            "|NOE00133566|19930101|SNWD|    0|\n",
            "|ASN00028020|19930101|PRCP|  120|\n",
            "|USS0018D08S|19930101|TMAX|  -53|\n",
            "|USS0018D08S|19930101|TMIN| -112|\n",
            "|USS0018D08S|19930101|TOBS| -106|\n",
            "|USS0018D08S|19930101|PRCP|   76|\n",
            "+-----------+--------+----+-----+\n",
            "only showing top 20 rows\n",
            "\n"
          ],
          "name": "stdout"
        }
      ]
    },
    {
      "cell_type": "code",
      "metadata": {
        "id": "n2naBB3M7nA2",
        "colab_type": "code",
        "colab": {
          "base_uri": "https://localhost:8080/",
          "height": 153
        },
        "outputId": "8ae994a5-f072-4301-8810-44859e27c0c2"
      },
      "source": [
        "df2.show(2)"
      ],
      "execution_count": 55,
      "outputs": [
        {
          "output_type": "stream",
          "text": [
            "+-----------+-------+--------+----+----+----+\n",
            "|         id|    lat|    long| _c3| _c4| _c5|\n",
            "+-----------+-------+--------+----+----+----+\n",
            "|ACW00011604|17.1167|-61.7833|null|null|null|\n",
            "|ACW00011647|17.1333|-61.7833|null|null|null|\n",
            "+-----------+-------+--------+----+----+----+\n",
            "only showing top 2 rows\n",
            "\n"
          ],
          "name": "stdout"
        }
      ]
    },
    {
      "cell_type": "code",
      "metadata": {
        "id": "0OuauQzi0oGK",
        "colab_type": "code",
        "colab": {}
      },
      "source": [
        "final_df = data.join(df2, on=['id'], how='inner')"
      ],
      "execution_count": 0,
      "outputs": []
    },
    {
      "cell_type": "code",
      "metadata": {
        "id": "IQ1EFTzM06I8",
        "colab_type": "code",
        "colab": {}
      },
      "source": [
        "final_df=final_df.selectExpr('id','lat as LATITUDE','long as LONGITUDE','date','type','value')"
      ],
      "execution_count": 0,
      "outputs": []
    },
    {
      "cell_type": "code",
      "metadata": {
        "id": "v_Cn4KLt07DQ",
        "colab_type": "code",
        "colab": {}
      },
      "source": [
        "final_df.registerTempTable(\"temperature\")"
      ],
      "execution_count": 0,
      "outputs": []
    },
    {
      "cell_type": "code",
      "metadata": {
        "id": "eqEBopUL5fVT",
        "colab_type": "code",
        "colab": {}
      },
      "source": [
        "def spark_shape(self):\n",
        "    return (self.count(), len(self.columns))\n",
        "pyspark.sql.dataframe.DataFrame.shape = spark_shape"
      ],
      "execution_count": 0,
      "outputs": []
    },
    {
      "cell_type": "code",
      "metadata": {
        "id": "cjCvhdry6uWz",
        "colab_type": "code",
        "colab": {}
      },
      "source": [
        "# final_df.shape()"
      ],
      "execution_count": 0,
      "outputs": []
    },
    {
      "cell_type": "code",
      "metadata": {
        "id": "N_WR4SB76zDa",
        "colab_type": "code",
        "colab": {}
      },
      "source": [
        "# df.shape()"
      ],
      "execution_count": 0,
      "outputs": []
    },
    {
      "cell_type": "code",
      "metadata": {
        "id": "ly_7AToc674d",
        "colab_type": "code",
        "colab": {
          "base_uri": "https://localhost:8080/",
          "height": 71
        },
        "outputId": "ac0bdfb9-5214-45da-cb07-442e9af12aa4"
      },
      "source": [
        "fire=pd.read_csv('Fire.csv')"
      ],
      "execution_count": 158,
      "outputs": [
        {
          "output_type": "stream",
          "text": [
            "/usr/local/lib/python3.6/dist-packages/IPython/core/interactiveshell.py:2718: DtypeWarning: Columns (9,11,12,13,14,15,16,17,18,19,36,38) have mixed types. Specify dtype option on import or set low_memory=False.\n",
            "  interactivity=interactivity, compiler=compiler, result=result)\n"
          ],
          "name": "stderr"
        }
      ]
    },
    {
      "cell_type": "code",
      "metadata": {
        "id": "Km5GkQxI-ClH",
        "colab_type": "code",
        "colab": {}
      },
      "source": [
        "df=fire\n",
        "\n",
        "df['disc_clean_date'] = pd.to_datetime(df['DISCOVERY_DATE'] - pd.Timestamp(0).to_julian_date(), unit='D')\n",
        "#Convert containment date from julian to standard date\n",
        "df['cont_clean_date'] = pd.to_datetime(df['CONT_DATE'] - pd.Timestamp(0).to_julian_date(), unit='D')\n",
        "#Day of month string\n",
        "df['discovery_month'] = df['disc_clean_date'].dt.strftime('%b')\n",
        "#Returns the weekday string\n",
        "df['discovery_weekday'] = df['disc_clean_date'].dt.strftime('%a')\n",
        "#Merge discovery date and time \n"
      ],
      "execution_count": 0,
      "outputs": []
    },
    {
      "cell_type": "code",
      "metadata": {
        "id": "0AzefXQ4_vHB",
        "colab_type": "code",
        "colab": {
          "base_uri": "https://localhost:8080/",
          "height": 34
        },
        "outputId": "f1531717-75eb-4fbb-aed1-ea325427e1e0"
      },
      "source": [
        "fire_filter=[1993,1994,1995,1996,1997,1998]\n",
        "df_1993=df[df.FIRE_YEAR.isin(fire_filter)]\n",
        "\n",
        "fire_filter"
      ],
      "execution_count": 133,
      "outputs": [
        {
          "output_type": "execute_result",
          "data": {
            "text/plain": [
              "[1993, 1994, 1995, 1996, 1997, 1998]"
            ]
          },
          "metadata": {
            "tags": []
          },
          "execution_count": 133
        }
      ]
    },
    {
      "cell_type": "code",
      "metadata": {
        "id": "nCnukLmPAJHj",
        "colab_type": "code",
        "colab": {}
      },
      "source": [
        "df_1993=df_1993[['LATITUDE','LONGITUDE','cont_clean_date']]"
      ],
      "execution_count": 0,
      "outputs": []
    },
    {
      "cell_type": "code",
      "metadata": {
        "id": "Vh5vVuY4F9VE",
        "colab_type": "code",
        "colab": {}
      },
      "source": [
        "df_1993=df_1993.round()"
      ],
      "execution_count": 0,
      "outputs": []
    },
    {
      "cell_type": "code",
      "metadata": {
        "id": "wajTnl00HPsC",
        "colab_type": "code",
        "colab": {}
      },
      "source": [
        "df_1993=df_1993.dropna()"
      ],
      "execution_count": 0,
      "outputs": []
    },
    {
      "cell_type": "code",
      "metadata": {
        "id": "KzWcbC4WHUk3",
        "colab_type": "code",
        "colab": {
          "base_uri": "https://localhost:8080/",
          "height": 419
        },
        "outputId": "82869586-59a8-43fb-89fd-4da9c448e483"
      },
      "source": [
        "df_1993"
      ],
      "execution_count": 137,
      "outputs": [
        {
          "output_type": "execute_result",
          "data": {
            "text/html": [
              "<div>\n",
              "<style scoped>\n",
              "    .dataframe tbody tr th:only-of-type {\n",
              "        vertical-align: middle;\n",
              "    }\n",
              "\n",
              "    .dataframe tbody tr th {\n",
              "        vertical-align: top;\n",
              "    }\n",
              "\n",
              "    .dataframe thead th {\n",
              "        text-align: right;\n",
              "    }\n",
              "</style>\n",
              "<table border=\"1\" class=\"dataframe\">\n",
              "  <thead>\n",
              "    <tr style=\"text-align: right;\">\n",
              "      <th></th>\n",
              "      <th>LATITUDE</th>\n",
              "      <th>LONGITUDE</th>\n",
              "      <th>cont_clean_date</th>\n",
              "    </tr>\n",
              "  </thead>\n",
              "  <tbody>\n",
              "    <tr>\n",
              "      <th>53303</th>\n",
              "      <td>46.0</td>\n",
              "      <td>-113.0</td>\n",
              "      <td>1993-05-28</td>\n",
              "    </tr>\n",
              "    <tr>\n",
              "      <th>53304</th>\n",
              "      <td>46.0</td>\n",
              "      <td>-113.0</td>\n",
              "      <td>1993-08-14</td>\n",
              "    </tr>\n",
              "    <tr>\n",
              "      <th>53305</th>\n",
              "      <td>45.0</td>\n",
              "      <td>-112.0</td>\n",
              "      <td>1993-08-20</td>\n",
              "    </tr>\n",
              "    <tr>\n",
              "      <th>53306</th>\n",
              "      <td>45.0</td>\n",
              "      <td>-112.0</td>\n",
              "      <td>1993-10-26</td>\n",
              "    </tr>\n",
              "    <tr>\n",
              "      <th>53307</th>\n",
              "      <td>45.0</td>\n",
              "      <td>-111.0</td>\n",
              "      <td>1993-06-28</td>\n",
              "    </tr>\n",
              "    <tr>\n",
              "      <th>...</th>\n",
              "      <td>...</td>\n",
              "      <td>...</td>\n",
              "      <td>...</td>\n",
              "    </tr>\n",
              "    <tr>\n",
              "      <th>1450993</th>\n",
              "      <td>31.0</td>\n",
              "      <td>-82.0</td>\n",
              "      <td>1998-06-16</td>\n",
              "    </tr>\n",
              "    <tr>\n",
              "      <th>1450994</th>\n",
              "      <td>31.0</td>\n",
              "      <td>-83.0</td>\n",
              "      <td>1998-05-22</td>\n",
              "    </tr>\n",
              "    <tr>\n",
              "      <th>1450995</th>\n",
              "      <td>31.0</td>\n",
              "      <td>-83.0</td>\n",
              "      <td>1998-12-19</td>\n",
              "    </tr>\n",
              "    <tr>\n",
              "      <th>1860063</th>\n",
              "      <td>46.0</td>\n",
              "      <td>-121.0</td>\n",
              "      <td>1993-08-21</td>\n",
              "    </tr>\n",
              "    <tr>\n",
              "      <th>1860064</th>\n",
              "      <td>46.0</td>\n",
              "      <td>-122.0</td>\n",
              "      <td>1994-08-06</td>\n",
              "    </tr>\n",
              "  </tbody>\n",
              "</table>\n",
              "<p>235299 rows × 3 columns</p>\n",
              "</div>"
            ],
            "text/plain": [
              "         LATITUDE  LONGITUDE cont_clean_date\n",
              "53303        46.0     -113.0      1993-05-28\n",
              "53304        46.0     -113.0      1993-08-14\n",
              "53305        45.0     -112.0      1993-08-20\n",
              "53306        45.0     -112.0      1993-10-26\n",
              "53307        45.0     -111.0      1993-06-28\n",
              "...           ...        ...             ...\n",
              "1450993      31.0      -82.0      1998-06-16\n",
              "1450994      31.0      -83.0      1998-05-22\n",
              "1450995      31.0      -83.0      1998-12-19\n",
              "1860063      46.0     -121.0      1993-08-21\n",
              "1860064      46.0     -122.0      1994-08-06\n",
              "\n",
              "[235299 rows x 3 columns]"
            ]
          },
          "metadata": {
            "tags": []
          },
          "execution_count": 137
        }
      ]
    },
    {
      "cell_type": "code",
      "metadata": {
        "id": "hLIfcAl-HZW1",
        "colab_type": "code",
        "colab": {}
      },
      "source": [
        "# type(df_1993['cont_clean_date'])"
      ],
      "execution_count": 0,
      "outputs": []
    },
    {
      "cell_type": "code",
      "metadata": {
        "id": "ss2S3ArYHvWo",
        "colab_type": "code",
        "colab": {}
      },
      "source": [
        "df_1993['cont_clean_date']=df_1993['cont_clean_date'].astype(str)"
      ],
      "execution_count": 0,
      "outputs": []
    },
    {
      "cell_type": "code",
      "metadata": {
        "id": "tCJQUj8mH_yw",
        "colab_type": "code",
        "colab": {}
      },
      "source": [
        "df_1993['date']=df_1993['cont_clean_date'].replace('-', '', regex=True).astype(int)"
      ],
      "execution_count": 0,
      "outputs": []
    },
    {
      "cell_type": "code",
      "metadata": {
        "id": "bFpmE9GtITRe",
        "colab_type": "code",
        "colab": {
          "base_uri": "https://localhost:8080/",
          "height": 419
        },
        "outputId": "5f08c342-f2a3-46ca-c20f-df60cecf1e88"
      },
      "source": [
        "df_1993"
      ],
      "execution_count": 141,
      "outputs": [
        {
          "output_type": "execute_result",
          "data": {
            "text/html": [
              "<div>\n",
              "<style scoped>\n",
              "    .dataframe tbody tr th:only-of-type {\n",
              "        vertical-align: middle;\n",
              "    }\n",
              "\n",
              "    .dataframe tbody tr th {\n",
              "        vertical-align: top;\n",
              "    }\n",
              "\n",
              "    .dataframe thead th {\n",
              "        text-align: right;\n",
              "    }\n",
              "</style>\n",
              "<table border=\"1\" class=\"dataframe\">\n",
              "  <thead>\n",
              "    <tr style=\"text-align: right;\">\n",
              "      <th></th>\n",
              "      <th>LATITUDE</th>\n",
              "      <th>LONGITUDE</th>\n",
              "      <th>cont_clean_date</th>\n",
              "      <th>date</th>\n",
              "    </tr>\n",
              "  </thead>\n",
              "  <tbody>\n",
              "    <tr>\n",
              "      <th>53303</th>\n",
              "      <td>46.0</td>\n",
              "      <td>-113.0</td>\n",
              "      <td>1993-05-28</td>\n",
              "      <td>19930528</td>\n",
              "    </tr>\n",
              "    <tr>\n",
              "      <th>53304</th>\n",
              "      <td>46.0</td>\n",
              "      <td>-113.0</td>\n",
              "      <td>1993-08-14</td>\n",
              "      <td>19930814</td>\n",
              "    </tr>\n",
              "    <tr>\n",
              "      <th>53305</th>\n",
              "      <td>45.0</td>\n",
              "      <td>-112.0</td>\n",
              "      <td>1993-08-20</td>\n",
              "      <td>19930820</td>\n",
              "    </tr>\n",
              "    <tr>\n",
              "      <th>53306</th>\n",
              "      <td>45.0</td>\n",
              "      <td>-112.0</td>\n",
              "      <td>1993-10-26</td>\n",
              "      <td>19931026</td>\n",
              "    </tr>\n",
              "    <tr>\n",
              "      <th>53307</th>\n",
              "      <td>45.0</td>\n",
              "      <td>-111.0</td>\n",
              "      <td>1993-06-28</td>\n",
              "      <td>19930628</td>\n",
              "    </tr>\n",
              "    <tr>\n",
              "      <th>...</th>\n",
              "      <td>...</td>\n",
              "      <td>...</td>\n",
              "      <td>...</td>\n",
              "      <td>...</td>\n",
              "    </tr>\n",
              "    <tr>\n",
              "      <th>1450993</th>\n",
              "      <td>31.0</td>\n",
              "      <td>-82.0</td>\n",
              "      <td>1998-06-16</td>\n",
              "      <td>19980616</td>\n",
              "    </tr>\n",
              "    <tr>\n",
              "      <th>1450994</th>\n",
              "      <td>31.0</td>\n",
              "      <td>-83.0</td>\n",
              "      <td>1998-05-22</td>\n",
              "      <td>19980522</td>\n",
              "    </tr>\n",
              "    <tr>\n",
              "      <th>1450995</th>\n",
              "      <td>31.0</td>\n",
              "      <td>-83.0</td>\n",
              "      <td>1998-12-19</td>\n",
              "      <td>19981219</td>\n",
              "    </tr>\n",
              "    <tr>\n",
              "      <th>1860063</th>\n",
              "      <td>46.0</td>\n",
              "      <td>-121.0</td>\n",
              "      <td>1993-08-21</td>\n",
              "      <td>19930821</td>\n",
              "    </tr>\n",
              "    <tr>\n",
              "      <th>1860064</th>\n",
              "      <td>46.0</td>\n",
              "      <td>-122.0</td>\n",
              "      <td>1994-08-06</td>\n",
              "      <td>19940806</td>\n",
              "    </tr>\n",
              "  </tbody>\n",
              "</table>\n",
              "<p>235299 rows × 4 columns</p>\n",
              "</div>"
            ],
            "text/plain": [
              "         LATITUDE  LONGITUDE cont_clean_date      date\n",
              "53303        46.0     -113.0      1993-05-28  19930528\n",
              "53304        46.0     -113.0      1993-08-14  19930814\n",
              "53305        45.0     -112.0      1993-08-20  19930820\n",
              "53306        45.0     -112.0      1993-10-26  19931026\n",
              "53307        45.0     -111.0      1993-06-28  19930628\n",
              "...           ...        ...             ...       ...\n",
              "1450993      31.0      -82.0      1998-06-16  19980616\n",
              "1450994      31.0      -83.0      1998-05-22  19980522\n",
              "1450995      31.0      -83.0      1998-12-19  19981219\n",
              "1860063      46.0     -121.0      1993-08-21  19930821\n",
              "1860064      46.0     -122.0      1994-08-06  19940806\n",
              "\n",
              "[235299 rows x 4 columns]"
            ]
          },
          "metadata": {
            "tags": []
          },
          "execution_count": 141
        }
      ]
    },
    {
      "cell_type": "code",
      "metadata": {
        "id": "iDxAcUF-IWY3",
        "colab_type": "code",
        "colab": {}
      },
      "source": [
        "df_1993=df_1993[['LATITUDE','LONGITUDE','date']]"
      ],
      "execution_count": 0,
      "outputs": []
    },
    {
      "cell_type": "code",
      "metadata": {
        "id": "06xZFbskI9iu",
        "colab_type": "code",
        "colab": {}
      },
      "source": [
        "df_1993.to_csv(r'fire_1993.csv')"
      ],
      "execution_count": 0,
      "outputs": []
    },
    {
      "cell_type": "code",
      "metadata": {
        "id": "yPfPiI1qJFNj",
        "colab_type": "code",
        "colab": {}
      },
      "source": [
        "sc.addFile('fire_1993.csv')"
      ],
      "execution_count": 0,
      "outputs": []
    },
    {
      "cell_type": "code",
      "metadata": {
        "id": "Xvy1cNlpJM-8",
        "colab_type": "code",
        "colab": {}
      },
      "source": [
        "fire=spark.read.option(\"header\", \"true\").csv('fire_1993.csv')"
      ],
      "execution_count": 0,
      "outputs": []
    },
    {
      "cell_type": "code",
      "metadata": {
        "id": "rNl0sFtEJWGu",
        "colab_type": "code",
        "colab": {
          "base_uri": "https://localhost:8080/",
          "height": 204
        },
        "outputId": "8a60d89e-c57c-49b8-ae8e-23807c152132"
      },
      "source": [
        "fire.show(5)"
      ],
      "execution_count": 146,
      "outputs": [
        {
          "output_type": "stream",
          "text": [
            "+-----+--------+---------+--------+\n",
            "|  _c0|LATITUDE|LONGITUDE|    date|\n",
            "+-----+--------+---------+--------+\n",
            "|53303|    46.0|   -113.0|19930528|\n",
            "|53304|    46.0|   -113.0|19930814|\n",
            "|53305|    45.0|   -112.0|19930820|\n",
            "|53306|    45.0|   -112.0|19931026|\n",
            "|53307|    45.0|   -111.0|19930628|\n",
            "+-----+--------+---------+--------+\n",
            "only showing top 5 rows\n",
            "\n"
          ],
          "name": "stdout"
        }
      ]
    },
    {
      "cell_type": "code",
      "metadata": {
        "id": "4h5UwIENKBw6",
        "colab_type": "code",
        "colab": {
          "base_uri": "https://localhost:8080/",
          "height": 102
        },
        "outputId": "0e00477e-7fd3-4bcb-ae9a-53b09c265ac8"
      },
      "source": [
        "complete.show()"
      ],
      "execution_count": 148,
      "outputs": [
        {
          "output_type": "stream",
          "text": [
            "+--------+---------+----+---+---+----+-----+\n",
            "|LATITUDE|LONGITUDE|date|_c0| id|type|value|\n",
            "+--------+---------+----+---+---+----+-----+\n",
            "+--------+---------+----+---+---+----+-----+\n",
            "\n"
          ],
          "name": "stdout"
        }
      ]
    },
    {
      "cell_type": "code",
      "metadata": {
        "id": "-42ZT3dCKVv5",
        "colab_type": "code",
        "colab": {
          "base_uri": "https://localhost:8080/",
          "height": 459
        },
        "outputId": "6744b3db-c617-4757-de1e-5c4f342ba5a9"
      },
      "source": [
        "final_df.show()"
      ],
      "execution_count": 149,
      "outputs": [
        {
          "output_type": "stream",
          "text": [
            "+-----------+--------+---------+--------+----+-----+\n",
            "|         id|LATITUDE|LONGITUDE|    date|type|value|\n",
            "+-----------+--------+---------+--------+----+-----+\n",
            "|CA002303986| 62.2333|    -92.6|19930101|TMAX| -140|\n",
            "|CA002303986| 62.2333|    -92.6|19930101|TMIN| -280|\n",
            "|CA002303986| 62.2333|    -92.6|19930101|PRCP|    0|\n",
            "|CA002303986| 62.2333|    -92.6|19930101|SNOW|    0|\n",
            "|CA002303986| 62.2333|    -92.6|19930101|SNWD|  200|\n",
            "|ASN00037003|-20.4661| 138.4683|19930101|PRCP|    0|\n",
            "|USC00242347| 47.3181|-109.9372|19930101|TMAX| -183|\n",
            "|USC00242347| 47.3181|-109.9372|19930101|TMIN| -289|\n",
            "|USC00242347| 47.3181|-109.9372|19930101|TOBS| -189|\n",
            "|USC00242347| 47.3181|-109.9372|19930101|PRCP|    0|\n",
            "|USC00242347| 47.3181|-109.9372|19930101|SNOW|    0|\n",
            "|NOE00133566| 62.1031|   5.5817|19930101|TMAX|   85|\n",
            "|NOE00133566| 62.1031|   5.5817|19930101|TMIN|   41|\n",
            "|NOE00133566| 62.1031|   5.5817|19930101|PRCP|   30|\n",
            "|NOE00133566| 62.1031|   5.5817|19930101|SNWD|    0|\n",
            "|ASN00028020|-16.3772| 143.9844|19930101|PRCP|  120|\n",
            "|USS0018D08S|   45.19|  -118.55|19930101|TMAX|  -53|\n",
            "|USS0018D08S|   45.19|  -118.55|19930101|TMIN| -112|\n",
            "|USS0018D08S|   45.19|  -118.55|19930101|TOBS| -106|\n",
            "|USS0018D08S|   45.19|  -118.55|19930101|PRCP|   76|\n",
            "+-----------+--------+---------+--------+----+-----+\n",
            "only showing top 20 rows\n",
            "\n"
          ],
          "name": "stdout"
        }
      ]
    },
    {
      "cell_type": "code",
      "metadata": {
        "id": "A7Ou865uOkIn",
        "colab_type": "code",
        "colab": {}
      },
      "source": [
        "final_df=final_df.withColumn(\"LATITUDE\", func.round(final_df[\"LATITUDE\"]))\n",
        "final_df=final_df.withColumn(\"LONGITUDE\", func.round(final_df[\"LONGITUDE\"]))"
      ],
      "execution_count": 0,
      "outputs": []
    },
    {
      "cell_type": "code",
      "metadata": {
        "id": "msdKGkD5PBDh",
        "colab_type": "code",
        "colab": {
          "base_uri": "https://localhost:8080/",
          "height": 459
        },
        "outputId": "6b56096a-dfa9-4280-adb3-b5ec1de17048"
      },
      "source": [
        "final_df.show()"
      ],
      "execution_count": 154,
      "outputs": [
        {
          "output_type": "stream",
          "text": [
            "+-----------+--------+---------+--------+----+-----+\n",
            "|         id|LATITUDE|LONGITUDE|    date|type|value|\n",
            "+-----------+--------+---------+--------+----+-----+\n",
            "|CA002303986|    62.0|    -92.6|19930101|TMAX| -140|\n",
            "|CA002303986|    62.0|    -92.6|19930101|TMIN| -280|\n",
            "|CA002303986|    62.0|    -92.6|19930101|PRCP|    0|\n",
            "|CA002303986|    62.0|    -92.6|19930101|SNOW|    0|\n",
            "|CA002303986|    62.0|    -92.6|19930101|SNWD|  200|\n",
            "|ASN00037003|   -20.0| 138.4683|19930101|PRCP|    0|\n",
            "|USC00242347|    47.0|-109.9372|19930101|TMAX| -183|\n",
            "|USC00242347|    47.0|-109.9372|19930101|TMIN| -289|\n",
            "|USC00242347|    47.0|-109.9372|19930101|TOBS| -189|\n",
            "|USC00242347|    47.0|-109.9372|19930101|PRCP|    0|\n",
            "|USC00242347|    47.0|-109.9372|19930101|SNOW|    0|\n",
            "|NOE00133566|    62.0|   5.5817|19930101|TMAX|   85|\n",
            "|NOE00133566|    62.0|   5.5817|19930101|TMIN|   41|\n",
            "|NOE00133566|    62.0|   5.5817|19930101|PRCP|   30|\n",
            "|NOE00133566|    62.0|   5.5817|19930101|SNWD|    0|\n",
            "|ASN00028020|   -16.0| 143.9844|19930101|PRCP|  120|\n",
            "|USS0018D08S|    45.0|  -118.55|19930101|TMAX|  -53|\n",
            "|USS0018D08S|    45.0|  -118.55|19930101|TMIN| -112|\n",
            "|USS0018D08S|    45.0|  -118.55|19930101|TOBS| -106|\n",
            "|USS0018D08S|    45.0|  -118.55|19930101|PRCP|   76|\n",
            "+-----------+--------+---------+--------+----+-----+\n",
            "only showing top 20 rows\n",
            "\n"
          ],
          "name": "stdout"
        }
      ]
    },
    {
      "cell_type": "code",
      "metadata": {
        "id": "smmN-2StJYGJ",
        "colab_type": "code",
        "colab": {}
      },
      "source": [
        "complete = fire.join(final_df, on=['LATITUDE','LONGITUDE','date'], how='inner')"
      ],
      "execution_count": 0,
      "outputs": []
    },
    {
      "cell_type": "code",
      "metadata": {
        "id": "QvGZLvj6PMtq",
        "colab_type": "code",
        "colab": {
          "base_uri": "https://localhost:8080/",
          "height": 459
        },
        "outputId": "d961735c-4263-4732-cb94-f3f4b3226d5c"
      },
      "source": [
        "complete.show()"
      ],
      "execution_count": 157,
      "outputs": [
        {
          "output_type": "stream",
          "text": [
            "+--------+---------+--------+-------+-----------+----+-----+\n",
            "|LATITUDE|LONGITUDE|    date|    _c0|         id|type|value|\n",
            "+--------+---------+--------+-------+-----------+----+-----+\n",
            "|    34.0|    -84.0|19930101|1408072|USC00090603|PRCP|    0|\n",
            "|    34.0|    -84.0|19930101|1408072|USC00090603|SNOW|    0|\n",
            "|    34.0|    -84.0|19930101|1408072|USC00090603|SNWD|    0|\n",
            "|    35.0|    -82.0|19930101| 743882|USC00388786|TMAX|  183|\n",
            "|    35.0|    -82.0|19930101| 743882|USC00388786|TMIN|   56|\n",
            "|    35.0|    -82.0|19930101| 743882|USC00388786|TOBS|   67|\n",
            "|    35.0|    -82.0|19930101| 743882|USC00388786|PRCP|    0|\n",
            "|    35.0|    -82.0|19930101| 743882|USC00388786|SNOW|    0|\n",
            "|    35.0|    -82.0|19930101| 743882|USC00388786|SNWD|    0|\n",
            "|    31.0|    -91.0|19930101|  59043|USC00160205|TMAX|  178|\n",
            "|    31.0|    -91.0|19930101|  59043|USC00160205|TMIN|  100|\n",
            "|    31.0|    -91.0|19930101|  59043|USC00160205|TOBS|  111|\n",
            "|    31.0|    -91.0|19930101|  59043|USC00160205|PRCP|    0|\n",
            "|    31.0|    -91.0|19930101|  59043|USC00160205|SNOW|    0|\n",
            "|    31.0|    -91.0|19930101|  59043|USC00160205|SNWD|    0|\n",
            "|    35.0|    -81.0|19930101| 744007|USC00383216|PRCP|    0|\n",
            "|    35.0|    -81.0|19930101| 744007|USC00383216|SNOW|    0|\n",
            "|    35.0|    -81.0|19930101| 744007|USC00383216|SNWD|    0|\n",
            "|    35.0|    -80.0|19930101| 740924|USC00310090|TMAX|  167|\n",
            "|    35.0|    -80.0|19930101| 740924|USC00310090|TMIN|   39|\n",
            "+--------+---------+--------+-------+-----------+----+-----+\n",
            "only showing top 20 rows\n",
            "\n"
          ],
          "name": "stdout"
        }
      ]
    },
    {
      "cell_type": "code",
      "metadata": {
        "id": "MX75Xve8PVOD",
        "colab_type": "code",
        "colab": {
          "base_uri": "https://localhost:8080/",
          "height": 68
        },
        "outputId": "2d303d53-7fad-43c2-b204-b505374ce4bd"
      },
      "source": [
        "fire.FIRE_YEAR.unique()"
      ],
      "execution_count": 159,
      "outputs": [
        {
          "output_type": "execute_result",
          "data": {
            "text/plain": [
              "array([2005, 2004, 2006, 2008, 2002, 2007, 2009, 2001, 2003, 1992, 1993,\n",
              "       1994, 1995, 1996, 1997, 1998, 1999, 2000, 2010, 2011, 2012, 2013,\n",
              "       2014, 2015])"
            ]
          },
          "metadata": {
            "tags": []
          },
          "execution_count": 159
        }
      ]
    },
    {
      "cell_type": "code",
      "metadata": {
        "id": "2QHNh1uzPzbH",
        "colab_type": "code",
        "colab": {}
      },
      "source": [
        ""
      ],
      "execution_count": 0,
      "outputs": []
    }
  ]
}