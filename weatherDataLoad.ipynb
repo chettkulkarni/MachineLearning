{
  "nbformat": 4,
  "nbformat_minor": 0,
  "metadata": {
    "colab": {
      "name": "weatherDataLoad.ipynb",
      "provenance": [],
      "collapsed_sections": [],
      "authorship_tag": "ABX9TyPEVuYOINbsDYyBZZU6qNMF",
      "include_colab_link": true
    },
    "kernelspec": {
      "name": "python3",
      "display_name": "Python 3"
    },
    "accelerator": "GPU"
  },
  "cells": [
    {
      "cell_type": "markdown",
      "metadata": {
        "id": "view-in-github",
        "colab_type": "text"
      },
      "source": [
        "<a href=\"https://colab.research.google.com/github/chettkulkarni/MachineLearning/blob/master/weatherDataLoad.ipynb\" target=\"_parent\"><img src=\"https://colab.research.google.com/assets/colab-badge.svg\" alt=\"Open In Colab\"/></a>"
      ]
    },
    {
      "cell_type": "code",
      "metadata": {
        "id": "5rKto2fZygxi",
        "colab_type": "code",
        "colab": {}
      },
      "source": [
        "import requests\n",
        "import pandas as pd"
      ],
      "execution_count": 0,
      "outputs": []
    },
    {
      "cell_type": "code",
      "metadata": {
        "id": "xATI2IWZBusG",
        "colab_type": "code",
        "colab": {
          "base_uri": "https://localhost:8080/",
          "height": 34
        },
        "outputId": "13a358b5-84eb-41d8-89b3-2dd8d689a0a2"
      },
      "source": [
        "!pip install -U -q PyDrive\n",
        "from pydrive.auth import GoogleAuth\n",
        "from pydrive.drive import GoogleDrive\n",
        "from google.colab import auth\n",
        "from oauth2client.client import GoogleCredentials\n",
        "# Authenticate and create the PyDrive client.\n",
        "auth.authenticate_user()\n",
        "gauth = GoogleAuth()\n",
        "gauth.credentials = GoogleCredentials.get_application_default()\n",
        "drive = GoogleDrive(gauth)\n",
        "\n",
        "link = 'https://drive.google.com/open?id=1ApRYxyMqnFKH8XW1GbQ-KZNJdbdeEdV9'\n",
        "fluff, id = link.split('=')\n",
        "print (id) # Verify that you have everything after '='\n",
        "\n",
        "\n",
        "downloaded = drive.CreateFile({'id':id}) \n",
        "downloaded.GetContentFile('Fire.csv')"
      ],
      "execution_count": 2,
      "outputs": [
        {
          "output_type": "stream",
          "text": [
            "1ApRYxyMqnFKH8XW1GbQ-KZNJdbdeEdV9\n"
          ],
          "name": "stdout"
        }
      ]
    },
    {
      "cell_type": "code",
      "metadata": {
        "id": "NkXU3oSbyhU7",
        "colab_type": "code",
        "colab": {}
      },
      "source": [
        "#Api to fetch the records\n",
        "\n",
        "# response = requests.get(\"https://www.ncdc.noaa.gov/cdo-web/api/v2/data?datasetid=GHCND&startdate=2017-01-01&enddate=2017-01-31&locationid=FIPS:23&format=csv\", headers={'token': 'RGFmBkMzqCUgFXbiQWeqalQIAAoBMhTQ'})\n",
        "# response = requests.get(\"https://www.ncdc.noaa.gov/cdo-web/api/v2/locationcategories\", headers={'token': 'RGFmBkMzqCUgFXbiQWeqalQIAAoBMhTQ'})\n",
        "\n",
        "# response.content"
      ],
      "execution_count": 0,
      "outputs": []
    },
    {
      "cell_type": "code",
      "metadata": {
        "id": "knvhGVhVy2gl",
        "colab_type": "code",
        "colab": {}
      },
      "source": [
        "# responseObject=response.json()"
      ],
      "execution_count": 0,
      "outputs": []
    },
    {
      "cell_type": "code",
      "metadata": {
        "id": "caEBPfqNufQd",
        "colab_type": "code",
        "colab": {}
      },
      "source": [
        "# df=pd.DataFrame.from_dict(responseObject['results'])"
      ],
      "execution_count": 0,
      "outputs": []
    },
    {
      "cell_type": "code",
      "metadata": {
        "id": "wB6JTIqH2rCo",
        "colab_type": "code",
        "outputId": "d04d5173-1701-4855-ea61-6a5e80716801",
        "colab": {
          "base_uri": "https://localhost:8080/",
          "height": 306
        }
      },
      "source": [
        "# df\n",
        "files = [str(x)+'.csv.gz' for x in range(1993,2010)]\n",
        "files"
      ],
      "execution_count": 2,
      "outputs": [
        {
          "output_type": "execute_result",
          "data": {
            "text/plain": [
              "['1993.csv.gz',\n",
              " '1994.csv.gz',\n",
              " '1995.csv.gz',\n",
              " '1996.csv.gz',\n",
              " '1997.csv.gz',\n",
              " '1998.csv.gz',\n",
              " '1999.csv.gz',\n",
              " '2000.csv.gz',\n",
              " '2001.csv.gz',\n",
              " '2002.csv.gz',\n",
              " '2003.csv.gz',\n",
              " '2004.csv.gz',\n",
              " '2005.csv.gz',\n",
              " '2006.csv.gz',\n",
              " '2007.csv.gz',\n",
              " '2008.csv.gz',\n",
              " '2009.csv.gz']"
            ]
          },
          "metadata": {
            "tags": []
          },
          "execution_count": 2
        }
      ]
    },
    {
      "cell_type": "code",
      "metadata": {
        "id": "1q2_371rJ8Oa",
        "colab_type": "code",
        "outputId": "a1b38a14-f97a-4d83-c988-3b1064328e9a",
        "colab": {
          "base_uri": "https://localhost:8080/",
          "height": 323
        }
      },
      "source": [
        "#fetching data from ftp server for years from 1993 to 2000\n",
        "\n",
        "from ftplib import FTP\n",
        "from datetime import datetime\n",
        "\n",
        "start = datetime.now()\n",
        "ftp = FTP('ftp.ncdc.noaa.gov')\n",
        "ftp.login()\n",
        "ftp.cwd(\"pub/data/ghcn/daily/by_year/\")\n",
        "\n",
        "\n",
        "# Get All Files\n",
        "files = [str(x)+'.csv.gz' for x in range(1993,2010)]\n",
        "\n",
        "# Print out the files\n",
        "for file in files:\n",
        "\tprint(\"Downloading...\" + file)\n",
        "\tftp.retrbinary(\"RETR \" + file ,open(file, 'wb').write)\n",
        "\n",
        "ftp.close()\n",
        "\n",
        "end = datetime.now()\n",
        "diff = end - start\n",
        "print('All files downloaded for ' + str(diff.seconds) + 's')"
      ],
      "execution_count": 161,
      "outputs": [
        {
          "output_type": "stream",
          "text": [
            "Downloading...1993.csv.gz\n",
            "Downloading...1994.csv.gz\n",
            "Downloading...1995.csv.gz\n",
            "Downloading...1996.csv.gz\n",
            "Downloading...1997.csv.gz\n",
            "Downloading...1998.csv.gz\n",
            "Downloading...1999.csv.gz\n",
            "Downloading...2000.csv.gz\n",
            "Downloading...2001.csv.gz\n",
            "Downloading...2002.csv.gz\n",
            "Downloading...2003.csv.gz\n",
            "Downloading...2004.csv.gz\n",
            "Downloading...2005.csv.gz\n",
            "Downloading...2006.csv.gz\n",
            "Downloading...2007.csv.gz\n",
            "Downloading...2008.csv.gz\n",
            "Downloading...2009.csv.gz\n",
            "All files downloaded for 522s\n"
          ],
          "name": "stdout"
        }
      ]
    },
    {
      "cell_type": "code",
      "metadata": {
        "id": "17W4CiaOK2AI",
        "colab_type": "code",
        "colab": {}
      },
      "source": [
        "# df = pd.read_csv('1987.csv.gz', compression='gzip', header=0, sep=',', quotechar='\"', error_bad_lines=False)"
      ],
      "execution_count": 0,
      "outputs": []
    },
    {
      "cell_type": "code",
      "metadata": {
        "id": "6QLQrpGhYs5j",
        "colab_type": "code",
        "colab": {}
      },
      "source": [
        "# df"
      ],
      "execution_count": 0,
      "outputs": []
    },
    {
      "cell_type": "code",
      "metadata": {
        "id": "oVblE0-q3ANs",
        "colab_type": "code",
        "colab": {}
      },
      "source": [
        "#getting ready with sparkx instance"
      ],
      "execution_count": 0,
      "outputs": []
    },
    {
      "cell_type": "code",
      "metadata": {
        "id": "drRvwh6NYtzh",
        "colab_type": "code",
        "colab": {}
      },
      "source": [
        "!apt-get install openjdk-8-jdk-headless -qq > /dev/null\n",
        "!wget -q https://www-us.apache.org/dist/spark/spark-2.4.5/spark-2.4.5-bin-hadoop2.7.tgz\n",
        "!tar xf spark-2.4.5-bin-hadoop2.7.tgz\n",
        "!pip install -q findspark"
      ],
      "execution_count": 0,
      "outputs": []
    },
    {
      "cell_type": "code",
      "metadata": {
        "id": "941dXJgKcIos",
        "colab_type": "code",
        "colab": {
          "base_uri": "https://localhost:8080/",
          "height": 51
        },
        "outputId": "4168bb8f-17ad-4898-94ee-949b8f15205c"
      },
      "source": [
        "!pip install pyspark\n",
        "import pyspark\n",
        "from pyspark import SparkContext\n",
        "from pyspark.sql import SQLContext\n",
        "from pyspark import SparkFiles\n",
        "import pyspark.sql.functions as func"
      ],
      "execution_count": 3,
      "outputs": [
        {
          "output_type": "stream",
          "text": [
            "Requirement already satisfied: pyspark in /usr/local/lib/python3.6/dist-packages (2.4.5)\n",
            "Requirement already satisfied: py4j==0.10.7 in /usr/local/lib/python3.6/dist-packages (from pyspark) (0.10.7)\n"
          ],
          "name": "stdout"
        }
      ]
    },
    {
      "cell_type": "code",
      "metadata": {
        "id": "vF8vg5-GbEIq",
        "colab_type": "code",
        "colab": {}
      },
      "source": [
        "import os\n",
        "os.environ[\"JAVA_HOME\"] = \"/usr/lib/jvm/java-8-openjdk-amd64\"\n",
        "os.environ[\"SPARK_HOME\"] = \"/content/spark-2.4.5-bin-hadoop2.7\""
      ],
      "execution_count": 0,
      "outputs": []
    },
    {
      "cell_type": "code",
      "metadata": {
        "id": "q52KGCGU3FOJ",
        "colab_type": "code",
        "colab": {}
      },
      "source": [
        "#generating spark contect and sessions to consume our datasets"
      ],
      "execution_count": 0,
      "outputs": []
    },
    {
      "cell_type": "code",
      "metadata": {
        "id": "_DWRv7jMfp4s",
        "colab_type": "code",
        "colab": {}
      },
      "source": [
        "from pyspark.sql import SparkSession\n",
        "spark = SparkSession \\\n",
        "        .builder \\\n",
        "        .appName(\"gfcj\") \\\n",
        "        .getOrCreate()"
      ],
      "execution_count": 0,
      "outputs": []
    },
    {
      "cell_type": "code",
      "metadata": {
        "id": "o6cA_1853MOD",
        "colab_type": "code",
        "colab": {}
      },
      "source": [
        "#adding all the files to spark context to spread them into rdd and perform faster exexution on huge dataset"
      ],
      "execution_count": 0,
      "outputs": []
    },
    {
      "cell_type": "code",
      "metadata": {
        "id": "c2abOIlAbikp",
        "colab_type": "code",
        "colab": {}
      },
      "source": [
        "sc =SparkContext.getOrCreate()\n",
        "\n",
        "for file in files:\n",
        "  sc.addFile(file)"
      ],
      "execution_count": 0,
      "outputs": []
    },
    {
      "cell_type": "code",
      "metadata": {
        "id": "AzXpcXHhbBcG",
        "colab_type": "code",
        "colab": {}
      },
      "source": [
        "sqlContext = SQLContext(sc)\n",
        "sqlContext\n",
        "# df = sqlContext.read.csv(SparkFiles.get(files), header=True, inferSchema= True)\n",
        "# df.printSchema()\n",
        "\n",
        "spark.read.format(\"csv\").option(\"header\", \"true\").load(\"*.csv.gz\")\n",
        "df=spark.read.option(\"header\", \"false\").csv(\"*.csv.gz\")"
      ],
      "execution_count": 0,
      "outputs": []
    },
    {
      "cell_type": "code",
      "metadata": {
        "id": "972gSaH7bUgc",
        "colab_type": "code",
        "colab": {
          "base_uri": "https://localhost:8080/",
          "height": 187
        },
        "outputId": "6f641d6d-cc3e-4743-b979-a04ef04162fa"
      },
      "source": [
        "df.printSchema()"
      ],
      "execution_count": 8,
      "outputs": [
        {
          "output_type": "stream",
          "text": [
            "root\n",
            " |-- _c0: string (nullable = true)\n",
            " |-- _c1: string (nullable = true)\n",
            " |-- _c2: string (nullable = true)\n",
            " |-- _c3: string (nullable = true)\n",
            " |-- _c4: string (nullable = true)\n",
            " |-- _c5: string (nullable = true)\n",
            " |-- _c6: string (nullable = true)\n",
            " |-- _c7: string (nullable = true)\n",
            "\n"
          ],
          "name": "stdout"
        }
      ]
    },
    {
      "cell_type": "code",
      "metadata": {
        "id": "4KssyH6nhRUY",
        "colab_type": "code",
        "colab": {
          "base_uri": "https://localhost:8080/",
          "height": 204
        },
        "outputId": "1e2e3714-920a-4971-fbb6-db0fdbce3545"
      },
      "source": [
        "df.show(5)"
      ],
      "execution_count": 9,
      "outputs": [
        {
          "output_type": "stream",
          "text": [
            "+-----------+--------+----+----+----+----+---+----+\n",
            "|        _c0|     _c1| _c2| _c3| _c4| _c5|_c6| _c7|\n",
            "+-----------+--------+----+----+----+----+---+----+\n",
            "|US1FLSL0019|20090101|PRCP|   0|null|null|  N|null|\n",
            "|US1FLSL0019|20090101|SNOW|   0|null|null|  N|null|\n",
            "|ASN00037003|20090101|PRCP| 150|null|null|  a|null|\n",
            "|USC00178998|20090101|TMAX|-111|null|null|  0|1800|\n",
            "|USC00178998|20090101|TMIN|-183|null|null|  0|1800|\n",
            "+-----------+--------+----+----+----+----+---+----+\n",
            "only showing top 5 rows\n",
            "\n"
          ],
          "name": "stdout"
        }
      ]
    },
    {
      "cell_type": "code",
      "metadata": {
        "id": "A12tIlfLhszO",
        "colab_type": "code",
        "colab": {}
      },
      "source": [
        "sc.addFile('ghcnd-stations.csv')"
      ],
      "execution_count": 0,
      "outputs": []
    },
    {
      "cell_type": "code",
      "metadata": {
        "id": "Dm6K46Z0xwSG",
        "colab_type": "code",
        "colab": {}
      },
      "source": [
        "df2=spark.read.option(\"header\", \"true\").csv('ghcnd-stations.csv')"
      ],
      "execution_count": 0,
      "outputs": []
    },
    {
      "cell_type": "code",
      "metadata": {
        "id": "OQFENBQDx-lC",
        "colab_type": "code",
        "colab": {
          "base_uri": "https://localhost:8080/",
          "height": 34
        },
        "outputId": "a7080261-e0b3-48eb-9ac0-47bd4ee7dcb3"
      },
      "source": [
        "df2"
      ],
      "execution_count": 12,
      "outputs": [
        {
          "output_type": "execute_result",
          "data": {
            "text/plain": [
              "DataFrame[id: string, lat: string, long: string, _c3: string, _c4: string, _c5: string]"
            ]
          },
          "metadata": {
            "tags": []
          },
          "execution_count": 12
        }
      ]
    },
    {
      "cell_type": "code",
      "metadata": {
        "id": "XAafATiYx_KP",
        "colab_type": "code",
        "colab": {
          "base_uri": "https://localhost:8080/",
          "height": 204
        },
        "outputId": "d082cc20-79c5-443c-ac7a-23aeb27f321e"
      },
      "source": [
        "df.show(5)"
      ],
      "execution_count": 13,
      "outputs": [
        {
          "output_type": "stream",
          "text": [
            "+-----------+--------+----+----+----+----+---+----+\n",
            "|        _c0|     _c1| _c2| _c3| _c4| _c5|_c6| _c7|\n",
            "+-----------+--------+----+----+----+----+---+----+\n",
            "|US1FLSL0019|20090101|PRCP|   0|null|null|  N|null|\n",
            "|US1FLSL0019|20090101|SNOW|   0|null|null|  N|null|\n",
            "|ASN00037003|20090101|PRCP| 150|null|null|  a|null|\n",
            "|USC00178998|20090101|TMAX|-111|null|null|  0|1800|\n",
            "|USC00178998|20090101|TMIN|-183|null|null|  0|1800|\n",
            "+-----------+--------+----+----+----+----+---+----+\n",
            "only showing top 5 rows\n",
            "\n"
          ],
          "name": "stdout"
        }
      ]
    },
    {
      "cell_type": "code",
      "metadata": {
        "id": "t-fqNpPAyFOC",
        "colab_type": "code",
        "colab": {
          "base_uri": "https://localhost:8080/",
          "height": 204
        },
        "outputId": "eff2a8e7-e303-4294-93d4-dea4aeee67a3"
      },
      "source": [
        "df2.show(5)"
      ],
      "execution_count": 14,
      "outputs": [
        {
          "output_type": "stream",
          "text": [
            "+-----------+-------+--------+----+----+----+\n",
            "|         id|    lat|    long| _c3| _c4| _c5|\n",
            "+-----------+-------+--------+----+----+----+\n",
            "|ACW00011604|17.1167|-61.7833|null|null|null|\n",
            "|ACW00011647|17.1333|-61.7833|null|null|null|\n",
            "|AE000041196| 25.333|  55.517|null|null|null|\n",
            "|AEM00041194| 25.255|  55.364|null|null|null|\n",
            "|AEM00041217| 24.433|  54.651|null|null|null|\n",
            "+-----------+-------+--------+----+----+----+\n",
            "only showing top 5 rows\n",
            "\n"
          ],
          "name": "stdout"
        }
      ]
    },
    {
      "cell_type": "code",
      "metadata": {
        "id": "rjCNW15fyvdH",
        "colab_type": "code",
        "colab": {}
      },
      "source": [
        "data=df.selectExpr('_c0 as id','_c1 as date','_c2 as type','_c3 as value')"
      ],
      "execution_count": 0,
      "outputs": []
    },
    {
      "cell_type": "code",
      "metadata": {
        "id": "VzhUCvkT0kUS",
        "colab_type": "code",
        "colab": {
          "base_uri": "https://localhost:8080/",
          "height": 459
        },
        "outputId": "341d9738-36d3-43f6-a1c6-0842df18ad66"
      },
      "source": [
        "data.show()"
      ],
      "execution_count": 16,
      "outputs": [
        {
          "output_type": "stream",
          "text": [
            "+-----------+--------+----+-----+\n",
            "|         id|    date|type|value|\n",
            "+-----------+--------+----+-----+\n",
            "|US1FLSL0019|20090101|PRCP|    0|\n",
            "|US1FLSL0019|20090101|SNOW|    0|\n",
            "|ASN00037003|20090101|PRCP|  150|\n",
            "|USC00178998|20090101|TMAX| -111|\n",
            "|USC00178998|20090101|TMIN| -183|\n",
            "|USC00178998|20090101|TOBS| -139|\n",
            "|USC00178998|20090101|PRCP|    0|\n",
            "|USC00178998|20090101|SNOW|    0|\n",
            "|USC00178998|20090101|SNWD|    0|\n",
            "|USC00242347|20090101|TMAX|  -17|\n",
            "|USC00242347|20090101|TMIN|  -72|\n",
            "|USC00242347|20090101|TOBS|  -44|\n",
            "|USC00242347|20090101|PRCP|   23|\n",
            "|USC00242347|20090101|SNOW|   38|\n",
            "|NOE00133566|20090101|TMAX|   12|\n",
            "|NOE00133566|20090101|TMIN|  -37|\n",
            "|NOE00133566|20090101|PRCP|   80|\n",
            "|NOE00133566|20090101|SNWD|   30|\n",
            "|US1SCPC0003|20090101|PRCP|    0|\n",
            "|US1SCPC0003|20090101|SNOW|    0|\n",
            "+-----------+--------+----+-----+\n",
            "only showing top 20 rows\n",
            "\n"
          ],
          "name": "stdout"
        }
      ]
    },
    {
      "cell_type": "code",
      "metadata": {
        "id": "n2naBB3M7nA2",
        "colab_type": "code",
        "colab": {
          "base_uri": "https://localhost:8080/",
          "height": 153
        },
        "outputId": "664d7d17-0e33-4d82-ac8d-bd6d0a553c48"
      },
      "source": [
        "df2.show(2)"
      ],
      "execution_count": 17,
      "outputs": [
        {
          "output_type": "stream",
          "text": [
            "+-----------+-------+--------+----+----+----+\n",
            "|         id|    lat|    long| _c3| _c4| _c5|\n",
            "+-----------+-------+--------+----+----+----+\n",
            "|ACW00011604|17.1167|-61.7833|null|null|null|\n",
            "|ACW00011647|17.1333|-61.7833|null|null|null|\n",
            "+-----------+-------+--------+----+----+----+\n",
            "only showing top 2 rows\n",
            "\n"
          ],
          "name": "stdout"
        }
      ]
    },
    {
      "cell_type": "code",
      "metadata": {
        "id": "0OuauQzi0oGK",
        "colab_type": "code",
        "colab": {}
      },
      "source": [
        "final_df = data.join(df2, on=['id'], how='inner')"
      ],
      "execution_count": 0,
      "outputs": []
    },
    {
      "cell_type": "code",
      "metadata": {
        "id": "IQ1EFTzM06I8",
        "colab_type": "code",
        "colab": {}
      },
      "source": [
        "final_df=final_df.selectExpr('id','lat as LATITUDE','long as LONGITUDE','date','type','value')"
      ],
      "execution_count": 0,
      "outputs": []
    },
    {
      "cell_type": "code",
      "metadata": {
        "id": "v_Cn4KLt07DQ",
        "colab_type": "code",
        "colab": {}
      },
      "source": [
        "final_df.registerTempTable(\"temperature\")"
      ],
      "execution_count": 0,
      "outputs": []
    },
    {
      "cell_type": "code",
      "metadata": {
        "id": "eqEBopUL5fVT",
        "colab_type": "code",
        "colab": {}
      },
      "source": [
        "# def spark_shape(self):\n",
        "#     return (self.count(), len(self.columns))\n",
        "# pyspark.sql.dataframe.DataFrame.shape = spark_shape"
      ],
      "execution_count": 0,
      "outputs": []
    },
    {
      "cell_type": "code",
      "metadata": {
        "id": "cjCvhdry6uWz",
        "colab_type": "code",
        "colab": {}
      },
      "source": [
        "# final_df.shape()"
      ],
      "execution_count": 0,
      "outputs": []
    },
    {
      "cell_type": "code",
      "metadata": {
        "id": "N_WR4SB76zDa",
        "colab_type": "code",
        "colab": {}
      },
      "source": [
        "# df.shape()"
      ],
      "execution_count": 0,
      "outputs": []
    },
    {
      "cell_type": "code",
      "metadata": {
        "id": "ly_7AToc674d",
        "colab_type": "code",
        "colab": {
          "base_uri": "https://localhost:8080/",
          "height": 71
        },
        "outputId": "8cb11b78-3060-4d79-abfb-8c90495181f1"
      },
      "source": [
        "fire=pd.read_csv('Fire.csv')"
      ],
      "execution_count": 177,
      "outputs": [
        {
          "output_type": "stream",
          "text": [
            "/usr/local/lib/python3.6/dist-packages/IPython/core/interactiveshell.py:2718: DtypeWarning: Columns (9,11,12,13,14,15,16,17,18,19,36,38) have mixed types. Specify dtype option on import or set low_memory=False.\n",
            "  interactivity=interactivity, compiler=compiler, result=result)\n"
          ],
          "name": "stderr"
        }
      ]
    },
    {
      "cell_type": "code",
      "metadata": {
        "id": "Km5GkQxI-ClH",
        "colab_type": "code",
        "colab": {}
      },
      "source": [
        "df=fire\n",
        "\n",
        "df['disc_clean_date'] = pd.to_datetime(df['DISCOVERY_DATE'] - pd.Timestamp(0).to_julian_date(), unit='D')\n",
        "#Convert containment date from julian to standard date\n",
        "df['cont_clean_date'] = pd.to_datetime(df['CONT_DATE'] - pd.Timestamp(0).to_julian_date(), unit='D')\n",
        "#Day of month string\n",
        "df['discovery_month'] = df['disc_clean_date'].dt.strftime('%b')\n",
        "#Returns the weekday string\n",
        "df['discovery_weekday'] = df['disc_clean_date'].dt.strftime('%a')\n",
        "#Merge discovery date and time \n"
      ],
      "execution_count": 0,
      "outputs": []
    },
    {
      "cell_type": "code",
      "metadata": {
        "id": "0AzefXQ4_vHB",
        "colab_type": "code",
        "colab": {
          "base_uri": "https://localhost:8080/",
          "height": 323
        },
        "outputId": "d72ea49e-5b0c-47a9-eab1-9b9900c7b839"
      },
      "source": [
        "fire_filter=[1993,1994,1995,1996,1997,1998,1999,2000,2001,2002,2003,2004,2005,2006,2007,2008,2009,2010]\n",
        "df_1993=df[df.FIRE_YEAR.isin(fire_filter)]\n",
        "\n",
        "fire_filter"
      ],
      "execution_count": 179,
      "outputs": [
        {
          "output_type": "execute_result",
          "data": {
            "text/plain": [
              "[1993,\n",
              " 1994,\n",
              " 1995,\n",
              " 1996,\n",
              " 1997,\n",
              " 1998,\n",
              " 1999,\n",
              " 2000,\n",
              " 2001,\n",
              " 2002,\n",
              " 2003,\n",
              " 2004,\n",
              " 2005,\n",
              " 2006,\n",
              " 2007,\n",
              " 2008,\n",
              " 2009,\n",
              " 2010]"
            ]
          },
          "metadata": {
            "tags": []
          },
          "execution_count": 179
        }
      ]
    },
    {
      "cell_type": "code",
      "metadata": {
        "id": "nCnukLmPAJHj",
        "colab_type": "code",
        "colab": {}
      },
      "source": [
        "df_1993=df_1993[['LATITUDE','LONGITUDE','cont_clean_date']]"
      ],
      "execution_count": 0,
      "outputs": []
    },
    {
      "cell_type": "code",
      "metadata": {
        "id": "Vh5vVuY4F9VE",
        "colab_type": "code",
        "colab": {}
      },
      "source": [
        "df_1993=df_1993.round()"
      ],
      "execution_count": 0,
      "outputs": []
    },
    {
      "cell_type": "code",
      "metadata": {
        "id": "wajTnl00HPsC",
        "colab_type": "code",
        "colab": {}
      },
      "source": [
        "df_1993=df_1993.dropna()"
      ],
      "execution_count": 0,
      "outputs": []
    },
    {
      "cell_type": "code",
      "metadata": {
        "id": "KzWcbC4WHUk3",
        "colab_type": "code",
        "colab": {
          "base_uri": "https://localhost:8080/",
          "height": 419
        },
        "outputId": "a8eae489-9510-466f-bd51-54c88cb3594e"
      },
      "source": [
        "df_1993"
      ],
      "execution_count": 183,
      "outputs": [
        {
          "output_type": "execute_result",
          "data": {
            "text/html": [
              "<div>\n",
              "<style scoped>\n",
              "    .dataframe tbody tr th:only-of-type {\n",
              "        vertical-align: middle;\n",
              "    }\n",
              "\n",
              "    .dataframe tbody tr th {\n",
              "        vertical-align: top;\n",
              "    }\n",
              "\n",
              "    .dataframe thead th {\n",
              "        text-align: right;\n",
              "    }\n",
              "</style>\n",
              "<table border=\"1\" class=\"dataframe\">\n",
              "  <thead>\n",
              "    <tr style=\"text-align: right;\">\n",
              "      <th></th>\n",
              "      <th>LATITUDE</th>\n",
              "      <th>LONGITUDE</th>\n",
              "      <th>cont_clean_date</th>\n",
              "    </tr>\n",
              "  </thead>\n",
              "  <tbody>\n",
              "    <tr>\n",
              "      <th>0</th>\n",
              "      <td>40.0</td>\n",
              "      <td>-121.0</td>\n",
              "      <td>2005-02-02</td>\n",
              "    </tr>\n",
              "    <tr>\n",
              "      <th>1</th>\n",
              "      <td>39.0</td>\n",
              "      <td>-120.0</td>\n",
              "      <td>2004-05-12</td>\n",
              "    </tr>\n",
              "    <tr>\n",
              "      <th>2</th>\n",
              "      <td>39.0</td>\n",
              "      <td>-121.0</td>\n",
              "      <td>2004-05-31</td>\n",
              "    </tr>\n",
              "    <tr>\n",
              "      <th>3</th>\n",
              "      <td>39.0</td>\n",
              "      <td>-120.0</td>\n",
              "      <td>2004-07-03</td>\n",
              "    </tr>\n",
              "    <tr>\n",
              "      <th>4</th>\n",
              "      <td>39.0</td>\n",
              "      <td>-120.0</td>\n",
              "      <td>2004-07-03</td>\n",
              "    </tr>\n",
              "    <tr>\n",
              "      <th>...</th>\n",
              "      <td>...</td>\n",
              "      <td>...</td>\n",
              "      <td>...</td>\n",
              "    </tr>\n",
              "    <tr>\n",
              "      <th>1880399</th>\n",
              "      <td>34.0</td>\n",
              "      <td>-117.0</td>\n",
              "      <td>2009-05-03</td>\n",
              "    </tr>\n",
              "    <tr>\n",
              "      <th>1880409</th>\n",
              "      <td>39.0</td>\n",
              "      <td>-121.0</td>\n",
              "      <td>2009-08-19</td>\n",
              "    </tr>\n",
              "    <tr>\n",
              "      <th>1880411</th>\n",
              "      <td>36.0</td>\n",
              "      <td>-119.0</td>\n",
              "      <td>2009-06-19</td>\n",
              "    </tr>\n",
              "    <tr>\n",
              "      <th>1880417</th>\n",
              "      <td>38.0</td>\n",
              "      <td>-120.0</td>\n",
              "      <td>2010-09-15</td>\n",
              "    </tr>\n",
              "    <tr>\n",
              "      <th>1880420</th>\n",
              "      <td>41.0</td>\n",
              "      <td>-124.0</td>\n",
              "      <td>2010-08-01</td>\n",
              "    </tr>\n",
              "  </tbody>\n",
              "</table>\n",
              "<p>662471 rows × 3 columns</p>\n",
              "</div>"
            ],
            "text/plain": [
              "         LATITUDE  LONGITUDE cont_clean_date\n",
              "0            40.0     -121.0      2005-02-02\n",
              "1            39.0     -120.0      2004-05-12\n",
              "2            39.0     -121.0      2004-05-31\n",
              "3            39.0     -120.0      2004-07-03\n",
              "4            39.0     -120.0      2004-07-03\n",
              "...           ...        ...             ...\n",
              "1880399      34.0     -117.0      2009-05-03\n",
              "1880409      39.0     -121.0      2009-08-19\n",
              "1880411      36.0     -119.0      2009-06-19\n",
              "1880417      38.0     -120.0      2010-09-15\n",
              "1880420      41.0     -124.0      2010-08-01\n",
              "\n",
              "[662471 rows x 3 columns]"
            ]
          },
          "metadata": {
            "tags": []
          },
          "execution_count": 183
        }
      ]
    },
    {
      "cell_type": "code",
      "metadata": {
        "id": "hLIfcAl-HZW1",
        "colab_type": "code",
        "colab": {}
      },
      "source": [
        "# type(df_1993['cont_clean_date'])"
      ],
      "execution_count": 0,
      "outputs": []
    },
    {
      "cell_type": "code",
      "metadata": {
        "id": "ss2S3ArYHvWo",
        "colab_type": "code",
        "colab": {}
      },
      "source": [
        "df_1993['cont_clean_date']=df_1993['cont_clean_date'].astype(str)"
      ],
      "execution_count": 0,
      "outputs": []
    },
    {
      "cell_type": "code",
      "metadata": {
        "id": "tCJQUj8mH_yw",
        "colab_type": "code",
        "colab": {}
      },
      "source": [
        "df_1993['date']=df_1993['cont_clean_date'].replace('-', '', regex=True).astype(int)"
      ],
      "execution_count": 0,
      "outputs": []
    },
    {
      "cell_type": "code",
      "metadata": {
        "id": "bFpmE9GtITRe",
        "colab_type": "code",
        "colab": {
          "base_uri": "https://localhost:8080/",
          "height": 419
        },
        "outputId": "fae15170-5243-41ed-8804-5d7eeeaca5a8"
      },
      "source": [
        "df_1993"
      ],
      "execution_count": 187,
      "outputs": [
        {
          "output_type": "execute_result",
          "data": {
            "text/html": [
              "<div>\n",
              "<style scoped>\n",
              "    .dataframe tbody tr th:only-of-type {\n",
              "        vertical-align: middle;\n",
              "    }\n",
              "\n",
              "    .dataframe tbody tr th {\n",
              "        vertical-align: top;\n",
              "    }\n",
              "\n",
              "    .dataframe thead th {\n",
              "        text-align: right;\n",
              "    }\n",
              "</style>\n",
              "<table border=\"1\" class=\"dataframe\">\n",
              "  <thead>\n",
              "    <tr style=\"text-align: right;\">\n",
              "      <th></th>\n",
              "      <th>LATITUDE</th>\n",
              "      <th>LONGITUDE</th>\n",
              "      <th>cont_clean_date</th>\n",
              "      <th>date</th>\n",
              "    </tr>\n",
              "  </thead>\n",
              "  <tbody>\n",
              "    <tr>\n",
              "      <th>0</th>\n",
              "      <td>40.0</td>\n",
              "      <td>-121.0</td>\n",
              "      <td>2005-02-02</td>\n",
              "      <td>20050202</td>\n",
              "    </tr>\n",
              "    <tr>\n",
              "      <th>1</th>\n",
              "      <td>39.0</td>\n",
              "      <td>-120.0</td>\n",
              "      <td>2004-05-12</td>\n",
              "      <td>20040512</td>\n",
              "    </tr>\n",
              "    <tr>\n",
              "      <th>2</th>\n",
              "      <td>39.0</td>\n",
              "      <td>-121.0</td>\n",
              "      <td>2004-05-31</td>\n",
              "      <td>20040531</td>\n",
              "    </tr>\n",
              "    <tr>\n",
              "      <th>3</th>\n",
              "      <td>39.0</td>\n",
              "      <td>-120.0</td>\n",
              "      <td>2004-07-03</td>\n",
              "      <td>20040703</td>\n",
              "    </tr>\n",
              "    <tr>\n",
              "      <th>4</th>\n",
              "      <td>39.0</td>\n",
              "      <td>-120.0</td>\n",
              "      <td>2004-07-03</td>\n",
              "      <td>20040703</td>\n",
              "    </tr>\n",
              "    <tr>\n",
              "      <th>...</th>\n",
              "      <td>...</td>\n",
              "      <td>...</td>\n",
              "      <td>...</td>\n",
              "      <td>...</td>\n",
              "    </tr>\n",
              "    <tr>\n",
              "      <th>1880399</th>\n",
              "      <td>34.0</td>\n",
              "      <td>-117.0</td>\n",
              "      <td>2009-05-03</td>\n",
              "      <td>20090503</td>\n",
              "    </tr>\n",
              "    <tr>\n",
              "      <th>1880409</th>\n",
              "      <td>39.0</td>\n",
              "      <td>-121.0</td>\n",
              "      <td>2009-08-19</td>\n",
              "      <td>20090819</td>\n",
              "    </tr>\n",
              "    <tr>\n",
              "      <th>1880411</th>\n",
              "      <td>36.0</td>\n",
              "      <td>-119.0</td>\n",
              "      <td>2009-06-19</td>\n",
              "      <td>20090619</td>\n",
              "    </tr>\n",
              "    <tr>\n",
              "      <th>1880417</th>\n",
              "      <td>38.0</td>\n",
              "      <td>-120.0</td>\n",
              "      <td>2010-09-15</td>\n",
              "      <td>20100915</td>\n",
              "    </tr>\n",
              "    <tr>\n",
              "      <th>1880420</th>\n",
              "      <td>41.0</td>\n",
              "      <td>-124.0</td>\n",
              "      <td>2010-08-01</td>\n",
              "      <td>20100801</td>\n",
              "    </tr>\n",
              "  </tbody>\n",
              "</table>\n",
              "<p>662471 rows × 4 columns</p>\n",
              "</div>"
            ],
            "text/plain": [
              "         LATITUDE  LONGITUDE cont_clean_date      date\n",
              "0            40.0     -121.0      2005-02-02  20050202\n",
              "1            39.0     -120.0      2004-05-12  20040512\n",
              "2            39.0     -121.0      2004-05-31  20040531\n",
              "3            39.0     -120.0      2004-07-03  20040703\n",
              "4            39.0     -120.0      2004-07-03  20040703\n",
              "...           ...        ...             ...       ...\n",
              "1880399      34.0     -117.0      2009-05-03  20090503\n",
              "1880409      39.0     -121.0      2009-08-19  20090819\n",
              "1880411      36.0     -119.0      2009-06-19  20090619\n",
              "1880417      38.0     -120.0      2010-09-15  20100915\n",
              "1880420      41.0     -124.0      2010-08-01  20100801\n",
              "\n",
              "[662471 rows x 4 columns]"
            ]
          },
          "metadata": {
            "tags": []
          },
          "execution_count": 187
        }
      ]
    },
    {
      "cell_type": "code",
      "metadata": {
        "id": "iDxAcUF-IWY3",
        "colab_type": "code",
        "colab": {}
      },
      "source": [
        "df_1993=df_1993[['LATITUDE','LONGITUDE','date']]"
      ],
      "execution_count": 0,
      "outputs": []
    },
    {
      "cell_type": "code",
      "metadata": {
        "id": "06xZFbskI9iu",
        "colab_type": "code",
        "colab": {}
      },
      "source": [
        "df_1993.to_csv(r'fire_1993.csv')"
      ],
      "execution_count": 0,
      "outputs": []
    },
    {
      "cell_type": "code",
      "metadata": {
        "id": "yPfPiI1qJFNj",
        "colab_type": "code",
        "colab": {}
      },
      "source": [
        "sc.addFile('fire_1993.csv')"
      ],
      "execution_count": 0,
      "outputs": []
    },
    {
      "cell_type": "code",
      "metadata": {
        "id": "Xvy1cNlpJM-8",
        "colab_type": "code",
        "colab": {}
      },
      "source": [
        "fire=spark.read.option(\"header\", \"true\").csv('fire_1993.csv')"
      ],
      "execution_count": 0,
      "outputs": []
    },
    {
      "cell_type": "code",
      "metadata": {
        "id": "rNl0sFtEJWGu",
        "colab_type": "code",
        "colab": {
          "base_uri": "https://localhost:8080/",
          "height": 204
        },
        "outputId": "639fa5de-bc69-4811-ef37-7a4911985303"
      },
      "source": [
        "fire.show(5)"
      ],
      "execution_count": 23,
      "outputs": [
        {
          "output_type": "stream",
          "text": [
            "+---+--------+---------+--------+\n",
            "|_c0|LATITUDE|LONGITUDE|    date|\n",
            "+---+--------+---------+--------+\n",
            "|  0|    40.0|   -121.0|20050202|\n",
            "|  1|    39.0|   -120.0|20040512|\n",
            "|  2|    39.0|   -121.0|20040531|\n",
            "|  3|    39.0|   -120.0|20040703|\n",
            "|  4|    39.0|   -120.0|20040703|\n",
            "+---+--------+---------+--------+\n",
            "only showing top 5 rows\n",
            "\n"
          ],
          "name": "stdout"
        }
      ]
    },
    {
      "cell_type": "code",
      "metadata": {
        "id": "-42ZT3dCKVv5",
        "colab_type": "code",
        "colab": {
          "base_uri": "https://localhost:8080/",
          "height": 459
        },
        "outputId": "2d4f8672-eaeb-45ca-af54-f8b4aaebdcdb"
      },
      "source": [
        "final_df.show()"
      ],
      "execution_count": 24,
      "outputs": [
        {
          "output_type": "stream",
          "text": [
            "+-----------+--------+---------+--------+----+-----+\n",
            "|         id|LATITUDE|LONGITUDE|    date|type|value|\n",
            "+-----------+--------+---------+--------+----+-----+\n",
            "|US1FLSL0019| 27.3237| -80.3111|20090101|PRCP|    0|\n",
            "|US1FLSL0019| 27.3237| -80.3111|20090101|SNOW|    0|\n",
            "|ASN00037003|-20.4661| 138.4683|20090101|PRCP|  150|\n",
            "|USC00178998| 44.6917| -68.3475|20090101|TMAX| -111|\n",
            "|USC00178998| 44.6917| -68.3475|20090101|TMIN| -183|\n",
            "|USC00178998| 44.6917| -68.3475|20090101|TOBS| -139|\n",
            "|USC00178998| 44.6917| -68.3475|20090101|PRCP|    0|\n",
            "|USC00178998| 44.6917| -68.3475|20090101|SNOW|    0|\n",
            "|USC00178998| 44.6917| -68.3475|20090101|SNWD|    0|\n",
            "|USC00242347| 47.3181|-109.9372|20090101|TMAX|  -17|\n",
            "|USC00242347| 47.3181|-109.9372|20090101|TMIN|  -72|\n",
            "|USC00242347| 47.3181|-109.9372|20090101|TOBS|  -44|\n",
            "|USC00242347| 47.3181|-109.9372|20090101|PRCP|   23|\n",
            "|USC00242347| 47.3181|-109.9372|20090101|SNOW|   38|\n",
            "|NOE00133566| 62.1031|   5.5817|20090101|TMAX|   12|\n",
            "|NOE00133566| 62.1031|   5.5817|20090101|TMIN|  -37|\n",
            "|NOE00133566| 62.1031|   5.5817|20090101|PRCP|   80|\n",
            "|NOE00133566| 62.1031|   5.5817|20090101|SNWD|   30|\n",
            "|US1SCPC0003| 34.7511| -82.6552|20090101|PRCP|    0|\n",
            "|US1SCPC0003| 34.7511| -82.6552|20090101|SNOW|    0|\n",
            "+-----------+--------+---------+--------+----+-----+\n",
            "only showing top 20 rows\n",
            "\n"
          ],
          "name": "stdout"
        }
      ]
    },
    {
      "cell_type": "code",
      "metadata": {
        "id": "A7Ou865uOkIn",
        "colab_type": "code",
        "colab": {}
      },
      "source": [
        "final_df=final_df.withColumn(\"LATITUDE\", func.round(final_df[\"LATITUDE\"]))\n",
        "final_df=final_df.withColumn(\"LONGITUDE\", func.round(final_df[\"LONGITUDE\"]))"
      ],
      "execution_count": 0,
      "outputs": []
    },
    {
      "cell_type": "code",
      "metadata": {
        "id": "msdKGkD5PBDh",
        "colab_type": "code",
        "colab": {
          "base_uri": "https://localhost:8080/",
          "height": 459
        },
        "outputId": "7504f18e-da0a-4ae9-fe91-a18f2158d59c"
      },
      "source": [
        "final_df.show()"
      ],
      "execution_count": 26,
      "outputs": [
        {
          "output_type": "stream",
          "text": [
            "+-----------+--------+---------+--------+----+-----+\n",
            "|         id|LATITUDE|LONGITUDE|    date|type|value|\n",
            "+-----------+--------+---------+--------+----+-----+\n",
            "|US1FLSL0019|    27.0|    -80.0|20090101|PRCP|    0|\n",
            "|US1FLSL0019|    27.0|    -80.0|20090101|SNOW|    0|\n",
            "|ASN00037003|   -20.0|    138.0|20090101|PRCP|  150|\n",
            "|USC00178998|    45.0|    -68.0|20090101|TMAX| -111|\n",
            "|USC00178998|    45.0|    -68.0|20090101|TMIN| -183|\n",
            "|USC00178998|    45.0|    -68.0|20090101|TOBS| -139|\n",
            "|USC00178998|    45.0|    -68.0|20090101|PRCP|    0|\n",
            "|USC00178998|    45.0|    -68.0|20090101|SNOW|    0|\n",
            "|USC00178998|    45.0|    -68.0|20090101|SNWD|    0|\n",
            "|USC00242347|    47.0|   -110.0|20090101|TMAX|  -17|\n",
            "|USC00242347|    47.0|   -110.0|20090101|TMIN|  -72|\n",
            "|USC00242347|    47.0|   -110.0|20090101|TOBS|  -44|\n",
            "|USC00242347|    47.0|   -110.0|20090101|PRCP|   23|\n",
            "|USC00242347|    47.0|   -110.0|20090101|SNOW|   38|\n",
            "|NOE00133566|    62.0|      6.0|20090101|TMAX|   12|\n",
            "|NOE00133566|    62.0|      6.0|20090101|TMIN|  -37|\n",
            "|NOE00133566|    62.0|      6.0|20090101|PRCP|   80|\n",
            "|NOE00133566|    62.0|      6.0|20090101|SNWD|   30|\n",
            "|US1SCPC0003|    35.0|    -83.0|20090101|PRCP|    0|\n",
            "|US1SCPC0003|    35.0|    -83.0|20090101|SNOW|    0|\n",
            "+-----------+--------+---------+--------+----+-----+\n",
            "only showing top 20 rows\n",
            "\n"
          ],
          "name": "stdout"
        }
      ]
    },
    {
      "cell_type": "code",
      "metadata": {
        "id": "smmN-2StJYGJ",
        "colab_type": "code",
        "colab": {}
      },
      "source": [
        "complete = fire.join(final_df, on=['LATITUDE','LONGITUDE','date'], how='inner')"
      ],
      "execution_count": 0,
      "outputs": []
    },
    {
      "cell_type": "code",
      "metadata": {
        "id": "QvGZLvj6PMtq",
        "colab_type": "code",
        "colab": {}
      },
      "source": [
        "complete.show(1)"
      ],
      "execution_count": 0,
      "outputs": []
    },
    {
      "cell_type": "code",
      "metadata": {
        "id": "2QHNh1uzPzbH",
        "colab_type": "code",
        "colab": {}
      },
      "source": [
        "complete"
      ],
      "execution_count": 0,
      "outputs": []
    }
  ]
}