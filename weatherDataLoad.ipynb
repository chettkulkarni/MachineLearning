{
  "nbformat": 4,
  "nbformat_minor": 0,
  "metadata": {
    "colab": {
      "name": "weatherDataLoad.ipynb",
      "provenance": [],
      "collapsed_sections": [],
      "include_colab_link": true
    },
    "kernelspec": {
      "name": "python3",
      "display_name": "Python 3"
    },
    "accelerator": "GPU"
  },
  "cells": [
    {
      "cell_type": "markdown",
      "metadata": {
        "id": "view-in-github",
        "colab_type": "text"
      },
      "source": [
        "<a href=\"https://colab.research.google.com/github/chettkulkarni/MachineLearning/blob/master/weatherDataLoad.ipynb\" target=\"_parent\"><img src=\"https://colab.research.google.com/assets/colab-badge.svg\" alt=\"Open In Colab\"/></a>"
      ]
    },
    {
      "cell_type": "code",
      "metadata": {
        "id": "5rKto2fZygxi",
        "colab_type": "code",
        "colab": {}
      },
      "source": [
        "import requests\n",
        "import pandas as pd"
      ],
      "execution_count": 0,
      "outputs": []
    },
    {
      "cell_type": "code",
      "metadata": {
        "id": "xATI2IWZBusG",
        "colab_type": "code",
        "outputId": "a6c6cbd9-2bc3-4775-c66c-0193db4ee345",
        "colab": {
          "base_uri": "https://localhost:8080/",
          "height": 33
        }
      },
      "source": [
        "!pip install -U -q PyDrive\n",
        "from pydrive.auth import GoogleAuth\n",
        "from pydrive.drive import GoogleDrive\n",
        "from google.colab import auth\n",
        "from oauth2client.client import GoogleCredentials\n",
        "# Authenticate and create the PyDrive client.\n",
        "auth.authenticate_user()\n",
        "gauth = GoogleAuth()\n",
        "gauth.credentials = GoogleCredentials.get_application_default()\n",
        "drive = GoogleDrive(gauth)\n",
        "\n",
        "link = 'https://drive.google.com/open?id=1ApRYxyMqnFKH8XW1GbQ-KZNJdbdeEdV9'\n",
        "fluff, id = link.split('=')\n",
        "print (id) # Verify that you have everything after '='\n",
        "\n",
        "\n",
        "downloaded = drive.CreateFile({'id':id}) \n",
        "downloaded.GetContentFile('Fire.csv')\n",
        "\n",
        "# https://drive.google.com/file/d/1A7RNorqSglE-G8j5BacVsGYmE6eR4cwx/view?usp=sharing\n",
        "1HuFa4lq8WF2L24P5T1mLkpOpYEnVtP2W\n",
        "1ApRYxyMqnFKH8XW1GbQ"
      ],
      "execution_count": 0,
      "outputs": [
        {
          "output_type": "stream",
          "text": [
            "1ApRYxyMqnFKH8XW1GbQ-KZNJdbdeEdV9\n"
          ],
          "name": "stdout"
        }
      ]
    },
    {
      "cell_type": "code",
      "metadata": {
        "id": "o5GMqO98l-nv",
        "colab_type": "code",
        "outputId": "47782393-c3c7-4325-9d2d-71aae301d3bb",
        "colab": {
          "base_uri": "https://localhost:8080/",
          "height": 33
        }
      },
      "source": [
        "!pip install -U -q PyDrive\n",
        "from pydrive.auth import GoogleAuth\n",
        "from pydrive.drive import GoogleDrive\n",
        "from google.colab import auth\n",
        "from oauth2client.client import GoogleCredentials\n",
        "# Authenticate and create the PyDrive client.\n",
        "auth.authenticate_user()\n",
        "gauth = GoogleAuth()\n",
        "gauth.credentials = GoogleCredentials.get_application_default()\n",
        "drive = GoogleDrive(gauth)\n",
        "\n",
        "link = 'https://drive.google.com/open?id=1A7RNorqSglE-G8j5BacVsGYmE6eR4cwx'\n",
        "fluff, id = link.split('=')\n",
        "print (id) # Verify that you have everything after '='\n",
        "\n",
        "\n",
        "downloaded = drive.CreateFile({'id':id}) \n",
        "downloaded.GetContentFile('ghcnd-stations.csv')"
      ],
      "execution_count": 0,
      "outputs": [
        {
          "output_type": "stream",
          "text": [
            "1A7RNorqSglE-G8j5BacVsGYmE6eR4cwx\n"
          ],
          "name": "stdout"
        }
      ]
    },
    {
      "cell_type": "code",
      "metadata": {
        "id": "NkXU3oSbyhU7",
        "colab_type": "code",
        "colab": {}
      },
      "source": [
        "#Api to fetch the records\n",
        "\n",
        "# response = requests.get(\"https://www.ncdc.noaa.gov/cdo-web/api/v2/data?datasetid=GHCND&startdate=2017-01-01&enddate=2017-01-31&locationid=FIPS:23&format=csv\", headers={'token': 'RGFmBkMzqCUgFXbiQWeqalQIAAoBMhTQ'})\n",
        "# response = requests.get(\"https://www.ncdc.noaa.gov/cdo-web/api/v2/locationcategories\", headers={'token': 'RGFmBkMzqCUgFXbiQWeqalQIAAoBMhTQ'})\n",
        "\n",
        "# response.content"
      ],
      "execution_count": 0,
      "outputs": []
    },
    {
      "cell_type": "code",
      "metadata": {
        "id": "knvhGVhVy2gl",
        "colab_type": "code",
        "colab": {}
      },
      "source": [
        "# responseObject=response.json()"
      ],
      "execution_count": 0,
      "outputs": []
    },
    {
      "cell_type": "code",
      "metadata": {
        "id": "caEBPfqNufQd",
        "colab_type": "code",
        "colab": {}
      },
      "source": [
        "# df=pd.DataFrame.from_dict(responseObject['results'])"
      ],
      "execution_count": 0,
      "outputs": []
    },
    {
      "cell_type": "code",
      "metadata": {
        "id": "wB6JTIqH2rCo",
        "colab_type": "code",
        "outputId": "7807c70c-67d6-434a-d5e8-9faf6aa11823",
        "colab": {
          "base_uri": "https://localhost:8080/",
          "height": 33
        }
      },
      "source": [
        "# df\n",
        "files = [str(x)+'.csv.gz' for x in range(2010,2011)]\n",
        "files"
      ],
      "execution_count": 0,
      "outputs": [
        {
          "output_type": "execute_result",
          "data": {
            "text/plain": [
              "['2010.csv.gz']"
            ]
          },
          "metadata": {
            "tags": []
          },
          "execution_count": 9
        }
      ]
    },
    {
      "cell_type": "code",
      "metadata": {
        "id": "1q2_371rJ8Oa",
        "colab_type": "code",
        "outputId": "2b853818-1d69-429f-d6f8-6198b2897dee",
        "colab": {
          "base_uri": "https://localhost:8080/",
          "height": 50
        }
      },
      "source": [
        "#fetching data from ftp server for years from 1993 to 2000\n",
        "\n",
        "from ftplib import FTP\n",
        "from datetime import datetime\n",
        "\n",
        "start = datetime.now()\n",
        "ftp = FTP('ftp.ncdc.noaa.gov')\n",
        "ftp.login()\n",
        "ftp.cwd(\"pub/data/ghcn/daily/by_year/\")\n",
        "\n",
        "\n",
        "# Get All Files\n",
        "files = [str(x)+'.csv.gz' for x in range(2010,2011)]\n",
        "\n",
        "# Print out the files\n",
        "for file in files:\n",
        "\tprint(\"Downloading...\" + file)\n",
        "\tftp.retrbinary(\"RETR \" + file ,open(file, 'wb').write)\n",
        "\n",
        "ftp.close()\n",
        "\n",
        "end = datetime.now()\n",
        "diff = end - start\n",
        "print('All files downloaded for ' + str(diff.seconds) + 's')"
      ],
      "execution_count": 0,
      "outputs": [
        {
          "output_type": "stream",
          "text": [
            "Downloading...2010.csv.gz\n",
            "All files downloaded for 38s\n"
          ],
          "name": "stdout"
        }
      ]
    },
    {
      "cell_type": "code",
      "metadata": {
        "id": "17W4CiaOK2AI",
        "colab_type": "code",
        "colab": {}
      },
      "source": [
        "# df = pd.read_csv('1987.csv.gz', compression='gzip', header=0, sep=',', quotechar='\"', error_bad_lines=False)"
      ],
      "execution_count": 0,
      "outputs": []
    },
    {
      "cell_type": "code",
      "metadata": {
        "id": "6QLQrpGhYs5j",
        "colab_type": "code",
        "colab": {}
      },
      "source": [
        "# df"
      ],
      "execution_count": 0,
      "outputs": []
    },
    {
      "cell_type": "code",
      "metadata": {
        "id": "oVblE0-q3ANs",
        "colab_type": "code",
        "colab": {}
      },
      "source": [
        "#getting ready with sparkx instance"
      ],
      "execution_count": 0,
      "outputs": []
    },
    {
      "cell_type": "code",
      "metadata": {
        "id": "drRvwh6NYtzh",
        "colab_type": "code",
        "colab": {}
      },
      "source": [
        "!apt-get install openjdk-8-jdk-headless -qq > /dev/null\n",
        "!wget -q https://www-us.apache.org/dist/spark/spark-2.4.5/spark-2.4.5-bin-hadoop2.7.tgz\n",
        "!tar xf spark-2.4.5-bin-hadoop2.7.tgz\n",
        "!pip install -q findspark"
      ],
      "execution_count": 0,
      "outputs": []
    },
    {
      "cell_type": "code",
      "metadata": {
        "id": "941dXJgKcIos",
        "colab_type": "code",
        "outputId": "0cf25171-89ee-4d08-82a0-961d6b9559ea",
        "colab": {
          "base_uri": "https://localhost:8080/",
          "height": 228
        }
      },
      "source": [
        "!pip install pyspark\n",
        "import pyspark\n",
        "from pyspark import SparkContext\n",
        "from pyspark.sql import SQLContext\n",
        "from pyspark import SparkFiles\n",
        "import pyspark.sql.functions as func"
      ],
      "execution_count": 0,
      "outputs": [
        {
          "output_type": "stream",
          "text": [
            "Collecting pyspark\n",
            "\u001b[?25l  Downloading https://files.pythonhosted.org/packages/9a/5a/271c416c1c2185b6cb0151b29a91fff6fcaed80173c8584ff6d20e46b465/pyspark-2.4.5.tar.gz (217.8MB)\n",
            "\u001b[K     |████████████████████████████████| 217.8MB 62kB/s \n",
            "\u001b[?25hCollecting py4j==0.10.7\n",
            "\u001b[?25l  Downloading https://files.pythonhosted.org/packages/e3/53/c737818eb9a7dc32a7cd4f1396e787bd94200c3997c72c1dbe028587bd76/py4j-0.10.7-py2.py3-none-any.whl (197kB)\n",
            "\u001b[K     |████████████████████████████████| 204kB 55.2MB/s \n",
            "\u001b[?25hBuilding wheels for collected packages: pyspark\n",
            "  Building wheel for pyspark (setup.py) ... \u001b[?25l\u001b[?25hdone\n",
            "  Created wheel for pyspark: filename=pyspark-2.4.5-py2.py3-none-any.whl size=218257927 sha256=13db841a2ac46ac0253f8d7f7d6083902e13cd9b1a800f36b262f4d7fbcca50e\n",
            "  Stored in directory: /root/.cache/pip/wheels/bf/db/04/61d66a5939364e756eb1c1be4ec5bdce6e04047fc7929a3c3c\n",
            "Successfully built pyspark\n",
            "Installing collected packages: py4j, pyspark\n",
            "Successfully installed py4j-0.10.7 pyspark-2.4.5\n"
          ],
          "name": "stdout"
        }
      ]
    },
    {
      "cell_type": "code",
      "metadata": {
        "id": "vF8vg5-GbEIq",
        "colab_type": "code",
        "colab": {}
      },
      "source": [
        "import os\n",
        "os.environ[\"JAVA_HOME\"] = \"/usr/lib/jvm/java-8-openjdk-amd64\"\n",
        "os.environ[\"SPARK_HOME\"] = \"/content/spark-2.4.5-bin-hadoop2.7\""
      ],
      "execution_count": 0,
      "outputs": []
    },
    {
      "cell_type": "code",
      "metadata": {
        "id": "q52KGCGU3FOJ",
        "colab_type": "code",
        "colab": {}
      },
      "source": [
        "#generating spark contect and sessions to consume our datasets"
      ],
      "execution_count": 0,
      "outputs": []
    },
    {
      "cell_type": "code",
      "metadata": {
        "id": "_DWRv7jMfp4s",
        "colab_type": "code",
        "colab": {}
      },
      "source": [
        "from pyspark.sql import SparkSession\n",
        "spark = SparkSession \\\n",
        "        .builder \\\n",
        "        .appName(\"gfcj\") \\\n",
        "        .getOrCreate()"
      ],
      "execution_count": 0,
      "outputs": []
    },
    {
      "cell_type": "code",
      "metadata": {
        "id": "o6cA_1853MOD",
        "colab_type": "code",
        "colab": {}
      },
      "source": [
        "#adding all the files to spark context to spread them into rdd and perform faster exexution on huge dataset"
      ],
      "execution_count": 0,
      "outputs": []
    },
    {
      "cell_type": "code",
      "metadata": {
        "id": "c2abOIlAbikp",
        "colab_type": "code",
        "colab": {}
      },
      "source": [
        "sc =SparkContext.getOrCreate()\n",
        "\n",
        "for file in files:\n",
        "  sc.addFile(file)"
      ],
      "execution_count": 0,
      "outputs": []
    },
    {
      "cell_type": "code",
      "metadata": {
        "id": "AzXpcXHhbBcG",
        "colab_type": "code",
        "colab": {}
      },
      "source": [
        "sqlContext = SQLContext(sc)\n",
        "sqlContext\n",
        "# df = sqlContext.read.csv(SparkFiles.get(files), header=True, inferSchema= True)\n",
        "# df.printSchema()\n",
        "\n",
        "spark.read.format(\"csv\").option(\"header\", \"true\").load(\"*.csv.gz\")\n",
        "df=spark.read.option(\"header\", \"false\").csv(\"*.csv.gz\")"
      ],
      "execution_count": 0,
      "outputs": []
    },
    {
      "cell_type": "code",
      "metadata": {
        "id": "972gSaH7bUgc",
        "colab_type": "code",
        "outputId": "3bb7dcd9-c3a0-46d5-907d-aab295b028a7",
        "colab": {
          "base_uri": "https://localhost:8080/",
          "height": 180
        }
      },
      "source": [
        "df.printSchema()"
      ],
      "execution_count": 0,
      "outputs": [
        {
          "output_type": "stream",
          "text": [
            "root\n",
            " |-- _c0: string (nullable = true)\n",
            " |-- _c1: string (nullable = true)\n",
            " |-- _c2: string (nullable = true)\n",
            " |-- _c3: string (nullable = true)\n",
            " |-- _c4: string (nullable = true)\n",
            " |-- _c5: string (nullable = true)\n",
            " |-- _c6: string (nullable = true)\n",
            " |-- _c7: string (nullable = true)\n",
            "\n"
          ],
          "name": "stdout"
        }
      ]
    },
    {
      "cell_type": "code",
      "metadata": {
        "id": "4KssyH6nhRUY",
        "colab_type": "code",
        "outputId": "e1338673-8926-4560-c2f1-b5dd726ef7fc",
        "colab": {
          "base_uri": "https://localhost:8080/",
          "height": 196
        }
      },
      "source": [
        "df.show(5)"
      ],
      "execution_count": 0,
      "outputs": [
        {
          "output_type": "stream",
          "text": [
            "+-----------+--------+----+----+----+----+---+----+\n",
            "|        _c0|     _c1| _c2| _c3| _c4| _c5|_c6| _c7|\n",
            "+-----------+--------+----+----+----+----+---+----+\n",
            "|CA002303986|20100101|TMAX| 205|null|   G|  C|null|\n",
            "|CA002303986|20100101|TMIN|-300|null|null|  C|null|\n",
            "|CA002303986|20100101|PRCP|   4|null|null|  C|null|\n",
            "|CA002303986|20100101|SNOW|   4|null|null|  C|null|\n",
            "|CA002303986|20100101|SNWD|   0|null|   I|  C|null|\n",
            "+-----------+--------+----+----+----+----+---+----+\n",
            "only showing top 5 rows\n",
            "\n"
          ],
          "name": "stdout"
        }
      ]
    },
    {
      "cell_type": "code",
      "metadata": {
        "id": "A12tIlfLhszO",
        "colab_type": "code",
        "colab": {}
      },
      "source": [
        "sc.addFile('ghcnd-stations.csv')"
      ],
      "execution_count": 0,
      "outputs": []
    },
    {
      "cell_type": "code",
      "metadata": {
        "id": "Dm6K46Z0xwSG",
        "colab_type": "code",
        "colab": {}
      },
      "source": [
        "df2=spark.read.option(\"header\", \"true\").csv('ghcnd-stations.csv')"
      ],
      "execution_count": 0,
      "outputs": []
    },
    {
      "cell_type": "code",
      "metadata": {
        "id": "OQFENBQDx-lC",
        "colab_type": "code",
        "outputId": "563023b5-050e-47c9-9314-01563bfc515d",
        "colab": {
          "base_uri": "https://localhost:8080/",
          "height": 33
        }
      },
      "source": [
        "df2"
      ],
      "execution_count": 0,
      "outputs": [
        {
          "output_type": "execute_result",
          "data": {
            "text/plain": [
              "DataFrame[id: string, lat: string, long: string, _c3: string, _c4: string, _c5: string]"
            ]
          },
          "metadata": {
            "tags": []
          },
          "execution_count": 22
        }
      ]
    },
    {
      "cell_type": "code",
      "metadata": {
        "id": "XAafATiYx_KP",
        "colab_type": "code",
        "outputId": "1c2f1fe4-4178-464f-e98c-a8fe8d4d13e2",
        "colab": {
          "base_uri": "https://localhost:8080/",
          "height": 196
        }
      },
      "source": [
        "df.show(5)"
      ],
      "execution_count": 0,
      "outputs": [
        {
          "output_type": "stream",
          "text": [
            "+-----------+--------+----+----+----+----+---+----+\n",
            "|        _c0|     _c1| _c2| _c3| _c4| _c5|_c6| _c7|\n",
            "+-----------+--------+----+----+----+----+---+----+\n",
            "|CA002303986|20100101|TMAX| 205|null|   G|  C|null|\n",
            "|CA002303986|20100101|TMIN|-300|null|null|  C|null|\n",
            "|CA002303986|20100101|PRCP|   4|null|null|  C|null|\n",
            "|CA002303986|20100101|SNOW|   4|null|null|  C|null|\n",
            "|CA002303986|20100101|SNWD|   0|null|   I|  C|null|\n",
            "+-----------+--------+----+----+----+----+---+----+\n",
            "only showing top 5 rows\n",
            "\n"
          ],
          "name": "stdout"
        }
      ]
    },
    {
      "cell_type": "code",
      "metadata": {
        "id": "t-fqNpPAyFOC",
        "colab_type": "code",
        "outputId": "833d6903-1943-41f0-f0d2-4271e8d741b0",
        "colab": {
          "base_uri": "https://localhost:8080/",
          "height": 196
        }
      },
      "source": [
        "df2.show(5)"
      ],
      "execution_count": 0,
      "outputs": [
        {
          "output_type": "stream",
          "text": [
            "+-----------+-------+--------+----+----+----+\n",
            "|         id|    lat|    long| _c3| _c4| _c5|\n",
            "+-----------+-------+--------+----+----+----+\n",
            "|ACW00011604|17.1167|-61.7833|null|null|null|\n",
            "|ACW00011647|17.1333|-61.7833|null|null|null|\n",
            "|AE000041196| 25.333|  55.517|null|null|null|\n",
            "|AEM00041194| 25.255|  55.364|null|null|null|\n",
            "|AEM00041217| 24.433|  54.651|null|null|null|\n",
            "+-----------+-------+--------+----+----+----+\n",
            "only showing top 5 rows\n",
            "\n"
          ],
          "name": "stdout"
        }
      ]
    },
    {
      "cell_type": "code",
      "metadata": {
        "id": "rjCNW15fyvdH",
        "colab_type": "code",
        "colab": {}
      },
      "source": [
        "data=df.selectExpr('_c0 as id','_c1 as date','_c2 as type','_c3 as value')"
      ],
      "execution_count": 0,
      "outputs": []
    },
    {
      "cell_type": "code",
      "metadata": {
        "id": "VzhUCvkT0kUS",
        "colab_type": "code",
        "outputId": "cb8a7dc3-7e4b-4dcb-9e76-2d9adf82ae21",
        "colab": {
          "base_uri": "https://localhost:8080/",
          "height": 440
        }
      },
      "source": [
        "data.show()"
      ],
      "execution_count": 0,
      "outputs": [
        {
          "output_type": "stream",
          "text": [
            "+-----------+--------+----+-----+\n",
            "|         id|    date|type|value|\n",
            "+-----------+--------+----+-----+\n",
            "|CA002303986|20100101|TMAX|  205|\n",
            "|CA002303986|20100101|TMIN| -300|\n",
            "|CA002303986|20100101|PRCP|    4|\n",
            "|CA002303986|20100101|SNOW|    4|\n",
            "|CA002303986|20100101|SNWD|    0|\n",
            "|US1FLSL0019|20100101|PRCP|    0|\n",
            "|ASN00037003|20100101|PRCP|    0|\n",
            "|US1AZMR0019|20100101|PRCP|    0|\n",
            "|US1AZMR0019|20100101|SNOW|    0|\n",
            "|USC00178998|20100101|TMAX|    0|\n",
            "|USC00178998|20100101|TMIN|  -56|\n",
            "|USC00178998|20100101|TOBS|  -56|\n",
            "|USC00178998|20100101|PRCP|   43|\n",
            "|USC00178998|20100101|SNOW|   46|\n",
            "|USC00178998|20100101|SNWD|  102|\n",
            "|USC00242347|20100101|TMAX|   33|\n",
            "|USC00242347|20100101|TMIN| -161|\n",
            "|USC00242347|20100101|TOBS|   28|\n",
            "|USC00242347|20100101|PRCP|    0|\n",
            "|NOE00133566|20100101|TMAX|    2|\n",
            "+-----------+--------+----+-----+\n",
            "only showing top 20 rows\n",
            "\n"
          ],
          "name": "stdout"
        }
      ]
    },
    {
      "cell_type": "code",
      "metadata": {
        "id": "n2naBB3M7nA2",
        "colab_type": "code",
        "outputId": "46aea80d-3491-4cc4-8302-62de062f2b40",
        "colab": {
          "base_uri": "https://localhost:8080/",
          "height": 147
        }
      },
      "source": [
        "df2.show(2)"
      ],
      "execution_count": 0,
      "outputs": [
        {
          "output_type": "stream",
          "text": [
            "+-----------+-------+--------+----+----+----+\n",
            "|         id|    lat|    long| _c3| _c4| _c5|\n",
            "+-----------+-------+--------+----+----+----+\n",
            "|ACW00011604|17.1167|-61.7833|null|null|null|\n",
            "|ACW00011647|17.1333|-61.7833|null|null|null|\n",
            "+-----------+-------+--------+----+----+----+\n",
            "only showing top 2 rows\n",
            "\n"
          ],
          "name": "stdout"
        }
      ]
    },
    {
      "cell_type": "code",
      "metadata": {
        "id": "0OuauQzi0oGK",
        "colab_type": "code",
        "colab": {}
      },
      "source": [
        "final_df = data.join(df2, on=['id'], how='inner')"
      ],
      "execution_count": 0,
      "outputs": []
    },
    {
      "cell_type": "code",
      "metadata": {
        "id": "IQ1EFTzM06I8",
        "colab_type": "code",
        "colab": {}
      },
      "source": [
        "final_df=final_df.selectExpr('id','lat as LATITUDE','long as LONGITUDE','date','type','value')"
      ],
      "execution_count": 0,
      "outputs": []
    },
    {
      "cell_type": "code",
      "metadata": {
        "id": "v_Cn4KLt07DQ",
        "colab_type": "code",
        "colab": {}
      },
      "source": [
        "final_df.registerTempTable(\"temperature\")"
      ],
      "execution_count": 0,
      "outputs": []
    },
    {
      "cell_type": "code",
      "metadata": {
        "id": "eqEBopUL5fVT",
        "colab_type": "code",
        "colab": {}
      },
      "source": [
        "# def spark_shape(self):\n",
        "#     return (self.count(), len(self.columns))\n",
        "# pyspark.sql.dataframe.DataFrame.shape = spark_shape"
      ],
      "execution_count": 0,
      "outputs": []
    },
    {
      "cell_type": "code",
      "metadata": {
        "id": "cjCvhdry6uWz",
        "colab_type": "code",
        "colab": {}
      },
      "source": [
        "# final_df.shape()"
      ],
      "execution_count": 0,
      "outputs": []
    },
    {
      "cell_type": "code",
      "metadata": {
        "id": "N_WR4SB76zDa",
        "colab_type": "code",
        "colab": {}
      },
      "source": [
        "# df.shape()"
      ],
      "execution_count": 0,
      "outputs": []
    },
    {
      "cell_type": "code",
      "metadata": {
        "id": "ly_7AToc674d",
        "colab_type": "code",
        "outputId": "02f3d526-703f-41c5-df4e-c5ace230254f",
        "colab": {
          "base_uri": "https://localhost:8080/",
          "height": 70
        }
      },
      "source": [
        "fire=pd.read_csv('Fire.csv')"
      ],
      "execution_count": 0,
      "outputs": [
        {
          "output_type": "stream",
          "text": [
            "/usr/local/lib/python3.6/dist-packages/IPython/core/interactiveshell.py:2718: DtypeWarning: Columns (9,11,12,13,14,15,16,17,18,19,36,38) have mixed types. Specify dtype option on import or set low_memory=False.\n",
            "  interactivity=interactivity, compiler=compiler, result=result)\n"
          ],
          "name": "stderr"
        }
      ]
    },
    {
      "cell_type": "code",
      "metadata": {
        "id": "Km5GkQxI-ClH",
        "colab_type": "code",
        "colab": {}
      },
      "source": [
        "df=fire\n",
        "\n",
        "df['disc_clean_date'] = pd.to_datetime(df['DISCOVERY_DATE'] - pd.Timestamp(0).to_julian_date(), unit='D')\n",
        "#Convert containment date from julian to standard date\n",
        "df['cont_clean_date'] = pd.to_datetime(df['CONT_DATE'] - pd.Timestamp(0).to_julian_date(), unit='D')\n",
        "# Day of month string\n",
        "df['discovery_month'] = df['disc_clean_date'].dt.strftime('%b')\n",
        "#Returns the weekday string\n",
        "df['discovery_weekday'] = df['disc_clean_date'].dt.strftime('%a')\n",
        "#Merge discovery date and time \n"
      ],
      "execution_count": 0,
      "outputs": []
    },
    {
      "cell_type": "code",
      "metadata": {
        "id": "OKKqwAQwdpq5",
        "colab_type": "code",
        "outputId": "e694494a-2be6-48b9-f064-57ec7f87a57d",
        "colab": {
          "base_uri": "https://localhost:8080/",
          "height": 476
        }
      },
      "source": [
        "df"
      ],
      "execution_count": 0,
      "outputs": [
        {
          "output_type": "execute_result",
          "data": {
            "text/html": [
              "<div>\n",
              "<style scoped>\n",
              "    .dataframe tbody tr th:only-of-type {\n",
              "        vertical-align: middle;\n",
              "    }\n",
              "\n",
              "    .dataframe tbody tr th {\n",
              "        vertical-align: top;\n",
              "    }\n",
              "\n",
              "    .dataframe thead th {\n",
              "        text-align: right;\n",
              "    }\n",
              "</style>\n",
              "<table border=\"1\" class=\"dataframe\">\n",
              "  <thead>\n",
              "    <tr style=\"text-align: right;\">\n",
              "      <th></th>\n",
              "      <th>Unnamed: 0</th>\n",
              "      <th>OBJECTID</th>\n",
              "      <th>FOD_ID</th>\n",
              "      <th>FPA_ID</th>\n",
              "      <th>SOURCE_SYSTEM_TYPE</th>\n",
              "      <th>SOURCE_SYSTEM</th>\n",
              "      <th>NWCG_REPORTING_AGENCY</th>\n",
              "      <th>NWCG_REPORTING_UNIT_ID</th>\n",
              "      <th>NWCG_REPORTING_UNIT_NAME</th>\n",
              "      <th>SOURCE_REPORTING_UNIT</th>\n",
              "      <th>SOURCE_REPORTING_UNIT_NAME</th>\n",
              "      <th>LOCAL_FIRE_REPORT_ID</th>\n",
              "      <th>LOCAL_INCIDENT_ID</th>\n",
              "      <th>FIRE_CODE</th>\n",
              "      <th>FIRE_NAME</th>\n",
              "      <th>ICS_209_INCIDENT_NUMBER</th>\n",
              "      <th>ICS_209_NAME</th>\n",
              "      <th>MTBS_ID</th>\n",
              "      <th>MTBS_FIRE_NAME</th>\n",
              "      <th>COMPLEX_NAME</th>\n",
              "      <th>FIRE_YEAR</th>\n",
              "      <th>DISCOVERY_DATE</th>\n",
              "      <th>DISCOVERY_DOY</th>\n",
              "      <th>DISCOVERY_TIME</th>\n",
              "      <th>STAT_CAUSE_CODE</th>\n",
              "      <th>STAT_CAUSE_DESCR</th>\n",
              "      <th>CONT_DATE</th>\n",
              "      <th>CONT_DOY</th>\n",
              "      <th>CONT_TIME</th>\n",
              "      <th>FIRE_SIZE</th>\n",
              "      <th>FIRE_SIZE_CLASS</th>\n",
              "      <th>LATITUDE</th>\n",
              "      <th>LONGITUDE</th>\n",
              "      <th>OWNER_CODE</th>\n",
              "      <th>OWNER_DESCR</th>\n",
              "      <th>STATE</th>\n",
              "      <th>COUNTY</th>\n",
              "      <th>FIPS_CODE</th>\n",
              "      <th>FIPS_NAME</th>\n",
              "      <th>Shape</th>\n",
              "      <th>disc_clean_date</th>\n",
              "      <th>cont_clean_date</th>\n",
              "      <th>discovery_month</th>\n",
              "      <th>discovery_weekday</th>\n",
              "    </tr>\n",
              "  </thead>\n",
              "  <tbody>\n",
              "    <tr>\n",
              "      <th>0</th>\n",
              "      <td>0</td>\n",
              "      <td>1</td>\n",
              "      <td>1</td>\n",
              "      <td>FS-1418826</td>\n",
              "      <td>FED</td>\n",
              "      <td>FS-FIRESTAT</td>\n",
              "      <td>FS</td>\n",
              "      <td>USCAPNF</td>\n",
              "      <td>Plumas National Forest</td>\n",
              "      <td>511</td>\n",
              "      <td>Plumas National Forest</td>\n",
              "      <td>1</td>\n",
              "      <td>PNF-47</td>\n",
              "      <td>BJ8K</td>\n",
              "      <td>FOUNTAIN</td>\n",
              "      <td>NaN</td>\n",
              "      <td>NaN</td>\n",
              "      <td>NaN</td>\n",
              "      <td>NaN</td>\n",
              "      <td>NaN</td>\n",
              "      <td>2005</td>\n",
              "      <td>2453403.5</td>\n",
              "      <td>33</td>\n",
              "      <td>1300.0</td>\n",
              "      <td>9.0</td>\n",
              "      <td>Miscellaneous</td>\n",
              "      <td>2453403.5</td>\n",
              "      <td>33.0</td>\n",
              "      <td>1730.0</td>\n",
              "      <td>0.10</td>\n",
              "      <td>A</td>\n",
              "      <td>40.036944</td>\n",
              "      <td>-121.005833</td>\n",
              "      <td>5.0</td>\n",
              "      <td>USFS</td>\n",
              "      <td>CA</td>\n",
              "      <td>63</td>\n",
              "      <td>63.0</td>\n",
              "      <td>Plumas</td>\n",
              "      <td>b'\\x00\\x01\\xad\\x10\\x00\\x00\\xe8d\\xc2\\x92_@^\\xc0...</td>\n",
              "      <td>2005-02-02</td>\n",
              "      <td>2005-02-02</td>\n",
              "      <td>Feb</td>\n",
              "      <td>Wed</td>\n",
              "    </tr>\n",
              "    <tr>\n",
              "      <th>1</th>\n",
              "      <td>1</td>\n",
              "      <td>2</td>\n",
              "      <td>2</td>\n",
              "      <td>FS-1418827</td>\n",
              "      <td>FED</td>\n",
              "      <td>FS-FIRESTAT</td>\n",
              "      <td>FS</td>\n",
              "      <td>USCAENF</td>\n",
              "      <td>Eldorado National Forest</td>\n",
              "      <td>503</td>\n",
              "      <td>Eldorado National Forest</td>\n",
              "      <td>13</td>\n",
              "      <td>13</td>\n",
              "      <td>AAC0</td>\n",
              "      <td>PIGEON</td>\n",
              "      <td>NaN</td>\n",
              "      <td>NaN</td>\n",
              "      <td>NaN</td>\n",
              "      <td>NaN</td>\n",
              "      <td>NaN</td>\n",
              "      <td>2004</td>\n",
              "      <td>2453137.5</td>\n",
              "      <td>133</td>\n",
              "      <td>845.0</td>\n",
              "      <td>1.0</td>\n",
              "      <td>Lightning</td>\n",
              "      <td>2453137.5</td>\n",
              "      <td>133.0</td>\n",
              "      <td>1530.0</td>\n",
              "      <td>0.25</td>\n",
              "      <td>A</td>\n",
              "      <td>38.933056</td>\n",
              "      <td>-120.404444</td>\n",
              "      <td>5.0</td>\n",
              "      <td>USFS</td>\n",
              "      <td>CA</td>\n",
              "      <td>61</td>\n",
              "      <td>61.0</td>\n",
              "      <td>Placer</td>\n",
              "      <td>b'\\x00\\x01\\xad\\x10\\x00\\x00T\\xb6\\xeej\\xe2\\x19^\\...</td>\n",
              "      <td>2004-05-12</td>\n",
              "      <td>2004-05-12</td>\n",
              "      <td>May</td>\n",
              "      <td>Wed</td>\n",
              "    </tr>\n",
              "    <tr>\n",
              "      <th>2</th>\n",
              "      <td>2</td>\n",
              "      <td>3</td>\n",
              "      <td>3</td>\n",
              "      <td>FS-1418835</td>\n",
              "      <td>FED</td>\n",
              "      <td>FS-FIRESTAT</td>\n",
              "      <td>FS</td>\n",
              "      <td>USCAENF</td>\n",
              "      <td>Eldorado National Forest</td>\n",
              "      <td>503</td>\n",
              "      <td>Eldorado National Forest</td>\n",
              "      <td>27</td>\n",
              "      <td>021</td>\n",
              "      <td>A32W</td>\n",
              "      <td>SLACK</td>\n",
              "      <td>NaN</td>\n",
              "      <td>NaN</td>\n",
              "      <td>NaN</td>\n",
              "      <td>NaN</td>\n",
              "      <td>NaN</td>\n",
              "      <td>2004</td>\n",
              "      <td>2453156.5</td>\n",
              "      <td>152</td>\n",
              "      <td>1921.0</td>\n",
              "      <td>5.0</td>\n",
              "      <td>Debris Burning</td>\n",
              "      <td>2453156.5</td>\n",
              "      <td>152.0</td>\n",
              "      <td>2024.0</td>\n",
              "      <td>0.10</td>\n",
              "      <td>A</td>\n",
              "      <td>38.984167</td>\n",
              "      <td>-120.735556</td>\n",
              "      <td>13.0</td>\n",
              "      <td>STATE OR PRIVATE</td>\n",
              "      <td>CA</td>\n",
              "      <td>17</td>\n",
              "      <td>17.0</td>\n",
              "      <td>El Dorado</td>\n",
              "      <td>b'\\x00\\x01\\xad\\x10\\x00\\x00\\xd0\\xa5\\xa0W\\x13/^\\...</td>\n",
              "      <td>2004-05-31</td>\n",
              "      <td>2004-05-31</td>\n",
              "      <td>May</td>\n",
              "      <td>Mon</td>\n",
              "    </tr>\n",
              "    <tr>\n",
              "      <th>3</th>\n",
              "      <td>3</td>\n",
              "      <td>4</td>\n",
              "      <td>4</td>\n",
              "      <td>FS-1418845</td>\n",
              "      <td>FED</td>\n",
              "      <td>FS-FIRESTAT</td>\n",
              "      <td>FS</td>\n",
              "      <td>USCAENF</td>\n",
              "      <td>Eldorado National Forest</td>\n",
              "      <td>503</td>\n",
              "      <td>Eldorado National Forest</td>\n",
              "      <td>43</td>\n",
              "      <td>6</td>\n",
              "      <td>NaN</td>\n",
              "      <td>DEER</td>\n",
              "      <td>NaN</td>\n",
              "      <td>NaN</td>\n",
              "      <td>NaN</td>\n",
              "      <td>NaN</td>\n",
              "      <td>NaN</td>\n",
              "      <td>2004</td>\n",
              "      <td>2453184.5</td>\n",
              "      <td>180</td>\n",
              "      <td>1600.0</td>\n",
              "      <td>1.0</td>\n",
              "      <td>Lightning</td>\n",
              "      <td>2453189.5</td>\n",
              "      <td>185.0</td>\n",
              "      <td>1400.0</td>\n",
              "      <td>0.10</td>\n",
              "      <td>A</td>\n",
              "      <td>38.559167</td>\n",
              "      <td>-119.913333</td>\n",
              "      <td>5.0</td>\n",
              "      <td>USFS</td>\n",
              "      <td>CA</td>\n",
              "      <td>3</td>\n",
              "      <td>3.0</td>\n",
              "      <td>Alpine</td>\n",
              "      <td>b'\\x00\\x01\\xad\\x10\\x00\\x00\\x94\\xac\\xa3\\rt\\xfa]...</td>\n",
              "      <td>2004-06-28</td>\n",
              "      <td>2004-07-03</td>\n",
              "      <td>Jun</td>\n",
              "      <td>Mon</td>\n",
              "    </tr>\n",
              "    <tr>\n",
              "      <th>4</th>\n",
              "      <td>4</td>\n",
              "      <td>5</td>\n",
              "      <td>5</td>\n",
              "      <td>FS-1418847</td>\n",
              "      <td>FED</td>\n",
              "      <td>FS-FIRESTAT</td>\n",
              "      <td>FS</td>\n",
              "      <td>USCAENF</td>\n",
              "      <td>Eldorado National Forest</td>\n",
              "      <td>503</td>\n",
              "      <td>Eldorado National Forest</td>\n",
              "      <td>44</td>\n",
              "      <td>7</td>\n",
              "      <td>NaN</td>\n",
              "      <td>STEVENOT</td>\n",
              "      <td>NaN</td>\n",
              "      <td>NaN</td>\n",
              "      <td>NaN</td>\n",
              "      <td>NaN</td>\n",
              "      <td>NaN</td>\n",
              "      <td>2004</td>\n",
              "      <td>2453184.5</td>\n",
              "      <td>180</td>\n",
              "      <td>1600.0</td>\n",
              "      <td>1.0</td>\n",
              "      <td>Lightning</td>\n",
              "      <td>2453189.5</td>\n",
              "      <td>185.0</td>\n",
              "      <td>1200.0</td>\n",
              "      <td>0.10</td>\n",
              "      <td>A</td>\n",
              "      <td>38.559167</td>\n",
              "      <td>-119.933056</td>\n",
              "      <td>5.0</td>\n",
              "      <td>USFS</td>\n",
              "      <td>CA</td>\n",
              "      <td>3</td>\n",
              "      <td>3.0</td>\n",
              "      <td>Alpine</td>\n",
              "      <td>b'\\x00\\x01\\xad\\x10\\x00\\x00@\\xe3\\xaa.\\xb7\\xfb]\\...</td>\n",
              "      <td>2004-06-28</td>\n",
              "      <td>2004-07-03</td>\n",
              "      <td>Jun</td>\n",
              "      <td>Mon</td>\n",
              "    </tr>\n",
              "    <tr>\n",
              "      <th>...</th>\n",
              "      <td>...</td>\n",
              "      <td>...</td>\n",
              "      <td>...</td>\n",
              "      <td>...</td>\n",
              "      <td>...</td>\n",
              "      <td>...</td>\n",
              "      <td>...</td>\n",
              "      <td>...</td>\n",
              "      <td>...</td>\n",
              "      <td>...</td>\n",
              "      <td>...</td>\n",
              "      <td>...</td>\n",
              "      <td>...</td>\n",
              "      <td>...</td>\n",
              "      <td>...</td>\n",
              "      <td>...</td>\n",
              "      <td>...</td>\n",
              "      <td>...</td>\n",
              "      <td>...</td>\n",
              "      <td>...</td>\n",
              "      <td>...</td>\n",
              "      <td>...</td>\n",
              "      <td>...</td>\n",
              "      <td>...</td>\n",
              "      <td>...</td>\n",
              "      <td>...</td>\n",
              "      <td>...</td>\n",
              "      <td>...</td>\n",
              "      <td>...</td>\n",
              "      <td>...</td>\n",
              "      <td>...</td>\n",
              "      <td>...</td>\n",
              "      <td>...</td>\n",
              "      <td>...</td>\n",
              "      <td>...</td>\n",
              "      <td>...</td>\n",
              "      <td>...</td>\n",
              "      <td>...</td>\n",
              "      <td>...</td>\n",
              "      <td>...</td>\n",
              "      <td>...</td>\n",
              "      <td>...</td>\n",
              "      <td>...</td>\n",
              "      <td>...</td>\n",
              "    </tr>\n",
              "    <tr>\n",
              "      <th>1880460</th>\n",
              "      <td>1880460</td>\n",
              "      <td>1880461</td>\n",
              "      <td>300348363</td>\n",
              "      <td>2015CAIRS29019636</td>\n",
              "      <td>NONFED</td>\n",
              "      <td>ST-CACDF</td>\n",
              "      <td>ST/C&amp;L</td>\n",
              "      <td>USCASHU</td>\n",
              "      <td>Shasta-Trinity Unit</td>\n",
              "      <td>CASHU</td>\n",
              "      <td>Shasta-Trinity Unit</td>\n",
              "      <td>591814</td>\n",
              "      <td>009371</td>\n",
              "      <td>NaN</td>\n",
              "      <td>ODESSA 2</td>\n",
              "      <td>NaN</td>\n",
              "      <td>NaN</td>\n",
              "      <td>NaN</td>\n",
              "      <td>NaN</td>\n",
              "      <td>NaN</td>\n",
              "      <td>2015</td>\n",
              "      <td>2457291.5</td>\n",
              "      <td>269</td>\n",
              "      <td>1726.0</td>\n",
              "      <td>13.0</td>\n",
              "      <td>Missing/Undefined</td>\n",
              "      <td>2457291.5</td>\n",
              "      <td>269.0</td>\n",
              "      <td>1843.0</td>\n",
              "      <td>0.01</td>\n",
              "      <td>A</td>\n",
              "      <td>40.481637</td>\n",
              "      <td>-122.389375</td>\n",
              "      <td>13.0</td>\n",
              "      <td>STATE OR PRIVATE</td>\n",
              "      <td>CA</td>\n",
              "      <td>NaN</td>\n",
              "      <td>NaN</td>\n",
              "      <td>NaN</td>\n",
              "      <td>b'\\x00\\x01\\xad\\x10\\x00\\x00P\\xb8\\x1e\\x85\\xeb\\x9...</td>\n",
              "      <td>2015-09-26</td>\n",
              "      <td>2015-09-26</td>\n",
              "      <td>Sep</td>\n",
              "      <td>Sat</td>\n",
              "    </tr>\n",
              "    <tr>\n",
              "      <th>1880461</th>\n",
              "      <td>1880461</td>\n",
              "      <td>1880462</td>\n",
              "      <td>300348373</td>\n",
              "      <td>2015CAIRS29217935</td>\n",
              "      <td>NONFED</td>\n",
              "      <td>ST-CACDF</td>\n",
              "      <td>ST/C&amp;L</td>\n",
              "      <td>USCATCU</td>\n",
              "      <td>Tuolumne-Calaveras Unit</td>\n",
              "      <td>CATCU</td>\n",
              "      <td>Tuolumne-Calaveras Unit</td>\n",
              "      <td>569419</td>\n",
              "      <td>000366</td>\n",
              "      <td>NaN</td>\n",
              "      <td>NaN</td>\n",
              "      <td>NaN</td>\n",
              "      <td>NaN</td>\n",
              "      <td>NaN</td>\n",
              "      <td>NaN</td>\n",
              "      <td>NaN</td>\n",
              "      <td>2015</td>\n",
              "      <td>2457300.5</td>\n",
              "      <td>278</td>\n",
              "      <td>126.0</td>\n",
              "      <td>9.0</td>\n",
              "      <td>Miscellaneous</td>\n",
              "      <td>NaN</td>\n",
              "      <td>NaN</td>\n",
              "      <td>NaN</td>\n",
              "      <td>0.20</td>\n",
              "      <td>A</td>\n",
              "      <td>37.617619</td>\n",
              "      <td>-120.938570</td>\n",
              "      <td>12.0</td>\n",
              "      <td>MUNICIPAL/LOCAL</td>\n",
              "      <td>CA</td>\n",
              "      <td>NaN</td>\n",
              "      <td>NaN</td>\n",
              "      <td>NaN</td>\n",
              "      <td>b'\\x00\\x01\\xad\\x10\\x00\\x00\\x00\\x80\\xbe\\x88\\x11...</td>\n",
              "      <td>2015-10-05</td>\n",
              "      <td>NaT</td>\n",
              "      <td>Oct</td>\n",
              "      <td>Mon</td>\n",
              "    </tr>\n",
              "    <tr>\n",
              "      <th>1880462</th>\n",
              "      <td>1880462</td>\n",
              "      <td>1880463</td>\n",
              "      <td>300348375</td>\n",
              "      <td>2015CAIRS28364460</td>\n",
              "      <td>NONFED</td>\n",
              "      <td>ST-CACDF</td>\n",
              "      <td>ST/C&amp;L</td>\n",
              "      <td>USCATCU</td>\n",
              "      <td>Tuolumne-Calaveras Unit</td>\n",
              "      <td>CATCU</td>\n",
              "      <td>Tuolumne-Calaveras Unit</td>\n",
              "      <td>574245</td>\n",
              "      <td>000158</td>\n",
              "      <td>NaN</td>\n",
              "      <td>NaN</td>\n",
              "      <td>NaN</td>\n",
              "      <td>NaN</td>\n",
              "      <td>NaN</td>\n",
              "      <td>NaN</td>\n",
              "      <td>NaN</td>\n",
              "      <td>2015</td>\n",
              "      <td>2457144.5</td>\n",
              "      <td>122</td>\n",
              "      <td>2052.0</td>\n",
              "      <td>13.0</td>\n",
              "      <td>Missing/Undefined</td>\n",
              "      <td>NaN</td>\n",
              "      <td>NaN</td>\n",
              "      <td>NaN</td>\n",
              "      <td>0.10</td>\n",
              "      <td>A</td>\n",
              "      <td>37.617619</td>\n",
              "      <td>-120.938570</td>\n",
              "      <td>12.0</td>\n",
              "      <td>MUNICIPAL/LOCAL</td>\n",
              "      <td>CA</td>\n",
              "      <td>NaN</td>\n",
              "      <td>NaN</td>\n",
              "      <td>NaN</td>\n",
              "      <td>b'\\x00\\x01\\xad\\x10\\x00\\x00\\x00\\x80\\xbe\\x88\\x11...</td>\n",
              "      <td>2015-05-02</td>\n",
              "      <td>NaT</td>\n",
              "      <td>May</td>\n",
              "      <td>Sat</td>\n",
              "    </tr>\n",
              "    <tr>\n",
              "      <th>1880463</th>\n",
              "      <td>1880463</td>\n",
              "      <td>1880464</td>\n",
              "      <td>300348377</td>\n",
              "      <td>2015CAIRS29218079</td>\n",
              "      <td>NONFED</td>\n",
              "      <td>ST-CACDF</td>\n",
              "      <td>ST/C&amp;L</td>\n",
              "      <td>USCATCU</td>\n",
              "      <td>Tuolumne-Calaveras Unit</td>\n",
              "      <td>CATCU</td>\n",
              "      <td>Tuolumne-Calaveras Unit</td>\n",
              "      <td>570462</td>\n",
              "      <td>000380</td>\n",
              "      <td>NaN</td>\n",
              "      <td>NaN</td>\n",
              "      <td>NaN</td>\n",
              "      <td>NaN</td>\n",
              "      <td>NaN</td>\n",
              "      <td>NaN</td>\n",
              "      <td>NaN</td>\n",
              "      <td>2015</td>\n",
              "      <td>2457309.5</td>\n",
              "      <td>287</td>\n",
              "      <td>2309.0</td>\n",
              "      <td>13.0</td>\n",
              "      <td>Missing/Undefined</td>\n",
              "      <td>NaN</td>\n",
              "      <td>NaN</td>\n",
              "      <td>NaN</td>\n",
              "      <td>2.00</td>\n",
              "      <td>B</td>\n",
              "      <td>37.672235</td>\n",
              "      <td>-120.898356</td>\n",
              "      <td>12.0</td>\n",
              "      <td>MUNICIPAL/LOCAL</td>\n",
              "      <td>CA</td>\n",
              "      <td>NaN</td>\n",
              "      <td>NaN</td>\n",
              "      <td>NaN</td>\n",
              "      <td>b'\\x00\\x01\\xad\\x10\\x00\\x00x\\xba_\\xaa~9^\\xc0\\xb...</td>\n",
              "      <td>2015-10-14</td>\n",
              "      <td>NaT</td>\n",
              "      <td>Oct</td>\n",
              "      <td>Wed</td>\n",
              "    </tr>\n",
              "    <tr>\n",
              "      <th>1880464</th>\n",
              "      <td>1880464</td>\n",
              "      <td>1880465</td>\n",
              "      <td>300348399</td>\n",
              "      <td>2015CAIRS26733926</td>\n",
              "      <td>NONFED</td>\n",
              "      <td>ST-CACDF</td>\n",
              "      <td>ST/C&amp;L</td>\n",
              "      <td>USCABDU</td>\n",
              "      <td>San Bernardino Unit</td>\n",
              "      <td>CABDU</td>\n",
              "      <td>CDF - San Bernardino Unit</td>\n",
              "      <td>535436</td>\n",
              "      <td>003225</td>\n",
              "      <td>NaN</td>\n",
              "      <td>BARKER BL  BIG_BEAR_LAKE_</td>\n",
              "      <td>NaN</td>\n",
              "      <td>NaN</td>\n",
              "      <td>NaN</td>\n",
              "      <td>NaN</td>\n",
              "      <td>NaN</td>\n",
              "      <td>2015</td>\n",
              "      <td>2457095.5</td>\n",
              "      <td>73</td>\n",
              "      <td>2128.0</td>\n",
              "      <td>9.0</td>\n",
              "      <td>Miscellaneous</td>\n",
              "      <td>NaN</td>\n",
              "      <td>NaN</td>\n",
              "      <td>NaN</td>\n",
              "      <td>0.10</td>\n",
              "      <td>A</td>\n",
              "      <td>34.263217</td>\n",
              "      <td>-116.830950</td>\n",
              "      <td>13.0</td>\n",
              "      <td>STATE OR PRIVATE</td>\n",
              "      <td>CA</td>\n",
              "      <td>NaN</td>\n",
              "      <td>NaN</td>\n",
              "      <td>NaN</td>\n",
              "      <td>b'\\x00\\x01\\xad\\x10\\x00\\x00\\x1c\\xa7\\xe8H.5]\\xc0...</td>\n",
              "      <td>2015-03-14</td>\n",
              "      <td>NaT</td>\n",
              "      <td>Mar</td>\n",
              "      <td>Sat</td>\n",
              "    </tr>\n",
              "  </tbody>\n",
              "</table>\n",
              "<p>1880465 rows × 44 columns</p>\n",
              "</div>"
            ],
            "text/plain": [
              "         Unnamed: 0  OBJECTID  ...  discovery_month discovery_weekday\n",
              "0                 0         1  ...              Feb               Wed\n",
              "1                 1         2  ...              May               Wed\n",
              "2                 2         3  ...              May               Mon\n",
              "3                 3         4  ...              Jun               Mon\n",
              "4                 4         5  ...              Jun               Mon\n",
              "...             ...       ...  ...              ...               ...\n",
              "1880460     1880460   1880461  ...              Sep               Sat\n",
              "1880461     1880461   1880462  ...              Oct               Mon\n",
              "1880462     1880462   1880463  ...              May               Sat\n",
              "1880463     1880463   1880464  ...              Oct               Wed\n",
              "1880464     1880464   1880465  ...              Mar               Sat\n",
              "\n",
              "[1880465 rows x 44 columns]"
            ]
          },
          "metadata": {
            "tags": []
          },
          "execution_count": 38
        }
      ]
    },
    {
      "cell_type": "code",
      "metadata": {
        "id": "0AzefXQ4_vHB",
        "colab_type": "code",
        "outputId": "4b8352af-2a4b-476a-8653-7b270f371b4a",
        "colab": {
          "base_uri": "https://localhost:8080/",
          "height": 33
        }
      },
      "source": [
        "fire_filter=[2010]\n",
        "df_2010=df[df.FIRE_YEAR.isin(fire_filter)]\n",
        "\n",
        "fire_filter"
      ],
      "execution_count": 0,
      "outputs": [
        {
          "output_type": "execute_result",
          "data": {
            "text/plain": [
              "[2010]"
            ]
          },
          "metadata": {
            "tags": []
          },
          "execution_count": 39
        }
      ]
    },
    {
      "cell_type": "code",
      "metadata": {
        "id": "nCnukLmPAJHj",
        "colab_type": "code",
        "colab": {}
      },
      "source": [
        "df_2010=df_2010[['LATITUDE','LONGITUDE','cont_clean_date']]"
      ],
      "execution_count": 0,
      "outputs": []
    },
    {
      "cell_type": "code",
      "metadata": {
        "id": "Vh5vVuY4F9VE",
        "colab_type": "code",
        "colab": {}
      },
      "source": [
        "# df_2010=df_2010.round()\n",
        "df_2010=df_2010.dropna()"
      ],
      "execution_count": 0,
      "outputs": []
    },
    {
      "cell_type": "code",
      "metadata": {
        "id": "wajTnl00HPsC",
        "colab_type": "code",
        "colab": {}
      },
      "source": [
        ""
      ],
      "execution_count": 0,
      "outputs": []
    },
    {
      "cell_type": "code",
      "metadata": {
        "id": "KzWcbC4WHUk3",
        "colab_type": "code",
        "outputId": "c704fbd8-885b-4f80-be9a-c08335a58650",
        "colab": {
          "base_uri": "https://localhost:8080/",
          "height": 391
        }
      },
      "source": [
        "df_2010"
      ],
      "execution_count": 0,
      "outputs": [
        {
          "output_type": "execute_result",
          "data": {
            "text/html": [
              "<div>\n",
              "<style scoped>\n",
              "    .dataframe tbody tr th:only-of-type {\n",
              "        vertical-align: middle;\n",
              "    }\n",
              "\n",
              "    .dataframe tbody tr th {\n",
              "        vertical-align: top;\n",
              "    }\n",
              "\n",
              "    .dataframe thead th {\n",
              "        text-align: right;\n",
              "    }\n",
              "</style>\n",
              "<table border=\"1\" class=\"dataframe\">\n",
              "  <thead>\n",
              "    <tr style=\"text-align: right;\">\n",
              "      <th></th>\n",
              "      <th>LATITUDE</th>\n",
              "      <th>LONGITUDE</th>\n",
              "      <th>cont_clean_date</th>\n",
              "    </tr>\n",
              "  </thead>\n",
              "  <tbody>\n",
              "    <tr>\n",
              "      <th>1145148</th>\n",
              "      <td>62.332779</td>\n",
              "      <td>-145.358063</td>\n",
              "      <td>2010-08-25</td>\n",
              "    </tr>\n",
              "    <tr>\n",
              "      <th>1145149</th>\n",
              "      <td>61.007221</td>\n",
              "      <td>-149.686951</td>\n",
              "      <td>2010-06-04</td>\n",
              "    </tr>\n",
              "    <tr>\n",
              "      <th>1145150</th>\n",
              "      <td>62.789166</td>\n",
              "      <td>-141.310837</td>\n",
              "      <td>2010-06-10</td>\n",
              "    </tr>\n",
              "    <tr>\n",
              "      <th>1145151</th>\n",
              "      <td>64.790001</td>\n",
              "      <td>-147.689728</td>\n",
              "      <td>2010-04-24</td>\n",
              "    </tr>\n",
              "    <tr>\n",
              "      <th>1145152</th>\n",
              "      <td>64.791946</td>\n",
              "      <td>-147.689163</td>\n",
              "      <td>2010-04-25</td>\n",
              "    </tr>\n",
              "    <tr>\n",
              "      <th>...</th>\n",
              "      <td>...</td>\n",
              "      <td>...</td>\n",
              "      <td>...</td>\n",
              "    </tr>\n",
              "    <tr>\n",
              "      <th>1880370</th>\n",
              "      <td>41.508867</td>\n",
              "      <td>-120.819167</td>\n",
              "      <td>2010-07-27</td>\n",
              "    </tr>\n",
              "    <tr>\n",
              "      <th>1880390</th>\n",
              "      <td>38.205574</td>\n",
              "      <td>-120.898979</td>\n",
              "      <td>2010-06-11</td>\n",
              "    </tr>\n",
              "    <tr>\n",
              "      <th>1880393</th>\n",
              "      <td>41.530567</td>\n",
              "      <td>-120.523647</td>\n",
              "      <td>2010-08-04</td>\n",
              "    </tr>\n",
              "    <tr>\n",
              "      <th>1880417</th>\n",
              "      <td>38.031985</td>\n",
              "      <td>-120.405563</td>\n",
              "      <td>2010-09-15</td>\n",
              "    </tr>\n",
              "    <tr>\n",
              "      <th>1880420</th>\n",
              "      <td>40.555183</td>\n",
              "      <td>-124.136117</td>\n",
              "      <td>2010-08-01</td>\n",
              "    </tr>\n",
              "  </tbody>\n",
              "</table>\n",
              "<p>33834 rows × 3 columns</p>\n",
              "</div>"
            ],
            "text/plain": [
              "          LATITUDE   LONGITUDE cont_clean_date\n",
              "1145148  62.332779 -145.358063      2010-08-25\n",
              "1145149  61.007221 -149.686951      2010-06-04\n",
              "1145150  62.789166 -141.310837      2010-06-10\n",
              "1145151  64.790001 -147.689728      2010-04-24\n",
              "1145152  64.791946 -147.689163      2010-04-25\n",
              "...            ...         ...             ...\n",
              "1880370  41.508867 -120.819167      2010-07-27\n",
              "1880390  38.205574 -120.898979      2010-06-11\n",
              "1880393  41.530567 -120.523647      2010-08-04\n",
              "1880417  38.031985 -120.405563      2010-09-15\n",
              "1880420  40.555183 -124.136117      2010-08-01\n",
              "\n",
              "[33834 rows x 3 columns]"
            ]
          },
          "metadata": {
            "tags": []
          },
          "execution_count": 42
        }
      ]
    },
    {
      "cell_type": "code",
      "metadata": {
        "id": "hLIfcAl-HZW1",
        "colab_type": "code",
        "colab": {}
      },
      "source": [
        "# type(df_1993['cont_clean_date'])"
      ],
      "execution_count": 0,
      "outputs": []
    },
    {
      "cell_type": "code",
      "metadata": {
        "id": "ss2S3ArYHvWo",
        "colab_type": "code",
        "colab": {}
      },
      "source": [
        "df_2010['cont_clean_date']=df_2010['cont_clean_date'].astype(str)"
      ],
      "execution_count": 0,
      "outputs": []
    },
    {
      "cell_type": "code",
      "metadata": {
        "id": "tCJQUj8mH_yw",
        "colab_type": "code",
        "colab": {}
      },
      "source": [
        "df_2010['date']=df_2010['cont_clean_date'].replace('-', '', regex=True).astype(int)"
      ],
      "execution_count": 0,
      "outputs": []
    },
    {
      "cell_type": "code",
      "metadata": {
        "id": "bFpmE9GtITRe",
        "colab_type": "code",
        "outputId": "00cdb3f4-0b7c-4011-ff86-12e7f7260909",
        "colab": {
          "base_uri": "https://localhost:8080/",
          "height": 391
        }
      },
      "source": [
        "df_2010"
      ],
      "execution_count": 0,
      "outputs": [
        {
          "output_type": "execute_result",
          "data": {
            "text/html": [
              "<div>\n",
              "<style scoped>\n",
              "    .dataframe tbody tr th:only-of-type {\n",
              "        vertical-align: middle;\n",
              "    }\n",
              "\n",
              "    .dataframe tbody tr th {\n",
              "        vertical-align: top;\n",
              "    }\n",
              "\n",
              "    .dataframe thead th {\n",
              "        text-align: right;\n",
              "    }\n",
              "</style>\n",
              "<table border=\"1\" class=\"dataframe\">\n",
              "  <thead>\n",
              "    <tr style=\"text-align: right;\">\n",
              "      <th></th>\n",
              "      <th>LATITUDE</th>\n",
              "      <th>LONGITUDE</th>\n",
              "      <th>cont_clean_date</th>\n",
              "      <th>date</th>\n",
              "    </tr>\n",
              "  </thead>\n",
              "  <tbody>\n",
              "    <tr>\n",
              "      <th>1145148</th>\n",
              "      <td>62.332779</td>\n",
              "      <td>-145.358063</td>\n",
              "      <td>2010-08-25</td>\n",
              "      <td>20100825</td>\n",
              "    </tr>\n",
              "    <tr>\n",
              "      <th>1145149</th>\n",
              "      <td>61.007221</td>\n",
              "      <td>-149.686951</td>\n",
              "      <td>2010-06-04</td>\n",
              "      <td>20100604</td>\n",
              "    </tr>\n",
              "    <tr>\n",
              "      <th>1145150</th>\n",
              "      <td>62.789166</td>\n",
              "      <td>-141.310837</td>\n",
              "      <td>2010-06-10</td>\n",
              "      <td>20100610</td>\n",
              "    </tr>\n",
              "    <tr>\n",
              "      <th>1145151</th>\n",
              "      <td>64.790001</td>\n",
              "      <td>-147.689728</td>\n",
              "      <td>2010-04-24</td>\n",
              "      <td>20100424</td>\n",
              "    </tr>\n",
              "    <tr>\n",
              "      <th>1145152</th>\n",
              "      <td>64.791946</td>\n",
              "      <td>-147.689163</td>\n",
              "      <td>2010-04-25</td>\n",
              "      <td>20100425</td>\n",
              "    </tr>\n",
              "    <tr>\n",
              "      <th>...</th>\n",
              "      <td>...</td>\n",
              "      <td>...</td>\n",
              "      <td>...</td>\n",
              "      <td>...</td>\n",
              "    </tr>\n",
              "    <tr>\n",
              "      <th>1880370</th>\n",
              "      <td>41.508867</td>\n",
              "      <td>-120.819167</td>\n",
              "      <td>2010-07-27</td>\n",
              "      <td>20100727</td>\n",
              "    </tr>\n",
              "    <tr>\n",
              "      <th>1880390</th>\n",
              "      <td>38.205574</td>\n",
              "      <td>-120.898979</td>\n",
              "      <td>2010-06-11</td>\n",
              "      <td>20100611</td>\n",
              "    </tr>\n",
              "    <tr>\n",
              "      <th>1880393</th>\n",
              "      <td>41.530567</td>\n",
              "      <td>-120.523647</td>\n",
              "      <td>2010-08-04</td>\n",
              "      <td>20100804</td>\n",
              "    </tr>\n",
              "    <tr>\n",
              "      <th>1880417</th>\n",
              "      <td>38.031985</td>\n",
              "      <td>-120.405563</td>\n",
              "      <td>2010-09-15</td>\n",
              "      <td>20100915</td>\n",
              "    </tr>\n",
              "    <tr>\n",
              "      <th>1880420</th>\n",
              "      <td>40.555183</td>\n",
              "      <td>-124.136117</td>\n",
              "      <td>2010-08-01</td>\n",
              "      <td>20100801</td>\n",
              "    </tr>\n",
              "  </tbody>\n",
              "</table>\n",
              "<p>33834 rows × 4 columns</p>\n",
              "</div>"
            ],
            "text/plain": [
              "          LATITUDE   LONGITUDE cont_clean_date      date\n",
              "1145148  62.332779 -145.358063      2010-08-25  20100825\n",
              "1145149  61.007221 -149.686951      2010-06-04  20100604\n",
              "1145150  62.789166 -141.310837      2010-06-10  20100610\n",
              "1145151  64.790001 -147.689728      2010-04-24  20100424\n",
              "1145152  64.791946 -147.689163      2010-04-25  20100425\n",
              "...            ...         ...             ...       ...\n",
              "1880370  41.508867 -120.819167      2010-07-27  20100727\n",
              "1880390  38.205574 -120.898979      2010-06-11  20100611\n",
              "1880393  41.530567 -120.523647      2010-08-04  20100804\n",
              "1880417  38.031985 -120.405563      2010-09-15  20100915\n",
              "1880420  40.555183 -124.136117      2010-08-01  20100801\n",
              "\n",
              "[33834 rows x 4 columns]"
            ]
          },
          "metadata": {
            "tags": []
          },
          "execution_count": 45
        }
      ]
    },
    {
      "cell_type": "code",
      "metadata": {
        "id": "iDxAcUF-IWY3",
        "colab_type": "code",
        "colab": {}
      },
      "source": [
        "df_2010=df_2010[['LATITUDE','LONGITUDE','date']]"
      ],
      "execution_count": 0,
      "outputs": []
    },
    {
      "cell_type": "code",
      "metadata": {
        "id": "06xZFbskI9iu",
        "colab_type": "code",
        "colab": {}
      },
      "source": [
        "df_2010.to_csv(r'fire_2010.csv')"
      ],
      "execution_count": 0,
      "outputs": []
    },
    {
      "cell_type": "code",
      "metadata": {
        "id": "yPfPiI1qJFNj",
        "colab_type": "code",
        "colab": {}
      },
      "source": [
        "sc.addFile('fire_2010.csv')"
      ],
      "execution_count": 0,
      "outputs": []
    },
    {
      "cell_type": "code",
      "metadata": {
        "id": "Xvy1cNlpJM-8",
        "colab_type": "code",
        "colab": {}
      },
      "source": [
        "fire=spark.read.option(\"header\", \"true\").csv('fire_2010.csv')"
      ],
      "execution_count": 0,
      "outputs": []
    },
    {
      "cell_type": "code",
      "metadata": {
        "id": "rNl0sFtEJWGu",
        "colab_type": "code",
        "outputId": "5e0adcde-4b31-413a-a8ec-5feadb03a2db",
        "colab": {
          "base_uri": "https://localhost:8080/",
          "height": 196
        }
      },
      "source": [
        "fire.show(5)"
      ],
      "execution_count": 0,
      "outputs": [
        {
          "output_type": "stream",
          "text": [
            "+-------+------------------+-------------------+--------+\n",
            "|    _c0|          LATITUDE|          LONGITUDE|    date|\n",
            "+-------+------------------+-------------------+--------+\n",
            "|1145148|        62.3327789|-145.35806269999998|20100825|\n",
            "|1145149|61.007221200000004|       -149.6869507|20100604|\n",
            "|1145150|        62.7891655|       -141.3108368|20100610|\n",
            "|1145151|        64.7900009|       -147.6897278|20100424|\n",
            "|1145152|        64.7919464|       -147.6891632|20100425|\n",
            "+-------+------------------+-------------------+--------+\n",
            "only showing top 5 rows\n",
            "\n"
          ],
          "name": "stdout"
        }
      ]
    },
    {
      "cell_type": "code",
      "metadata": {
        "id": "Ah4pUSHlsJCT",
        "colab_type": "code",
        "colab": {}
      },
      "source": [
        "fire=fire.withColumn(\"LATITUDE\", func.round(fire[\"LATITUDE\"]))\n",
        "fire=fire.withColumn(\"LONGITUDE\", func.round(fire[\"LONGITUDE\"]))"
      ],
      "execution_count": 0,
      "outputs": []
    },
    {
      "cell_type": "code",
      "metadata": {
        "id": "-42ZT3dCKVv5",
        "colab_type": "code",
        "outputId": "f6a911d4-eebc-40f2-cf28-73d78cd359c5",
        "colab": {
          "base_uri": "https://localhost:8080/",
          "height": 440
        }
      },
      "source": [
        "final_df.show()"
      ],
      "execution_count": 0,
      "outputs": [
        {
          "output_type": "stream",
          "text": [
            "+-----------+--------+---------+--------+----+-----+\n",
            "|         id|LATITUDE|LONGITUDE|    date|type|value|\n",
            "+-----------+--------+---------+--------+----+-----+\n",
            "|CA002303986|    62.0|    -93.0|20100101|TMAX|  205|\n",
            "|CA002303986|    62.0|    -93.0|20100101|TMIN| -300|\n",
            "|CA002303986|    62.0|    -93.0|20100101|PRCP|    4|\n",
            "|CA002303986|    62.0|    -93.0|20100101|SNOW|    4|\n",
            "|CA002303986|    62.0|    -93.0|20100101|SNWD|    0|\n",
            "|US1FLSL0019|    27.0|    -80.0|20100101|PRCP|    0|\n",
            "|ASN00037003|   -20.0|    138.0|20100101|PRCP|    0|\n",
            "|US1AZMR0019|    34.0|   -112.0|20100101|PRCP|    0|\n",
            "|US1AZMR0019|    34.0|   -112.0|20100101|SNOW|    0|\n",
            "|USC00178998|    45.0|    -68.0|20100101|TMAX|    0|\n",
            "|USC00178998|    45.0|    -68.0|20100101|TMIN|  -56|\n",
            "|USC00178998|    45.0|    -68.0|20100101|TOBS|  -56|\n",
            "|USC00178998|    45.0|    -68.0|20100101|PRCP|   43|\n",
            "|USC00178998|    45.0|    -68.0|20100101|SNOW|   46|\n",
            "|USC00178998|    45.0|    -68.0|20100101|SNWD|  102|\n",
            "|USC00242347|    47.0|   -110.0|20100101|TMAX|   33|\n",
            "|USC00242347|    47.0|   -110.0|20100101|TMIN| -161|\n",
            "|USC00242347|    47.0|   -110.0|20100101|TOBS|   28|\n",
            "|USC00242347|    47.0|   -110.0|20100101|PRCP|    0|\n",
            "|NOE00133566|    62.0|      6.0|20100101|TMAX|    2|\n",
            "+-----------+--------+---------+--------+----+-----+\n",
            "only showing top 20 rows\n",
            "\n"
          ],
          "name": "stdout"
        }
      ]
    },
    {
      "cell_type": "code",
      "metadata": {
        "id": "A7Ou865uOkIn",
        "colab_type": "code",
        "colab": {}
      },
      "source": [
        "final_df=final_df.withColumn(\"LATITUDE\", func.round(final_df[\"LATITUDE\"]))\n",
        "final_df=final_df.withColumn(\"LONGITUDE\", func.round(final_df[\"LONGITUDE\"]))"
      ],
      "execution_count": 0,
      "outputs": []
    },
    {
      "cell_type": "code",
      "metadata": {
        "id": "msdKGkD5PBDh",
        "colab_type": "code",
        "outputId": "469ab4c1-e35c-49c3-81bc-bfd2a081a51b",
        "colab": {
          "base_uri": "https://localhost:8080/",
          "height": 440
        }
      },
      "source": [
        "final_df.show()"
      ],
      "execution_count": 0,
      "outputs": [
        {
          "output_type": "stream",
          "text": [
            "+-----------+--------+---------+--------+----+-----+\n",
            "|         id|LATITUDE|LONGITUDE|    date|type|value|\n",
            "+-----------+--------+---------+--------+----+-----+\n",
            "|CA002303986|    62.0|    -93.0|20100101|TMAX|  205|\n",
            "|CA002303986|    62.0|    -93.0|20100101|TMIN| -300|\n",
            "|CA002303986|    62.0|    -93.0|20100101|PRCP|    4|\n",
            "|CA002303986|    62.0|    -93.0|20100101|SNOW|    4|\n",
            "|CA002303986|    62.0|    -93.0|20100101|SNWD|    0|\n",
            "|US1FLSL0019|    27.0|    -80.0|20100101|PRCP|    0|\n",
            "|ASN00037003|   -20.0|    138.0|20100101|PRCP|    0|\n",
            "|US1AZMR0019|    34.0|   -112.0|20100101|PRCP|    0|\n",
            "|US1AZMR0019|    34.0|   -112.0|20100101|SNOW|    0|\n",
            "|USC00178998|    45.0|    -68.0|20100101|TMAX|    0|\n",
            "|USC00178998|    45.0|    -68.0|20100101|TMIN|  -56|\n",
            "|USC00178998|    45.0|    -68.0|20100101|TOBS|  -56|\n",
            "|USC00178998|    45.0|    -68.0|20100101|PRCP|   43|\n",
            "|USC00178998|    45.0|    -68.0|20100101|SNOW|   46|\n",
            "|USC00178998|    45.0|    -68.0|20100101|SNWD|  102|\n",
            "|USC00242347|    47.0|   -110.0|20100101|TMAX|   33|\n",
            "|USC00242347|    47.0|   -110.0|20100101|TMIN| -161|\n",
            "|USC00242347|    47.0|   -110.0|20100101|TOBS|   28|\n",
            "|USC00242347|    47.0|   -110.0|20100101|PRCP|    0|\n",
            "|NOE00133566|    62.0|      6.0|20100101|TMAX|    2|\n",
            "+-----------+--------+---------+--------+----+-----+\n",
            "only showing top 20 rows\n",
            "\n"
          ],
          "name": "stdout"
        }
      ]
    },
    {
      "cell_type": "code",
      "metadata": {
        "id": "smmN-2StJYGJ",
        "colab_type": "code",
        "colab": {}
      },
      "source": [
        "complete = fire.join(final_df, on=['LATITUDE','LONGITUDE','date'], how='inner')"
      ],
      "execution_count": 0,
      "outputs": []
    },
    {
      "cell_type": "code",
      "metadata": {
        "id": "QvGZLvj6PMtq",
        "colab_type": "code",
        "outputId": "b67b006d-dc72-4593-acf4-e201d363ace0",
        "colab": {
          "base_uri": "https://localhost:8080/",
          "height": 131
        }
      },
      "source": [
        "complete.show(1)"
      ],
      "execution_count": 0,
      "outputs": [
        {
          "output_type": "stream",
          "text": [
            "+--------+---------+--------+-------+-----------+----+-----+\n",
            "|LATITUDE|LONGITUDE|    date|    _c0|         id|type|value|\n",
            "+--------+---------+--------+-------+-----------+----+-----+\n",
            "|    34.0|   -117.0|20100101|1176703|USC00045860|TMAX|  122|\n",
            "+--------+---------+--------+-------+-----------+----+-----+\n",
            "only showing top 1 row\n",
            "\n"
          ],
          "name": "stdout"
        }
      ]
    },
    {
      "cell_type": "code",
      "metadata": {
        "id": "2QHNh1uzPzbH",
        "colab_type": "code",
        "colab": {}
      },
      "source": [
        "completepandas_df = complete.toPandas()"
      ],
      "execution_count": 0,
      "outputs": []
    },
    {
      "cell_type": "code",
      "metadata": {
        "id": "2VlB84vDDY41",
        "colab_type": "code",
        "outputId": "0a68d121-dac0-4c4e-9e2c-656361fe4c00",
        "colab": {
          "base_uri": "https://localhost:8080/",
          "height": 33
        }
      },
      "source": [
        "completepandas_df.shape"
      ],
      "execution_count": 0,
      "outputs": [
        {
          "output_type": "execute_result",
          "data": {
            "text/plain": [
              "(3440655, 7)"
            ]
          },
          "metadata": {
            "tags": []
          },
          "execution_count": 65
        }
      ]
    },
    {
      "cell_type": "code",
      "metadata": {
        "id": "xc-lox7LQfoN",
        "colab_type": "code",
        "outputId": "13e24a69-e75c-44f6-e939-f308c00cad68",
        "colab": {
          "base_uri": "https://localhost:8080/",
          "height": 245
        }
      },
      "source": [
        "completepandas_df.head"
      ],
      "execution_count": 0,
      "outputs": [
        {
          "output_type": "execute_result",
          "data": {
            "text/plain": [
              "<bound method NDFrame.head of          LATITUDE  LONGITUDE      date      _c0           id  type value\n",
              "0            34.0     -117.0  20100101  1176703  USC00045860  TMAX   122\n",
              "1            34.0     -117.0  20100101  1176703  USC00045860  TMIN    33\n",
              "2            34.0     -117.0  20100101  1176703  USC00045860  TOBS    39\n",
              "3            34.0     -117.0  20100101  1176703  USC00045860  PRCP     0\n",
              "4            34.0     -117.0  20100101  1176703  USC00045860  SNOW     0\n",
              "...           ...        ...       ...      ...          ...   ...   ...\n",
              "3440650      34.0      -87.0  20101231  1365830  US1ALWN0001  PRCP     0\n",
              "3440651      34.0      -87.0  20101231  1365830  US1ALWN0001  SNOW     0\n",
              "3440652      34.0      -87.0  20101231  1365830  USR0000ABAN  TMAX   194\n",
              "3440653      34.0      -87.0  20101231  1365830  USR0000ABAN  TMIN   106\n",
              "3440654      34.0      -87.0  20101231  1365830  USR0000ABAN  TAVG   149\n",
              "\n",
              "[3440655 rows x 7 columns]>"
            ]
          },
          "metadata": {
            "tags": []
          },
          "execution_count": 66
        }
      ]
    },
    {
      "cell_type": "code",
      "metadata": {
        "id": "8jyWY1vCQk97",
        "colab_type": "code",
        "colab": {}
      },
      "source": [
        "completepandas_df.to_csv(r'2010final.csv')"
      ],
      "execution_count": 0,
      "outputs": []
    },
    {
      "cell_type": "code",
      "metadata": {
        "id": "jSN0XFd3XVas",
        "colab_type": "code",
        "colab": {}
      },
      "source": [
        "completepandas_df=pd.read_csv('2010final.csv')"
      ],
      "execution_count": 0,
      "outputs": []
    },
    {
      "cell_type": "code",
      "metadata": {
        "id": "Vv29r1d_RJ0D",
        "colab_type": "code",
        "colab": {}
      },
      "source": [
        "completepandas_df=completepandas_df[['LATITUDE','LONGITUDE','date','type','value']]"
      ],
      "execution_count": 0,
      "outputs": []
    },
    {
      "cell_type": "code",
      "metadata": {
        "id": "fECvPKAXYByV",
        "colab_type": "code",
        "colab": {}
      },
      "source": [
        "temp=completepandas_df[completepandas_df.type=='TMAX']"
      ],
      "execution_count": 0,
      "outputs": []
    },
    {
      "cell_type": "code",
      "metadata": {
        "id": "eUCHAxsiWhjQ",
        "colab_type": "code",
        "colab": {}
      },
      "source": [
        "temp=temp.groupby(by=['LATITUDE','LONGITUDE','date']).mean().reset_index()"
      ],
      "execution_count": 0,
      "outputs": []
    },
    {
      "cell_type": "code",
      "metadata": {
        "id": "fknyLQBXbEXU",
        "colab_type": "code",
        "outputId": "6e64c400-afba-4bfb-f3fd-053a5c44e97d",
        "colab": {
          "base_uri": "https://localhost:8080/",
          "height": 167
        }
      },
      "source": [
        "fire=pd.read_csv('Fire.csv')\n",
        "df=fire\n",
        "\n",
        "df['disc_clean_date'] = pd.to_datetime(df['DISCOVERY_DATE'] - pd.Timestamp(0).to_julian_date(), unit='D')\n",
        "#Convert containment date from julian to standard date\n",
        "df['cont_clean_date'] = pd.to_datetime(df['CONT_DATE'] - pd.Timestamp(0).to_julian_date(), unit='D')\n",
        "# Day of month string\n",
        "df['discovery_month'] = df['disc_clean_date'].dt.strftime('%b')\n",
        "#Returns the weekday string\n",
        "df['discovery_weekday'] = df['disc_clean_date'].dt.strftime('%a')\n",
        "df['cont_clean_date']=df['cont_clean_date'].astype(str)\n",
        "df=df[df.cont_clean_date!='NaT']\n",
        "df['date']=df['cont_clean_date'].replace('-', '', regex=True).astype(int)\n",
        "df=df[['LATITUDE','LONGITUDE','STAT_CAUSE_CODE','DISCOVERY_DOY','date','FIRE_SIZE']]\n",
        "fire=df"
      ],
      "execution_count": 0,
      "outputs": [
        {
          "output_type": "stream",
          "text": [
            "/usr/local/lib/python3.6/dist-packages/IPython/core/interactiveshell.py:2718: DtypeWarning: Columns (9,11,12,13,14,15,16,17,18,19,36,38) have mixed types. Specify dtype option on import or set low_memory=False.\n",
            "  interactivity=interactivity, compiler=compiler, result=result)\n",
            "/usr/local/lib/python3.6/dist-packages/ipykernel_launcher.py:13: SettingWithCopyWarning: \n",
            "A value is trying to be set on a copy of a slice from a DataFrame.\n",
            "Try using .loc[row_indexer,col_indexer] = value instead\n",
            "\n",
            "See the caveats in the documentation: http://pandas.pydata.org/pandas-docs/stable/user_guide/indexing.html#returning-a-view-versus-a-copy\n",
            "  del sys.path[0]\n"
          ],
          "name": "stderr"
        }
      ]
    },
    {
      "cell_type": "code",
      "metadata": {
        "id": "zpWgM9OTh2MN",
        "colab_type": "code",
        "colab": {}
      },
      "source": [
        "fire['LATITUDE']=fire['LATITUDE'].round()\n",
        "fire['LONGITUDE']=fire['LONGITUDE'].round()\n"
      ],
      "execution_count": 0,
      "outputs": []
    },
    {
      "cell_type": "code",
      "metadata": {
        "id": "3XpJbOz4glyf",
        "colab_type": "code",
        "colab": {}
      },
      "source": [
        "finalFinal = pd.merge(temp, fire, on=['LATITUDE','LONGITUDE','date'], how='inner')"
      ],
      "execution_count": 0,
      "outputs": []
    },
    {
      "cell_type": "code",
      "metadata": {
        "id": "l5jzQmGghBqG",
        "colab_type": "code",
        "outputId": "9925ea7a-c1d3-420a-97ec-49ec2edc524a",
        "colab": {
          "base_uri": "https://localhost:8080/",
          "height": 391
        }
      },
      "source": [
        "finalFinal"
      ],
      "execution_count": 0,
      "outputs": [
        {
          "output_type": "execute_result",
          "data": {
            "text/html": [
              "<div>\n",
              "<style scoped>\n",
              "    .dataframe tbody tr th:only-of-type {\n",
              "        vertical-align: middle;\n",
              "    }\n",
              "\n",
              "    .dataframe tbody tr th {\n",
              "        vertical-align: top;\n",
              "    }\n",
              "\n",
              "    .dataframe thead th {\n",
              "        text-align: right;\n",
              "    }\n",
              "</style>\n",
              "<table border=\"1\" class=\"dataframe\">\n",
              "  <thead>\n",
              "    <tr style=\"text-align: right;\">\n",
              "      <th></th>\n",
              "      <th>LATITUDE</th>\n",
              "      <th>LONGITUDE</th>\n",
              "      <th>date</th>\n",
              "      <th>value</th>\n",
              "      <th>STAT_CAUSE_CODE</th>\n",
              "      <th>DISCOVERY_DOY</th>\n",
              "      <th>FIRE_SIZE</th>\n",
              "    </tr>\n",
              "  </thead>\n",
              "  <tbody>\n",
              "    <tr>\n",
              "      <th>0</th>\n",
              "      <td>19.0</td>\n",
              "      <td>-155.0</td>\n",
              "      <td>20100306</td>\n",
              "      <td>200.000000</td>\n",
              "      <td>7.0</td>\n",
              "      <td>63</td>\n",
              "      <td>0.1</td>\n",
              "    </tr>\n",
              "    <tr>\n",
              "      <th>1</th>\n",
              "      <td>19.0</td>\n",
              "      <td>-155.0</td>\n",
              "      <td>20100425</td>\n",
              "      <td>233.666667</td>\n",
              "      <td>5.0</td>\n",
              "      <td>111</td>\n",
              "      <td>100.0</td>\n",
              "    </tr>\n",
              "    <tr>\n",
              "      <th>2</th>\n",
              "      <td>19.0</td>\n",
              "      <td>-155.0</td>\n",
              "      <td>20100609</td>\n",
              "      <td>239.000000</td>\n",
              "      <td>2.0</td>\n",
              "      <td>160</td>\n",
              "      <td>0.1</td>\n",
              "    </tr>\n",
              "    <tr>\n",
              "      <th>3</th>\n",
              "      <td>19.0</td>\n",
              "      <td>-155.0</td>\n",
              "      <td>20100712</td>\n",
              "      <td>194.666667</td>\n",
              "      <td>4.0</td>\n",
              "      <td>193</td>\n",
              "      <td>0.1</td>\n",
              "    </tr>\n",
              "    <tr>\n",
              "      <th>4</th>\n",
              "      <td>19.0</td>\n",
              "      <td>-155.0</td>\n",
              "      <td>20101019</td>\n",
              "      <td>248.500000</td>\n",
              "      <td>1.0</td>\n",
              "      <td>292</td>\n",
              "      <td>0.1</td>\n",
              "    </tr>\n",
              "    <tr>\n",
              "      <th>...</th>\n",
              "      <td>...</td>\n",
              "      <td>...</td>\n",
              "      <td>...</td>\n",
              "      <td>...</td>\n",
              "      <td>...</td>\n",
              "      <td>...</td>\n",
              "      <td>...</td>\n",
              "    </tr>\n",
              "    <tr>\n",
              "      <th>33606</th>\n",
              "      <td>68.0</td>\n",
              "      <td>-159.0</td>\n",
              "      <td>20100712</td>\n",
              "      <td>156.000000</td>\n",
              "      <td>1.0</td>\n",
              "      <td>183</td>\n",
              "      <td>9890.0</td>\n",
              "    </tr>\n",
              "    <tr>\n",
              "      <th>33607</th>\n",
              "      <td>68.0</td>\n",
              "      <td>-159.0</td>\n",
              "      <td>20100726</td>\n",
              "      <td>161.000000</td>\n",
              "      <td>1.0</td>\n",
              "      <td>185</td>\n",
              "      <td>6538.0</td>\n",
              "    </tr>\n",
              "    <tr>\n",
              "      <th>33608</th>\n",
              "      <td>68.0</td>\n",
              "      <td>-148.0</td>\n",
              "      <td>20100617</td>\n",
              "      <td>172.000000</td>\n",
              "      <td>1.0</td>\n",
              "      <td>165</td>\n",
              "      <td>5.0</td>\n",
              "    </tr>\n",
              "    <tr>\n",
              "      <th>33609</th>\n",
              "      <td>68.0</td>\n",
              "      <td>-144.0</td>\n",
              "      <td>20100621</td>\n",
              "      <td>144.000000</td>\n",
              "      <td>1.0</td>\n",
              "      <td>168</td>\n",
              "      <td>3.0</td>\n",
              "    </tr>\n",
              "    <tr>\n",
              "      <th>33610</th>\n",
              "      <td>68.0</td>\n",
              "      <td>-144.0</td>\n",
              "      <td>20100815</td>\n",
              "      <td>183.000000</td>\n",
              "      <td>1.0</td>\n",
              "      <td>148</td>\n",
              "      <td>1420.0</td>\n",
              "    </tr>\n",
              "  </tbody>\n",
              "</table>\n",
              "<p>33611 rows × 7 columns</p>\n",
              "</div>"
            ],
            "text/plain": [
              "       LATITUDE  LONGITUDE      date  ...  STAT_CAUSE_CODE  DISCOVERY_DOY  FIRE_SIZE\n",
              "0          19.0     -155.0  20100306  ...              7.0             63        0.1\n",
              "1          19.0     -155.0  20100425  ...              5.0            111      100.0\n",
              "2          19.0     -155.0  20100609  ...              2.0            160        0.1\n",
              "3          19.0     -155.0  20100712  ...              4.0            193        0.1\n",
              "4          19.0     -155.0  20101019  ...              1.0            292        0.1\n",
              "...         ...        ...       ...  ...              ...            ...        ...\n",
              "33606      68.0     -159.0  20100712  ...              1.0            183     9890.0\n",
              "33607      68.0     -159.0  20100726  ...              1.0            185     6538.0\n",
              "33608      68.0     -148.0  20100617  ...              1.0            165        5.0\n",
              "33609      68.0     -144.0  20100621  ...              1.0            168        3.0\n",
              "33610      68.0     -144.0  20100815  ...              1.0            148     1420.0\n",
              "\n",
              "[33611 rows x 7 columns]"
            ]
          },
          "metadata": {
            "tags": []
          },
          "execution_count": 76
        }
      ]
    },
    {
      "cell_type": "code",
      "metadata": {
        "id": "QZhGsxm2hfbJ",
        "colab_type": "code",
        "colab": {}
      },
      "source": [
        "finalFinal.to_csv(r'finalFinal.csv')"
      ],
      "execution_count": 0,
      "outputs": []
    },
    {
      "cell_type": "code",
      "metadata": {
        "id": "h3i5asTsjUpD",
        "colab_type": "code",
        "colab": {}
      },
      "source": [
        "# X = finalFinal[['LATITUDE','LONGITUDE','STAT_CAUSE_CODE','DISCOVERY_DOY','value','date']].values.reshape(-1,6)\n",
        "X = finalFinal[['value']].values.reshape(-1,1)"
      ],
      "execution_count": 0,
      "outputs": []
    },
    {
      "cell_type": "code",
      "metadata": {
        "id": "jaVzByJlj1Mw",
        "colab_type": "code",
        "outputId": "e442972a-f3cc-4835-8841-4873a2b325c6",
        "colab": {
          "base_uri": "https://localhost:8080/",
          "height": 131
        }
      },
      "source": [
        "X"
      ],
      "execution_count": 0,
      "outputs": [
        {
          "output_type": "execute_result",
          "data": {
            "text/plain": [
              "array([[200.        ],\n",
              "       [233.66666667],\n",
              "       [239.        ],\n",
              "       ...,\n",
              "       [172.        ],\n",
              "       [144.        ],\n",
              "       [183.        ]])"
            ]
          },
          "metadata": {
            "tags": []
          },
          "execution_count": 191
        }
      ]
    },
    {
      "cell_type": "code",
      "metadata": {
        "id": "oxl3c2vCj2Ia",
        "colab_type": "code",
        "colab": {}
      },
      "source": [
        "Y = finalFinal[['FIRE_SIZE']].values.reshape(-1,1)\n"
      ],
      "execution_count": 0,
      "outputs": []
    },
    {
      "cell_type": "code",
      "metadata": {
        "id": "38gI6sOxkIwx",
        "colab_type": "code",
        "colab": {}
      },
      "source": [
        "from sklearn.model_selection import train_test_split\n",
        "from sklearn.linear_model import LinearRegression\n",
        "import matplotlib.pyplot as plt\n",
        "import seaborn as sns\n",
        "from sklearn.preprocessing import StandardScaler"
      ],
      "execution_count": 0,
      "outputs": []
    },
    {
      "cell_type": "code",
      "metadata": {
        "id": "0I9H-_UIkafu",
        "colab_type": "code",
        "colab": {}
      },
      "source": [
        "sc = StandardScaler()\n",
        "# X = sc.fit_transform(X)\n",
        "# Y = sc.fit_transform(Y)"
      ],
      "execution_count": 0,
      "outputs": []
    },
    {
      "cell_type": "code",
      "metadata": {
        "id": "N3N1eH3wkiBl",
        "colab_type": "code",
        "colab": {}
      },
      "source": [
        "X_train, X_test, Y_train, Y_test = train_test_split(X,Y,test_size = 0.2)"
      ],
      "execution_count": 0,
      "outputs": []
    },
    {
      "cell_type": "code",
      "metadata": {
        "id": "W0hyP4j_kkr_",
        "colab_type": "code",
        "colab": {}
      },
      "source": [
        "regressor = LinearRegression().fit(X_train,Y_train)"
      ],
      "execution_count": 0,
      "outputs": []
    },
    {
      "cell_type": "code",
      "metadata": {
        "id": "yWqTsQvFkmlL",
        "colab_type": "code",
        "outputId": "c65ff882-d1ec-4b5c-88c3-f7aad3070d87",
        "colab": {
          "base_uri": "https://localhost:8080/",
          "height": 33
        }
      },
      "source": [
        "regressor.coef_"
      ],
      "execution_count": 0,
      "outputs": [
        {
          "output_type": "execute_result",
          "data": {
            "text/plain": [
              "array([[-0.25988461]])"
            ]
          },
          "metadata": {
            "tags": []
          },
          "execution_count": 197
        }
      ]
    },
    {
      "cell_type": "code",
      "metadata": {
        "id": "QLtlwZxrkoqz",
        "colab_type": "code",
        "outputId": "316e0d57-2542-4380-9d97-74847193666b",
        "colab": {
          "base_uri": "https://localhost:8080/",
          "height": 548
        }
      },
      "source": [
        "pred = regressor.predict(X_test)\n",
        "# plt.scatter(Y_test,pred,marker='.',c='b')\n",
        "\n",
        "plt.figure(figsize=(8, 8), dpi=80)\n",
        "plt.scatter(Y_test,pred)\n",
        "plt.plot([0,200,100],[0,200,100],c='k',linestyle='--')"
      ],
      "execution_count": 0,
      "outputs": [
        {
          "output_type": "execute_result",
          "data": {
            "text/plain": [
              "[<matplotlib.lines.Line2D at 0x7ff00a68eeb8>]"
            ]
          },
          "metadata": {
            "tags": []
          },
          "execution_count": 214
        },
        {
          "output_type": "display_data",
          "data": {
            "image/png": "[encoded data removed]",
            "text/plain": [
              "<Figure size 640x640 with 1 Axes>"
            ]
          },
          "metadata": {
            "tags": []
          }
        }
      ]
    },
    {
      "cell_type": "code",
      "metadata": {
        "id": "si-QmksSkq8p",
        "colab_type": "code",
        "outputId": "4c7288c8-16a9-40a3-d238-afa07730f210",
        "colab": {
          "base_uri": "https://localhost:8080/",
          "height": 537
        }
      },
      "source": [
        "plt.figure(figsize=(8, 8), dpi=80)\n",
        "plt.scatter(X_test, Y_test)\n",
        "# plt.xlim(-1, 1)\n",
        "plt.ylim(-1, 600)\n",
        "plt.plot(X_test, pred, color='red')\n",
        "plt.show()"
      ],
      "execution_count": 0,
      "outputs": [
        {
          "output_type": "display_data",
          "data": {
            "image/png": "[encoded data removed]",
            "text/plain": [
              "<Figure size 640x640 with 1 Axes>"
            ]
          },
          "metadata": {
            "tags": []
          }
        }
      ]
    },
    {
      "cell_type": "code",
      "metadata": {
        "id": "HWFU-Qv9xN2J",
        "colab_type": "code",
        "outputId": "b3866971-3e7c-4452-d099-db0e4cc17c40",
        "colab": {
          "base_uri": "https://localhost:8080/",
          "height": 537
        }
      },
      "source": [
        "temp=completepandas_df[completepandas_df.type=='PRCP']\n",
        "temp=temp.dropna()\n",
        "temp=temp.groupby(by=['LATITUDE','LONGITUDE','date']).mean().reset_index()\n",
        "finalFinal = pd.merge(temp, fire, on=['LATITUDE','LONGITUDE','date'], how='inner')\n",
        "X = finalFinal[['value']].values.reshape(-1,1)\n",
        "Y = finalFinal[['FIRE_SIZE']].values.reshape(-1,1)\n",
        "X_train, X_test, Y_train, Y_test = train_test_split(X,Y,test_size = 0.2)\n",
        "regressor = LinearRegression().fit(X_train,Y_train)\n",
        "pred = regressor.predict(X_test)\n",
        "plt.figure(figsize=(8, 8), dpi=80)\n",
        "plt.scatter(X_test, Y_test)\n",
        "plt.xlim(-1, 300)\n",
        "plt.ylim(-1, 600)\n",
        "plt.plot(X_test, pred, color='red')\n",
        "plt.show()"
      ],
      "execution_count": 0,
      "outputs": [
        {
          "output_type": "display_data",
          "data": {
            "image/png": "[encoded data removed]",
            "text/plain": [
              "<Figure size 640x640 with 1 Axes>"
            ]
          },
          "metadata": {
            "tags": []
          }
        }
      ]
    },
    {
      "cell_type": "code",
      "metadata": {
        "id": "s_OLDSyS34U8",
        "colab_type": "code",
        "outputId": "595e3e03-1269-4493-82a7-c34fad692128",
        "colab": {
          "base_uri": "https://localhost:8080/",
          "height": 537
        }
      },
      "source": [
        "temp=completepandas_df[completepandas_df.type=='TOBS']\n",
        "temp=temp.dropna()\n",
        "temp=temp.groupby(by=['LATITUDE','LONGITUDE','date']).mean().reset_index()\n",
        "finalFinal = pd.merge(temp, fire, on=['LATITUDE','LONGITUDE','date'], how='inner')\n",
        "X = finalFinal[['value']].values.reshape(-1,1)\n",
        "Y = finalFinal[['FIRE_SIZE']].values.reshape(-1,1)\n",
        "X_train, X_test, Y_train, Y_test = train_test_split(X,Y,test_size = 0.2)\n",
        "regressor = LinearRegression().fit(X_train,Y_train)\n",
        "pred = regressor.predict(X_test)\n",
        "plt.figure(figsize=(8, 8), dpi=80)\n",
        "plt.scatter(X_test, Y_test)\n",
        "plt.xlim(-1, 300)\n",
        "plt.ylim(-1, 600)\n",
        "plt.plot(X_test, pred, color='red')\n",
        "plt.show()"
      ],
      "execution_count": 0,
      "outputs": [
        {
          "output_type": "display_data",
          "data": {
            "image/png": "[encoded data removed]",
            "text/plain": [
              "<Figure size 640x640 with 1 Axes>"
            ]
          },
          "metadata": {
            "tags": []
          }
        }
      ]
    },
    {
      "cell_type": "code",
      "metadata": {
        "id": "bcX09jK84UK4",
        "colab_type": "code",
        "outputId": "fe8cb077-ffe1-4d23-807c-9dc5bdc64202",
        "colab": {
          "base_uri": "https://localhost:8080/",
          "height": 537
        }
      },
      "source": [
        "temp=completepandas_df[completepandas_df.type=='TAVG']\n",
        "temp=temp.dropna()\n",
        "temp=temp.groupby(by=['LATITUDE','LONGITUDE','date']).mean().reset_index()\n",
        "finalFinal = pd.merge(temp, fire, on=['LATITUDE','LONGITUDE','date'], how='inner')\n",
        "X = finalFinal[['value']].values.reshape(-1,1)\n",
        "Y = finalFinal[['FIRE_SIZE']].values.reshape(-1,1)\n",
        "X_train, X_test, Y_train, Y_test = train_test_split(X,Y,test_size = 0.2)\n",
        "regressor = LinearRegression().fit(X_train,Y_train)\n",
        "pred = regressor.predict(X_test)\n",
        "plt.figure(figsize=(8, 8), dpi=80)\n",
        "plt.scatter(X_test, Y_test)\n",
        "plt.xlim(-1, 300)\n",
        "plt.ylim(-1, 600)\n",
        "plt.plot(X_test, pred, color='red')\n",
        "plt.show()"
      ],
      "execution_count": 0,
      "outputs": [
        {
          "output_type": "display_data",
          "data": {
            "image/png": "[encoded data removed]",
            "text/plain": [
              "<Figure size 640x640 with 1 Axes>"
            ]
          },
          "metadata": {
            "tags": []
          }
        }
      ]
    },
    {
      "cell_type": "code",
      "metadata": {
        "id": "2vGpAIq_4cKO",
        "colab_type": "code",
        "outputId": "230f2378-73f1-4fee-88a9-7344d3958af6",
        "colab": {
          "base_uri": "https://localhost:8080/",
          "height": 537
        }
      },
      "source": [
        "temp=completepandas_df[completepandas_df.type=='SNOW']\n",
        "temp=temp.dropna()\n",
        "temp=temp.groupby(by=['LATITUDE','LONGITUDE','date']).mean().reset_index()\n",
        "finalFinal = pd.merge(temp, fire, on=['LATITUDE','LONGITUDE','date'], how='inner')\n",
        "X = finalFinal[['value']].values.reshape(-1,1)\n",
        "Y = finalFinal[['FIRE_SIZE']].values.reshape(-1,1)\n",
        "X_train, X_test, Y_train, Y_test = train_test_split(X,Y,test_size = 0.2)\n",
        "regressor = LinearRegression().fit(X_train,Y_train)\n",
        "pred = regressor.predict(X_test)\n",
        "plt.figure(figsize=(8, 8), dpi=80)\n",
        "plt.scatter(X_test, Y_test)\n",
        "plt.xlim(-1, 50)\n",
        "plt.ylim(-1, 200)\n",
        "plt.plot(X_test, pred, color='red')\n",
        "plt.show()"
      ],
      "execution_count": 0,
      "outputs": [
        {
          "output_type": "display_data",
          "data": {
            "image/png": "[encoded data removed]",
            "text/plain": [
              "<Figure size 640x640 with 1 Axes>"
            ]
          },
          "metadata": {
            "tags": []
          }
        }
      ]
    },
    {
      "cell_type": "code",
      "metadata": {
        "id": "hfuC8fKB4k-W",
        "colab_type": "code",
        "colab": {}
      },
      "source": [
        ""
      ],
      "execution_count": 0,
      "outputs": []
    }
  ]
}