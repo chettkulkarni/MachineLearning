{
  "nbformat": 4,
  "nbformat_minor": 0,
  "metadata": {
    "colab": {
      "name": "weatherDataLoad.ipynb",
      "provenance": [],
      "collapsed_sections": [],
      "authorship_tag": "ABX9TyOTcEHLyyILxO2wK5spUd+K",
      "include_colab_link": true
    },
    "kernelspec": {
      "name": "python3",
      "display_name": "Python 3"
    }
  },
  "cells": [
    {
      "cell_type": "markdown",
      "metadata": {
        "id": "view-in-github",
        "colab_type": "text"
      },
      "source": [
        "<a href=\"https://colab.research.google.com/github/chettkulkarni/MachineLearning/blob/master/weatherDataLoad.ipynb\" target=\"_parent\"><img src=\"https://colab.research.google.com/assets/colab-badge.svg\" alt=\"Open In Colab\"/></a>"
      ]
    },
    {
      "cell_type": "code",
      "metadata": {
        "id": "5rKto2fZygxi",
        "colab_type": "code",
        "colab": {}
      },
      "source": [
        "import requests\n",
        "import pandas as pd"
      ],
      "execution_count": 0,
      "outputs": []
    },
    {
      "cell_type": "code",
      "metadata": {
        "id": "NkXU3oSbyhU7",
        "colab_type": "code",
        "colab": {
          "base_uri": "https://localhost:8080/",
          "height": 54
        },
        "outputId": "9409b051-99b9-402d-e813-0e5bf5138343"
      },
      "source": [
        "# response = requests.get(\"https://www.ncdc.noaa.gov/cdo-web/api/v2/data?datasetid=GHCND&startdate=2017-01-01&enddate=2017-01-31&locationid=FIPS:23&format=csv\", headers={'token': 'RGFmBkMzqCUgFXbiQWeqalQIAAoBMhTQ'})\n",
        "# response = requests.get(\"https://www.ncdc.noaa.gov/cdo-web/api/v2/locationcategories\", headers={'token': 'RGFmBkMzqCUgFXbiQWeqalQIAAoBMhTQ'})\n",
        "\n",
        "\n",
        "\n",
        "# response.content"
      ],
      "execution_count": 151,
      "outputs": [
        {
          "output_type": "execute_result",
          "data": {
            "text/plain": [
              "b'{\"metadata\":{\"resultset\":{\"offset\":1,\"count\":12,\"limit\":25}},\"results\":[{\"name\":\"City\",\"id\":\"CITY\"},{\"name\":\"Climate Division\",\"id\":\"CLIM_DIV\"},{\"name\":\"Climate Region\",\"id\":\"CLIM_REG\"},{\"name\":\"Country\",\"id\":\"CNTRY\"},{\"name\":\"County\",\"id\":\"CNTY\"},{\"name\":\"Hydrologic Accounting Unit\",\"id\":\"HYD_ACC\"},{\"name\":\"Hydrologic Cataloging Unit\",\"id\":\"HYD_CAT\"},{\"name\":\"Hydrologic Region\",\"id\":\"HYD_REG\"},{\"name\":\"Hydrologic Subregion\",\"id\":\"HYD_SUB\"},{\"name\":\"State\",\"id\":\"ST\"},{\"name\":\"US Territory\",\"id\":\"US_TERR\"},{\"name\":\"Zip Code\",\"id\":\"ZIP\"}]}'"
            ]
          },
          "metadata": {
            "tags": []
          },
          "execution_count": 151
        }
      ]
    },
    {
      "cell_type": "code",
      "metadata": {
        "id": "knvhGVhVy2gl",
        "colab_type": "code",
        "colab": {}
      },
      "source": [
        "# responseObject=response.json()"
      ],
      "execution_count": 0,
      "outputs": []
    },
    {
      "cell_type": "code",
      "metadata": {
        "id": "caEBPfqNufQd",
        "colab_type": "code",
        "colab": {}
      },
      "source": [
        "# df=pd.DataFrame.from_dict(responseObject['results'])"
      ],
      "execution_count": 0,
      "outputs": []
    },
    {
      "cell_type": "code",
      "metadata": {
        "id": "wB6JTIqH2rCo",
        "colab_type": "code",
        "colab": {
          "base_uri": "https://localhost:8080/",
          "height": 421
        },
        "outputId": "26a93ce1-9325-4dfa-c25b-b8627a00aa95"
      },
      "source": [
        "# df"
      ],
      "execution_count": 166,
      "outputs": [
        {
          "output_type": "execute_result",
          "data": {
            "text/html": [
              "<div>\n",
              "<style scoped>\n",
              "    .dataframe tbody tr th:only-of-type {\n",
              "        vertical-align: middle;\n",
              "    }\n",
              "\n",
              "    .dataframe tbody tr th {\n",
              "        vertical-align: top;\n",
              "    }\n",
              "\n",
              "    .dataframe thead th {\n",
              "        text-align: right;\n",
              "    }\n",
              "</style>\n",
              "<table border=\"1\" class=\"dataframe\">\n",
              "  <thead>\n",
              "    <tr style=\"text-align: right;\">\n",
              "      <th></th>\n",
              "      <th>name</th>\n",
              "      <th>id</th>\n",
              "    </tr>\n",
              "  </thead>\n",
              "  <tbody>\n",
              "    <tr>\n",
              "      <th>0</th>\n",
              "      <td>City</td>\n",
              "      <td>CITY</td>\n",
              "    </tr>\n",
              "    <tr>\n",
              "      <th>1</th>\n",
              "      <td>Climate Division</td>\n",
              "      <td>CLIM_DIV</td>\n",
              "    </tr>\n",
              "    <tr>\n",
              "      <th>2</th>\n",
              "      <td>Climate Region</td>\n",
              "      <td>CLIM_REG</td>\n",
              "    </tr>\n",
              "    <tr>\n",
              "      <th>3</th>\n",
              "      <td>Country</td>\n",
              "      <td>CNTRY</td>\n",
              "    </tr>\n",
              "    <tr>\n",
              "      <th>4</th>\n",
              "      <td>County</td>\n",
              "      <td>CNTY</td>\n",
              "    </tr>\n",
              "    <tr>\n",
              "      <th>5</th>\n",
              "      <td>Hydrologic Accounting Unit</td>\n",
              "      <td>HYD_ACC</td>\n",
              "    </tr>\n",
              "    <tr>\n",
              "      <th>6</th>\n",
              "      <td>Hydrologic Cataloging Unit</td>\n",
              "      <td>HYD_CAT</td>\n",
              "    </tr>\n",
              "    <tr>\n",
              "      <th>7</th>\n",
              "      <td>Hydrologic Region</td>\n",
              "      <td>HYD_REG</td>\n",
              "    </tr>\n",
              "    <tr>\n",
              "      <th>8</th>\n",
              "      <td>Hydrologic Subregion</td>\n",
              "      <td>HYD_SUB</td>\n",
              "    </tr>\n",
              "    <tr>\n",
              "      <th>9</th>\n",
              "      <td>State</td>\n",
              "      <td>ST</td>\n",
              "    </tr>\n",
              "    <tr>\n",
              "      <th>10</th>\n",
              "      <td>US Territory</td>\n",
              "      <td>US_TERR</td>\n",
              "    </tr>\n",
              "    <tr>\n",
              "      <th>11</th>\n",
              "      <td>Zip Code</td>\n",
              "      <td>ZIP</td>\n",
              "    </tr>\n",
              "  </tbody>\n",
              "</table>\n",
              "</div>"
            ],
            "text/plain": [
              "                          name        id\n",
              "0                         City      CITY\n",
              "1             Climate Division  CLIM_DIV\n",
              "2               Climate Region  CLIM_REG\n",
              "3                      Country     CNTRY\n",
              "4                       County      CNTY\n",
              "5   Hydrologic Accounting Unit   HYD_ACC\n",
              "6   Hydrologic Cataloging Unit   HYD_CAT\n",
              "7            Hydrologic Region   HYD_REG\n",
              "8         Hydrologic Subregion   HYD_SUB\n",
              "9                        State        ST\n",
              "10                US Territory   US_TERR\n",
              "11                    Zip Code       ZIP"
            ]
          },
          "metadata": {
            "tags": []
          },
          "execution_count": 166
        }
      ]
    },
    {
      "cell_type": "code",
      "metadata": {
        "id": "1q2_371rJ8Oa",
        "colab_type": "code",
        "colab": {
          "base_uri": "https://localhost:8080/",
          "height": 187
        },
        "outputId": "06aef30e-230b-45b2-c58d-4c5abe0ad187"
      },
      "source": [
        "from ftplib import FTP\n",
        "from datetime import datetime\n",
        "\n",
        "start = datetime.now()\n",
        "ftp = FTP('ftp.ncdc.noaa.gov')\n",
        "ftp.login()\n",
        "ftp.cwd(\"pub/data/ghcn/daily/by_year/\")\n",
        "\n",
        "\n",
        "# Get All Files\n",
        "files = [str(x)+'.csv.gz' for x in range(1985,2011)]\n",
        "\n",
        "# Print out the files\n",
        "for file in files:\n",
        "\tprint(\"Downloading...\" + file)\n",
        "\tftp.retrbinary(\"RETR \" + file ,open(file, 'wb').write)\n",
        "\n",
        "ftp.close()\n",
        "\n",
        "end = datetime.now()\n",
        "diff = end - start\n",
        "print('All files downloaded for ' + str(diff.seconds) + 's')"
      ],
      "execution_count": 0,
      "outputs": [
        {
          "output_type": "stream",
          "text": [
            "Downloading...1985.csv.gz\n",
            "Downloading...1986.csv.gz\n",
            "Downloading...1987.csv.gz\n",
            "Downloading...1988.csv.gz\n",
            "Downloading...1989.csv.gz\n",
            "Downloading...1990.csv.gz\n",
            "Downloading...1991.csv.gz\n",
            "Downloading...1992.csv.gz\n",
            "Downloading...1993.csv.gz\n",
            "Downloading...1994.csv.gz\n"
          ],
          "name": "stdout"
        }
      ]
    },
    {
      "cell_type": "code",
      "metadata": {
        "id": "17W4CiaOK2AI",
        "colab_type": "code",
        "colab": {}
      },
      "source": [
        ""
      ],
      "execution_count": 0,
      "outputs": []
    }
  ]
}