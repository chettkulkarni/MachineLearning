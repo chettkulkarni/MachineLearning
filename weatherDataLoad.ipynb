{
  "nbformat": 4,
  "nbformat_minor": 0,
  "metadata": {
    "colab": {
      "name": "weatherDataLoad.ipynb",
      "provenance": [],
      "collapsed_sections": [],
      "authorship_tag": "ABX9TyMKvmKDYkQukfz/ovLRWbm+",
      "include_colab_link": true
    },
    "kernelspec": {
      "name": "python3",
      "display_name": "Python 3"
    }
  },
  "cells": [
    {
      "cell_type": "markdown",
      "metadata": {
        "id": "view-in-github",
        "colab_type": "text"
      },
      "source": [
        "<a href=\"https://colab.research.google.com/github/chettkulkarni/MachineLearning/blob/master/weatherDataLoad.ipynb\" target=\"_parent\"><img src=\"https://colab.research.google.com/assets/colab-badge.svg\" alt=\"Open In Colab\"/></a>"
      ]
    },
    {
      "cell_type": "code",
      "metadata": {
        "id": "5rKto2fZygxi",
        "colab_type": "code",
        "colab": {}
      },
      "source": [
        "import requests\n",
        "import pandas as pd"
      ],
      "execution_count": 0,
      "outputs": []
    },
    {
      "cell_type": "code",
      "metadata": {
        "id": "NkXU3oSbyhU7",
        "colab_type": "code",
        "outputId": "9409b051-99b9-402d-e813-0e5bf5138343",
        "colab": {
          "base_uri": "https://localhost:8080/",
          "height": 54
        }
      },
      "source": [
        "# response = requests.get(\"https://www.ncdc.noaa.gov/cdo-web/api/v2/data?datasetid=GHCND&startdate=2017-01-01&enddate=2017-01-31&locationid=FIPS:23&format=csv\", headers={'token': 'RGFmBkMzqCUgFXbiQWeqalQIAAoBMhTQ'})\n",
        "# response = requests.get(\"https://www.ncdc.noaa.gov/cdo-web/api/v2/locationcategories\", headers={'token': 'RGFmBkMzqCUgFXbiQWeqalQIAAoBMhTQ'})\n",
        "\n",
        "\n",
        "\n",
        "# response.content"
      ],
      "execution_count": 0,
      "outputs": [
        {
          "output_type": "execute_result",
          "data": {
            "text/plain": [
              "b'{\"metadata\":{\"resultset\":{\"offset\":1,\"count\":12,\"limit\":25}},\"results\":[{\"name\":\"City\",\"id\":\"CITY\"},{\"name\":\"Climate Division\",\"id\":\"CLIM_DIV\"},{\"name\":\"Climate Region\",\"id\":\"CLIM_REG\"},{\"name\":\"Country\",\"id\":\"CNTRY\"},{\"name\":\"County\",\"id\":\"CNTY\"},{\"name\":\"Hydrologic Accounting Unit\",\"id\":\"HYD_ACC\"},{\"name\":\"Hydrologic Cataloging Unit\",\"id\":\"HYD_CAT\"},{\"name\":\"Hydrologic Region\",\"id\":\"HYD_REG\"},{\"name\":\"Hydrologic Subregion\",\"id\":\"HYD_SUB\"},{\"name\":\"State\",\"id\":\"ST\"},{\"name\":\"US Territory\",\"id\":\"US_TERR\"},{\"name\":\"Zip Code\",\"id\":\"ZIP\"}]}'"
            ]
          },
          "metadata": {
            "tags": []
          },
          "execution_count": 151
        }
      ]
    },
    {
      "cell_type": "code",
      "metadata": {
        "id": "knvhGVhVy2gl",
        "colab_type": "code",
        "colab": {}
      },
      "source": [
        "# responseObject=response.json()"
      ],
      "execution_count": 0,
      "outputs": []
    },
    {
      "cell_type": "code",
      "metadata": {
        "id": "caEBPfqNufQd",
        "colab_type": "code",
        "colab": {}
      },
      "source": [
        "# df=pd.DataFrame.from_dict(responseObject['results'])"
      ],
      "execution_count": 0,
      "outputs": []
    },
    {
      "cell_type": "code",
      "metadata": {
        "id": "wB6JTIqH2rCo",
        "colab_type": "code",
        "outputId": "26a93ce1-9325-4dfa-c25b-b8627a00aa95",
        "colab": {
          "base_uri": "https://localhost:8080/",
          "height": 421
        }
      },
      "source": [
        "# df"
      ],
      "execution_count": 0,
      "outputs": [
        {
          "output_type": "execute_result",
          "data": {
            "text/html": [
              "<div>\n",
              "<style scoped>\n",
              "    .dataframe tbody tr th:only-of-type {\n",
              "        vertical-align: middle;\n",
              "    }\n",
              "\n",
              "    .dataframe tbody tr th {\n",
              "        vertical-align: top;\n",
              "    }\n",
              "\n",
              "    .dataframe thead th {\n",
              "        text-align: right;\n",
              "    }\n",
              "</style>\n",
              "<table border=\"1\" class=\"dataframe\">\n",
              "  <thead>\n",
              "    <tr style=\"text-align: right;\">\n",
              "      <th></th>\n",
              "      <th>name</th>\n",
              "      <th>id</th>\n",
              "    </tr>\n",
              "  </thead>\n",
              "  <tbody>\n",
              "    <tr>\n",
              "      <th>0</th>\n",
              "      <td>City</td>\n",
              "      <td>CITY</td>\n",
              "    </tr>\n",
              "    <tr>\n",
              "      <th>1</th>\n",
              "      <td>Climate Division</td>\n",
              "      <td>CLIM_DIV</td>\n",
              "    </tr>\n",
              "    <tr>\n",
              "      <th>2</th>\n",
              "      <td>Climate Region</td>\n",
              "      <td>CLIM_REG</td>\n",
              "    </tr>\n",
              "    <tr>\n",
              "      <th>3</th>\n",
              "      <td>Country</td>\n",
              "      <td>CNTRY</td>\n",
              "    </tr>\n",
              "    <tr>\n",
              "      <th>4</th>\n",
              "      <td>County</td>\n",
              "      <td>CNTY</td>\n",
              "    </tr>\n",
              "    <tr>\n",
              "      <th>5</th>\n",
              "      <td>Hydrologic Accounting Unit</td>\n",
              "      <td>HYD_ACC</td>\n",
              "    </tr>\n",
              "    <tr>\n",
              "      <th>6</th>\n",
              "      <td>Hydrologic Cataloging Unit</td>\n",
              "      <td>HYD_CAT</td>\n",
              "    </tr>\n",
              "    <tr>\n",
              "      <th>7</th>\n",
              "      <td>Hydrologic Region</td>\n",
              "      <td>HYD_REG</td>\n",
              "    </tr>\n",
              "    <tr>\n",
              "      <th>8</th>\n",
              "      <td>Hydrologic Subregion</td>\n",
              "      <td>HYD_SUB</td>\n",
              "    </tr>\n",
              "    <tr>\n",
              "      <th>9</th>\n",
              "      <td>State</td>\n",
              "      <td>ST</td>\n",
              "    </tr>\n",
              "    <tr>\n",
              "      <th>10</th>\n",
              "      <td>US Territory</td>\n",
              "      <td>US_TERR</td>\n",
              "    </tr>\n",
              "    <tr>\n",
              "      <th>11</th>\n",
              "      <td>Zip Code</td>\n",
              "      <td>ZIP</td>\n",
              "    </tr>\n",
              "  </tbody>\n",
              "</table>\n",
              "</div>"
            ],
            "text/plain": [
              "                          name        id\n",
              "0                         City      CITY\n",
              "1             Climate Division  CLIM_DIV\n",
              "2               Climate Region  CLIM_REG\n",
              "3                      Country     CNTRY\n",
              "4                       County      CNTY\n",
              "5   Hydrologic Accounting Unit   HYD_ACC\n",
              "6   Hydrologic Cataloging Unit   HYD_CAT\n",
              "7            Hydrologic Region   HYD_REG\n",
              "8         Hydrologic Subregion   HYD_SUB\n",
              "9                        State        ST\n",
              "10                US Territory   US_TERR\n",
              "11                    Zip Code       ZIP"
            ]
          },
          "metadata": {
            "tags": []
          },
          "execution_count": 166
        }
      ]
    },
    {
      "cell_type": "code",
      "metadata": {
        "id": "1q2_371rJ8Oa",
        "colab_type": "code",
        "colab": {}
      },
      "source": [
        "# from ftplib import FTP\n",
        "# from datetime import datetime\n",
        "\n",
        "# start = datetime.now()\n",
        "# ftp = FTP('ftp.ncdc.noaa.gov')\n",
        "# ftp.login()\n",
        "# ftp.cwd(\"pub/data/ghcn/daily/by_year/\")\n",
        "\n",
        "\n",
        "# # Get All Files\n",
        "# files = [str(x)+'.csv.gz' for x in range(1985,2000)]\n",
        "\n",
        "# # Print out the files\n",
        "# for file in files:\n",
        "# \tprint(\"Downloading...\" + file)\n",
        "# \tftp.retrbinary(\"RETR \" + file ,open(file, 'wb').write)\n",
        "\n",
        "# ftp.close()\n",
        "\n",
        "# end = datetime.now()\n",
        "# diff = end - start\n",
        "# print('All files downloaded for ' + str(diff.seconds) + 's')"
      ],
      "execution_count": 0,
      "outputs": []
    },
    {
      "cell_type": "code",
      "metadata": {
        "id": "17W4CiaOK2AI",
        "colab_type": "code",
        "colab": {}
      },
      "source": [
        "df = pd.read_csv('1987.csv.gz', compression='gzip', header=0, sep=',', quotechar='\"', error_bad_lines=False)"
      ],
      "execution_count": 0,
      "outputs": []
    },
    {
      "cell_type": "code",
      "metadata": {
        "id": "6QLQrpGhYs5j",
        "colab_type": "code",
        "colab": {
          "base_uri": "https://localhost:8080/",
          "height": 419
        },
        "outputId": "e15afc45-3dc3-4c3c-e1ce-64b40e4fd5c7"
      },
      "source": [
        "df"
      ],
      "execution_count": 6,
      "outputs": [
        {
          "output_type": "execute_result",
          "data": {
            "text/html": [
              "<div>\n",
              "<style scoped>\n",
              "    .dataframe tbody tr th:only-of-type {\n",
              "        vertical-align: middle;\n",
              "    }\n",
              "\n",
              "    .dataframe tbody tr th {\n",
              "        vertical-align: top;\n",
              "    }\n",
              "\n",
              "    .dataframe thead th {\n",
              "        text-align: right;\n",
              "    }\n",
              "</style>\n",
              "<table border=\"1\" class=\"dataframe\">\n",
              "  <thead>\n",
              "    <tr style=\"text-align: right;\">\n",
              "      <th></th>\n",
              "      <th>CA002303986</th>\n",
              "      <th>19860101</th>\n",
              "      <th>TMAX</th>\n",
              "      <th>-270</th>\n",
              "      <th>Unnamed: 4</th>\n",
              "      <th>Unnamed: 5</th>\n",
              "      <th>C</th>\n",
              "      <th>Unnamed: 7</th>\n",
              "    </tr>\n",
              "  </thead>\n",
              "  <tbody>\n",
              "    <tr>\n",
              "      <th>0</th>\n",
              "      <td>CA002303986</td>\n",
              "      <td>19860101</td>\n",
              "      <td>TMIN</td>\n",
              "      <td>-290</td>\n",
              "      <td>NaN</td>\n",
              "      <td>NaN</td>\n",
              "      <td>C</td>\n",
              "      <td>NaN</td>\n",
              "    </tr>\n",
              "    <tr>\n",
              "      <th>1</th>\n",
              "      <td>CA002303986</td>\n",
              "      <td>19860101</td>\n",
              "      <td>PRCP</td>\n",
              "      <td>0</td>\n",
              "      <td>NaN</td>\n",
              "      <td>NaN</td>\n",
              "      <td>C</td>\n",
              "      <td>NaN</td>\n",
              "    </tr>\n",
              "    <tr>\n",
              "      <th>2</th>\n",
              "      <td>CA002303986</td>\n",
              "      <td>19860101</td>\n",
              "      <td>SNOW</td>\n",
              "      <td>0</td>\n",
              "      <td>NaN</td>\n",
              "      <td>NaN</td>\n",
              "      <td>C</td>\n",
              "      <td>NaN</td>\n",
              "    </tr>\n",
              "    <tr>\n",
              "      <th>3</th>\n",
              "      <td>ASN00037003</td>\n",
              "      <td>19860101</td>\n",
              "      <td>PRCP</td>\n",
              "      <td>0</td>\n",
              "      <td>NaN</td>\n",
              "      <td>NaN</td>\n",
              "      <td>a</td>\n",
              "      <td>NaN</td>\n",
              "    </tr>\n",
              "    <tr>\n",
              "      <th>4</th>\n",
              "      <td>USC00242347</td>\n",
              "      <td>19860101</td>\n",
              "      <td>TMAX</td>\n",
              "      <td>94</td>\n",
              "      <td>NaN</td>\n",
              "      <td>NaN</td>\n",
              "      <td>0</td>\n",
              "      <td>1830.0</td>\n",
              "    </tr>\n",
              "    <tr>\n",
              "      <th>...</th>\n",
              "      <td>...</td>\n",
              "      <td>...</td>\n",
              "      <td>...</td>\n",
              "      <td>...</td>\n",
              "      <td>...</td>\n",
              "      <td>...</td>\n",
              "      <td>...</td>\n",
              "      <td>...</td>\n",
              "    </tr>\n",
              "    <tr>\n",
              "      <th>33927502</th>\n",
              "      <td>USC00033998</td>\n",
              "      <td>19861231</td>\n",
              "      <td>PRCP</td>\n",
              "      <td>0</td>\n",
              "      <td>NaN</td>\n",
              "      <td>NaN</td>\n",
              "      <td>0</td>\n",
              "      <td>700.0</td>\n",
              "    </tr>\n",
              "    <tr>\n",
              "      <th>33927503</th>\n",
              "      <td>USC00033998</td>\n",
              "      <td>19861231</td>\n",
              "      <td>SNOW</td>\n",
              "      <td>0</td>\n",
              "      <td>NaN</td>\n",
              "      <td>NaN</td>\n",
              "      <td>0</td>\n",
              "      <td>NaN</td>\n",
              "    </tr>\n",
              "    <tr>\n",
              "      <th>33927504</th>\n",
              "      <td>USC00033998</td>\n",
              "      <td>19861231</td>\n",
              "      <td>SNWD</td>\n",
              "      <td>0</td>\n",
              "      <td>NaN</td>\n",
              "      <td>NaN</td>\n",
              "      <td>0</td>\n",
              "      <td>NaN</td>\n",
              "    </tr>\n",
              "    <tr>\n",
              "      <th>33927505</th>\n",
              "      <td>NOE00111031</td>\n",
              "      <td>19861231</td>\n",
              "      <td>PRCP</td>\n",
              "      <td>9</td>\n",
              "      <td>NaN</td>\n",
              "      <td>NaN</td>\n",
              "      <td>E</td>\n",
              "      <td>NaN</td>\n",
              "    </tr>\n",
              "    <tr>\n",
              "      <th>33927506</th>\n",
              "      <td>NOE00111031</td>\n",
              "      <td>19861231</td>\n",
              "      <td>SNWD</td>\n",
              "      <td>450</td>\n",
              "      <td>NaN</td>\n",
              "      <td>NaN</td>\n",
              "      <td>E</td>\n",
              "      <td>NaN</td>\n",
              "    </tr>\n",
              "  </tbody>\n",
              "</table>\n",
              "<p>33927507 rows × 8 columns</p>\n",
              "</div>"
            ],
            "text/plain": [
              "          CA002303986  19860101  TMAX  ...  Unnamed: 5  C Unnamed: 7\n",
              "0         CA002303986  19860101  TMIN  ...         NaN  C        NaN\n",
              "1         CA002303986  19860101  PRCP  ...         NaN  C        NaN\n",
              "2         CA002303986  19860101  SNOW  ...         NaN  C        NaN\n",
              "3         ASN00037003  19860101  PRCP  ...         NaN  a        NaN\n",
              "4         USC00242347  19860101  TMAX  ...         NaN  0     1830.0\n",
              "...               ...       ...   ...  ...         ... ..        ...\n",
              "33927502  USC00033998  19861231  PRCP  ...         NaN  0      700.0\n",
              "33927503  USC00033998  19861231  SNOW  ...         NaN  0        NaN\n",
              "33927504  USC00033998  19861231  SNWD  ...         NaN  0        NaN\n",
              "33927505  NOE00111031  19861231  PRCP  ...         NaN  E        NaN\n",
              "33927506  NOE00111031  19861231  SNWD  ...         NaN  E        NaN\n",
              "\n",
              "[33927507 rows x 8 columns]"
            ]
          },
          "metadata": {
            "tags": []
          },
          "execution_count": 6
        }
      ]
    },
    {
      "cell_type": "code",
      "metadata": {
        "id": "drRvwh6NYtzh",
        "colab_type": "code",
        "colab": {}
      },
      "source": [
        "!apt-get install openjdk-8-jdk-headless -qq > /dev/null\n",
        "!wget -q https://www-us.apache.org/dist/spark/spark-2.4.5/spark-2.4.5-bin-hadoop2.7.tgz\n",
        "!tar xf spark-2.4.5-bin-hadoop2.7.tgz\n",
        "!pip install -q findspark"
      ],
      "execution_count": 0,
      "outputs": []
    },
    {
      "cell_type": "code",
      "metadata": {
        "id": "941dXJgKcIos",
        "colab_type": "code",
        "colab": {
          "base_uri": "https://localhost:8080/",
          "height": 51
        },
        "outputId": "d239f777-0ec5-4225-cf44-fb63d280775b"
      },
      "source": [
        "!pip install pyspark\n",
        "import pyspark\n",
        "from pyspark import SparkContext\n",
        "from pyspark.sql import SQLContext\n",
        "from pyspark import SparkFiles"
      ],
      "execution_count": 12,
      "outputs": [
        {
          "output_type": "stream",
          "text": [
            "Requirement already satisfied: pyspark in /usr/local/lib/python3.6/dist-packages (2.4.5)\n",
            "Requirement already satisfied: py4j==0.10.7 in /usr/local/lib/python3.6/dist-packages (from pyspark) (0.10.7)\n"
          ],
          "name": "stdout"
        }
      ]
    },
    {
      "cell_type": "code",
      "metadata": {
        "id": "vF8vg5-GbEIq",
        "colab_type": "code",
        "colab": {}
      },
      "source": [
        "import os\n",
        "os.environ[\"JAVA_HOME\"] = \"/usr/lib/jvm/java-8-openjdk-amd64\"\n",
        "os.environ[\"SPARK_HOME\"] = \"/content/spark-2.4.5-bin-hadoop2.7\""
      ],
      "execution_count": 0,
      "outputs": []
    },
    {
      "cell_type": "code",
      "metadata": {
        "id": "_DWRv7jMfp4s",
        "colab_type": "code",
        "colab": {}
      },
      "source": [
        "from pyspark.sql import SparkSession\n",
        "spark = SparkSession \\\n",
        "        .builder \\\n",
        "        .appName(\"stackOverflow\") \\\n",
        "        .getOrCreate()"
      ],
      "execution_count": 0,
      "outputs": []
    },
    {
      "cell_type": "code",
      "metadata": {
        "id": "lqaomaY3aMp3",
        "colab_type": "code",
        "colab": {}
      },
      "source": [
        "# import findspark\n",
        "# findspark.init()\n",
        "# from pyspark.sql import SparkSession\n",
        "# spark = SparkSession.builder.master(\"local[*]\").getOrCreate()"
      ],
      "execution_count": 0,
      "outputs": []
    },
    {
      "cell_type": "code",
      "metadata": {
        "id": "c2abOIlAbikp",
        "colab_type": "code",
        "colab": {}
      },
      "source": [
        "sc =SparkContext.getOrCreate()\n",
        "\n",
        "for file in files:\n",
        "  sc.addFile(file)"
      ],
      "execution_count": 0,
      "outputs": []
    },
    {
      "cell_type": "code",
      "metadata": {
        "id": "AzXpcXHhbBcG",
        "colab_type": "code",
        "colab": {}
      },
      "source": [
        "sqlContext = SQLContext(sc)\n",
        "sqlContext\n",
        "# df = sqlContext.read.csv(SparkFiles.get(files), header=True, inferSchema= True)\n",
        "# df.printSchema()\n",
        "\n",
        "spark.read.format(\"csv\").option(\"header\", \"true\").load(\"*.csv.gz\")\n",
        "df=spark.read.option(\"header\", \"false\").csv(\"*.csv.gz\")"
      ],
      "execution_count": 0,
      "outputs": []
    },
    {
      "cell_type": "code",
      "metadata": {
        "id": "972gSaH7bUgc",
        "colab_type": "code",
        "colab": {
          "base_uri": "https://localhost:8080/",
          "height": 187
        },
        "outputId": "bfc21b64-ba54-4e90-c7ed-7c41f6becaad"
      },
      "source": [
        "df.printSchema()"
      ],
      "execution_count": 50,
      "outputs": [
        {
          "output_type": "stream",
          "text": [
            "root\n",
            " |-- _c0: string (nullable = true)\n",
            " |-- _c1: string (nullable = true)\n",
            " |-- _c2: string (nullable = true)\n",
            " |-- _c3: string (nullable = true)\n",
            " |-- _c4: string (nullable = true)\n",
            " |-- _c5: string (nullable = true)\n",
            " |-- _c6: string (nullable = true)\n",
            " |-- _c7: string (nullable = true)\n",
            "\n"
          ],
          "name": "stdout"
        }
      ]
    },
    {
      "cell_type": "code",
      "metadata": {
        "id": "hwh7prs8dV7D",
        "colab_type": "code",
        "colab": {
          "base_uri": "https://localhost:8080/",
          "height": 34
        },
        "outputId": "bb12632a-a49d-4c49-ce31-151529954b97"
      },
      "source": [
        "files = [str(x)+'.csv.gz' for x in range(1985,1988)]\n",
        "files"
      ],
      "execution_count": 51,
      "outputs": [
        {
          "output_type": "execute_result",
          "data": {
            "text/plain": [
              "['1985.csv.gz', '1986.csv.gz', '1987.csv.gz']"
            ]
          },
          "metadata": {
            "tags": []
          },
          "execution_count": 51
        }
      ]
    },
    {
      "cell_type": "code",
      "metadata": {
        "id": "4KssyH6nhRUY",
        "colab_type": "code",
        "colab": {
          "base_uri": "https://localhost:8080/",
          "height": 204
        },
        "outputId": "09123ae6-d740-4d57-cdf4-cc58f610ef83"
      },
      "source": [
        "df.show(5)"
      ],
      "execution_count": 55,
      "outputs": [
        {
          "output_type": "stream",
          "text": [
            "+-----------+--------+----+----+----+----+---+----+\n",
            "|        _c0|     _c1| _c2| _c3| _c4| _c5|_c6| _c7|\n",
            "+-----------+--------+----+----+----+----+---+----+\n",
            "|ASN00037003|19850101|PRCP|   0|null|null|  a|null|\n",
            "|USC00242347|19850101|TMAX| -33|null|null|  0|1830|\n",
            "|USC00242347|19850101|TMIN|-256|null|null|  0|1830|\n",
            "|USC00242347|19850101|TOBS| -61|null|null|  0|1830|\n",
            "|USC00242347|19850101|PRCP|   0|   P|null|  0|1830|\n",
            "+-----------+--------+----+----+----+----+---+----+\n",
            "only showing top 5 rows\n",
            "\n"
          ],
          "name": "stdout"
        }
      ]
    },
    {
      "cell_type": "code",
      "metadata": {
        "id": "A12tIlfLhszO",
        "colab_type": "code",
        "colab": {}
      },
      "source": [
        ""
      ],
      "execution_count": 0,
      "outputs": []
    }
  ]
}