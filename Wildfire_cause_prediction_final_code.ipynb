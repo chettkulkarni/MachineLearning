{
  "nbformat": 4,
  "nbformat_minor": 0,
  "metadata": {
    "colab": {
      "name": "Wildfire_cause_prediction.ipynb",
      "provenance": [],
      "collapsed_sections": [],
      "toc_visible": true,
      "machine_shape": "hm",
      "include_colab_link": true
    },
    "kernelspec": {
      "name": "python3",
      "display_name": "Python 3"
    }
  },
  "cells": [
    {
      "cell_type": "markdown",
      "metadata": {
        "id": "view-in-github",
        "colab_type": "text"
      },
      "source": [
        "<a href=\"https://colab.research.google.com/github/chettkulkarni/MachineLearning/blob/master/Wildfire_cause_prediction_final_code.ipynb\" target=\"_parent\"><img src=\"https://colab.research.google.com/assets/colab-badge.svg\" alt=\"Open In Colab\"/></a>"
      ]
    },
    {
      "cell_type": "markdown",
      "metadata": {
        "id": "1e52p8v16XkV",
        "colab_type": "text"
      },
      "source": [
        "#**Wildfire Cause Prediction**\n",
        "\n",
        "##Team: FourReal\n",
        "\n",
        "1. Nupur Yadav\n",
        "2. Chetan Kulkarni\n",
        "3. Lokesh Vadlamudi\n",
        "4. Ronak Mehta"
      ]
    },
    {
      "cell_type": "markdown",
      "metadata": {
        "id": "MRJdyNcj7ABe",
        "colab_type": "text"
      },
      "source": [
        "##**Problem Definition:**\n",
        "\n",
        "The number of wildfire cases have drastically increased in the past few years, with more than 52,000 fires in 2018 alone. The goal of this project is to predict the cause of wildfire using meteorological and other weather related data such as location, day of the week, month, temperature and so on. This type of prediction can help government to monitor and mitigate impact of these fires by allocating proper resources based on the cause of fire."
      ]
    },
    {
      "cell_type": "markdown",
      "metadata": {
        "id": "Da1AzaygFydE",
        "colab_type": "text"
      },
      "source": [
        "##**Datasets:**\n",
        "\n",
        "We have taken our base dataset from kaggle (https://www.kaggle.com/rtatman/188-million-us-wildfires) which had 1.88 million historic fires from throughout the United States and during the period of\n",
        "1992-2015. It had features such as fire cause code (1-13) specifying what started the fire, fire cause description, latitude, and longitude, discovery date etc. \n",
        "\n",
        "In our dataset the fire cause code has values from 1-13 mapped to below fire cause description.\n",
        "\n",
        "1 - Lightning\n",
        "\n",
        "2 - Equipment Use\n",
        "\n",
        "3 - Smoking\n",
        "\n",
        "4 - Campfire\n",
        "\n",
        "5 - Debris Burning\n",
        "\n",
        "6 - Railroad\n",
        "\n",
        "7 - Arson\n",
        "\n",
        "8 - Children\n",
        "\n",
        "9 - Miscellaneous\n",
        "\n",
        "10 - Fireworks\n",
        "\n",
        "11 - Powerline\n",
        "\n",
        "12 - Structure\n",
        "\n",
        "13 - Missing/Undefined\n",
        "\n",
        "But it didn't have weather related data which was crucial for our prediction so we **amalgamated our base dataset with weather dataset from National Oceanic and Atmospheric Administration (ncdc.novaa.gov website)** and added fields such as Temperature, snow, precipitation, TOBS to our dataset."
      ]
    },
    {
      "cell_type": "markdown",
      "metadata": {
        "id": "RQ5cA1SPEkGC",
        "colab_type": "text"
      },
      "source": [
        "##**Importing necessary libraries and loading our base dataset**\n",
        "\n"
      ]
    },
    {
      "cell_type": "code",
      "metadata": {
        "id": "oo_DCUfOmi0X",
        "colab_type": "code",
        "colab": {}
      },
      "source": [
        "import warnings\n",
        "warnings.filterwarnings('ignore')"
      ],
      "execution_count": 0,
      "outputs": []
    },
    {
      "cell_type": "code",
      "metadata": {
        "id": "rizChCfwmntf",
        "colab_type": "code",
        "colab": {}
      },
      "source": [
        "import random\n",
        "random.seed(1)"
      ],
      "execution_count": 0,
      "outputs": []
    },
    {
      "cell_type": "code",
      "metadata": {
        "id": "XUgOBZc96EEX",
        "colab_type": "code",
        "colab": {}
      },
      "source": [
        "#Importing Libraries\n",
        "import sqlite3\n",
        "import pandas as pd\n",
        "from matplotlib import pyplot as plt\n",
        "from sklearn.cluster import KMeans\n",
        "from sklearn import tree, preprocessing\n",
        "\n",
        "import pandas as pd\n",
        "from sklearn.model_selection import train_test_split, KFold, cross_val_score\n",
        "from sklearn.metrics import accuracy_score, confusion_matrix, classification_report, fbeta_score\n",
        "import numpy as np\n",
        "import seaborn as sns\n",
        "import matplotlib.pyplot as plt\n",
        "import matplotlib.pyplot as plt2\n",
        "\n",
        "from sklearn.ensemble import RandomForestClassifier\n",
        "from sklearn.linear_model import LogisticRegression,LinearRegression\n",
        "from sklearn.tree import DecisionTreeClassifier\n",
        "from sklearn.neighbors import KNeighborsClassifier\n",
        "from sklearn.discriminant_analysis import LinearDiscriminantAnalysis\n",
        "from sklearn.naive_bayes import GaussianNB\n",
        "from sklearn.svm import SVC\n",
        "from xgboost import XGBClassifier\n",
        "from sklearn.cluster import KMeans\n",
        "from yellowbrick.cluster import KElbowVisualizer\n",
        "from sklearn.mixture import GaussianMixture as GMM\n",
        "from sklearn.decomposition import PCA\n",
        "\n",
        "\n",
        "%matplotlib inline\n",
        "\n",
        "\n",
        "#Importing Libraries\n",
        "import sqlite3\n",
        "import pandas as pd\n",
        "from matplotlib import pyplot as plt\n",
        "from sklearn.cluster import KMeans\n",
        "from sklearn import tree, preprocessing"
      ],
      "execution_count": 0,
      "outputs": []
    },
    {
      "cell_type": "code",
      "metadata": {
        "id": "v56bRLm6M7Nm",
        "colab_type": "code",
        "colab": {}
      },
      "source": [
        "# Code to read csv file into Colaboratory:\n",
        "!pip install -U -q PyDrive\n",
        "from pydrive.auth import GoogleAuth\n",
        "from pydrive.drive import GoogleDrive\n",
        "from google.colab import auth\n",
        "from oauth2client.client import GoogleCredentials\n",
        "# Authenticate and create the PyDrive client.\n",
        "auth.authenticate_user()\n",
        "gauth = GoogleAuth()\n",
        "gauth.credentials = GoogleCredentials.get_application_default()\n",
        "drive = GoogleDrive(gauth)"
      ],
      "execution_count": 0,
      "outputs": []
    },
    {
      "cell_type": "code",
      "metadata": {
        "id": "VKnVz-jhNJnk",
        "colab_type": "code",
        "outputId": "057d2acd-f588-4b9d-b6ad-710f4d3ba6fd",
        "colab": {
          "base_uri": "https://localhost:8080/",
          "height": 34
        }
      },
      "source": [
        "link = 'https://drive.google.com/open?id=1ApRYxyMqnFKH8XW1GbQ-KZNJdbdeEdV9'\n",
        "fluff, id = link.split('=')\n",
        "print (id) # Verify that you have everything after '='"
      ],
      "execution_count": 5,
      "outputs": [
        {
          "output_type": "stream",
          "text": [
            "1ApRYxyMqnFKH8XW1GbQ-KZNJdbdeEdV9\n"
          ],
          "name": "stdout"
        }
      ]
    },
    {
      "cell_type": "code",
      "metadata": {
        "id": "pVVI9r86NT-N",
        "colab_type": "code",
        "colab": {}
      },
      "source": [
        "downloaded = drive.CreateFile({'id':id}) \n",
        "downloaded.GetContentFile('Fire.csv')"
      ],
      "execution_count": 0,
      "outputs": []
    },
    {
      "cell_type": "code",
      "metadata": {
        "id": "BAaaWco3Nb13",
        "colab_type": "code",
        "colab": {}
      },
      "source": [
        "#Loading dataset into pandas dataframe\n",
        "df = pd.read_csv('Fire.csv')"
      ],
      "execution_count": 0,
      "outputs": []
    },
    {
      "cell_type": "code",
      "metadata": {
        "id": "6xehoO9dNnH6",
        "colab_type": "code",
        "outputId": "922b9289-6a53-4e4a-d970-833ef3c419f7",
        "colab": {
          "base_uri": "https://localhost:8080/",
          "height": 326
        }
      },
      "source": [
        "#Displaying first few records\n",
        "df.head()"
      ],
      "execution_count": 8,
      "outputs": [
        {
          "output_type": "execute_result",
          "data": {
            "text/html": [
              "<div>\n",
              "<style scoped>\n",
              "    .dataframe tbody tr th:only-of-type {\n",
              "        vertical-align: middle;\n",
              "    }\n",
              "\n",
              "    .dataframe tbody tr th {\n",
              "        vertical-align: top;\n",
              "    }\n",
              "\n",
              "    .dataframe thead th {\n",
              "        text-align: right;\n",
              "    }\n",
              "</style>\n",
              "<table border=\"1\" class=\"dataframe\">\n",
              "  <thead>\n",
              "    <tr style=\"text-align: right;\">\n",
              "      <th></th>\n",
              "      <th>Unnamed: 0</th>\n",
              "      <th>OBJECTID</th>\n",
              "      <th>FOD_ID</th>\n",
              "      <th>FPA_ID</th>\n",
              "      <th>SOURCE_SYSTEM_TYPE</th>\n",
              "      <th>SOURCE_SYSTEM</th>\n",
              "      <th>NWCG_REPORTING_AGENCY</th>\n",
              "      <th>NWCG_REPORTING_UNIT_ID</th>\n",
              "      <th>NWCG_REPORTING_UNIT_NAME</th>\n",
              "      <th>SOURCE_REPORTING_UNIT</th>\n",
              "      <th>SOURCE_REPORTING_UNIT_NAME</th>\n",
              "      <th>LOCAL_FIRE_REPORT_ID</th>\n",
              "      <th>LOCAL_INCIDENT_ID</th>\n",
              "      <th>FIRE_CODE</th>\n",
              "      <th>FIRE_NAME</th>\n",
              "      <th>ICS_209_INCIDENT_NUMBER</th>\n",
              "      <th>ICS_209_NAME</th>\n",
              "      <th>MTBS_ID</th>\n",
              "      <th>MTBS_FIRE_NAME</th>\n",
              "      <th>COMPLEX_NAME</th>\n",
              "      <th>FIRE_YEAR</th>\n",
              "      <th>DISCOVERY_DATE</th>\n",
              "      <th>DISCOVERY_DOY</th>\n",
              "      <th>DISCOVERY_TIME</th>\n",
              "      <th>STAT_CAUSE_CODE</th>\n",
              "      <th>STAT_CAUSE_DESCR</th>\n",
              "      <th>CONT_DATE</th>\n",
              "      <th>CONT_DOY</th>\n",
              "      <th>CONT_TIME</th>\n",
              "      <th>FIRE_SIZE</th>\n",
              "      <th>FIRE_SIZE_CLASS</th>\n",
              "      <th>LATITUDE</th>\n",
              "      <th>LONGITUDE</th>\n",
              "      <th>OWNER_CODE</th>\n",
              "      <th>OWNER_DESCR</th>\n",
              "      <th>STATE</th>\n",
              "      <th>COUNTY</th>\n",
              "      <th>FIPS_CODE</th>\n",
              "      <th>FIPS_NAME</th>\n",
              "      <th>Shape</th>\n",
              "    </tr>\n",
              "  </thead>\n",
              "  <tbody>\n",
              "    <tr>\n",
              "      <th>0</th>\n",
              "      <td>0</td>\n",
              "      <td>1</td>\n",
              "      <td>1</td>\n",
              "      <td>FS-1418826</td>\n",
              "      <td>FED</td>\n",
              "      <td>FS-FIRESTAT</td>\n",
              "      <td>FS</td>\n",
              "      <td>USCAPNF</td>\n",
              "      <td>Plumas National Forest</td>\n",
              "      <td>511</td>\n",
              "      <td>Plumas National Forest</td>\n",
              "      <td>1</td>\n",
              "      <td>PNF-47</td>\n",
              "      <td>BJ8K</td>\n",
              "      <td>FOUNTAIN</td>\n",
              "      <td>NaN</td>\n",
              "      <td>NaN</td>\n",
              "      <td>NaN</td>\n",
              "      <td>NaN</td>\n",
              "      <td>NaN</td>\n",
              "      <td>2005</td>\n",
              "      <td>2453403.5</td>\n",
              "      <td>33</td>\n",
              "      <td>1300.0</td>\n",
              "      <td>9.0</td>\n",
              "      <td>Miscellaneous</td>\n",
              "      <td>2453403.5</td>\n",
              "      <td>33.0</td>\n",
              "      <td>1730.0</td>\n",
              "      <td>0.10</td>\n",
              "      <td>A</td>\n",
              "      <td>40.036944</td>\n",
              "      <td>-121.005833</td>\n",
              "      <td>5.0</td>\n",
              "      <td>USFS</td>\n",
              "      <td>CA</td>\n",
              "      <td>63</td>\n",
              "      <td>63.0</td>\n",
              "      <td>Plumas</td>\n",
              "      <td>b'\\x00\\x01\\xad\\x10\\x00\\x00\\xe8d\\xc2\\x92_@^\\xc0...</td>\n",
              "    </tr>\n",
              "    <tr>\n",
              "      <th>1</th>\n",
              "      <td>1</td>\n",
              "      <td>2</td>\n",
              "      <td>2</td>\n",
              "      <td>FS-1418827</td>\n",
              "      <td>FED</td>\n",
              "      <td>FS-FIRESTAT</td>\n",
              "      <td>FS</td>\n",
              "      <td>USCAENF</td>\n",
              "      <td>Eldorado National Forest</td>\n",
              "      <td>503</td>\n",
              "      <td>Eldorado National Forest</td>\n",
              "      <td>13</td>\n",
              "      <td>13</td>\n",
              "      <td>AAC0</td>\n",
              "      <td>PIGEON</td>\n",
              "      <td>NaN</td>\n",
              "      <td>NaN</td>\n",
              "      <td>NaN</td>\n",
              "      <td>NaN</td>\n",
              "      <td>NaN</td>\n",
              "      <td>2004</td>\n",
              "      <td>2453137.5</td>\n",
              "      <td>133</td>\n",
              "      <td>845.0</td>\n",
              "      <td>1.0</td>\n",
              "      <td>Lightning</td>\n",
              "      <td>2453137.5</td>\n",
              "      <td>133.0</td>\n",
              "      <td>1530.0</td>\n",
              "      <td>0.25</td>\n",
              "      <td>A</td>\n",
              "      <td>38.933056</td>\n",
              "      <td>-120.404444</td>\n",
              "      <td>5.0</td>\n",
              "      <td>USFS</td>\n",
              "      <td>CA</td>\n",
              "      <td>61</td>\n",
              "      <td>61.0</td>\n",
              "      <td>Placer</td>\n",
              "      <td>b'\\x00\\x01\\xad\\x10\\x00\\x00T\\xb6\\xeej\\xe2\\x19^\\...</td>\n",
              "    </tr>\n",
              "    <tr>\n",
              "      <th>2</th>\n",
              "      <td>2</td>\n",
              "      <td>3</td>\n",
              "      <td>3</td>\n",
              "      <td>FS-1418835</td>\n",
              "      <td>FED</td>\n",
              "      <td>FS-FIRESTAT</td>\n",
              "      <td>FS</td>\n",
              "      <td>USCAENF</td>\n",
              "      <td>Eldorado National Forest</td>\n",
              "      <td>503</td>\n",
              "      <td>Eldorado National Forest</td>\n",
              "      <td>27</td>\n",
              "      <td>021</td>\n",
              "      <td>A32W</td>\n",
              "      <td>SLACK</td>\n",
              "      <td>NaN</td>\n",
              "      <td>NaN</td>\n",
              "      <td>NaN</td>\n",
              "      <td>NaN</td>\n",
              "      <td>NaN</td>\n",
              "      <td>2004</td>\n",
              "      <td>2453156.5</td>\n",
              "      <td>152</td>\n",
              "      <td>1921.0</td>\n",
              "      <td>5.0</td>\n",
              "      <td>Debris Burning</td>\n",
              "      <td>2453156.5</td>\n",
              "      <td>152.0</td>\n",
              "      <td>2024.0</td>\n",
              "      <td>0.10</td>\n",
              "      <td>A</td>\n",
              "      <td>38.984167</td>\n",
              "      <td>-120.735556</td>\n",
              "      <td>13.0</td>\n",
              "      <td>STATE OR PRIVATE</td>\n",
              "      <td>CA</td>\n",
              "      <td>17</td>\n",
              "      <td>17.0</td>\n",
              "      <td>El Dorado</td>\n",
              "      <td>b'\\x00\\x01\\xad\\x10\\x00\\x00\\xd0\\xa5\\xa0W\\x13/^\\...</td>\n",
              "    </tr>\n",
              "    <tr>\n",
              "      <th>3</th>\n",
              "      <td>3</td>\n",
              "      <td>4</td>\n",
              "      <td>4</td>\n",
              "      <td>FS-1418845</td>\n",
              "      <td>FED</td>\n",
              "      <td>FS-FIRESTAT</td>\n",
              "      <td>FS</td>\n",
              "      <td>USCAENF</td>\n",
              "      <td>Eldorado National Forest</td>\n",
              "      <td>503</td>\n",
              "      <td>Eldorado National Forest</td>\n",
              "      <td>43</td>\n",
              "      <td>6</td>\n",
              "      <td>NaN</td>\n",
              "      <td>DEER</td>\n",
              "      <td>NaN</td>\n",
              "      <td>NaN</td>\n",
              "      <td>NaN</td>\n",
              "      <td>NaN</td>\n",
              "      <td>NaN</td>\n",
              "      <td>2004</td>\n",
              "      <td>2453184.5</td>\n",
              "      <td>180</td>\n",
              "      <td>1600.0</td>\n",
              "      <td>1.0</td>\n",
              "      <td>Lightning</td>\n",
              "      <td>2453189.5</td>\n",
              "      <td>185.0</td>\n",
              "      <td>1400.0</td>\n",
              "      <td>0.10</td>\n",
              "      <td>A</td>\n",
              "      <td>38.559167</td>\n",
              "      <td>-119.913333</td>\n",
              "      <td>5.0</td>\n",
              "      <td>USFS</td>\n",
              "      <td>CA</td>\n",
              "      <td>3</td>\n",
              "      <td>3.0</td>\n",
              "      <td>Alpine</td>\n",
              "      <td>b'\\x00\\x01\\xad\\x10\\x00\\x00\\x94\\xac\\xa3\\rt\\xfa]...</td>\n",
              "    </tr>\n",
              "    <tr>\n",
              "      <th>4</th>\n",
              "      <td>4</td>\n",
              "      <td>5</td>\n",
              "      <td>5</td>\n",
              "      <td>FS-1418847</td>\n",
              "      <td>FED</td>\n",
              "      <td>FS-FIRESTAT</td>\n",
              "      <td>FS</td>\n",
              "      <td>USCAENF</td>\n",
              "      <td>Eldorado National Forest</td>\n",
              "      <td>503</td>\n",
              "      <td>Eldorado National Forest</td>\n",
              "      <td>44</td>\n",
              "      <td>7</td>\n",
              "      <td>NaN</td>\n",
              "      <td>STEVENOT</td>\n",
              "      <td>NaN</td>\n",
              "      <td>NaN</td>\n",
              "      <td>NaN</td>\n",
              "      <td>NaN</td>\n",
              "      <td>NaN</td>\n",
              "      <td>2004</td>\n",
              "      <td>2453184.5</td>\n",
              "      <td>180</td>\n",
              "      <td>1600.0</td>\n",
              "      <td>1.0</td>\n",
              "      <td>Lightning</td>\n",
              "      <td>2453189.5</td>\n",
              "      <td>185.0</td>\n",
              "      <td>1200.0</td>\n",
              "      <td>0.10</td>\n",
              "      <td>A</td>\n",
              "      <td>38.559167</td>\n",
              "      <td>-119.933056</td>\n",
              "      <td>5.0</td>\n",
              "      <td>USFS</td>\n",
              "      <td>CA</td>\n",
              "      <td>3</td>\n",
              "      <td>3.0</td>\n",
              "      <td>Alpine</td>\n",
              "      <td>b'\\x00\\x01\\xad\\x10\\x00\\x00@\\xe3\\xaa.\\xb7\\xfb]\\...</td>\n",
              "    </tr>\n",
              "  </tbody>\n",
              "</table>\n",
              "</div>"
            ],
            "text/plain": [
              "   Unnamed: 0  ...                                              Shape\n",
              "0           0  ...  b'\\x00\\x01\\xad\\x10\\x00\\x00\\xe8d\\xc2\\x92_@^\\xc0...\n",
              "1           1  ...  b'\\x00\\x01\\xad\\x10\\x00\\x00T\\xb6\\xeej\\xe2\\x19^\\...\n",
              "2           2  ...  b'\\x00\\x01\\xad\\x10\\x00\\x00\\xd0\\xa5\\xa0W\\x13/^\\...\n",
              "3           3  ...  b'\\x00\\x01\\xad\\x10\\x00\\x00\\x94\\xac\\xa3\\rt\\xfa]...\n",
              "4           4  ...  b'\\x00\\x01\\xad\\x10\\x00\\x00@\\xe3\\xaa.\\xb7\\xfb]\\...\n",
              "\n",
              "[5 rows x 40 columns]"
            ]
          },
          "metadata": {
            "tags": []
          },
          "execution_count": 8
        }
      ]
    },
    {
      "cell_type": "markdown",
      "metadata": {
        "id": "AHh20_Z2NzLm",
        "colab_type": "text"
      },
      "source": [
        "##**Preprocessing data**"
      ]
    },
    {
      "cell_type": "code",
      "metadata": {
        "id": "NGGzZ7C7OAmB",
        "colab_type": "code",
        "outputId": "b8a61d04-9bb5-4804-a869-03a267da4fbf",
        "colab": {
          "base_uri": "https://localhost:8080/",
          "height": 225
        }
      },
      "source": [
        "#Checking the columns in dataset\n",
        "df.columns"
      ],
      "execution_count": 9,
      "outputs": [
        {
          "output_type": "execute_result",
          "data": {
            "text/plain": [
              "Index(['Unnamed: 0', 'OBJECTID', 'FOD_ID', 'FPA_ID', 'SOURCE_SYSTEM_TYPE',\n",
              "       'SOURCE_SYSTEM', 'NWCG_REPORTING_AGENCY', 'NWCG_REPORTING_UNIT_ID',\n",
              "       'NWCG_REPORTING_UNIT_NAME', 'SOURCE_REPORTING_UNIT',\n",
              "       'SOURCE_REPORTING_UNIT_NAME', 'LOCAL_FIRE_REPORT_ID',\n",
              "       'LOCAL_INCIDENT_ID', 'FIRE_CODE', 'FIRE_NAME',\n",
              "       'ICS_209_INCIDENT_NUMBER', 'ICS_209_NAME', 'MTBS_ID', 'MTBS_FIRE_NAME',\n",
              "       'COMPLEX_NAME', 'FIRE_YEAR', 'DISCOVERY_DATE', 'DISCOVERY_DOY',\n",
              "       'DISCOVERY_TIME', 'STAT_CAUSE_CODE', 'STAT_CAUSE_DESCR', 'CONT_DATE',\n",
              "       'CONT_DOY', 'CONT_TIME', 'FIRE_SIZE', 'FIRE_SIZE_CLASS', 'LATITUDE',\n",
              "       'LONGITUDE', 'OWNER_CODE', 'OWNER_DESCR', 'STATE', 'COUNTY',\n",
              "       'FIPS_CODE', 'FIPS_NAME', 'Shape'],\n",
              "      dtype='object')"
            ]
          },
          "metadata": {
            "tags": []
          },
          "execution_count": 9
        }
      ]
    },
    {
      "cell_type": "code",
      "metadata": {
        "id": "BDMyLv7jOID0",
        "colab_type": "code",
        "outputId": "a8709e34-5ed5-47fa-f1b6-a916ccd0834b",
        "colab": {
          "base_uri": "https://localhost:8080/",
          "height": 34
        }
      },
      "source": [
        "#Displaying the shape of data\n",
        "df.shape"
      ],
      "execution_count": 10,
      "outputs": [
        {
          "output_type": "execute_result",
          "data": {
            "text/plain": [
              "(1880465, 40)"
            ]
          },
          "metadata": {
            "tags": []
          },
          "execution_count": 10
        }
      ]
    },
    {
      "cell_type": "code",
      "metadata": {
        "id": "Xz1D0sdMOT4L",
        "colab_type": "code",
        "colab": {}
      },
      "source": [
        "#Creating a new data frame with required columns\n",
        "df = df[['FIRE_YEAR','STAT_CAUSE_CODE','STAT_CAUSE_DESCR','LATITUDE','LONGITUDE','STATE','DISCOVERY_DATE','FIRE_SIZE']].copy()"
      ],
      "execution_count": 0,
      "outputs": []
    },
    {
      "cell_type": "code",
      "metadata": {
        "id": "uaNLz0yH7GmW",
        "colab_type": "code",
        "outputId": "108f7edb-e608-4b7c-ade4-88131e9f1770",
        "colab": {
          "base_uri": "https://localhost:8080/",
          "height": 173
        }
      },
      "source": [
        "#Checking for the missing values in the dataset\n",
        "df.isnull().sum()"
      ],
      "execution_count": 12,
      "outputs": [
        {
          "output_type": "execute_result",
          "data": {
            "text/plain": [
              "FIRE_YEAR           0\n",
              "STAT_CAUSE_CODE     0\n",
              "STAT_CAUSE_DESCR    0\n",
              "LATITUDE            0\n",
              "LONGITUDE           0\n",
              "STATE               0\n",
              "DISCOVERY_DATE      0\n",
              "FIRE_SIZE           0\n",
              "dtype: int64"
            ]
          },
          "metadata": {
            "tags": []
          },
          "execution_count": 12
        }
      ]
    },
    {
      "cell_type": "markdown",
      "metadata": {
        "id": "LxKs81RjGQI1",
        "colab_type": "text"
      },
      "source": [
        "As we can see our dataset don't have any missing values."
      ]
    },
    {
      "cell_type": "code",
      "metadata": {
        "id": "EcKvM3x5Oqf4",
        "colab_type": "code",
        "outputId": "04458725-e8c9-47a1-aa36-8c50e3352e2b",
        "colab": {
          "base_uri": "https://localhost:8080/",
          "height": 202
        }
      },
      "source": [
        "#Displaying top 5 records\n",
        "df.head()"
      ],
      "execution_count": 13,
      "outputs": [
        {
          "output_type": "execute_result",
          "data": {
            "text/html": [
              "<div>\n",
              "<style scoped>\n",
              "    .dataframe tbody tr th:only-of-type {\n",
              "        vertical-align: middle;\n",
              "    }\n",
              "\n",
              "    .dataframe tbody tr th {\n",
              "        vertical-align: top;\n",
              "    }\n",
              "\n",
              "    .dataframe thead th {\n",
              "        text-align: right;\n",
              "    }\n",
              "</style>\n",
              "<table border=\"1\" class=\"dataframe\">\n",
              "  <thead>\n",
              "    <tr style=\"text-align: right;\">\n",
              "      <th></th>\n",
              "      <th>FIRE_YEAR</th>\n",
              "      <th>STAT_CAUSE_CODE</th>\n",
              "      <th>STAT_CAUSE_DESCR</th>\n",
              "      <th>LATITUDE</th>\n",
              "      <th>LONGITUDE</th>\n",
              "      <th>STATE</th>\n",
              "      <th>DISCOVERY_DATE</th>\n",
              "      <th>FIRE_SIZE</th>\n",
              "    </tr>\n",
              "  </thead>\n",
              "  <tbody>\n",
              "    <tr>\n",
              "      <th>0</th>\n",
              "      <td>2005</td>\n",
              "      <td>9.0</td>\n",
              "      <td>Miscellaneous</td>\n",
              "      <td>40.036944</td>\n",
              "      <td>-121.005833</td>\n",
              "      <td>CA</td>\n",
              "      <td>2453403.5</td>\n",
              "      <td>0.10</td>\n",
              "    </tr>\n",
              "    <tr>\n",
              "      <th>1</th>\n",
              "      <td>2004</td>\n",
              "      <td>1.0</td>\n",
              "      <td>Lightning</td>\n",
              "      <td>38.933056</td>\n",
              "      <td>-120.404444</td>\n",
              "      <td>CA</td>\n",
              "      <td>2453137.5</td>\n",
              "      <td>0.25</td>\n",
              "    </tr>\n",
              "    <tr>\n",
              "      <th>2</th>\n",
              "      <td>2004</td>\n",
              "      <td>5.0</td>\n",
              "      <td>Debris Burning</td>\n",
              "      <td>38.984167</td>\n",
              "      <td>-120.735556</td>\n",
              "      <td>CA</td>\n",
              "      <td>2453156.5</td>\n",
              "      <td>0.10</td>\n",
              "    </tr>\n",
              "    <tr>\n",
              "      <th>3</th>\n",
              "      <td>2004</td>\n",
              "      <td>1.0</td>\n",
              "      <td>Lightning</td>\n",
              "      <td>38.559167</td>\n",
              "      <td>-119.913333</td>\n",
              "      <td>CA</td>\n",
              "      <td>2453184.5</td>\n",
              "      <td>0.10</td>\n",
              "    </tr>\n",
              "    <tr>\n",
              "      <th>4</th>\n",
              "      <td>2004</td>\n",
              "      <td>1.0</td>\n",
              "      <td>Lightning</td>\n",
              "      <td>38.559167</td>\n",
              "      <td>-119.933056</td>\n",
              "      <td>CA</td>\n",
              "      <td>2453184.5</td>\n",
              "      <td>0.10</td>\n",
              "    </tr>\n",
              "  </tbody>\n",
              "</table>\n",
              "</div>"
            ],
            "text/plain": [
              "   FIRE_YEAR  STAT_CAUSE_CODE STAT_CAUSE_DESCR  ...  STATE  DISCOVERY_DATE FIRE_SIZE\n",
              "0       2005              9.0    Miscellaneous  ...     CA       2453403.5      0.10\n",
              "1       2004              1.0        Lightning  ...     CA       2453137.5      0.25\n",
              "2       2004              5.0   Debris Burning  ...     CA       2453156.5      0.10\n",
              "3       2004              1.0        Lightning  ...     CA       2453184.5      0.10\n",
              "4       2004              1.0        Lightning  ...     CA       2453184.5      0.10\n",
              "\n",
              "[5 rows x 8 columns]"
            ]
          },
          "metadata": {
            "tags": []
          },
          "execution_count": 13
        }
      ]
    },
    {
      "cell_type": "code",
      "metadata": {
        "id": "iNMIVWhuznlD",
        "colab_type": "code",
        "outputId": "af3076a4-730a-4f4a-f00f-2ebbafd9e73a",
        "colab": {
          "base_uri": "https://localhost:8080/",
          "height": 202
        }
      },
      "source": [
        "#Converting the DISCOVERY_DATE field's Julian Date format in Gregorian dates\n",
        "df['DATE'] = pd.to_datetime(df['DISCOVERY_DATE'] - pd.Timestamp(0).to_julian_date(), unit='D')\n",
        "df.head() #check the data"
      ],
      "execution_count": 14,
      "outputs": [
        {
          "output_type": "execute_result",
          "data": {
            "text/html": [
              "<div>\n",
              "<style scoped>\n",
              "    .dataframe tbody tr th:only-of-type {\n",
              "        vertical-align: middle;\n",
              "    }\n",
              "\n",
              "    .dataframe tbody tr th {\n",
              "        vertical-align: top;\n",
              "    }\n",
              "\n",
              "    .dataframe thead th {\n",
              "        text-align: right;\n",
              "    }\n",
              "</style>\n",
              "<table border=\"1\" class=\"dataframe\">\n",
              "  <thead>\n",
              "    <tr style=\"text-align: right;\">\n",
              "      <th></th>\n",
              "      <th>FIRE_YEAR</th>\n",
              "      <th>STAT_CAUSE_CODE</th>\n",
              "      <th>STAT_CAUSE_DESCR</th>\n",
              "      <th>LATITUDE</th>\n",
              "      <th>LONGITUDE</th>\n",
              "      <th>STATE</th>\n",
              "      <th>DISCOVERY_DATE</th>\n",
              "      <th>FIRE_SIZE</th>\n",
              "      <th>DATE</th>\n",
              "    </tr>\n",
              "  </thead>\n",
              "  <tbody>\n",
              "    <tr>\n",
              "      <th>0</th>\n",
              "      <td>2005</td>\n",
              "      <td>9.0</td>\n",
              "      <td>Miscellaneous</td>\n",
              "      <td>40.036944</td>\n",
              "      <td>-121.005833</td>\n",
              "      <td>CA</td>\n",
              "      <td>2453403.5</td>\n",
              "      <td>0.10</td>\n",
              "      <td>2005-02-02</td>\n",
              "    </tr>\n",
              "    <tr>\n",
              "      <th>1</th>\n",
              "      <td>2004</td>\n",
              "      <td>1.0</td>\n",
              "      <td>Lightning</td>\n",
              "      <td>38.933056</td>\n",
              "      <td>-120.404444</td>\n",
              "      <td>CA</td>\n",
              "      <td>2453137.5</td>\n",
              "      <td>0.25</td>\n",
              "      <td>2004-05-12</td>\n",
              "    </tr>\n",
              "    <tr>\n",
              "      <th>2</th>\n",
              "      <td>2004</td>\n",
              "      <td>5.0</td>\n",
              "      <td>Debris Burning</td>\n",
              "      <td>38.984167</td>\n",
              "      <td>-120.735556</td>\n",
              "      <td>CA</td>\n",
              "      <td>2453156.5</td>\n",
              "      <td>0.10</td>\n",
              "      <td>2004-05-31</td>\n",
              "    </tr>\n",
              "    <tr>\n",
              "      <th>3</th>\n",
              "      <td>2004</td>\n",
              "      <td>1.0</td>\n",
              "      <td>Lightning</td>\n",
              "      <td>38.559167</td>\n",
              "      <td>-119.913333</td>\n",
              "      <td>CA</td>\n",
              "      <td>2453184.5</td>\n",
              "      <td>0.10</td>\n",
              "      <td>2004-06-28</td>\n",
              "    </tr>\n",
              "    <tr>\n",
              "      <th>4</th>\n",
              "      <td>2004</td>\n",
              "      <td>1.0</td>\n",
              "      <td>Lightning</td>\n",
              "      <td>38.559167</td>\n",
              "      <td>-119.933056</td>\n",
              "      <td>CA</td>\n",
              "      <td>2453184.5</td>\n",
              "      <td>0.10</td>\n",
              "      <td>2004-06-28</td>\n",
              "    </tr>\n",
              "  </tbody>\n",
              "</table>\n",
              "</div>"
            ],
            "text/plain": [
              "   FIRE_YEAR  STAT_CAUSE_CODE  ... FIRE_SIZE       DATE\n",
              "0       2005              9.0  ...      0.10 2005-02-02\n",
              "1       2004              1.0  ...      0.25 2004-05-12\n",
              "2       2004              5.0  ...      0.10 2004-05-31\n",
              "3       2004              1.0  ...      0.10 2004-06-28\n",
              "4       2004              1.0  ...      0.10 2004-06-28\n",
              "\n",
              "[5 rows x 9 columns]"
            ]
          },
          "metadata": {
            "tags": []
          },
          "execution_count": 14
        }
      ]
    },
    {
      "cell_type": "code",
      "metadata": {
        "id": "cd537HiMzxnP",
        "colab_type": "code",
        "outputId": "3784ffc5-d214-4c6e-eea0-d138701e62f4",
        "colab": {
          "base_uri": "https://localhost:8080/",
          "height": 202
        }
      },
      "source": [
        "#Getting some additional data fields such as month and day of the week.\n",
        "df['MONTH'] = pd.DatetimeIndex(df['DATE']).month\n",
        "df['DAY_OF_WEEK'] = df['DATE'].dt.dayofweek\n",
        "df.head()"
      ],
      "execution_count": 15,
      "outputs": [
        {
          "output_type": "execute_result",
          "data": {
            "text/html": [
              "<div>\n",
              "<style scoped>\n",
              "    .dataframe tbody tr th:only-of-type {\n",
              "        vertical-align: middle;\n",
              "    }\n",
              "\n",
              "    .dataframe tbody tr th {\n",
              "        vertical-align: top;\n",
              "    }\n",
              "\n",
              "    .dataframe thead th {\n",
              "        text-align: right;\n",
              "    }\n",
              "</style>\n",
              "<table border=\"1\" class=\"dataframe\">\n",
              "  <thead>\n",
              "    <tr style=\"text-align: right;\">\n",
              "      <th></th>\n",
              "      <th>FIRE_YEAR</th>\n",
              "      <th>STAT_CAUSE_CODE</th>\n",
              "      <th>STAT_CAUSE_DESCR</th>\n",
              "      <th>LATITUDE</th>\n",
              "      <th>LONGITUDE</th>\n",
              "      <th>STATE</th>\n",
              "      <th>DISCOVERY_DATE</th>\n",
              "      <th>FIRE_SIZE</th>\n",
              "      <th>DATE</th>\n",
              "      <th>MONTH</th>\n",
              "      <th>DAY_OF_WEEK</th>\n",
              "    </tr>\n",
              "  </thead>\n",
              "  <tbody>\n",
              "    <tr>\n",
              "      <th>0</th>\n",
              "      <td>2005</td>\n",
              "      <td>9.0</td>\n",
              "      <td>Miscellaneous</td>\n",
              "      <td>40.036944</td>\n",
              "      <td>-121.005833</td>\n",
              "      <td>CA</td>\n",
              "      <td>2453403.5</td>\n",
              "      <td>0.10</td>\n",
              "      <td>2005-02-02</td>\n",
              "      <td>2</td>\n",
              "      <td>2</td>\n",
              "    </tr>\n",
              "    <tr>\n",
              "      <th>1</th>\n",
              "      <td>2004</td>\n",
              "      <td>1.0</td>\n",
              "      <td>Lightning</td>\n",
              "      <td>38.933056</td>\n",
              "      <td>-120.404444</td>\n",
              "      <td>CA</td>\n",
              "      <td>2453137.5</td>\n",
              "      <td>0.25</td>\n",
              "      <td>2004-05-12</td>\n",
              "      <td>5</td>\n",
              "      <td>2</td>\n",
              "    </tr>\n",
              "    <tr>\n",
              "      <th>2</th>\n",
              "      <td>2004</td>\n",
              "      <td>5.0</td>\n",
              "      <td>Debris Burning</td>\n",
              "      <td>38.984167</td>\n",
              "      <td>-120.735556</td>\n",
              "      <td>CA</td>\n",
              "      <td>2453156.5</td>\n",
              "      <td>0.10</td>\n",
              "      <td>2004-05-31</td>\n",
              "      <td>5</td>\n",
              "      <td>0</td>\n",
              "    </tr>\n",
              "    <tr>\n",
              "      <th>3</th>\n",
              "      <td>2004</td>\n",
              "      <td>1.0</td>\n",
              "      <td>Lightning</td>\n",
              "      <td>38.559167</td>\n",
              "      <td>-119.913333</td>\n",
              "      <td>CA</td>\n",
              "      <td>2453184.5</td>\n",
              "      <td>0.10</td>\n",
              "      <td>2004-06-28</td>\n",
              "      <td>6</td>\n",
              "      <td>0</td>\n",
              "    </tr>\n",
              "    <tr>\n",
              "      <th>4</th>\n",
              "      <td>2004</td>\n",
              "      <td>1.0</td>\n",
              "      <td>Lightning</td>\n",
              "      <td>38.559167</td>\n",
              "      <td>-119.933056</td>\n",
              "      <td>CA</td>\n",
              "      <td>2453184.5</td>\n",
              "      <td>0.10</td>\n",
              "      <td>2004-06-28</td>\n",
              "      <td>6</td>\n",
              "      <td>0</td>\n",
              "    </tr>\n",
              "  </tbody>\n",
              "</table>\n",
              "</div>"
            ],
            "text/plain": [
              "   FIRE_YEAR  STAT_CAUSE_CODE STAT_CAUSE_DESCR  ...       DATE  MONTH DAY_OF_WEEK\n",
              "0       2005              9.0    Miscellaneous  ... 2005-02-02      2           2\n",
              "1       2004              1.0        Lightning  ... 2004-05-12      5           2\n",
              "2       2004              5.0   Debris Burning  ... 2004-05-31      5           0\n",
              "3       2004              1.0        Lightning  ... 2004-06-28      6           0\n",
              "4       2004              1.0        Lightning  ... 2004-06-28      6           0\n",
              "\n",
              "[5 rows x 11 columns]"
            ]
          },
          "metadata": {
            "tags": []
          },
          "execution_count": 15
        }
      ]
    },
    {
      "cell_type": "markdown",
      "metadata": {
        "id": "QcTefkn118DG",
        "colab_type": "text"
      },
      "source": [
        "Day_OF_Week with Monday=0, Sunday=6."
      ]
    },
    {
      "cell_type": "code",
      "metadata": {
        "id": "DQEUP6U6sfSB",
        "colab_type": "code",
        "colab": {}
      },
      "source": [
        "df_orig=df[['FIRE_YEAR', 'STAT_CAUSE_DESCR', 'LATITUDE',\t'LONGITUDE',\t'STATE', 'DISCOVERY_DATE', 'FIRE_SIZE',\t'MONTH', 'DAY_OF_WEEK']]"
      ],
      "execution_count": 0,
      "outputs": []
    },
    {
      "cell_type": "markdown",
      "metadata": {
        "id": "88Q3H1BF2r9O",
        "colab_type": "text"
      },
      "source": [
        "##**Exploratory data analysis**"
      ]
    },
    {
      "cell_type": "markdown",
      "metadata": {
        "id": "qJzb0Tpb3vci",
        "colab_type": "text"
      },
      "source": [
        "Doing some exploratory data analysis to see how the features are correlated, what are relevant features for our prediction and if any hidden information we can get to facilitate our prediction."
      ]
    },
    {
      "cell_type": "code",
      "metadata": {
        "id": "1LNFVbQX2xoZ",
        "colab_type": "code",
        "outputId": "23127f58-8f50-4aac-d89e-a6ab96fd823e",
        "colab": {
          "base_uri": "https://localhost:8080/",
          "height": 265
        }
      },
      "source": [
        "df['STAT_CAUSE_DESCR'].value_counts().plot(kind='barh',color='coral')\n",
        "plt.show()"
      ],
      "execution_count": 17,
      "outputs": [
        {
          "output_type": "display_data",
          "data": {
            "image/png": "[encoded data removed]",
            "text/plain": [
              "<Figure size 432x288 with 1 Axes>"
            ]
          },
          "metadata": {
            "tags": []
          }
        }
      ]
    },
    {
      "cell_type": "markdown",
      "metadata": {
        "id": "3a6-EPAh4gOx",
        "colab_type": "text"
      },
      "source": [
        "Our dataset has around 13 causes which are too many classes. May be we will try to club these causes to reduce the number of classes and see if this improves our model accuracy."
      ]
    },
    {
      "cell_type": "code",
      "metadata": {
        "id": "m4CSiUyf5aXW",
        "colab_type": "code",
        "outputId": "e89047ee-795b-4c9b-912f-cc4d5b24ec57",
        "colab": {
          "base_uri": "https://localhost:8080/",
          "height": 265
        }
      },
      "source": [
        "df['DAY_OF_WEEK'].value_counts().plot(kind='barh',color='coral')\n",
        "plt.show()"
      ],
      "execution_count": 18,
      "outputs": [
        {
          "output_type": "display_data",
          "data": {
            "image/png": "[encoded data removed]",
            "text/plain": [
              "<Figure size 432x288 with 1 Axes>"
            ]
          },
          "metadata": {
            "tags": []
          }
        }
      ]
    },
    {
      "cell_type": "markdown",
      "metadata": {
        "id": "s1mBznAc9NXt",
        "colab_type": "text"
      },
      "source": [
        "The above graph shows that on weekends (5&6) the fires discovered are slightly more. We are assuming that is because of the people being careless on weekends with campfires or smoking or probably because of some malicious intent. Now, we would like to see how fires are distributed across the weekdays because of the natural causes such as lightning."
      ]
    },
    {
      "cell_type": "code",
      "metadata": {
        "id": "D8CowBjF_WrI",
        "colab_type": "code",
        "outputId": "f6d5889e-290f-432c-e257-0c03d3d29d7b",
        "colab": {
          "base_uri": "https://localhost:8080/",
          "height": 265
        }
      },
      "source": [
        "df_lightning = df[df['STAT_CAUSE_DESCR']=='Lightning']\n",
        "df_lightning['DAY_OF_WEEK'].value_counts().plot(kind='barh',color='coral')\n",
        "plt.show()"
      ],
      "execution_count": 19,
      "outputs": [
        {
          "output_type": "display_data",
          "data": {
            "image/png": "[encoded data removed]",
            "text/plain": [
              "<Figure size 432x288 with 1 Axes>"
            ]
          },
          "metadata": {
            "tags": []
          }
        }
      ]
    },
    {
      "cell_type": "markdown",
      "metadata": {
        "id": "2EoeER3x_oG0",
        "colab_type": "text"
      },
      "source": [
        "As we can see the fires are more on weekdays now and lowered on weekends. I am imagining if the increase on weekends is due to malicious fires such as - Arson. So now we will check the fire distribution on weekdays because of Arson."
      ]
    },
    {
      "cell_type": "code",
      "metadata": {
        "id": "XfLQbeUJA96c",
        "colab_type": "code",
        "outputId": "71e022b9-8c4c-422d-b90d-65385fbdebbd",
        "colab": {
          "base_uri": "https://localhost:8080/",
          "height": 265
        }
      },
      "source": [
        "df_arson = df[df['STAT_CAUSE_DESCR']=='Arson']\n",
        "df_arson['DAY_OF_WEEK'].value_counts().plot(kind='barh',color='coral')\n",
        "plt.show()"
      ],
      "execution_count": 20,
      "outputs": [
        {
          "output_type": "display_data",
          "data": {
            "image/png": "[encoded data removed]",
            "text/plain": [
              "<Figure size 432x288 with 1 Axes>"
            ]
          },
          "metadata": {
            "tags": []
          }
        }
      ]
    },
    {
      "cell_type": "markdown",
      "metadata": {
        "id": "QkRHxqyUA9gP",
        "colab_type": "text"
      },
      "source": [
        "The above graph makes it significant that the increase in fire on weekends is because of Arson. We can see probably a 30% increase on weekends than the average of weekdays.\n",
        "\n",
        "This also proves that Day_Of_Week is an important feature to be kept in our feature set."
      ]
    },
    {
      "cell_type": "code",
      "metadata": {
        "id": "q236S-yX5DZK",
        "colab_type": "code",
        "colab": {}
      },
      "source": [
        "sns.pairplot(df)"
      ],
      "execution_count": 0,
      "outputs": []
    },
    {
      "cell_type": "markdown",
      "metadata": {
        "id": "2g3Kt8A1p4rl",
        "colab_type": "text"
      },
      "source": [
        "###**Performing K-Means Clustering as part of EDA**"
      ]
    },
    {
      "cell_type": "markdown",
      "metadata": {
        "id": "OVP9ctxRqqQS",
        "colab_type": "text"
      },
      "source": [
        "We tried clustering based on some selected features to see if we can gain any other insights from our dataset."
      ]
    },
    {
      "cell_type": "code",
      "metadata": {
        "id": "BRb5XHaEp35D",
        "colab_type": "code",
        "colab": {}
      },
      "source": [
        "#K-means clustering on fire cause and fire size\n",
        "data = df[['FIRE_SIZE','STAT_CAUSE_CODE']]"
      ],
      "execution_count": 0,
      "outputs": []
    },
    {
      "cell_type": "markdown",
      "metadata": {
        "id": "rfStOCJRyPWe",
        "colab_type": "text"
      },
      "source": [
        "####**Using Elbow method to find optimal k**"
      ]
    },
    {
      "cell_type": "code",
      "metadata": {
        "id": "l_5gFmROoQvm",
        "colab_type": "code",
        "colab": {}
      },
      "source": [
        "# Sum_of_squared_distances = []\n",
        "# K = range(1,10)\n",
        "# for k in K:\n",
        "#     km = KMeans(n_clusters=k)\n",
        "#     km = km.fit(data)\n",
        "#     Sum_of_squared_distances.append(km.inertia_)"
      ],
      "execution_count": 0,
      "outputs": []
    },
    {
      "cell_type": "code",
      "metadata": {
        "id": "h-sFpX2hyFXE",
        "colab_type": "code",
        "colab": {}
      },
      "source": [
        "# plt.plot(K, Sum_of_squared_distances, 'bx-')\n",
        "# plt.xlabel('k')\n",
        "# plt.ylabel('Sum_of_squared_distances')\n",
        "# plt.title('Elbow Method For Optimal k')\n",
        "# plt.show()"
      ],
      "execution_count": 0,
      "outputs": []
    },
    {
      "cell_type": "markdown",
      "metadata": {
        "id": "JknjdGply9w5",
        "colab_type": "text"
      },
      "source": [
        "We got optimal k as 3."
      ]
    },
    {
      "cell_type": "markdown",
      "metadata": {
        "id": "MR_Pf_Wj9YSp",
        "colab_type": "text"
      },
      "source": [
        "####**Silhouette score analysis**"
      ]
    },
    {
      "cell_type": "code",
      "metadata": {
        "id": "BcxLgCzR4QtS",
        "colab_type": "code",
        "colab": {}
      },
      "source": [
        "# from yellowbrick.cluster import KElbowVisualizer\n",
        "# model = KMeans(random_state=0)\n",
        "# visualizer = KElbowVisualizer(model, k=(3,20), metric='silhouette', timings=False)\n",
        "\n",
        "# visualizer.fit(data)    \n",
        "# visualizer.poof() "
      ],
      "execution_count": 0,
      "outputs": []
    },
    {
      "cell_type": "markdown",
      "metadata": {
        "id": "3WaJcsHD9nRw",
        "colab_type": "text"
      },
      "source": [
        "From Silhouette score analysis we got that 3 clusters are optimal. Silhoutte score = 0.86"
      ]
    },
    {
      "cell_type": "code",
      "metadata": {
        "id": "73Gl7d1Y-SiT",
        "colab_type": "code",
        "colab": {}
      },
      "source": [
        "#Applying K-means for optimal k=3\n",
        "kmeans = KMeans(n_clusters=3)\n",
        "y = kmeans.fit_predict(data)"
      ],
      "execution_count": 0,
      "outputs": []
    },
    {
      "cell_type": "code",
      "metadata": {
        "id": "vTbsZ0aaBoAS",
        "colab_type": "code",
        "outputId": "30fe0bd0-0f87-4fdc-e777-0919cf926430",
        "colab": {
          "base_uri": "https://localhost:8080/",
          "height": 202
        }
      },
      "source": [
        "#Adding cluster column to dataset for further analysis\n",
        "df['cluster'] = y\n",
        "df.head()"
      ],
      "execution_count": 26,
      "outputs": [
        {
          "output_type": "execute_result",
          "data": {
            "text/html": [
              "<div>\n",
              "<style scoped>\n",
              "    .dataframe tbody tr th:only-of-type {\n",
              "        vertical-align: middle;\n",
              "    }\n",
              "\n",
              "    .dataframe tbody tr th {\n",
              "        vertical-align: top;\n",
              "    }\n",
              "\n",
              "    .dataframe thead th {\n",
              "        text-align: right;\n",
              "    }\n",
              "</style>\n",
              "<table border=\"1\" class=\"dataframe\">\n",
              "  <thead>\n",
              "    <tr style=\"text-align: right;\">\n",
              "      <th></th>\n",
              "      <th>FIRE_YEAR</th>\n",
              "      <th>STAT_CAUSE_CODE</th>\n",
              "      <th>STAT_CAUSE_DESCR</th>\n",
              "      <th>LATITUDE</th>\n",
              "      <th>LONGITUDE</th>\n",
              "      <th>STATE</th>\n",
              "      <th>DISCOVERY_DATE</th>\n",
              "      <th>FIRE_SIZE</th>\n",
              "      <th>DATE</th>\n",
              "      <th>MONTH</th>\n",
              "      <th>DAY_OF_WEEK</th>\n",
              "      <th>cluster</th>\n",
              "    </tr>\n",
              "  </thead>\n",
              "  <tbody>\n",
              "    <tr>\n",
              "      <th>0</th>\n",
              "      <td>2005</td>\n",
              "      <td>9.0</td>\n",
              "      <td>Miscellaneous</td>\n",
              "      <td>40.036944</td>\n",
              "      <td>-121.005833</td>\n",
              "      <td>CA</td>\n",
              "      <td>2453403.5</td>\n",
              "      <td>0.10</td>\n",
              "      <td>2005-02-02</td>\n",
              "      <td>2</td>\n",
              "      <td>2</td>\n",
              "      <td>0</td>\n",
              "    </tr>\n",
              "    <tr>\n",
              "      <th>1</th>\n",
              "      <td>2004</td>\n",
              "      <td>1.0</td>\n",
              "      <td>Lightning</td>\n",
              "      <td>38.933056</td>\n",
              "      <td>-120.404444</td>\n",
              "      <td>CA</td>\n",
              "      <td>2453137.5</td>\n",
              "      <td>0.25</td>\n",
              "      <td>2004-05-12</td>\n",
              "      <td>5</td>\n",
              "      <td>2</td>\n",
              "      <td>0</td>\n",
              "    </tr>\n",
              "    <tr>\n",
              "      <th>2</th>\n",
              "      <td>2004</td>\n",
              "      <td>5.0</td>\n",
              "      <td>Debris Burning</td>\n",
              "      <td>38.984167</td>\n",
              "      <td>-120.735556</td>\n",
              "      <td>CA</td>\n",
              "      <td>2453156.5</td>\n",
              "      <td>0.10</td>\n",
              "      <td>2004-05-31</td>\n",
              "      <td>5</td>\n",
              "      <td>0</td>\n",
              "      <td>0</td>\n",
              "    </tr>\n",
              "    <tr>\n",
              "      <th>3</th>\n",
              "      <td>2004</td>\n",
              "      <td>1.0</td>\n",
              "      <td>Lightning</td>\n",
              "      <td>38.559167</td>\n",
              "      <td>-119.913333</td>\n",
              "      <td>CA</td>\n",
              "      <td>2453184.5</td>\n",
              "      <td>0.10</td>\n",
              "      <td>2004-06-28</td>\n",
              "      <td>6</td>\n",
              "      <td>0</td>\n",
              "      <td>0</td>\n",
              "    </tr>\n",
              "    <tr>\n",
              "      <th>4</th>\n",
              "      <td>2004</td>\n",
              "      <td>1.0</td>\n",
              "      <td>Lightning</td>\n",
              "      <td>38.559167</td>\n",
              "      <td>-119.933056</td>\n",
              "      <td>CA</td>\n",
              "      <td>2453184.5</td>\n",
              "      <td>0.10</td>\n",
              "      <td>2004-06-28</td>\n",
              "      <td>6</td>\n",
              "      <td>0</td>\n",
              "      <td>0</td>\n",
              "    </tr>\n",
              "  </tbody>\n",
              "</table>\n",
              "</div>"
            ],
            "text/plain": [
              "   FIRE_YEAR  STAT_CAUSE_CODE STAT_CAUSE_DESCR  ...  MONTH  DAY_OF_WEEK cluster\n",
              "0       2005              9.0    Miscellaneous  ...      2            2       0\n",
              "1       2004              1.0        Lightning  ...      5            2       0\n",
              "2       2004              5.0   Debris Burning  ...      5            0       0\n",
              "3       2004              1.0        Lightning  ...      6            0       0\n",
              "4       2004              1.0        Lightning  ...      6            0       0\n",
              "\n",
              "[5 rows x 12 columns]"
            ]
          },
          "metadata": {
            "tags": []
          },
          "execution_count": 26
        }
      ]
    },
    {
      "cell_type": "code",
      "metadata": {
        "id": "IkArQu8EASHX",
        "colab_type": "code",
        "outputId": "d0e85ee5-d49e-4c93-e7e5-95a4949c6971",
        "colab": {
          "base_uri": "https://localhost:8080/",
          "height": 880
        }
      },
      "source": [
        "#Plotting the clusters obtained\n",
        "plt.figure(1,figsize=(15,15))\n",
        "plt.scatter(df.FIRE_SIZE, df.STAT_CAUSE_CODE, c=kmeans.labels_, cmap='rainbow')\n",
        "plt.scatter(kmeans.cluster_centers_[:,0] ,kmeans.cluster_centers_[:,1], color='black')"
      ],
      "execution_count": 27,
      "outputs": [
        {
          "output_type": "execute_result",
          "data": {
            "text/plain": [
              "<matplotlib.collections.PathCollection at 0x7fca478edba8>"
            ]
          },
          "metadata": {
            "tags": []
          },
          "execution_count": 27
        },
        {
          "output_type": "display_data",
          "data": {
            "image/png": "[encoded data removed]",
            "text/plain": [
              "<Figure size 1080x1080 with 1 Axes>"
            ]
          },
          "metadata": {
            "tags": []
          }
        }
      ]
    },
    {
      "cell_type": "markdown",
      "metadata": {
        "id": "MF5MEh6yCDX-",
        "colab_type": "text"
      },
      "source": [
        "As we can see, the above clusters didn't obtain any meaningful information."
      ]
    },
    {
      "cell_type": "markdown",
      "metadata": {
        "id": "7ktO7ZSXCVUm",
        "colab_type": "text"
      },
      "source": [
        "**Performing k-means clustering on latitude and longitude to see the geagraphical coverage of the data**"
      ]
    },
    {
      "cell_type": "code",
      "metadata": {
        "id": "kSFlK4w_Da4l",
        "colab_type": "code",
        "outputId": "95f59735-efdb-4ecc-ac25-19db0753929f",
        "colab": {
          "base_uri": "https://localhost:8080/",
          "height": 286
        }
      },
      "source": [
        "kmeans1 = KMeans(n_clusters=4,random_state=0).fit(df[['LATITUDE','LONGITUDE']])\n",
        "y_means1 = kmeans1.predict(df[['LATITUDE','LONGITUDE']])\n",
        "plt.scatter(df['LATITUDE'],df['LONGITUDE'], c=y_means1, s=50, cmap='viridis')"
      ],
      "execution_count": 28,
      "outputs": [
        {
          "output_type": "execute_result",
          "data": {
            "text/plain": [
              "<matplotlib.collections.PathCollection at 0x7fca47857d30>"
            ]
          },
          "metadata": {
            "tags": []
          },
          "execution_count": 28
        },
        {
          "output_type": "display_data",
          "data": {
            "image/png": "[encoded data removed]",
            "text/plain": [
              "<Figure size 432x288 with 1 Axes>"
            ]
          },
          "metadata": {
            "tags": []
          }
        }
      ]
    },
    {
      "cell_type": "markdown",
      "metadata": {
        "id": "q36zn4_4EnIa",
        "colab_type": "text"
      },
      "source": [
        "The above plot clearly shows the map of United States and most of the fires have occurred in longitutes between -100 and -120 which is majorly California region."
      ]
    },
    {
      "cell_type": "markdown",
      "metadata": {
        "id": "qcjg2P_MFki2",
        "colab_type": "text"
      },
      "source": [
        "###**Correlation matrix**\n",
        "\n",
        "Plotting correlation matrix to get a better understanding of how the features are correlated."
      ]
    },
    {
      "cell_type": "code",
      "metadata": {
        "id": "jtsdqQZNGeeA",
        "colab_type": "code",
        "outputId": "93ce20e4-596b-466b-9fb9-03438c0c009e",
        "colab": {
          "base_uri": "https://localhost:8080/",
          "height": 202
        }
      },
      "source": [
        "#First converting all features to numeric\n",
        "le = preprocessing.LabelEncoder()\n",
        "df['STAT_CAUSE_DESCR'] = le.fit_transform(df['STAT_CAUSE_DESCR'])\n",
        "df['STATE'] = le.fit_transform(df['STATE'])\n",
        "df = df.drop(['cluster'], axis=1)\n",
        "df.head()"
      ],
      "execution_count": 29,
      "outputs": [
        {
          "output_type": "execute_result",
          "data": {
            "text/html": [
              "<div>\n",
              "<style scoped>\n",
              "    .dataframe tbody tr th:only-of-type {\n",
              "        vertical-align: middle;\n",
              "    }\n",
              "\n",
              "    .dataframe tbody tr th {\n",
              "        vertical-align: top;\n",
              "    }\n",
              "\n",
              "    .dataframe thead th {\n",
              "        text-align: right;\n",
              "    }\n",
              "</style>\n",
              "<table border=\"1\" class=\"dataframe\">\n",
              "  <thead>\n",
              "    <tr style=\"text-align: right;\">\n",
              "      <th></th>\n",
              "      <th>FIRE_YEAR</th>\n",
              "      <th>STAT_CAUSE_CODE</th>\n",
              "      <th>STAT_CAUSE_DESCR</th>\n",
              "      <th>LATITUDE</th>\n",
              "      <th>LONGITUDE</th>\n",
              "      <th>STATE</th>\n",
              "      <th>DISCOVERY_DATE</th>\n",
              "      <th>FIRE_SIZE</th>\n",
              "      <th>DATE</th>\n",
              "      <th>MONTH</th>\n",
              "      <th>DAY_OF_WEEK</th>\n",
              "    </tr>\n",
              "  </thead>\n",
              "  <tbody>\n",
              "    <tr>\n",
              "      <th>0</th>\n",
              "      <td>2005</td>\n",
              "      <td>9.0</td>\n",
              "      <td>7</td>\n",
              "      <td>40.036944</td>\n",
              "      <td>-121.005833</td>\n",
              "      <td>4</td>\n",
              "      <td>2453403.5</td>\n",
              "      <td>0.10</td>\n",
              "      <td>2005-02-02</td>\n",
              "      <td>2</td>\n",
              "      <td>2</td>\n",
              "    </tr>\n",
              "    <tr>\n",
              "      <th>1</th>\n",
              "      <td>2004</td>\n",
              "      <td>1.0</td>\n",
              "      <td>6</td>\n",
              "      <td>38.933056</td>\n",
              "      <td>-120.404444</td>\n",
              "      <td>4</td>\n",
              "      <td>2453137.5</td>\n",
              "      <td>0.25</td>\n",
              "      <td>2004-05-12</td>\n",
              "      <td>5</td>\n",
              "      <td>2</td>\n",
              "    </tr>\n",
              "    <tr>\n",
              "      <th>2</th>\n",
              "      <td>2004</td>\n",
              "      <td>5.0</td>\n",
              "      <td>3</td>\n",
              "      <td>38.984167</td>\n",
              "      <td>-120.735556</td>\n",
              "      <td>4</td>\n",
              "      <td>2453156.5</td>\n",
              "      <td>0.10</td>\n",
              "      <td>2004-05-31</td>\n",
              "      <td>5</td>\n",
              "      <td>0</td>\n",
              "    </tr>\n",
              "    <tr>\n",
              "      <th>3</th>\n",
              "      <td>2004</td>\n",
              "      <td>1.0</td>\n",
              "      <td>6</td>\n",
              "      <td>38.559167</td>\n",
              "      <td>-119.913333</td>\n",
              "      <td>4</td>\n",
              "      <td>2453184.5</td>\n",
              "      <td>0.10</td>\n",
              "      <td>2004-06-28</td>\n",
              "      <td>6</td>\n",
              "      <td>0</td>\n",
              "    </tr>\n",
              "    <tr>\n",
              "      <th>4</th>\n",
              "      <td>2004</td>\n",
              "      <td>1.0</td>\n",
              "      <td>6</td>\n",
              "      <td>38.559167</td>\n",
              "      <td>-119.933056</td>\n",
              "      <td>4</td>\n",
              "      <td>2453184.5</td>\n",
              "      <td>0.10</td>\n",
              "      <td>2004-06-28</td>\n",
              "      <td>6</td>\n",
              "      <td>0</td>\n",
              "    </tr>\n",
              "  </tbody>\n",
              "</table>\n",
              "</div>"
            ],
            "text/plain": [
              "   FIRE_YEAR  STAT_CAUSE_CODE  STAT_CAUSE_DESCR  ...       DATE  MONTH  DAY_OF_WEEK\n",
              "0       2005              9.0                 7  ... 2005-02-02      2            2\n",
              "1       2004              1.0                 6  ... 2004-05-12      5            2\n",
              "2       2004              5.0                 3  ... 2004-05-31      5            0\n",
              "3       2004              1.0                 6  ... 2004-06-28      6            0\n",
              "4       2004              1.0                 6  ... 2004-06-28      6            0\n",
              "\n",
              "[5 rows x 11 columns]"
            ]
          },
          "metadata": {
            "tags": []
          },
          "execution_count": 29
        }
      ]
    },
    {
      "cell_type": "code",
      "metadata": {
        "id": "XWoMeQPSsDM_",
        "colab_type": "code",
        "colab": {}
      },
      "source": [
        ""
      ],
      "execution_count": 0,
      "outputs": []
    },
    {
      "cell_type": "code",
      "metadata": {
        "id": "lMHopFwvLkwK",
        "colab_type": "code",
        "outputId": "3edc5142-7a1c-4e0f-8f1f-f3b0f9ed450a",
        "colab": {
          "base_uri": "https://localhost:8080/",
          "height": 662
        }
      },
      "source": [
        "def plot_corr(df,size=10):\n",
        "    corr = df.corr()  #the default method is pearson\n",
        "    fig, ax = plt.subplots(figsize=(size, size))\n",
        "    ax.matshow(corr,cmap=plt.cm.Oranges)\n",
        "    plt.xticks(range(len(corr.columns)), corr.columns)\n",
        "    plt.yticks(range(len(corr.columns)), corr.columns)\n",
        "    for tick in ax.get_xticklabels():\n",
        "        tick.set_rotation(45)    \n",
        "    plt.show()\n",
        "    \n",
        "\n",
        "    \n",
        "plot_corr(df)"
      ],
      "execution_count": 30,
      "outputs": [
        {
          "output_type": "display_data",
          "data": {
            "image/png": "[encoded data removed]",
            "text/plain": [
              "<Figure size 720x720 with 1 Axes>"
            ]
          },
          "metadata": {
            "tags": []
          }
        }
      ]
    },
    {
      "cell_type": "markdown",
      "metadata": {
        "id": "Iy08PFRMMFCR",
        "colab_type": "text"
      },
      "source": [
        "In the above plot darker shades means strong correlation wheras white shade means no correlation. We can see that month is strongly correlated to latitude wheras weakly correlated to longitide."
      ]
    },
    {
      "cell_type": "markdown",
      "metadata": {
        "id": "sp9ZmTNaRQkW",
        "colab_type": "text"
      },
      "source": [
        "##**Preparing data for Machine learning**"
      ]
    },
    {
      "cell_type": "code",
      "metadata": {
        "id": "tmT00sypkRoI",
        "colab_type": "code",
        "colab": {}
      },
      "source": [
        "models_dict={}\n",
        "models_dict['LogisticRegression']        = LogisticRegression()\n",
        "models_dict['Dtree']     = DecisionTreeClassifier()\n",
        "models_dict['NB']        = GaussianNB()\n",
        "models_dict['KNN']       = KNeighborsClassifier()\n",
        "models_dict['RForest']   = RandomForestClassifier(n_estimators=50)\n",
        "models_dict['XGB']       = XGBClassifier()"
      ],
      "execution_count": 0,
      "outputs": []
    },
    {
      "cell_type": "code",
      "metadata": {
        "id": "qpzbar-w4gs5",
        "colab_type": "code",
        "colab": {}
      },
      "source": [
        "\n"
      ],
      "execution_count": 0,
      "outputs": []
    },
    {
      "cell_type": "code",
      "metadata": {
        "id": "H3mJhSJ2h5rN",
        "colab_type": "code",
        "colab": {}
      },
      "source": [
        "#function to compare the different algorihths based on recall of model \n",
        "def compareAlgos(model_results):\n",
        "  fig = plt.figure(figsize=(11,6))\n",
        "  fig.suptitle('Algorithm Comparison')\n",
        "  ax = fig.add_subplot(111)\n",
        "  plt.boxplot([modelresult for name,modelresult in model_results.items()])\n",
        "  ax.set_xticklabels([name for name,modelresult in model_results.items()])\n",
        "  plt.show()\n",
        "\n",
        "#writing a functional api layer which takes models , trains and tests and plots comparision of those models on a graph \n",
        "def fitModelsAndPredict(models_dict,X_train,y_train,X_test,y_test):\n",
        "  accuracy={}\n",
        "  specificity={}\n",
        "  sensitivity={}\n",
        "  #models_dict holds name and its function , like {'LR':LogsticRegression()}\n",
        "  for name,model in models_dict.items():\n",
        "    try:\n",
        "      #fitting model on the train data\n",
        "      model.fit(X_train,y_train)\n",
        "      #predicting model on X_test \n",
        "      y_pred=model.predict(X_test)\n",
        "      print('*'*100)\n",
        "      print('Model:',name)\n",
        "      #printing Confusion matrix an dAccuracy of each model\n",
        "      print(\"Confusion Matrix: \",confusion_matrix(y_test, y_pred)) \n",
        "      print(\"Accuracy : \",accuracy_score(y_test,y_pred)*100)\n",
        "\n",
        "      #mainitaing a dictionary of results of accuracy of each model to use it to plot in one systyem\n",
        "      accuracy[name]=accuracy_score(y_test,y_pred)*100\n",
        "      cm=confusion_matrix(y_test, y_pred)\n",
        "      sensitivity[name] = (cm[0,0]/(cm[0,0]+cm[0,1]))*100\n",
        "      specificity[name] = (cm[1,1]/(cm[1,0]+cm[1,1]))*100\n",
        "      print(\"Classificarion Report : \")\n",
        "      print(classification_report(y_test, y_pred))\n",
        "    except ValueError:\n",
        "      print(name,'failed')\n",
        "  \n",
        "  #converting dictionaries to dataframes to have them handy\n",
        "  accuracy=pd.DataFrame.from_dict(accuracy,orient='index').reset_index()\n",
        "  sensitivity=pd.DataFrame.from_dict(sensitivity,orient='index').reset_index()\n",
        "  specificity=pd.DataFrame.from_dict(specificity,orient='index').reset_index()\n",
        "  # print(accuracy)\n",
        "  accuracy.columns=['model_name','accuracy']\n",
        "  sensitivity.columns=['model_name','sensitivity']\n",
        "  specificity.columns=['model_name','specificity']\n",
        "  \n",
        "  #plotting accuracy,sensitivity,specificity of each model\n",
        "  plt.figure(figsize=(16, 6))\n",
        "  ax = sns.lineplot(data=accuracy, x='model_name', y='accuracy',legend='full')\n",
        "  ax = sns.lineplot(data=sensitivity, x='model_name', y='sensitivity',legend='full')\n",
        "  ax = sns.lineplot(data=specificity, x='model_name', y='specificity',legend='full')\n",
        "  ax = sns.barplot(data=accuracy, x='model_name', y='accuracy')\n",
        "  plt.title('Blue :Accuracy,Orange: Senstivity,Green : Specicificity ')"
      ],
      "execution_count": 0,
      "outputs": []
    },
    {
      "cell_type": "code",
      "metadata": {
        "id": "dMYLy4nWiCgi",
        "colab_type": "code",
        "colab": {
          "base_uri": "https://localhost:8080/",
          "height": 416
        },
        "outputId": "1cacb0a3-34fa-46b9-b481-ed6df8c03cfe"
      },
      "source": [
        "df_orig"
      ],
      "execution_count": 33,
      "outputs": [
        {
          "output_type": "execute_result",
          "data": {
            "text/html": [
              "<div>\n",
              "<style scoped>\n",
              "    .dataframe tbody tr th:only-of-type {\n",
              "        vertical-align: middle;\n",
              "    }\n",
              "\n",
              "    .dataframe tbody tr th {\n",
              "        vertical-align: top;\n",
              "    }\n",
              "\n",
              "    .dataframe thead th {\n",
              "        text-align: right;\n",
              "    }\n",
              "</style>\n",
              "<table border=\"1\" class=\"dataframe\">\n",
              "  <thead>\n",
              "    <tr style=\"text-align: right;\">\n",
              "      <th></th>\n",
              "      <th>FIRE_YEAR</th>\n",
              "      <th>STAT_CAUSE_DESCR</th>\n",
              "      <th>LATITUDE</th>\n",
              "      <th>LONGITUDE</th>\n",
              "      <th>STATE</th>\n",
              "      <th>DISCOVERY_DATE</th>\n",
              "      <th>FIRE_SIZE</th>\n",
              "      <th>MONTH</th>\n",
              "      <th>DAY_OF_WEEK</th>\n",
              "    </tr>\n",
              "  </thead>\n",
              "  <tbody>\n",
              "    <tr>\n",
              "      <th>0</th>\n",
              "      <td>2005</td>\n",
              "      <td>Miscellaneous</td>\n",
              "      <td>40.036944</td>\n",
              "      <td>-121.005833</td>\n",
              "      <td>CA</td>\n",
              "      <td>2453403.5</td>\n",
              "      <td>0.10</td>\n",
              "      <td>2</td>\n",
              "      <td>2</td>\n",
              "    </tr>\n",
              "    <tr>\n",
              "      <th>1</th>\n",
              "      <td>2004</td>\n",
              "      <td>Lightning</td>\n",
              "      <td>38.933056</td>\n",
              "      <td>-120.404444</td>\n",
              "      <td>CA</td>\n",
              "      <td>2453137.5</td>\n",
              "      <td>0.25</td>\n",
              "      <td>5</td>\n",
              "      <td>2</td>\n",
              "    </tr>\n",
              "    <tr>\n",
              "      <th>2</th>\n",
              "      <td>2004</td>\n",
              "      <td>Debris Burning</td>\n",
              "      <td>38.984167</td>\n",
              "      <td>-120.735556</td>\n",
              "      <td>CA</td>\n",
              "      <td>2453156.5</td>\n",
              "      <td>0.10</td>\n",
              "      <td>5</td>\n",
              "      <td>0</td>\n",
              "    </tr>\n",
              "    <tr>\n",
              "      <th>3</th>\n",
              "      <td>2004</td>\n",
              "      <td>Lightning</td>\n",
              "      <td>38.559167</td>\n",
              "      <td>-119.913333</td>\n",
              "      <td>CA</td>\n",
              "      <td>2453184.5</td>\n",
              "      <td>0.10</td>\n",
              "      <td>6</td>\n",
              "      <td>0</td>\n",
              "    </tr>\n",
              "    <tr>\n",
              "      <th>4</th>\n",
              "      <td>2004</td>\n",
              "      <td>Lightning</td>\n",
              "      <td>38.559167</td>\n",
              "      <td>-119.933056</td>\n",
              "      <td>CA</td>\n",
              "      <td>2453184.5</td>\n",
              "      <td>0.10</td>\n",
              "      <td>6</td>\n",
              "      <td>0</td>\n",
              "    </tr>\n",
              "    <tr>\n",
              "      <th>...</th>\n",
              "      <td>...</td>\n",
              "      <td>...</td>\n",
              "      <td>...</td>\n",
              "      <td>...</td>\n",
              "      <td>...</td>\n",
              "      <td>...</td>\n",
              "      <td>...</td>\n",
              "      <td>...</td>\n",
              "      <td>...</td>\n",
              "    </tr>\n",
              "    <tr>\n",
              "      <th>1880460</th>\n",
              "      <td>2015</td>\n",
              "      <td>Missing/Undefined</td>\n",
              "      <td>40.481637</td>\n",
              "      <td>-122.389375</td>\n",
              "      <td>CA</td>\n",
              "      <td>2457291.5</td>\n",
              "      <td>0.01</td>\n",
              "      <td>9</td>\n",
              "      <td>5</td>\n",
              "    </tr>\n",
              "    <tr>\n",
              "      <th>1880461</th>\n",
              "      <td>2015</td>\n",
              "      <td>Miscellaneous</td>\n",
              "      <td>37.617619</td>\n",
              "      <td>-120.938570</td>\n",
              "      <td>CA</td>\n",
              "      <td>2457300.5</td>\n",
              "      <td>0.20</td>\n",
              "      <td>10</td>\n",
              "      <td>0</td>\n",
              "    </tr>\n",
              "    <tr>\n",
              "      <th>1880462</th>\n",
              "      <td>2015</td>\n",
              "      <td>Missing/Undefined</td>\n",
              "      <td>37.617619</td>\n",
              "      <td>-120.938570</td>\n",
              "      <td>CA</td>\n",
              "      <td>2457144.5</td>\n",
              "      <td>0.10</td>\n",
              "      <td>5</td>\n",
              "      <td>5</td>\n",
              "    </tr>\n",
              "    <tr>\n",
              "      <th>1880463</th>\n",
              "      <td>2015</td>\n",
              "      <td>Missing/Undefined</td>\n",
              "      <td>37.672235</td>\n",
              "      <td>-120.898356</td>\n",
              "      <td>CA</td>\n",
              "      <td>2457309.5</td>\n",
              "      <td>2.00</td>\n",
              "      <td>10</td>\n",
              "      <td>2</td>\n",
              "    </tr>\n",
              "    <tr>\n",
              "      <th>1880464</th>\n",
              "      <td>2015</td>\n",
              "      <td>Miscellaneous</td>\n",
              "      <td>34.263217</td>\n",
              "      <td>-116.830950</td>\n",
              "      <td>CA</td>\n",
              "      <td>2457095.5</td>\n",
              "      <td>0.10</td>\n",
              "      <td>3</td>\n",
              "      <td>5</td>\n",
              "    </tr>\n",
              "  </tbody>\n",
              "</table>\n",
              "<p>1880465 rows × 9 columns</p>\n",
              "</div>"
            ],
            "text/plain": [
              "         FIRE_YEAR   STAT_CAUSE_DESCR   LATITUDE  ...  FIRE_SIZE MONTH  DAY_OF_WEEK\n",
              "0             2005      Miscellaneous  40.036944  ...       0.10     2            2\n",
              "1             2004          Lightning  38.933056  ...       0.25     5            2\n",
              "2             2004     Debris Burning  38.984167  ...       0.10     5            0\n",
              "3             2004          Lightning  38.559167  ...       0.10     6            0\n",
              "4             2004          Lightning  38.559167  ...       0.10     6            0\n",
              "...            ...                ...        ...  ...        ...   ...          ...\n",
              "1880460       2015  Missing/Undefined  40.481637  ...       0.01     9            5\n",
              "1880461       2015      Miscellaneous  37.617619  ...       0.20    10            0\n",
              "1880462       2015  Missing/Undefined  37.617619  ...       0.10     5            5\n",
              "1880463       2015  Missing/Undefined  37.672235  ...       2.00    10            2\n",
              "1880464       2015      Miscellaneous  34.263217  ...       0.10     3            5\n",
              "\n",
              "[1880465 rows x 9 columns]"
            ]
          },
          "metadata": {
            "tags": []
          },
          "execution_count": 33
        }
      ]
    },
    {
      "cell_type": "code",
      "metadata": {
        "id": "JUtJi2U5RQK8",
        "colab_type": "code",
        "colab": {}
      },
      "source": [
        "df = df.drop('DATE',axis=1)\n",
        "df = df.drop('STAT_CAUSE_CODE', axis=1)\n",
        "df = df.dropna()"
      ],
      "execution_count": 0,
      "outputs": []
    },
    {
      "cell_type": "code",
      "metadata": {
        "id": "z-LurgnLWKN2",
        "colab_type": "code",
        "colab": {}
      },
      "source": [
        "X = df.drop(['STAT_CAUSE_DESCR'], axis=1).values\n",
        "Y = df['STAT_CAUSE_DESCR'].values"
      ],
      "execution_count": 0,
      "outputs": []
    },
    {
      "cell_type": "code",
      "metadata": {
        "id": "WfrmO8ekWQcQ",
        "colab_type": "code",
        "colab": {}
      },
      "source": [
        "import sklearn.ensemble as ske\n",
        "from sklearn.model_selection import train_test_split"
      ],
      "execution_count": 0,
      "outputs": []
    },
    {
      "cell_type": "code",
      "metadata": {
        "id": "Gtt9sApj4o7z",
        "colab_type": "code",
        "colab": {}
      },
      "source": [
        "X_train, X_test, y_train, y_test = train_test_split(X, Y, test_size=0.4, random_state=1)"
      ],
      "execution_count": 0,
      "outputs": []
    },
    {
      "cell_type": "code",
      "metadata": {
        "id": "qZlAw9xs4uZ7",
        "colab_type": "code",
        "colab": {}
      },
      "source": [
        ""
      ],
      "execution_count": 0,
      "outputs": []
    },
    {
      "cell_type": "markdown",
      "metadata": {
        "id": "f51CZYiFrNuD",
        "colab_type": "text"
      },
      "source": [
        "####**Applying Random Forest Classifier on base dataset with 13 classes in target variable**"
      ]
    },
    {
      "cell_type": "code",
      "metadata": {
        "id": "KrFq7w8Eh0HF",
        "colab_type": "code",
        "colab": {
          "base_uri": "https://localhost:8080/",
          "height": 1000
        },
        "outputId": "577d219d-7f36-4498-9966-ba915c0ff26a"
      },
      "source": [
        "\n",
        "fitModelsAndPredict(models_dict,X_train,y_train,X_test,y_test)"
      ],
      "execution_count": 37,
      "outputs": [
        {
          "output_type": "stream",
          "text": [
            "****************************************************************************************************\n",
            "Model: LogisticRegression\n",
            "Confusion Matrix:  [[     0      0      0 112595      0      0      0      0      0      0\n",
            "       0      0      0]\n",
            " [     0      0      0  30343      0      0      0      0      0      0\n",
            "       0      0      0]\n",
            " [     0      0      0  24468      0      0      0      0      0      0\n",
            "       0      0      0]\n",
            " [     0      0      0 171639      0      0      0      0      0      0\n",
            "       0      0      0]\n",
            " [     0      0      0  59223      0      0      0      0      0      0\n",
            "       0      0      0]\n",
            " [     0      0      0   4562      0      0      0      0      0      0\n",
            "       0      0      0]\n",
            " [     0      0      0 111672      0      0      0      0      0      0\n",
            "       0      0      0]\n",
            " [     0      0      0 129458      0      0      0      0      0      0\n",
            "       0      0      0]\n",
            " [     0      0      0  66484      0      0      0      0      0      0\n",
            "       0      0      0]\n",
            " [     0      0      0   5763      0      0      0      0      0      0\n",
            "       0      0      0]\n",
            " [     0      0      0  13322      0      0      0      0      0      0\n",
            "       0      0      0]\n",
            " [     0      0      0  21129      0      0      0      0      0      0\n",
            "       0      0      0]\n",
            " [     0      0      0   1528      0      0      0      0      0      0\n",
            "       0      0      0]]\n",
            "Accuracy :  22.81869112161088\n",
            "Classificarion Report : \n",
            "              precision    recall  f1-score   support\n",
            "\n",
            "           0       0.00      0.00      0.00    112595\n",
            "           1       0.00      0.00      0.00     30343\n",
            "           2       0.00      0.00      0.00     24468\n",
            "           3       0.23      1.00      0.37    171639\n",
            "           4       0.00      0.00      0.00     59223\n",
            "           5       0.00      0.00      0.00      4562\n",
            "           6       0.00      0.00      0.00    111672\n",
            "           7       0.00      0.00      0.00    129458\n",
            "           8       0.00      0.00      0.00     66484\n",
            "           9       0.00      0.00      0.00      5763\n",
            "          10       0.00      0.00      0.00     13322\n",
            "          11       0.00      0.00      0.00     21129\n",
            "          12       0.00      0.00      0.00      1528\n",
            "\n",
            "    accuracy                           0.23    752186\n",
            "   macro avg       0.02      0.08      0.03    752186\n",
            "weighted avg       0.05      0.23      0.08    752186\n",
            "\n",
            "****************************************************************************************************\n",
            "Model: Dtree\n",
            "Confusion Matrix:  [[52748  2179  3771 25352  5939   449  3059 13140  1470   484  1027  2780\n",
            "    197]\n",
            " [ 2233  9237   868  4771  1660   156  4604  4315   671   179   418  1175\n",
            "     56]\n",
            " [ 3509   802  4675  5893  2170   245  1029  3800   419   144   596  1112\n",
            "     74]\n",
            " [26231  5193  6411 82862 12253   604  5060 21908  1690  1354  2129  5503\n",
            "    441]\n",
            " [ 5968  1757  2436 11437 16109   312  3974 11396  1153   780  1589  2144\n",
            "    168]\n",
            " [  381   169   241   495   332  1692   340   561    71    86    40   128\n",
            "     26]\n",
            " [ 3211  4723  1065  5103  3914   383 79468  8054  2649   560   894  1541\n",
            "    107]\n",
            " [13502  4602  4250 20876 11728   650  8041 55584  2469  1336  1525  4663\n",
            "    232]\n",
            " [ 1475   736   396  1755  1131   101  2644  2575 54988   129   116   410\n",
            "     28]\n",
            " [  508   202   156  1273   770    78   462  1231   134   679    76   142\n",
            "     52]\n",
            " [  944   441   575  1962  1500    33   903  1504   113    50  4889   394\n",
            "     14]\n",
            " [ 2655  1054  1158  4798  2016   130  1354  4468   377   184   410  2483\n",
            "     42]\n",
            " [  192    57   104   414   144    34    93   234    19    47    11    40\n",
            "    139]]\n",
            "Accuracy :  48.598750840882445\n",
            "Classificarion Report : \n",
            "              precision    recall  f1-score   support\n",
            "\n",
            "           0       0.46      0.47      0.47    112595\n",
            "           1       0.30      0.30      0.30     30343\n",
            "           2       0.18      0.19      0.18     24468\n",
            "           3       0.50      0.48      0.49    171639\n",
            "           4       0.27      0.27      0.27     59223\n",
            "           5       0.35      0.37      0.36      4562\n",
            "           6       0.72      0.71      0.71    111672\n",
            "           7       0.43      0.43      0.43    129458\n",
            "           8       0.83      0.83      0.83     66484\n",
            "           9       0.11      0.12      0.12      5763\n",
            "          10       0.36      0.37      0.36     13322\n",
            "          11       0.11      0.12      0.11     21129\n",
            "          12       0.09      0.09      0.09      1528\n",
            "\n",
            "    accuracy                           0.49    752186\n",
            "   macro avg       0.36      0.37      0.36    752186\n",
            "weighted avg       0.49      0.49      0.49    752186\n",
            "\n",
            "****************************************************************************************************\n",
            "Model: NB\n",
            "Confusion Matrix:  [[   192     10  15104  93809     33    426    579   2197    218      0\n",
            "      13     14      0]\n",
            " [     5      5  11620  14302     13   1467    715   1862    346      0\n",
            "       1      4      3]\n",
            " [     5      0   6565  16610      5    208    185    699    182      0\n",
            "       6      3      0]\n",
            " [    86     13  17618 149083     26    813    463   2660    855      0\n",
            "       8     14      0]\n",
            " [    47      2  18054  36366     51    499    894   3137    137      0\n",
            "      13     22      1]\n",
            " [     8      0   1485   2288      2    530    120     88     41      0\n",
            "       0      0      0]\n",
            " [   125      2  49736  42940     31   4851   5768   6912   1258      0\n",
            "      15     23     11]\n",
            " [    99     20  26700  92296     50   1733   1590   6443    481      0\n",
            "      23     21      2]\n",
            " [   134     19   9426  38077      4    307    555   4863  13084      0\n",
            "       0      9      6]\n",
            " [     5      1    646   4405      6    161     97    300    136      0\n",
            "       2      4      0]\n",
            " [    18      1   1689  11318      2     90     60     74      8      0\n",
            "      62      0      0]\n",
            " [     7      2   5200  14860      2    190    193    592     81      0\n",
            "       0      2      0]\n",
            " [     0      0    215   1053      0     59     45     40    116      0\n",
            "       0      0      0]]\n",
            "Accuracy :  24.16755961956218\n",
            "Classificarion Report : \n",
            "              precision    recall  f1-score   support\n",
            "\n",
            "           0       0.26      0.00      0.00    112595\n",
            "           1       0.07      0.00      0.00     30343\n",
            "           2       0.04      0.27      0.07     24468\n",
            "           3       0.29      0.87      0.43    171639\n",
            "           4       0.23      0.00      0.00     59223\n",
            "           5       0.05      0.12      0.07      4562\n",
            "           6       0.51      0.05      0.09    111672\n",
            "           7       0.22      0.05      0.08    129458\n",
            "           8       0.77      0.20      0.31     66484\n",
            "           9       0.00      0.00      0.00      5763\n",
            "          10       0.43      0.00      0.01     13322\n",
            "          11       0.02      0.00      0.00     21129\n",
            "          12       0.00      0.00      0.00      1528\n",
            "\n",
            "    accuracy                           0.24    752186\n",
            "   macro avg       0.22      0.12      0.08    752186\n",
            "weighted avg       0.32      0.24      0.16    752186\n",
            "\n",
            "****************************************************************************************************\n",
            "Model: KNN\n",
            "Confusion Matrix:  [[53390  1559  2170 32002  4261   215  3543 11913  2279   121   533   596\n",
            "     13]\n",
            " [ 3779  7224   638  6445  1692   171  4457  4287  1179    56   157   249\n",
            "      9]\n",
            " [ 5221   914  2827  7727  1768   148  1335  3367   388    34   447   273\n",
            "     19]\n",
            " [36335  4615  3733 96681  6486   225  4778 14724  1925   320   963   809\n",
            "     45]\n",
            " [ 9749  2036  1672 15393 11975   174  4878 10260  1184   166  1259   448\n",
            "     29]\n",
            " [  586   250   132   511   188  1795   547   397   109    13    13    17\n",
            "      4]\n",
            " [ 4349  2666   617  5037  2856   309 87750  5208  2302   112   273   185\n",
            "      8]\n",
            " [18958  4670  2648 27021  9947   474  8859 51957  2837   356   760   949\n",
            "     22]\n",
            " [ 2661  1124   297  2538   996    89  5452  2776 50423    28    23    71\n",
            "      6]\n",
            " [  825   185   100  1638   547    30   638  1221   122   412    14    23\n",
            "      8]\n",
            " [ 1760   438   413  3534  1482    19  1083  1077   145    10  3286    75\n",
            "      0]\n",
            " [ 3989  1204   796  6290  1592    67  1370  4662   417    47   194   495\n",
            "      6]\n",
            " [  248    99   106   503    82    18   122   266    26    23     7     5\n",
            "     23]]\n",
            "Accuracy :  48.955710422688\n",
            "Classificarion Report : \n",
            "              precision    recall  f1-score   support\n",
            "\n",
            "           0       0.38      0.47      0.42    112595\n",
            "           1       0.27      0.24      0.25     30343\n",
            "           2       0.18      0.12      0.14     24468\n",
            "           3       0.47      0.56      0.51    171639\n",
            "           4       0.27      0.20      0.23     59223\n",
            "           5       0.48      0.39      0.43      4562\n",
            "           6       0.70      0.79      0.74    111672\n",
            "           7       0.46      0.40      0.43    129458\n",
            "           8       0.80      0.76      0.78     66484\n",
            "           9       0.24      0.07      0.11      5763\n",
            "          10       0.41      0.25      0.31     13322\n",
            "          11       0.12      0.02      0.04     21129\n",
            "          12       0.12      0.02      0.03      1528\n",
            "\n",
            "    accuracy                           0.49    752186\n",
            "   macro avg       0.38      0.33      0.34    752186\n",
            "weighted avg       0.47      0.49      0.48    752186\n",
            "\n",
            "****************************************************************************************************\n",
            "Model: RForest\n",
            "Confusion Matrix:  [[ 60646    919   1354  29501   3193    207   2589  11553   1570     98\n",
            "     398    540     27]\n",
            " [  1934   9519    352   6128   1269     78   5614   4248    665     43\n",
            "     166    314     13]\n",
            " [  3503    520   3513   8482   1688    209   1199   3829    446     36\n",
            "     644    374     25]\n",
            " [ 23424   2384   1836 116078   5260    243   4197  14668   1467    291\n",
            "     788    944     59]\n",
            " [  4977    953    886  15554  16606    143   4470  12029   1220    206\n",
            "    1609    527     43]\n",
            " [   450     87    139    536    221   1888    550    543     70     18\n",
            "      14     41      5]\n",
            " [  2000   1641    241   4345   1616    104  94342   5366   1411     89\n",
            "     316    185     16]\n",
            " [ 10070   2966   1480  25664   9035    346   8319  66708   2385    350\n",
            "    1021   1082     32]\n",
            " [   928    398    107   1731    609     36   3459   2489  56577     21\n",
            "      30     97      2]\n",
            " [   397    104     54   1710    621     50    579   1517    144    534\n",
            "      10     36      7]\n",
            " [   780    292    151   2457   1294     17   1190    975     96     12\n",
            "    5973     84      1]\n",
            " [  2321    880    557   7085   1522     72   1613   5179    445     55\n",
            "     272   1113     15]\n",
            " [   185     60     68    562    110     20    112    292     11     23\n",
            "       4      8     73]]\n",
            "Accuracy :  57.64132807576849\n",
            "Classificarion Report : \n",
            "              precision    recall  f1-score   support\n",
            "\n",
            "           0       0.54      0.54      0.54    112595\n",
            "           1       0.46      0.31      0.37     30343\n",
            "           2       0.33      0.14      0.20     24468\n",
            "           3       0.53      0.68      0.59    171639\n",
            "           4       0.39      0.28      0.32     59223\n",
            "           5       0.55      0.41      0.47      4562\n",
            "           6       0.74      0.84      0.79    111672\n",
            "           7       0.52      0.52      0.52    129458\n",
            "           8       0.85      0.85      0.85     66484\n",
            "           9       0.30      0.09      0.14      5763\n",
            "          10       0.53      0.45      0.49     13322\n",
            "          11       0.21      0.05      0.08     21129\n",
            "          12       0.23      0.05      0.08      1528\n",
            "\n",
            "    accuracy                           0.58    752186\n",
            "   macro avg       0.47      0.40      0.42    752186\n",
            "weighted avg       0.56      0.58      0.56    752186\n",
            "\n",
            "****************************************************************************************************\n",
            "Model: XGB\n",
            "Confusion Matrix:  [[ 39988    218     18  49828   1499     49   5362  13726   1438      0\n",
            "     469      0      0]\n",
            " [  1620   1604      4   9087    442     13  10706   5944    734      0\n",
            "     189      0      0]\n",
            " [  2391    154     35  12300    481    157   3204   4552    314      0\n",
            "     880      0      0]\n",
            " [ 19391    558     17 126288   1343    152   6924  14713   1439      0\n",
            "     814      0      0]\n",
            " [  3516    249      9  22322   5817    109   8354  15100    752      0\n",
            "    2995      0      0]\n",
            " [   325     22      0    683     30    540   2088    820     54      0\n",
            "       0      0      0]\n",
            " [  2854    332      0   8585    904    122  89247   7886   1081      0\n",
            "     661      0      0]\n",
            " [ 11224    691     14  39370   3997    192  16334  54789   1564      0\n",
            "    1283      0      0]\n",
            " [  3416    189      0  12860    266     19  10240   5682  33807      0\n",
            "       5      0      0]\n",
            " [   197     36      0   2596     89     13    835   1946     43      0\n",
            "       8      0      0]\n",
            " [  1061     26      0   4527     96      0   2000    944     74      0\n",
            "    4594      0      0]\n",
            " [  2003    217      0   9158    439     18   3147   5548    316      0\n",
            "     283      0      0]\n",
            " [    69     25      0    762      4     25    269    365      8      0\n",
            "       1      0      0]]\n",
            "Accuracy :  47.42297782729272\n",
            "Classificarion Report : \n",
            "              precision    recall  f1-score   support\n",
            "\n",
            "           0       0.45      0.36      0.40    112595\n",
            "           1       0.37      0.05      0.09     30343\n",
            "           2       0.36      0.00      0.00     24468\n",
            "           3       0.42      0.74      0.54    171639\n",
            "           4       0.38      0.10      0.16     59223\n",
            "           5       0.38      0.12      0.18      4562\n",
            "           6       0.56      0.80      0.66    111672\n",
            "           7       0.42      0.42      0.42    129458\n",
            "           8       0.81      0.51      0.63     66484\n",
            "           9       0.00      0.00      0.00      5763\n",
            "          10       0.38      0.34      0.36     13322\n",
            "          11       0.00      0.00      0.00     21129\n",
            "          12       0.00      0.00      0.00      1528\n",
            "\n",
            "    accuracy                           0.47    752186\n",
            "   macro avg       0.35      0.26      0.26    752186\n",
            "weighted avg       0.46      0.47      0.43    752186\n",
            "\n"
          ],
          "name": "stdout"
        },
        {
          "output_type": "display_data",
          "data": {
            "image/png": "[encoded data removed]",
            "text/plain": [
              "<Figure size 1152x432 with 1 Axes>"
            ]
          },
          "metadata": {
            "tags": []
          }
        }
      ]
    },
    {
      "cell_type": "markdown",
      "metadata": {
        "id": "BYYtE-Pru3Wd",
        "colab_type": "text"
      },
      "source": [
        "###**Importing amalgamated fire dataset which contains weather related columns such as Temperature, Precipitation, Snow etc. The weatherDataLoad.ipynb file contains the script to fetch data from National Oceanic and Atmospheric Administration (ncdc.novaa.gov website).**"
      ]
    },
    {
      "cell_type": "code",
      "metadata": {
        "id": "2qYaXXcl0msN",
        "colab_type": "code",
        "colab": {
          "base_uri": "https://localhost:8080/",
          "height": 34
        },
        "outputId": "72446a80-ea49-4ae2-8a18-54db77932a47"
      },
      "source": [
        "link = 'https://drive.google.com/open?id=1qnqDNrDyxVPBTxE-6BTYDVz-7Iennl_m'\n",
        "fluff, id = link.split('=')\n",
        "print (id) \n",
        "\n",
        "downloaded = drive.CreateFile({'id':id}) \n",
        "downloaded.GetContentFile('AmalgamatedFireDataset.csv')"
      ],
      "execution_count": 39,
      "outputs": [
        {
          "output_type": "stream",
          "text": [
            "1qnqDNrDyxVPBTxE-6BTYDVz-7Iennl_m\n"
          ],
          "name": "stdout"
        }
      ]
    },
    {
      "cell_type": "code",
      "metadata": {
        "id": "RfnN2PDAFR7E",
        "colab_type": "code",
        "colab": {}
      },
      "source": [
        "amal_df = pd.read_csv('AmalgamatedFireDataset.csv')\n",
        "amal_df=amal_df[['FIRE_YEAR', 'STAT_CAUSE_DESCR', 'LATITUDE', 'LONGITUDE', 'STATE', 'DISCOVERY_DATE', 'FIRE_SIZE_x', 'discovery_month', 'discovery_weekday', 'TMAX', 'PRCP', 'TOBS', 'SNOW']]\n",
        "\n",
        "amal_df['STAT_CAUSE_DESCR'] = le.fit_transform(amal_df['STAT_CAUSE_DESCR'])\n",
        "amal_df['STATE'] = le.fit_transform(amal_df['STATE'])\n",
        "amal_df['discovery_month'] = le.fit_transform(amal_df['discovery_month'])\n",
        "amal_df['discovery_weekday'] = le.fit_transform(amal_df['discovery_weekday'])"
      ],
      "execution_count": 0,
      "outputs": []
    },
    {
      "cell_type": "code",
      "metadata": {
        "id": "E-GOq4ecl5MA",
        "colab_type": "code",
        "colab": {}
      },
      "source": [
        "X = amal_df.drop(['STAT_CAUSE_DESCR'], axis=1).values\n",
        "Y = amal_df['STAT_CAUSE_DESCR']"
      ],
      "execution_count": 0,
      "outputs": []
    },
    {
      "cell_type": "code",
      "metadata": {
        "id": "3XhLvrUj4zUo",
        "colab_type": "code",
        "colab": {}
      },
      "source": [
        "X_train, X_test, y_train, y_test = train_test_split(X, Y, test_size=0.2, random_state=1)"
      ],
      "execution_count": 0,
      "outputs": []
    },
    {
      "cell_type": "code",
      "metadata": {
        "id": "2RAy6zJL4y_-",
        "colab_type": "code",
        "colab": {}
      },
      "source": [
        "model_results={}\n",
        "scoring = 'recall'\n",
        "seed=1\n",
        "\n",
        "#performing K Folds na dtestin the recall of each model, Printing recall mean and standard deviation \n",
        "kfold = KFold(n_splits=10, random_state=seed)\n",
        "for name, model in models_dict.items():\n",
        "  try:       \n",
        "        model_results[name]=cross_val_score(model, X_train, y_train, cv=kfold, scoring=scoring)\n",
        "        msg = \"%s: %f (%f)\" % (name, model_results[name].mean(), model_results[name].std())\n",
        "        print(msg)\n",
        "  except ValueError:\n",
        "    print(name,'failed')\n",
        "compareAlgos(model_results)"
      ],
      "execution_count": 0,
      "outputs": []
    },
    {
      "cell_type": "code",
      "metadata": {
        "id": "JWHZ9H82h3N3",
        "colab_type": "code",
        "colab": {
          "base_uri": "https://localhost:8080/",
          "height": 1000
        },
        "outputId": "4d02db3a-c6aa-40b1-d0f5-9a62a672299f"
      },
      "source": [
        "\n",
        "fitModelsAndPredict(models_dict,X_train,y_train,X_test,y_test)"
      ],
      "execution_count": 42,
      "outputs": [
        {
          "output_type": "stream",
          "text": [
            "****************************************************************************************************\n",
            "Model: LogisticRegression\n",
            "Confusion Matrix:  [[    0     0     0     0     0     0 16994     0     0     0     0     0\n",
            "      0]\n",
            " [    0     0     0     0     0     0  8586     0     0     0     0     0\n",
            "      0]\n",
            " [    0     0     0     0     0     0  4012     0     0     0     0     0\n",
            "      0]\n",
            " [    0     0     0     0     0     0 21707     0     0     0     0     0\n",
            "      0]\n",
            " [    0     0     0     0     0     0  8545     0     0     0     0     0\n",
            "      0]\n",
            " [    0     0     0     0     0     0  1351     0     0     0     0     0\n",
            "      0]\n",
            " [    0     0     0     0     0     0 26415     0     0     0     0     0\n",
            "      0]\n",
            " [    0     0     0     0     0     0 22352     0     0     0     0     0\n",
            "      0]\n",
            " [    0     0     0     0     0     0  6259     0     0     0     0     0\n",
            "      0]\n",
            " [    0     0     0     0     0     0  1466     0     0     0     0     0\n",
            "      0]\n",
            " [    0     0     0     0     0     0  1039     0     0     0     0     0\n",
            "      0]\n",
            " [    0     0     0     0     0     0  3798     0     0     0     0     0\n",
            "      0]\n",
            " [    0     0     0     0     0     0   533     0     0     0     0     0\n",
            "      0]]\n",
            "Accuracy :  21.46566225407738\n",
            "Classificarion Report : \n",
            "              precision    recall  f1-score   support\n",
            "\n",
            "           0       0.00      0.00      0.00     16994\n",
            "           1       0.00      0.00      0.00      8586\n",
            "           2       0.00      0.00      0.00      4012\n",
            "           3       0.00      0.00      0.00     21707\n",
            "           4       0.00      0.00      0.00      8545\n",
            "           5       0.00      0.00      0.00      1351\n",
            "           6       0.21      1.00      0.35     26415\n",
            "           7       0.00      0.00      0.00     22352\n",
            "           8       0.00      0.00      0.00      6259\n",
            "           9       0.00      0.00      0.00      1466\n",
            "          10       0.00      0.00      0.00      1039\n",
            "          11       0.00      0.00      0.00      3798\n",
            "          12       0.00      0.00      0.00       533\n",
            "\n",
            "    accuracy                           0.21    123057\n",
            "   macro avg       0.02      0.08      0.03    123057\n",
            "weighted avg       0.05      0.21      0.08    123057\n",
            "\n",
            "****************************************************************************************************\n",
            "Model: Dtree\n",
            "Confusion Matrix:  [[ 4782   896   845  4600  1058   164  1004  2700   286   147   100   366\n",
            "     46]\n",
            " [  772  1884   299  1334   584    71  1571  1408   222    47    82   291\n",
            "     21]\n",
            " [  828   294   382  1001   307    81   278   576    34    40    33   121\n",
            "     37]\n",
            " [ 5592  1569  1196  5668  1627   205  1190  3195   289   229   231   585\n",
            "    131]\n",
            " [ 1350   680   416  1550  1030   106   933  1724   242   154    63   244\n",
            "     53]\n",
            " [  188    83   104   209   110   179   190   205    18    23     5    30\n",
            "      7]\n",
            " [ 1258  1930   393  1401  1022   205 16341  2444   702   167   147   368\n",
            "     37]\n",
            " [ 4153  1768   864  3605  1891   238  2377  5546   618   315   114   775\n",
            "     88]\n",
            " [  465   290    90   378   312    25   702   725  3138    36    29    57\n",
            "     12]\n",
            " [  218    83    55   292   163    34   160   310    35    61     9    30\n",
            "     16]\n",
            " [  195   102    51   234   100    14   108   129    24    17    39    22\n",
            "      4]\n",
            " [  767   387   216   751   298    33   389   679    58    33    32   140\n",
            "     15]\n",
            " [   78    23    35   151    58    10    35    71     8    10     2    18\n",
            "     34]]\n",
            "Accuracy :  31.87465971054064\n",
            "Classificarion Report : \n",
            "              precision    recall  f1-score   support\n",
            "\n",
            "           0       0.23      0.28      0.25     16994\n",
            "           1       0.19      0.22      0.20      8586\n",
            "           2       0.08      0.10      0.09      4012\n",
            "           3       0.27      0.26      0.26     21707\n",
            "           4       0.12      0.12      0.12      8545\n",
            "           5       0.13      0.13      0.13      1351\n",
            "           6       0.65      0.62      0.63     26415\n",
            "           7       0.28      0.25      0.26     22352\n",
            "           8       0.55      0.50      0.53      6259\n",
            "           9       0.05      0.04      0.04      1466\n",
            "          10       0.04      0.04      0.04      1039\n",
            "          11       0.05      0.04      0.04      3798\n",
            "          12       0.07      0.06      0.07       533\n",
            "\n",
            "    accuracy                           0.32    123057\n",
            "   macro avg       0.21      0.20      0.21    123057\n",
            "weighted avg       0.33      0.32      0.32    123057\n",
            "\n",
            "****************************************************************************************************\n",
            "Model: NB\n",
            "Confusion Matrix:  [[  260   964   141 13963    27   598   771    39     1   168     0     3\n",
            "     59]\n",
            " [   38  1655   328  4547    10  1221   629    46     1    61     0     7\n",
            "     43]\n",
            " [   28   234   147  2830     4   458   248     7     0    30     0     3\n",
            "     23]\n",
            " [  244  1105   309 18408    19   891   419    70     1   157     0    11\n",
            "     73]\n",
            " [   50   925   152  5185    43   985  1078    34     1    57     0     5\n",
            "     30]\n",
            " [    7    38    36   448     0   727    86     3     0     3     0     1\n",
            "      2]\n",
            " [  396  2065  1205 11330    60  5495  5256   170     0   351     0    26\n",
            "     61]\n",
            " [  209  1778   304 16014   114  1634  1763   116     2   267     0     6\n",
            "    145]\n",
            " [   89   526   214  4167   113   551   460    69     0    47     0     4\n",
            "     19]\n",
            " [   19    87    19  1033     2   151   108    10     0    26     0     0\n",
            "     11]\n",
            " [    8    47    29   743     1   122    78     1     1     7     0     1\n",
            "      1]\n",
            " [   36   374   133  2660     7   260   271    15     1    24     0     3\n",
            "     14]\n",
            " [    3    36     3   400     2    52    17     2     0     9     0     0\n",
            "      9]]\n",
            "Accuracy :  21.656630667089235\n",
            "Classificarion Report : \n",
            "              precision    recall  f1-score   support\n",
            "\n",
            "           0       0.19      0.02      0.03     16994\n",
            "           1       0.17      0.19      0.18      8586\n",
            "           2       0.05      0.04      0.04      4012\n",
            "           3       0.23      0.85      0.36     21707\n",
            "           4       0.11      0.01      0.01      8545\n",
            "           5       0.06      0.54      0.10      1351\n",
            "           6       0.47      0.20      0.28     26415\n",
            "           7       0.20      0.01      0.01     22352\n",
            "           8       0.00      0.00      0.00      6259\n",
            "           9       0.02      0.02      0.02      1466\n",
            "          10       0.00      0.00      0.00      1039\n",
            "          11       0.04      0.00      0.00      3798\n",
            "          12       0.02      0.02      0.02       533\n",
            "\n",
            "    accuracy                           0.22    123057\n",
            "   macro avg       0.12      0.14      0.08    123057\n",
            "weighted avg       0.23      0.22      0.14    123057\n",
            "\n",
            "****************************************************************************************************\n",
            "Model: KNN\n",
            "Confusion Matrix:  [[ 5856   704   360  4986   563    58  1334  2715   268    33     5   105\n",
            "      7]\n",
            " [ 1138  1735   134  1483   382    49  2125  1262   181    13     6    75\n",
            "      3]\n",
            " [  934   295   239  1083   174    28   529   604    71     6     5    38\n",
            "      6]\n",
            " [ 6230  1256   581  8014   711    68  1510  2761   369    37    17   141\n",
            "     12]\n",
            " [ 1777   662   207  1800   677    54  1562  1492   208    27     4    73\n",
            "      2]\n",
            " [  259   104    46   203    49   160   370   134    16     2     1     5\n",
            "      2]\n",
            " [ 1534  1521   233  1338   700   106 18842  1693   335    21     5    82\n",
            "      5]\n",
            " [ 4856  1628   485  4260  1130   133  3213  5818   555    53     7   209\n",
            "      5]\n",
            " [  777   377    80   671   231     9  1125   846  2118     5     1    18\n",
            "      1]\n",
            " [  340    80    27   330    81    12   251   307    19    13     1     4\n",
            "      1]\n",
            " [  235   100    30   301    51     3   157   125    20     6     3     8\n",
            "      0]\n",
            " [  827   357   106   845   186    20   530   793    67    10     2    51\n",
            "      4]\n",
            " [  113    35    33   170    21     9    72    67     6     2     0     3\n",
            "      2]]\n",
            "Accuracy :  35.372225879064175\n",
            "Classificarion Report : \n",
            "              precision    recall  f1-score   support\n",
            "\n",
            "           0       0.24      0.34      0.28     16994\n",
            "           1       0.20      0.20      0.20      8586\n",
            "           2       0.09      0.06      0.07      4012\n",
            "           3       0.31      0.37      0.34     21707\n",
            "           4       0.14      0.08      0.10      8545\n",
            "           5       0.23      0.12      0.16      1351\n",
            "           6       0.60      0.71      0.65     26415\n",
            "           7       0.31      0.26      0.28     22352\n",
            "           8       0.50      0.34      0.40      6259\n",
            "           9       0.06      0.01      0.02      1466\n",
            "          10       0.05      0.00      0.01      1039\n",
            "          11       0.06      0.01      0.02      3798\n",
            "          12       0.04      0.00      0.01       533\n",
            "\n",
            "    accuracy                           0.35    123057\n",
            "   macro avg       0.22      0.19      0.19    123057\n",
            "weighted avg       0.33      0.35      0.34    123057\n",
            "\n",
            "****************************************************************************************************\n",
            "Model: RForest\n",
            "Confusion Matrix:  [[ 5199   527   426  4967   692   111  1008  3361   271    83    48   269\n",
            "     32]\n",
            " [  536  2161   139  1412   349    33  2030  1527   152    26    31   184\n",
            "      6]\n",
            " [  555   210   348  1191   253    71   358   814    37    28    19   104\n",
            "     24]\n",
            " [ 4304   988   698  8872  1037   113  1302  3404   229   128   127   420\n",
            "     85]\n",
            " [  979   458   222  1898   954    63  1197  2253   198    78    37   176\n",
            "     32]\n",
            " [  143    78    60   233    78   201   274   226    17    12     4    17\n",
            "      8]\n",
            " [  646   943   133   947   451    66 20809  1838   336    57    37   147\n",
            "      5]\n",
            " [ 2730  1355   430  3856  1379   152  2849  8240   586   151    52   532\n",
            "     40]\n",
            " [  289   200    30   360   204     8   932   747  3435    11    12    28\n",
            "      3]\n",
            " [  173    55    23   352   125    13   223   412    29    30     5    20\n",
            "      6]\n",
            " [  132    74    23   342    84     8   171   151    19     6    16    12\n",
            "      1]\n",
            " [  449   356   135   902   256    32   462  1036    60    16    18    66\n",
            "     10]\n",
            " [   68    15    35   183    49     5    41    86     7    11     1     5\n",
            "     27]]\n",
            "Accuracy :  40.922499329578976\n",
            "Classificarion Report : \n",
            "              precision    recall  f1-score   support\n",
            "\n",
            "           0       0.32      0.31      0.31     16994\n",
            "           1       0.29      0.25      0.27      8586\n",
            "           2       0.13      0.09      0.10      4012\n",
            "           3       0.35      0.41      0.38     21707\n",
            "           4       0.16      0.11      0.13      8545\n",
            "           5       0.23      0.15      0.18      1351\n",
            "           6       0.66      0.79      0.72     26415\n",
            "           7       0.34      0.37      0.35     22352\n",
            "           8       0.64      0.55      0.59      6259\n",
            "           9       0.05      0.02      0.03      1466\n",
            "          10       0.04      0.02      0.02      1039\n",
            "          11       0.03      0.02      0.02      3798\n",
            "          12       0.10      0.05      0.07       533\n",
            "\n",
            "    accuracy                           0.41    123057\n",
            "   macro avg       0.26      0.24      0.24    123057\n",
            "weighted avg       0.38      0.41      0.39    123057\n",
            "\n",
            "****************************************************************************************************\n",
            "Model: XGB\n",
            "Confusion Matrix:  [[ 5689   228    22  5806    19    14  1451  3668    97     0     0     0\n",
            "      0]\n",
            " [  305  1442    16  1968    39     2  2950  1795    69     0     0     0\n",
            "      0]\n",
            " [  300   143   229  1578    29    39   728   948    16     0     0     0\n",
            "      2]\n",
            " [ 3109   478   146 13114    63    21  2021  2642   111     0     0     0\n",
            "      2]\n",
            " [  729   267   107  2514   158    28  1913  2767    61     0     0     0\n",
            "      1]\n",
            " [  133    33    30   259     3    81   649   161     2     0     0     0\n",
            "      0]\n",
            " [  436   421    37  1132    33    18 21909  2278   151     0     0     0\n",
            "      0]\n",
            " [ 1594   709    36  5102    87    54  3936 10675   159     0     0     0\n",
            "      0]\n",
            " [  448   142     1   898    14     0  1520  1237  1999     0     0     0\n",
            "      0]\n",
            " [  117    38     5   520     3     2   314   457     9     0     0     0\n",
            "      1]\n",
            " [   90    29     1   498     3     0   279   132     7     0     0     0\n",
            "      0]\n",
            " [  269   224    25  1158    34     6   706  1341    34     0     0     0\n",
            "      1]\n",
            " [   50    16    55   230     0     3    75    99     2     0     0     0\n",
            "      3]]\n",
            "Accuracy :  44.937711792096344\n",
            "Classificarion Report : \n",
            "              precision    recall  f1-score   support\n",
            "\n",
            "           0       0.43      0.33      0.38     16994\n",
            "           1       0.35      0.17      0.23      8586\n",
            "           2       0.32      0.06      0.10      4012\n",
            "           3       0.38      0.60      0.46     21707\n",
            "           4       0.33      0.02      0.03      8545\n",
            "           5       0.30      0.06      0.10      1351\n",
            "           6       0.57      0.83      0.68     26415\n",
            "           7       0.38      0.48      0.42     22352\n",
            "           8       0.74      0.32      0.45      6259\n",
            "           9       0.00      0.00      0.00      1466\n",
            "          10       0.00      0.00      0.00      1039\n",
            "          11       0.00      0.00      0.00      3798\n",
            "          12       0.30      0.01      0.01       533\n",
            "\n",
            "    accuracy                           0.45    123057\n",
            "   macro avg       0.31      0.22      0.22    123057\n",
            "weighted avg       0.42      0.45      0.40    123057\n",
            "\n"
          ],
          "name": "stdout"
        },
        {
          "output_type": "display_data",
          "data": {
            "image/png": "[encoded data removed]",
            "text/plain": [
              "<Figure size 1152x432 with 1 Axes>"
            ]
          },
          "metadata": {
            "tags": []
          }
        }
      ]
    },
    {
      "cell_type": "code",
      "metadata": {
        "id": "MSD7g1jcSAPw",
        "colab_type": "code",
        "colab": {}
      },
      "source": [
        "def set_label(cat):\n",
        "    cause = 0\n",
        "    natural = ['Lightning']\n",
        "    accidental = ['Arson','Structure','Fireworks','Powerline','Railroad','Smoking','Children','Campfire','Equipment Use','Debris Burning']\n",
        "    other = ['Missing/Undefined','Miscellaneous']\n",
        "    if cat in natural:\n",
        "        cause = 1\n",
        "    elif cat in accidental:\n",
        "        cause = 2\n",
        "    else:\n",
        "        cause = 3\n",
        "    return cause"
      ],
      "execution_count": 0,
      "outputs": []
    },
    {
      "cell_type": "code",
      "metadata": {
        "id": "-KkosO3rk5t8",
        "colab_type": "code",
        "colab": {}
      },
      "source": [
        "amal_df = pd.read_csv('AmalgamatedFireDataset.csv')\n",
        "amal_df_orig=amal_df\n",
        "amal_df=amal_df[['FIRE_YEAR', 'STAT_CAUSE_DESCR', 'LATITUDE', 'LONGITUDE', 'STATE', 'DISCOVERY_DATE', 'FIRE_SIZE_x', 'discovery_month', 'discovery_weekday', 'TMAX', 'PRCP', 'TOBS', 'SNOW']]\n",
        "amal_df['STAT_CAUSE_DESCR'] = le.fit_transform(amal_df['STAT_CAUSE_DESCR'])\n",
        "amal_df['STATE'] = le.fit_transform(amal_df['STATE'])\n",
        "amal_df['discovery_month'] = le.fit_transform(amal_df['discovery_month'])\n",
        "amal_df['discovery_weekday'] = le.fit_transform(amal_df['discovery_weekday'])\n",
        "\n",
        "\n",
        "X = amal_df.drop(['STAT_CAUSE_DESCR'], axis=1).values\n",
        "Y = amal_df_orig['STAT_CAUSE_DESCR'].apply(lambda x: set_label(x))"
      ],
      "execution_count": 0,
      "outputs": []
    },
    {
      "cell_type": "code",
      "metadata": {
        "id": "fMD5cvHNfRU-",
        "colab_type": "code",
        "colab": {
          "base_uri": "https://localhost:8080/",
          "height": 52
        },
        "outputId": "e958cf95-bfa9-49b0-b6da-d9d0a0988e26"
      },
      "source": [
        "pca = PCA(n_components=0.999)\n",
        "pca.fit(X)\n",
        "X_pca = pca.transform(X)\n",
        "print(\"original shape:   \", X.shape)\n",
        "print(\"transformed shape:\", X_pca.shape)"
      ],
      "execution_count": 55,
      "outputs": [
        {
          "output_type": "stream",
          "text": [
            "original shape:    (615282, 12)\n",
            "transformed shape: (615282, 3)\n"
          ],
          "name": "stdout"
        }
      ]
    },
    {
      "cell_type": "code",
      "metadata": {
        "id": "OHzMU-4h44l3",
        "colab_type": "code",
        "colab": {}
      },
      "source": [
        "X_train, X_test, y_train, y_test = train_test_split(X, Y, test_size=0.2, random_state=1)"
      ],
      "execution_count": 0,
      "outputs": []
    },
    {
      "cell_type": "code",
      "metadata": {
        "id": "4BRAdVrd44Vr",
        "colab_type": "code",
        "colab": {}
      },
      "source": [
        "model_results={}\n",
        "scoring = 'recall'\n",
        "seed=1\n",
        "\n",
        "#performing K Folds na dtestin the recall of each model, Printing recall mean and standard deviation \n",
        "kfold = KFold(n_splits=10, random_state=seed)\n",
        "for name, model in models_dict.items():\n",
        "  try:       \n",
        "        model_results[name]=cross_val_score(model, X_train, y_train, cv=kfold, scoring=scoring)\n",
        "        msg = \"%s: %f (%f)\" % (name, model_results[name].mean(), model_results[name].std())\n",
        "        print(msg)\n",
        "  except ValueError:\n",
        "    print(name,'failed')\n",
        "compareAlgos(model_results)"
      ],
      "execution_count": 0,
      "outputs": []
    },
    {
      "cell_type": "code",
      "metadata": {
        "id": "DUEKbTgKfo_H",
        "colab_type": "code",
        "colab": {
          "base_uri": "https://localhost:8080/",
          "height": 1000
        },
        "outputId": "af0a0f08-98ac-489b-b63e-af3052e6ee1e"
      },
      "source": [
        "fitModelsAndPredict(models_dict,X_train,y_train,X_test,y_test)"
      ],
      "execution_count": 0,
      "outputs": [
        {
          "output_type": "stream",
          "text": [
            "****************************************************************************************************\n",
            "Model: LogisticRegression\n",
            "Confusion Matrix:  [[  133 26282     0]\n",
            " [   44 67987     0]\n",
            " [   35 28576     0]]\n",
            "Accuracy :  55.356460827096384\n",
            "Classificarion Report : \n",
            "              precision    recall  f1-score   support\n",
            "\n",
            "           1       0.63      0.01      0.01     26415\n",
            "           2       0.55      1.00      0.71     68031\n",
            "           3       0.00      0.00      0.00     28611\n",
            "\n",
            "    accuracy                           0.55    123057\n",
            "   macro avg       0.39      0.33      0.24    123057\n",
            "weighted avg       0.44      0.55      0.40    123057\n",
            "\n",
            "****************************************************************************************************\n",
            "Model: Dtree\n",
            "Confusion Matrix:  [[16932  6407  3076]\n",
            " [ 6746 49156 12129]\n",
            " [ 3538 15229  9844]]\n",
            "Accuracy :  61.704738454537335\n",
            "Classificarion Report : \n",
            "              precision    recall  f1-score   support\n",
            "\n",
            "           1       0.62      0.64      0.63     26415\n",
            "           2       0.69      0.72      0.71     68031\n",
            "           3       0.39      0.34      0.37     28611\n",
            "\n",
            "    accuracy                           0.62    123057\n",
            "   macro avg       0.57      0.57      0.57    123057\n",
            "weighted avg       0.61      0.62      0.61    123057\n",
            "\n",
            "****************************************************************************************************\n",
            "Model: NB\n",
            "Confusion Matrix:  [[ 1648 24570   197]\n",
            " [ 1100 66428   503]\n",
            " [  624 27633   354]]\n",
            "Accuracy :  55.608376605963095\n",
            "Classificarion Report : \n",
            "              precision    recall  f1-score   support\n",
            "\n",
            "           1       0.49      0.06      0.11     26415\n",
            "           2       0.56      0.98      0.71     68031\n",
            "           3       0.34      0.01      0.02     28611\n",
            "\n",
            "    accuracy                           0.56    123057\n",
            "   macro avg       0.46      0.35      0.28    123057\n",
            "weighted avg       0.49      0.56      0.42    123057\n",
            "\n",
            "****************************************************************************************************\n",
            "Model: KNN\n",
            "Confusion Matrix:  [[18484  6559  1372]\n",
            " [ 8029 52888  7114]\n",
            " [ 4190 17307  7114]]\n",
            "Accuracy :  63.780199419781084\n",
            "Classificarion Report : \n",
            "              precision    recall  f1-score   support\n",
            "\n",
            "           1       0.60      0.70      0.65     26415\n",
            "           2       0.69      0.78      0.73     68031\n",
            "           3       0.46      0.25      0.32     28611\n",
            "\n",
            "    accuracy                           0.64    123057\n",
            "   macro avg       0.58      0.58      0.57    123057\n",
            "weighted avg       0.62      0.64      0.62    123057\n",
            "\n",
            "****************************************************************************************************\n",
            "Model: RForest\n",
            "Confusion Matrix:  [[19213  5491  1711]\n",
            " [ 4743 54577  8711]\n",
            " [ 2757 16033  9821]]\n",
            "Accuracy :  67.94493608652901\n",
            "Classificarion Report : \n",
            "              precision    recall  f1-score   support\n",
            "\n",
            "           1       0.72      0.73      0.72     26415\n",
            "           2       0.72      0.80      0.76     68031\n",
            "           3       0.49      0.34      0.40     28611\n",
            "\n",
            "    accuracy                           0.68    123057\n",
            "   macro avg       0.64      0.62      0.63    123057\n",
            "weighted avg       0.66      0.68      0.67    123057\n",
            "\n",
            "****************************************************************************************************\n",
            "Model: XGB\n",
            "Confusion Matrix:  [[17939  7472  1004]\n",
            " [ 5250 58328  4453]\n",
            " [ 3182 18180  7249]]\n",
            "Accuracy :  67.86773608977953\n",
            "Classificarion Report : \n",
            "              precision    recall  f1-score   support\n",
            "\n",
            "           1       0.68      0.68      0.68     26415\n",
            "           2       0.69      0.86      0.77     68031\n",
            "           3       0.57      0.25      0.35     28611\n",
            "\n",
            "    accuracy                           0.68    123057\n",
            "   macro avg       0.65      0.60      0.60    123057\n",
            "weighted avg       0.66      0.68      0.65    123057\n",
            "\n"
          ],
          "name": "stdout"
        }
      ]
    }
  ]
}