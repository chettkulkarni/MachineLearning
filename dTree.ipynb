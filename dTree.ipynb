{
  "nbformat": 4,
  "nbformat_minor": 0,
  "metadata": {
    "colab": {
      "name": "dTree.ipynb",
      "provenance": [],
      "authorship_tag": "ABX9TyPn/OGraWYW1G4Q1/Ue6Z4k",
      "include_colab_link": true
    },
    "kernelspec": {
      "name": "python3",
      "display_name": "Python 3"
    }
  },
  "cells": [
    {
      "cell_type": "markdown",
      "metadata": {
        "id": "view-in-github",
        "colab_type": "text"
      },
      "source": [
        "<a href=\"https://colab.research.google.com/github/chettkulkarni/MachineLearning/blob/master/dTree.ipynb\" target=\"_parent\"><img src=\"https://colab.research.google.com/assets/colab-badge.svg\" alt=\"Open In Colab\"/></a>"
      ]
    },
    {
      "cell_type": "code",
      "metadata": {
        "id": "4YOvXv3uvDh2",
        "colab_type": "code",
        "colab": {
          "base_uri": "https://localhost:8080/",
          "height": 71
        },
        "outputId": "7f3b6e29-b858-47a5-966f-dfaf3016b460"
      },
      "source": [
        "import requests\n",
        "import pandas as pd\n",
        "from sklearn.datasets import load_iris\n",
        "from sklearn.tree import DecisionTreeClassifier\n",
        "from sklearn.model_selection import train_test_split\n",
        "from sklearn.metrics import confusion_matrix\n",
        "from sklearn.tree import export_graphviz\n",
        "from sklearn.externals.six import StringIO \n",
        "from IPython.display import Image \n",
        "from pydot import graph_from_dot_data\n",
        "import numpy as np"
      ],
      "execution_count": 12,
      "outputs": [
        {
          "output_type": "stream",
          "text": [
            "/usr/local/lib/python3.6/dist-packages/sklearn/externals/six.py:31: FutureWarning: The module is deprecated in version 0.21 and will be removed in version 0.23 since we've dropped support for Python 2.7. Please rely on the official version of six (https://pypi.org/project/six/).\n",
            "  \"(https://pypi.org/project/six/).\", FutureWarning)\n"
          ],
          "name": "stderr"
        }
      ]
    },
    {
      "cell_type": "code",
      "metadata": {
        "id": "86gNHM9B2MbJ",
        "colab_type": "code",
        "colab": {
          "base_uri": "https://localhost:8080/",
          "height": 34
        },
        "outputId": "24cdd9e8-40ba-4d52-87ce-3f5894183da1"
      },
      "source": [
        "!pip install -U -q PyDrive\n",
        "from pydrive.auth import GoogleAuth\n",
        "from pydrive.drive import GoogleDrive\n",
        "from google.colab import auth\n",
        "from oauth2client.client import GoogleCredentials\n",
        "# Authenticate and create the PyDrive client.\n",
        "auth.authenticate_user()\n",
        "gauth = GoogleAuth()\n",
        "gauth.credentials = GoogleCredentials.get_application_default()\n",
        "drive = GoogleDrive(gauth)\n",
        "\n",
        "link = 'https://drive.google.com/open?id=1C3lh2XoL9zWwlnu-ZkWjvEsJvO6y0ECC'\n",
        "fluff, id = link.split('=')\n",
        "print (id) # Verify that you have everything after '='\n",
        "\n",
        "\n",
        "downloaded = drive.CreateFile({'id':id}) \n",
        "downloaded.GetContentFile('Fire.csv')\n"
      ],
      "execution_count": 5,
      "outputs": [
        {
          "output_type": "stream",
          "text": [
            "1C3lh2XoL9zWwlnu-ZkWjvEsJvO6y0ECC\n"
          ],
          "name": "stdout"
        }
      ]
    },
    {
      "cell_type": "code",
      "metadata": {
        "id": "0x5RTiVU2WST",
        "colab_type": "code",
        "colab": {}
      },
      "source": [
        "df=pd.read_csv('Fire.csv')"
      ],
      "execution_count": 0,
      "outputs": []
    },
    {
      "cell_type": "code",
      "metadata": {
        "id": "Gl5VpFAS2x5R",
        "colab_type": "code",
        "colab": {
          "base_uri": "https://localhost:8080/",
          "height": 456
        },
        "outputId": "526bfb1e-0a17-47ab-c258-6cf9d49552ff"
      },
      "source": [
        "df"
      ],
      "execution_count": 7,
      "outputs": [
        {
          "output_type": "execute_result",
          "data": {
            "text/html": [
              "<div>\n",
              "<style scoped>\n",
              "    .dataframe tbody tr th:only-of-type {\n",
              "        vertical-align: middle;\n",
              "    }\n",
              "\n",
              "    .dataframe tbody tr th {\n",
              "        vertical-align: top;\n",
              "    }\n",
              "\n",
              "    .dataframe thead th {\n",
              "        text-align: right;\n",
              "    }\n",
              "</style>\n",
              "<table border=\"1\" class=\"dataframe\">\n",
              "  <thead>\n",
              "    <tr style=\"text-align: right;\">\n",
              "      <th></th>\n",
              "      <th>Unnamed: 0</th>\n",
              "      <th>LATITUDE</th>\n",
              "      <th>LONGITUDE</th>\n",
              "      <th>date</th>\n",
              "      <th>TMAX</th>\n",
              "      <th>PRCP</th>\n",
              "      <th>TOBS</th>\n",
              "      <th>SNOW</th>\n",
              "      <th>STAT_CAUSE_CODE</th>\n",
              "      <th>DISCOVERY_DOY</th>\n",
              "      <th>FIRE_SIZE</th>\n",
              "    </tr>\n",
              "  </thead>\n",
              "  <tbody>\n",
              "    <tr>\n",
              "      <th>0</th>\n",
              "      <td>0</td>\n",
              "      <td>19.0</td>\n",
              "      <td>-155.0</td>\n",
              "      <td>20100306</td>\n",
              "      <td>200.000000</td>\n",
              "      <td>96.500000</td>\n",
              "      <td>128.0</td>\n",
              "      <td>0.0</td>\n",
              "      <td>7.0</td>\n",
              "      <td>63</td>\n",
              "      <td>0.1</td>\n",
              "    </tr>\n",
              "    <tr>\n",
              "      <th>1</th>\n",
              "      <td>1</td>\n",
              "      <td>19.0</td>\n",
              "      <td>-155.0</td>\n",
              "      <td>20100425</td>\n",
              "      <td>233.666667</td>\n",
              "      <td>1.500000</td>\n",
              "      <td>144.0</td>\n",
              "      <td>0.0</td>\n",
              "      <td>5.0</td>\n",
              "      <td>111</td>\n",
              "      <td>100.0</td>\n",
              "    </tr>\n",
              "    <tr>\n",
              "      <th>2</th>\n",
              "      <td>2</td>\n",
              "      <td>19.0</td>\n",
              "      <td>-155.0</td>\n",
              "      <td>20100609</td>\n",
              "      <td>239.000000</td>\n",
              "      <td>2.666667</td>\n",
              "      <td>167.0</td>\n",
              "      <td>0.0</td>\n",
              "      <td>2.0</td>\n",
              "      <td>160</td>\n",
              "      <td>0.1</td>\n",
              "    </tr>\n",
              "    <tr>\n",
              "      <th>3</th>\n",
              "      <td>3</td>\n",
              "      <td>19.0</td>\n",
              "      <td>-155.0</td>\n",
              "      <td>20100712</td>\n",
              "      <td>194.666667</td>\n",
              "      <td>7.500000</td>\n",
              "      <td>133.0</td>\n",
              "      <td>0.0</td>\n",
              "      <td>4.0</td>\n",
              "      <td>193</td>\n",
              "      <td>0.1</td>\n",
              "    </tr>\n",
              "    <tr>\n",
              "      <th>4</th>\n",
              "      <td>4</td>\n",
              "      <td>19.0</td>\n",
              "      <td>-155.0</td>\n",
              "      <td>20101019</td>\n",
              "      <td>248.500000</td>\n",
              "      <td>9.500000</td>\n",
              "      <td>169.5</td>\n",
              "      <td>0.0</td>\n",
              "      <td>1.0</td>\n",
              "      <td>292</td>\n",
              "      <td>0.1</td>\n",
              "    </tr>\n",
              "    <tr>\n",
              "      <th>...</th>\n",
              "      <td>...</td>\n",
              "      <td>...</td>\n",
              "      <td>...</td>\n",
              "      <td>...</td>\n",
              "      <td>...</td>\n",
              "      <td>...</td>\n",
              "      <td>...</td>\n",
              "      <td>...</td>\n",
              "      <td>...</td>\n",
              "      <td>...</td>\n",
              "      <td>...</td>\n",
              "    </tr>\n",
              "    <tr>\n",
              "      <th>33200</th>\n",
              "      <td>33200</td>\n",
              "      <td>65.0</td>\n",
              "      <td>-145.0</td>\n",
              "      <td>20100521</td>\n",
              "      <td>165.000000</td>\n",
              "      <td>0.000000</td>\n",
              "      <td>79.0</td>\n",
              "      <td>0.0</td>\n",
              "      <td>13.0</td>\n",
              "      <td>130</td>\n",
              "      <td>0.1</td>\n",
              "    </tr>\n",
              "    <tr>\n",
              "      <th>33201</th>\n",
              "      <td>33201</td>\n",
              "      <td>65.0</td>\n",
              "      <td>-141.0</td>\n",
              "      <td>20100614</td>\n",
              "      <td>215.000000</td>\n",
              "      <td>16.500000</td>\n",
              "      <td>83.0</td>\n",
              "      <td>0.0</td>\n",
              "      <td>1.0</td>\n",
              "      <td>154</td>\n",
              "      <td>1252.1</td>\n",
              "    </tr>\n",
              "    <tr>\n",
              "      <th>33202</th>\n",
              "      <td>33202</td>\n",
              "      <td>67.0</td>\n",
              "      <td>-152.0</td>\n",
              "      <td>20101019</td>\n",
              "      <td>-41.000000</td>\n",
              "      <td>0.000000</td>\n",
              "      <td>-83.0</td>\n",
              "      <td>0.0</td>\n",
              "      <td>1.0</td>\n",
              "      <td>182</td>\n",
              "      <td>30238.9</td>\n",
              "    </tr>\n",
              "    <tr>\n",
              "      <th>33203</th>\n",
              "      <td>33203</td>\n",
              "      <td>67.0</td>\n",
              "      <td>-150.0</td>\n",
              "      <td>20100722</td>\n",
              "      <td>178.500000</td>\n",
              "      <td>14.000000</td>\n",
              "      <td>107.5</td>\n",
              "      <td>0.0</td>\n",
              "      <td>1.0</td>\n",
              "      <td>182</td>\n",
              "      <td>1.5</td>\n",
              "    </tr>\n",
              "    <tr>\n",
              "      <th>33204</th>\n",
              "      <td>33204</td>\n",
              "      <td>67.0</td>\n",
              "      <td>-150.0</td>\n",
              "      <td>20100802</td>\n",
              "      <td>252.500000</td>\n",
              "      <td>0.000000</td>\n",
              "      <td>164.0</td>\n",
              "      <td>0.0</td>\n",
              "      <td>1.0</td>\n",
              "      <td>182</td>\n",
              "      <td>20.0</td>\n",
              "    </tr>\n",
              "  </tbody>\n",
              "</table>\n",
              "<p>33205 rows × 11 columns</p>\n",
              "</div>"
            ],
            "text/plain": [
              "       Unnamed: 0  LATITUDE  ...  DISCOVERY_DOY  FIRE_SIZE\n",
              "0               0      19.0  ...             63        0.1\n",
              "1               1      19.0  ...            111      100.0\n",
              "2               2      19.0  ...            160        0.1\n",
              "3               3      19.0  ...            193        0.1\n",
              "4               4      19.0  ...            292        0.1\n",
              "...           ...       ...  ...            ...        ...\n",
              "33200       33200      65.0  ...            130        0.1\n",
              "33201       33201      65.0  ...            154     1252.1\n",
              "33202       33202      67.0  ...            182    30238.9\n",
              "33203       33203      67.0  ...            182        1.5\n",
              "33204       33204      67.0  ...            182       20.0\n",
              "\n",
              "[33205 rows x 11 columns]"
            ]
          },
          "metadata": {
            "tags": []
          },
          "execution_count": 7
        }
      ]
    },
    {
      "cell_type": "code",
      "metadata": {
        "id": "t-qLK80G3cRl",
        "colab_type": "code",
        "colab": {}
      },
      "source": [
        "X=df.loc[:, df.columns != 'STAT_CAUSE_CODE']"
      ],
      "execution_count": 0,
      "outputs": []
    },
    {
      "cell_type": "code",
      "metadata": {
        "id": "hjsKfc5M3oat",
        "colab_type": "code",
        "colab": {}
      },
      "source": [
        "y=df.STAT_CAUSE_CODE"
      ],
      "execution_count": 0,
      "outputs": []
    },
    {
      "cell_type": "code",
      "metadata": {
        "id": "js4AfpWz2yVe",
        "colab_type": "code",
        "colab": {}
      },
      "source": [
        "X_train, X_test, y_train, y_test = train_test_split(X, y, random_state=1)"
      ],
      "execution_count": 0,
      "outputs": []
    },
    {
      "cell_type": "code",
      "metadata": {
        "id": "BIuZHbYu4Ctu",
        "colab_type": "code",
        "colab": {}
      },
      "source": [
        ""
      ],
      "execution_count": 0,
      "outputs": []
    },
    {
      "cell_type": "code",
      "metadata": {
        "id": "VAzfa8H33SfT",
        "colab_type": "code",
        "colab": {
          "base_uri": "https://localhost:8080/",
          "height": 119
        },
        "outputId": "05340d63-73a3-420e-f99c-dd1f3c9ff428"
      },
      "source": [
        "dt = DecisionTreeClassifier()\n",
        "dt.fit(X_train, y_train)"
      ],
      "execution_count": 16,
      "outputs": [
        {
          "output_type": "execute_result",
          "data": {
            "text/plain": [
              "DecisionTreeClassifier(ccp_alpha=0.0, class_weight=None, criterion='gini',\n",
              "                       max_depth=None, max_features=None, max_leaf_nodes=None,\n",
              "                       min_impurity_decrease=0.0, min_impurity_split=None,\n",
              "                       min_samples_leaf=1, min_samples_split=2,\n",
              "                       min_weight_fraction_leaf=0.0, presort='deprecated',\n",
              "                       random_state=None, splitter='best')"
            ]
          },
          "metadata": {
            "tags": []
          },
          "execution_count": 16
        }
      ]
    },
    {
      "cell_type": "code",
      "metadata": {
        "id": "h_5Rp2Xv3W6k",
        "colab_type": "code",
        "colab": {}
      },
      "source": [
        "y_pred = dt.predict(X_test)"
      ],
      "execution_count": 0,
      "outputs": []
    },
    {
      "cell_type": "code",
      "metadata": {
        "id": "pXJvy6Pq3apn",
        "colab_type": "code",
        "colab": {
          "base_uri": "https://localhost:8080/",
          "height": 34
        },
        "outputId": "c7715b0f-026d-403e-e4f4-c89a7cdeb833"
      },
      "source": [
        "from sklearn.metrics import accuracy_score\n",
        "accuracy_score(y_test, y_pred)*100"
      ],
      "execution_count": 24,
      "outputs": [
        {
          "output_type": "execute_result",
          "data": {
            "text/plain": [
              "42.43555769694049"
            ]
          },
          "metadata": {
            "tags": []
          },
          "execution_count": 24
        }
      ]
    },
    {
      "cell_type": "code",
      "metadata": {
        "id": "cCKuDVqo5rbC",
        "colab_type": "code",
        "colab": {
          "base_uri": "https://localhost:8080/",
          "height": 34
        },
        "outputId": "609a0423-7e32-4e0e-8826-72cab97c5679"
      },
      "source": [
        "dt = DecisionTreeClassifier(criterion='entropy')\n",
        "dt.fit(X_train, y_train)\n",
        "y_pred = dt.predict(X_test)\n",
        "accuracy_score(y_test, y_pred)*100"
      ],
      "execution_count": 26,
      "outputs": [
        {
          "output_type": "execute_result",
          "data": {
            "text/plain": [
              "43.79667549987955"
            ]
          },
          "metadata": {
            "tags": []
          },
          "execution_count": 26
        }
      ]
    },
    {
      "cell_type": "code",
      "metadata": {
        "id": "t1QKz7mH6Iys",
        "colab_type": "code",
        "colab": {}
      },
      "source": [
        ""
      ],
      "execution_count": 0,
      "outputs": []
    }
  ]
}