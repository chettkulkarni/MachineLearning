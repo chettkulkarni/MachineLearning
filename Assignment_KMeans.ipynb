{
  "nbformat": 4,
  "nbformat_minor": 0,
  "metadata": {
    "kernelspec": {
      "display_name": "Python 3",
      "language": "python",
      "name": "python3"
    },
    "language_info": {
      "codemirror_mode": {
        "name": "ipython",
        "version": 3
      },
      "file_extension": ".py",
      "mimetype": "text/x-python",
      "name": "python",
      "nbconvert_exporter": "python",
      "pygments_lexer": "ipython3",
      "version": "3.7.3"
    },
    "colab": {
      "name": "Assignment_KMeans.ipynb",
      "provenance": [],
      "include_colab_link": true
    }
  },
  "cells": [
    {
      "cell_type": "markdown",
      "metadata": {
        "id": "view-in-github",
        "colab_type": "text"
      },
      "source": [
        "<a href=\"https://colab.research.google.com/github/chettkulkarni/MachineLearning/blob/master/Assignment_KMeans.ipynb\" target=\"_parent\"><img src=\"https://colab.research.google.com/assets/colab-badge.svg\" alt=\"Open In Colab\"/></a>"
      ]
    },
    {
      "cell_type": "markdown",
      "metadata": {
        "id": "7yBSjkyRCY2K",
        "colab_type": "text"
      },
      "source": [
        "# Wildfire Predictions"
      ]
    },
    {
      "cell_type": "markdown",
      "metadata": {
        "id": "mfKc-LC2CY2N",
        "colab_type": "text"
      },
      "source": [
        "Dataset:- We have the historical dataset collected by american governement on all the wildfires in history of usa from 1900 to 2015.\n",
        "\n",
        "Hypothesis:- Predicting Wildfire Damage Area based on several different features including\n",
        "FIRE_YEAR, STAT_CAUSE_DESCR, LATITUDE, LONGITUDE, STATE, DISCOVERY_DATE\n",
        "\n",
        "Task of this ntebook is to find if we can find effective clusters on the bases of datasets that we have.\n"
      ]
    },
    {
      "cell_type": "code",
      "metadata": {
        "id": "L8B2-i3nCY2O",
        "colab_type": "code",
        "colab": {}
      },
      "source": [
        "#importing libraries required and also connecting to the sqlite3 db wildfire dataset.\n",
        "\n",
        "import sqlite3\n",
        "import pandas as pd\n",
        "from matplotlib import pyplot as plt\n",
        "from sklearn.cluster import KMeans\n",
        "from sklearn import preprocessing\n",
        "from sklearn.cluster import KMeans\n",
        "\n",
        "conn = sqlite3.connect('../FPA_FOD_20170508.sqlite')\n"
      ],
      "execution_count": 0,
      "outputs": []
    },
    {
      "cell_type": "code",
      "metadata": {
        "id": "y6PWVj9yCY2S",
        "colab_type": "code",
        "colab": {},
        "outputId": "b8bae813-5116-40ad-ef56-ac0b565a4b0f"
      },
      "source": [
        "conn"
      ],
      "execution_count": 0,
      "outputs": [
        {
          "output_type": "execute_result",
          "data": {
            "text/plain": [
              "<sqlite3.Connection at 0x12fc05490>"
            ]
          },
          "metadata": {
            "tags": []
          },
          "execution_count": 2
        }
      ]
    },
    {
      "cell_type": "code",
      "metadata": {
        "id": "Fzybkmi6CY2W",
        "colab_type": "code",
        "colab": {}
      },
      "source": [
        "#extracting meaningful columns\n",
        "df = pd.read_sql_query(\"SELECT FIRE_YEAR,SOURCE_REPORTING_UNIT,LATITUDE,LONGITUDE,STATE,DISCOVERY_DATE,FIRE_SIZE,Shape,STAT_CAUSE_DESCR FROM 'Fires'\", conn)"
      ],
      "execution_count": 0,
      "outputs": []
    },
    {
      "cell_type": "code",
      "metadata": {
        "id": "EQ1ojF2rCY2Z",
        "colab_type": "code",
        "colab": {},
        "outputId": "35a713bd-bc85-47ba-e263-5ff33fd73f06"
      },
      "source": [
        "df.columns"
      ],
      "execution_count": 0,
      "outputs": [
        {
          "output_type": "execute_result",
          "data": {
            "text/plain": [
              "Index(['FIRE_YEAR', 'SOURCE_REPORTING_UNIT', 'LATITUDE', 'LONGITUDE', 'STATE',\n",
              "       'DISCOVERY_DATE', 'FIRE_SIZE', 'Shape', 'STAT_CAUSE_DESCR'],\n",
              "      dtype='object')"
            ]
          },
          "metadata": {
            "tags": []
          },
          "execution_count": 4
        }
      ]
    },
    {
      "cell_type": "code",
      "metadata": {
        "id": "J2ioJVykCY2c",
        "colab_type": "code",
        "colab": {}
      },
      "source": [
        "#finding pearson corelation in the dataset\n",
        "pearsoncorr=df.corr()"
      ],
      "execution_count": 0,
      "outputs": []
    },
    {
      "cell_type": "markdown",
      "metadata": {
        "id": "tTC88_p9CY2f",
        "colab_type": "text"
      },
      "source": [
        "The data in the dataset is hily un-corelated."
      ]
    },
    {
      "cell_type": "code",
      "metadata": {
        "id": "dmjOVVMPCY2g",
        "colab_type": "code",
        "colab": {},
        "outputId": "4ab93ef0-af5f-42fb-8f7d-be830712e9ee"
      },
      "source": [
        "\n",
        "import seaborn as sb\n",
        "\n",
        "plt.figure(1,figsize=(15,15))\n",
        "sb.heatmap(pearsoncorr, \n",
        "            xticklabels=pearsoncorr.columns,\n",
        "            yticklabels=pearsoncorr.columns,\n",
        "            cmap='RdBu_r',\n",
        "            annot=True,\n",
        "            linewidth=0.5)"
      ],
      "execution_count": 0,
      "outputs": [
        {
          "output_type": "execute_result",
          "data": {
            "text/plain": [
              "<matplotlib.axes._subplots.AxesSubplot at 0x13ead2fd0>"
            ]
          },
          "metadata": {
            "tags": []
          },
          "execution_count": 6
        },
        {
          "output_type": "display_data",
          "data": {
            "image/png": "[encoded data removed]",
            "text/plain": [
              "<Figure size 1080x1080 with 2 Axes>"
            ]
          },
          "metadata": {
            "tags": [],
            "needs_background": "light"
          }
        }
      ]
    },
    {
      "cell_type": "markdown",
      "metadata": {
        "id": "dEElaPCxCY2j",
        "colab_type": "text"
      },
      "source": [
        "# Kmeans on fire size vs Fire Cause\n",
        "\n",
        "Even if the dataset doesnt have corelation wanted to explore if clusters can be formed on the bases of \n",
        "\n",
        "1)fire size and fire cause.\n",
        "\n",
        "2)fire size and fire year\n",
        "\n",
        "as our important feature at hand is fire size"
      ]
    },
    {
      "cell_type": "code",
      "metadata": {
        "id": "I5s7iuk0CY2j",
        "colab_type": "code",
        "colab": {}
      },
      "source": [
        "le = preprocessing.LabelEncoder()\n",
        "\n",
        "labelencoderlist=['STATE','STAT_CAUSE_DESCR']"
      ],
      "execution_count": 0,
      "outputs": []
    },
    {
      "cell_type": "code",
      "metadata": {
        "id": "By2mfdAUCY2m",
        "colab_type": "code",
        "colab": {}
      },
      "source": [
        "le.fit(df.STATE)\n",
        "df.STATE=le.transform(df.STATE)\n",
        "\n",
        "le.fit(df.STAT_CAUSE_DESCR)\n",
        "df.STAT_CAUSE_DESCR=le.transform(df.STAT_CAUSE_DESCR)\n",
        "df=df.drop(['Shape'],axis=1)"
      ],
      "execution_count": 0,
      "outputs": []
    },
    {
      "cell_type": "code",
      "metadata": {
        "id": "c5_-AypKCY2q",
        "colab_type": "code",
        "colab": {}
      },
      "source": [
        "df=df.dropna()\n",
        "df2=df[['FIRE_SIZE','STAT_CAUSE_DESCR']]"
      ],
      "execution_count": 0,
      "outputs": []
    },
    {
      "cell_type": "code",
      "metadata": {
        "id": "LviIfPpzCY2t",
        "colab_type": "code",
        "colab": {}
      },
      "source": [
        "Sum_of_squared_distances = []\n",
        "K = range(1,10)\n",
        "for k in K:\n",
        "    km = KMeans(n_clusters=k)\n",
        "    km = km.fit(df2)\n",
        "    Sum_of_squared_distances.append(km.inertia_)"
      ],
      "execution_count": 0,
      "outputs": []
    },
    {
      "cell_type": "markdown",
      "metadata": {
        "id": "KqaREWRECY2w",
        "colab_type": "text"
      },
      "source": [
        "Using elbow method to find the optimal k for performing k means clustering"
      ]
    },
    {
      "cell_type": "code",
      "metadata": {
        "id": "gDFggE9NCY2x",
        "colab_type": "code",
        "colab": {},
        "outputId": "e7367fc3-c188-4c3a-a1ca-ca322f1cb95c"
      },
      "source": [
        "plt.plot(K, Sum_of_squared_distances, 'bx-')\n",
        "plt.xlabel('k')\n",
        "plt.ylabel('Sum_of_squared_distances')\n",
        "plt.title('Elbow Method For Optimal k')\n",
        "plt.show()"
      ],
      "execution_count": 0,
      "outputs": [
        {
          "output_type": "display_data",
          "data": {
            "image/png": "[encoded data removed]",
            "text/plain": [
              "<Figure size 432x288 with 1 Axes>"
            ]
          },
          "metadata": {
            "tags": [],
            "needs_background": "light"
          }
        }
      ]
    },
    {
      "cell_type": "markdown",
      "metadata": {
        "id": "YNX9DSKgCY2z",
        "colab_type": "text"
      },
      "source": [
        "optimal k is 3"
      ]
    },
    {
      "cell_type": "code",
      "metadata": {
        "id": "e_vPdypXCY20",
        "colab_type": "code",
        "colab": {},
        "outputId": "bcf48e83-2948-41de-e94a-6c85c99efdb4"
      },
      "source": [
        "df3 = df[['FIRE_SIZE','STAT_CAUSE_DESCR']]\n",
        "kmeans = KMeans(n_clusters=3)\n",
        "y = kmeans.fit_predict(df2)\n",
        "print(df3.head())"
      ],
      "execution_count": 0,
      "outputs": [
        {
          "output_type": "stream",
          "text": [
            "   FIRE_SIZE  STAT_CAUSE_DESCR\n",
            "0       0.10                 7\n",
            "1       0.25                 6\n",
            "2       0.10                 3\n",
            "3       0.10                 6\n",
            "4       0.10                 6\n"
          ],
          "name": "stdout"
        }
      ]
    },
    {
      "cell_type": "code",
      "metadata": {
        "id": "swEEek2tCY22",
        "colab_type": "code",
        "colab": {},
        "outputId": "f1a565c1-3c5b-4f99-f913-390697cf5287"
      },
      "source": [
        "kmeans.cluster_centers_"
      ],
      "execution_count": 0,
      "outputs": [
        {
          "output_type": "execute_result",
          "data": {
            "text/plain": [
              "array([[4.00992752e+01, 4.51780867e+00],\n",
              "       [2.89765451e+05, 5.72727273e+00],\n",
              "       [7.06198230e+04, 5.76705491e+00]])"
            ]
          },
          "metadata": {
            "tags": []
          },
          "execution_count": 13
        }
      ]
    },
    {
      "cell_type": "code",
      "metadata": {
        "scrolled": false,
        "id": "VtNi1yoQCY25",
        "colab_type": "code",
        "colab": {},
        "outputId": "e33795bf-6449-4d58-d56a-f05a145d8e05"
      },
      "source": [
        "plt.figure(1,figsize=(15,15))\n",
        "plt.scatter(df3.FIRE_SIZE, df3.STAT_CAUSE_DESCR, c=kmeans.labels_, cmap='rainbow')\n",
        "plt.scatter(kmeans.cluster_centers_[:,0] ,kmeans.cluster_centers_[:,1], color='black')"
      ],
      "execution_count": 0,
      "outputs": [
        {
          "output_type": "execute_result",
          "data": {
            "text/plain": [
              "<matplotlib.collections.PathCollection at 0x16cab4a58>"
            ]
          },
          "metadata": {
            "tags": []
          },
          "execution_count": 14
        },
        {
          "output_type": "display_data",
          "data": {
            "image/png": "[encoded data removed]",
            "text/plain": [
              "<Figure size 1080x1080 with 1 Axes>"
            ]
          },
          "metadata": {
            "tags": [],
            "needs_background": "light"
          }
        }
      ]
    },
    {
      "cell_type": "markdown",
      "metadata": {
        "id": "AS33D9AdCY28",
        "colab_type": "text"
      },
      "source": [
        "As observed above, no meaning ful clusters were formed on the bases of fire size vs fire cause"
      ]
    },
    {
      "cell_type": "markdown",
      "metadata": {
        "id": "ebS3Cjs3CY28",
        "colab_type": "text"
      },
      "source": [
        "Also performing same steps for fire size vs state,and again no meaningful clusters are formed"
      ]
    },
    {
      "cell_type": "code",
      "metadata": {
        "id": "XG7XgBscCY29",
        "colab_type": "code",
        "colab": {},
        "outputId": "40cd786e-024c-4341-b090-d4fdcb9a5377"
      },
      "source": [
        "Sum_of_squared_distances = []\n",
        "K = range(1,10)\n",
        "for k in K:\n",
        "    km = KMeans(n_clusters=k)\n",
        "    km = km.fit(df2)\n",
        "    Sum_of_squared_distances.append(km.inertia_)\n",
        "\n",
        "plt.plot(K, Sum_of_squared_distances, 'bx-')\n",
        "plt.xlabel('k')\n",
        "plt.ylabel('Sum_of_squared_distances')\n",
        "plt.title('Elbow Method For Optimal k')\n",
        "plt.show()"
      ],
      "execution_count": 0,
      "outputs": [
        {
          "output_type": "display_data",
          "data": {
            "image/png": "[encoded data removed]",
            "text/plain": [
              "<Figure size 432x288 with 1 Axes>"
            ]
          },
          "metadata": {
            "tags": [],
            "needs_background": "light"
          }
        }
      ]
    },
    {
      "cell_type": "code",
      "metadata": {
        "id": "ZPsHsJE6CY2_",
        "colab_type": "code",
        "colab": {},
        "outputId": "73b2c5d7-0dc8-410e-f825-0a3fcd47ce28"
      },
      "source": [
        "df3 = df[['FIRE_SIZE','FIRE_YEAR']]\n",
        "kmeans = KMeans(n_clusters=3)\n",
        "y = kmeans.fit_predict(df2)\n",
        "print(df3.head())"
      ],
      "execution_count": 0,
      "outputs": [
        {
          "output_type": "stream",
          "text": [
            "   FIRE_SIZE  FIRE_YEAR\n",
            "0       0.10       2005\n",
            "1       0.25       2004\n",
            "2       0.10       2004\n",
            "3       0.10       2004\n",
            "4       0.10       2004\n"
          ],
          "name": "stdout"
        }
      ]
    },
    {
      "cell_type": "code",
      "metadata": {
        "id": "eOMPENWLCY3B",
        "colab_type": "code",
        "colab": {},
        "outputId": "e3e36c23-5e9f-4eab-b962-e969259e7f8b"
      },
      "source": [
        "plt.figure(1,figsize=(15,15))\n",
        "plt.scatter(df3.FIRE_SIZE, df3.FIRE_YEAR, c=kmeans.labels_, cmap='rainbow')\n",
        "plt.scatter(kmeans.cluster_centers_[:,0] ,kmeans.cluster_centers_[:,1], color='black')"
      ],
      "execution_count": 0,
      "outputs": [
        {
          "output_type": "execute_result",
          "data": {
            "text/plain": [
              "<matplotlib.collections.PathCollection at 0x16c9dacf8>"
            ]
          },
          "metadata": {
            "tags": []
          },
          "execution_count": 17
        },
        {
          "output_type": "display_data",
          "data": {
            "image/png": "[encoded data removed]",
            "text/plain": [
              "<Figure size 1080x1080 with 1 Axes>"
            ]
          },
          "metadata": {
            "tags": [],
            "needs_background": "light"
          }
        }
      ]
    },
    {
      "cell_type": "markdown",
      "metadata": {
        "id": "D7grs-38CY3E",
        "colab_type": "text"
      },
      "source": [
        "# Agglomerative Clustering\n",
        "Tried aggloemerative clustering and it did not execute becasue data set is huge (900 mb)"
      ]
    },
    {
      "cell_type": "code",
      "metadata": {
        "id": "YVp4nXAGCY3E",
        "colab_type": "code",
        "colab": {}
      },
      "source": [
        "# from sklearn.cluster import AgglomerativeClustering "
      ],
      "execution_count": 0,
      "outputs": []
    },
    {
      "cell_type": "code",
      "metadata": {
        "id": "4P8sD2YZCY3J",
        "colab_type": "code",
        "colab": {}
      },
      "source": [
        "# ac2 = AgglomerativeClustering(n_clusters = 2) "
      ],
      "execution_count": 0,
      "outputs": []
    },
    {
      "cell_type": "code",
      "metadata": {
        "id": "jIlD5d8NCY3L",
        "colab_type": "code",
        "colab": {}
      },
      "source": [
        "# plt.figure(figsize =(6, 6)) \n",
        "# plt.scatter(df2.FIRE_SIZE, df2.FIRE_YEAR,  \n",
        "#            c = ac2.fit_predict(df2), cmap ='rainbow') \n",
        "# plt.show() "
      ],
      "execution_count": 0,
      "outputs": []
    },
    {
      "cell_type": "markdown",
      "metadata": {
        "id": "YRBTOVxVCY3N",
        "colab_type": "text"
      },
      "source": [
        "# Using TensorFlow KMeans"
      ]
    },
    {
      "cell_type": "markdown",
      "metadata": {
        "id": "VOYn0cfgCY3N",
        "colab_type": "text"
      },
      "source": [
        "Tried applying Kmeans Clustering from Kmeans Tensorflow documentation.\n",
        "Found two clusters using TensorFlow"
      ]
    },
    {
      "cell_type": "code",
      "metadata": {
        "id": "O7MtxSz3CY3O",
        "colab_type": "code",
        "colab": {},
        "outputId": "1ad97449-6851-466e-a1d0-dbf36e866682"
      },
      "source": [
        "import numpy as np\n",
        "import tensorflow as tf\n",
        "\n",
        "num_points = 100\n",
        "dimensions = 2\n",
        "# points = np.random.uniform(0, 1000, [num_points, dimensions])\n",
        "points=df[['FIRE_SIZE','STAT_CAUSE_DESCR']]\n",
        "def input_fn():\n",
        "    return tf.compat.v1.train.limit_epochs(\n",
        "      tf.convert_to_tensor(points, dtype=tf.float32), num_epochs=1)\n",
        "\n",
        "num_clusters = 4\n",
        "kmeans = tf.compat.v1.estimator.experimental.KMeans(\n",
        "    num_clusters=num_clusters, use_mini_batch=False)\n",
        "\n",
        "# train\n",
        "num_iterations = 10\n",
        "previous_centers = None\n",
        "for _ in range(num_iterations):\n",
        "    kmeans.train(input_fn)\n",
        "    cluster_centers = kmeans.cluster_centers()\n",
        "    if previous_centers is not None:\n",
        "        print('delta:', cluster_centers - previous_centers)\n",
        "    previous_centers = cluster_centers\n",
        "    print('score:', kmeans.score(input_fn))\n",
        "print('cluster centers:', cluster_centers)\n",
        "\n",
        "# map the input points to their clusters\n",
        "cluster_indices = list(kmeans.predict_cluster_index(input_fn))\n",
        "for i, point in enumerate(points):\n",
        "    cluster_index = cluster_indices[i]\n",
        "    center = cluster_centers[cluster_index]\n",
        "    print('point:', point, 'is in cluster', cluster_index, 'centered at', center)"
      ],
      "execution_count": 0,
      "outputs": [
        {
          "output_type": "stream",
          "text": [
            "INFO:tensorflow:Using default config.\n",
            "WARNING:tensorflow:Using temporary folder as model directory: /var/folders/8d/6z3j7y0n38nfd5nzd1trt4380000gn/T/tmpbsul9bdg\n",
            "INFO:tensorflow:Using config: {'_model_dir': '/var/folders/8d/6z3j7y0n38nfd5nzd1trt4380000gn/T/tmpbsul9bdg', '_tf_random_seed': None, '_save_summary_steps': 100, '_save_checkpoints_steps': None, '_save_checkpoints_secs': 600, '_session_config': allow_soft_placement: true\n",
            "graph_options {\n",
            "  rewrite_options {\n",
            "    meta_optimizer_iterations: ONE\n",
            "  }\n",
            "}\n",
            ", '_keep_checkpoint_max': 5, '_keep_checkpoint_every_n_hours': 10000, '_log_step_count_steps': 100, '_train_distribute': None, '_device_fn': None, '_protocol': None, '_eval_distribute': None, '_experimental_distribute': None, '_experimental_max_worker_delay_secs': None, '_session_creation_timeout_secs': 7200, '_service': None, '_cluster_spec': ClusterSpec({}), '_task_type': 'worker', '_task_id': 0, '_global_id_in_cluster': 0, '_master': '', '_evaluation_master': '', '_is_chief': True, '_num_ps_replicas': 0, '_num_worker_replicas': 1}\n",
            "WARNING:tensorflow:From /Users/chettykulkarni/anaconda3/lib/python3.7/site-packages/tensorflow_core/python/ops/resource_variable_ops.py:1658: calling BaseResourceVariable.__init__ (from tensorflow.python.ops.resource_variable_ops) with constraint is deprecated and will be removed in a future version.\n",
            "Instructions for updating:\n",
            "If using Keras pass *_constraint arguments to layers.\n",
            "WARNING:tensorflow:From /Users/chettykulkarni/anaconda3/lib/python3.7/site-packages/tensorflow_core/python/training/training_util.py:236: Variable.initialized_value (from tensorflow.python.ops.variables) is deprecated and will be removed in a future version.\n",
            "Instructions for updating:\n",
            "Use Variable.read_value. Variables in 2.X are initialized automatically both in eager and graph (inside tf.defun) contexts.\n",
            "WARNING:tensorflow:From <ipython-input-21-47064ef085cc>:10: limit_epochs (from tensorflow.python.training.input) is deprecated and will be removed in a future version.\n",
            "Instructions for updating:\n",
            "Queue-based input pipelines have been replaced by `tf.data`. Use `tf.data.Dataset.from_tensors(tensor).repeat(num_epochs)`.\n",
            "WARNING:tensorflow:From /Users/chettykulkarni/anaconda3/lib/python3.7/site-packages/tensorflow_core/python/training/input.py:112: BaseResourceVariable.count_up_to (from tensorflow.python.ops.resource_variable_ops) is deprecated and will be removed in a future version.\n",
            "Instructions for updating:\n",
            "Prefer Dataset.range instead.\n",
            "INFO:tensorflow:Calling model_fn.\n",
            "INFO:tensorflow:Done calling model_fn.\n",
            "INFO:tensorflow:Create CheckpointSaverHook.\n",
            "INFO:tensorflow:Graph was finalized.\n",
            "INFO:tensorflow:Running local_init_op.\n",
            "INFO:tensorflow:Done running local_init_op.\n",
            "INFO:tensorflow:Calling checkpoint listeners before saving checkpoint 0...\n",
            "INFO:tensorflow:Saving checkpoints for 0 into /var/folders/8d/6z3j7y0n38nfd5nzd1trt4380000gn/T/tmpbsul9bdg/model.ckpt.\n",
            "INFO:tensorflow:Calling checkpoint listeners after saving checkpoint 0...\n",
            "INFO:tensorflow:Calling checkpoint listeners before saving checkpoint 1...\n",
            "INFO:tensorflow:Saving checkpoints for 1 into /var/folders/8d/6z3j7y0n38nfd5nzd1trt4380000gn/T/tmpbsul9bdg/model.ckpt.\n",
            "INFO:tensorflow:Calling checkpoint listeners after saving checkpoint 1...\n",
            "WARNING:tensorflow:Training with estimator made no steps. Perhaps input is empty or misspecified.\n",
            "INFO:tensorflow:Loss for final step: None.\n",
            "INFO:tensorflow:Calling model_fn.\n",
            "INFO:tensorflow:Done calling model_fn.\n",
            "INFO:tensorflow:Starting evaluation at 2020-02-10T22:43:38Z\n",
            "INFO:tensorflow:Graph was finalized.\n",
            "INFO:tensorflow:Restoring parameters from /var/folders/8d/6z3j7y0n38nfd5nzd1trt4380000gn/T/tmpbsul9bdg/model.ckpt-1\n",
            "INFO:tensorflow:Running local_init_op.\n",
            "INFO:tensorflow:Done running local_init_op.\n",
            "INFO:tensorflow:Evaluation [1/1]\n",
            "INFO:tensorflow:Inference Time : 0.40093s\n",
            "INFO:tensorflow:Finished evaluation at 2020-02-10-22:43:38\n",
            "INFO:tensorflow:Saving dict for global step 1: global_step = 1, loss = 11736691000000.0, score = 11736691000000.0\n",
            "INFO:tensorflow:Saving 'checkpoint_path' summary for global step 1: /var/folders/8d/6z3j7y0n38nfd5nzd1trt4380000gn/T/tmpbsul9bdg/model.ckpt-1\n",
            "score: 11736691000000.0\n",
            "INFO:tensorflow:Calling model_fn.\n",
            "INFO:tensorflow:Done calling model_fn.\n",
            "INFO:tensorflow:Create CheckpointSaverHook.\n",
            "INFO:tensorflow:Graph was finalized.\n",
            "INFO:tensorflow:Restoring parameters from /var/folders/8d/6z3j7y0n38nfd5nzd1trt4380000gn/T/tmpbsul9bdg/model.ckpt-1\n",
            "WARNING:tensorflow:From /Users/chettykulkarni/anaconda3/lib/python3.7/site-packages/tensorflow_core/python/training/saver.py:1069: get_checkpoint_mtimes (from tensorflow.python.training.checkpoint_management) is deprecated and will be removed in a future version.\n",
            "Instructions for updating:\n",
            "Use standard file utilities to get mtimes.\n",
            "INFO:tensorflow:Running local_init_op.\n",
            "INFO:tensorflow:Done running local_init_op.\n",
            "INFO:tensorflow:Calling checkpoint listeners before saving checkpoint 1...\n",
            "INFO:tensorflow:Saving checkpoints for 1 into /var/folders/8d/6z3j7y0n38nfd5nzd1trt4380000gn/T/tmpbsul9bdg/model.ckpt.\n",
            "INFO:tensorflow:Calling checkpoint listeners after saving checkpoint 1...\n",
            "INFO:tensorflow:loss = 11736691000000.0, step = 2\n",
            "INFO:tensorflow:Calling checkpoint listeners before saving checkpoint 3...\n",
            "INFO:tensorflow:Saving checkpoints for 3 into /var/folders/8d/6z3j7y0n38nfd5nzd1trt4380000gn/T/tmpbsul9bdg/model.ckpt.\n",
            "INFO:tensorflow:Calling checkpoint listeners after saving checkpoint 3...\n",
            "INFO:tensorflow:Loss for final step: 11736691000000.0.\n",
            "delta: [[ 4.8003268e+02  1.3180399e-01]\n",
            " [ 1.0790734e+00 -3.0157280e-01]\n",
            " [ 2.7027124e-01  1.2930350e+00]\n",
            " [ 3.5474455e-01 -8.2568860e-01]]\n",
            "INFO:tensorflow:Calling model_fn.\n",
            "INFO:tensorflow:Done calling model_fn.\n",
            "INFO:tensorflow:Starting evaluation at 2020-02-10T22:43:42Z\n",
            "INFO:tensorflow:Graph was finalized.\n",
            "INFO:tensorflow:Restoring parameters from /var/folders/8d/6z3j7y0n38nfd5nzd1trt4380000gn/T/tmpbsul9bdg/model.ckpt-3\n",
            "INFO:tensorflow:Running local_init_op.\n",
            "INFO:tensorflow:Done running local_init_op.\n",
            "INFO:tensorflow:Evaluation [1/1]\n",
            "INFO:tensorflow:Inference Time : 0.39119s\n",
            "INFO:tensorflow:Finished evaluation at 2020-02-10-22:43:43\n",
            "INFO:tensorflow:Saving dict for global step 3: global_step = 3, loss = 11621028000000.0, score = 11621028000000.0\n",
            "INFO:tensorflow:Saving 'checkpoint_path' summary for global step 3: /var/folders/8d/6z3j7y0n38nfd5nzd1trt4380000gn/T/tmpbsul9bdg/model.ckpt-3\n",
            "score: 11621028000000.0\n",
            "INFO:tensorflow:Calling model_fn.\n",
            "INFO:tensorflow:Done calling model_fn.\n",
            "INFO:tensorflow:Create CheckpointSaverHook.\n",
            "INFO:tensorflow:Graph was finalized.\n",
            "INFO:tensorflow:Restoring parameters from /var/folders/8d/6z3j7y0n38nfd5nzd1trt4380000gn/T/tmpbsul9bdg/model.ckpt-3\n",
            "INFO:tensorflow:Running local_init_op.\n",
            "INFO:tensorflow:Done running local_init_op.\n",
            "INFO:tensorflow:Calling checkpoint listeners before saving checkpoint 3...\n",
            "INFO:tensorflow:Saving checkpoints for 3 into /var/folders/8d/6z3j7y0n38nfd5nzd1trt4380000gn/T/tmpbsul9bdg/model.ckpt.\n",
            "INFO:tensorflow:Calling checkpoint listeners after saving checkpoint 3...\n",
            "INFO:tensorflow:loss = 11621028000000.0, step = 4\n",
            "INFO:tensorflow:Calling checkpoint listeners before saving checkpoint 5...\n",
            "INFO:tensorflow:Saving checkpoints for 5 into /var/folders/8d/6z3j7y0n38nfd5nzd1trt4380000gn/T/tmpbsul9bdg/model.ckpt.\n",
            "INFO:tensorflow:Calling checkpoint listeners after saving checkpoint 5...\n",
            "INFO:tensorflow:Loss for final step: 11621028000000.0.\n",
            "delta: [[ 3.95082129e+03  1.04517937e+00]\n",
            " [ 2.03704262e+01  6.92013979e-01]\n",
            " [ 9.19247866e-02  2.73227692e-03]\n",
            " [ 1.88431680e-01 -1.39398575e-02]]\n",
            "INFO:tensorflow:Calling model_fn.\n",
            "INFO:tensorflow:Done calling model_fn.\n",
            "INFO:tensorflow:Starting evaluation at 2020-02-10T22:43:46Z\n",
            "INFO:tensorflow:Graph was finalized.\n",
            "INFO:tensorflow:Restoring parameters from /var/folders/8d/6z3j7y0n38nfd5nzd1trt4380000gn/T/tmpbsul9bdg/model.ckpt-5\n",
            "INFO:tensorflow:Running local_init_op.\n",
            "INFO:tensorflow:Done running local_init_op.\n",
            "INFO:tensorflow:Evaluation [1/1]\n",
            "INFO:tensorflow:Inference Time : 0.38826s\n",
            "INFO:tensorflow:Finished evaluation at 2020-02-10-22:43:47\n",
            "INFO:tensorflow:Saving dict for global step 5: global_step = 5, loss = 10868026000000.0, score = 10868026000000.0\n"
          ],
          "name": "stdout"
        },
        {
          "output_type": "stream",
          "text": [
            "INFO:tensorflow:Saving 'checkpoint_path' summary for global step 5: /var/folders/8d/6z3j7y0n38nfd5nzd1trt4380000gn/T/tmpbsul9bdg/model.ckpt-5\n",
            "score: 10868026000000.0\n",
            "INFO:tensorflow:Calling model_fn.\n",
            "INFO:tensorflow:Done calling model_fn.\n",
            "INFO:tensorflow:Create CheckpointSaverHook.\n",
            "INFO:tensorflow:Graph was finalized.\n",
            "INFO:tensorflow:Restoring parameters from /var/folders/8d/6z3j7y0n38nfd5nzd1trt4380000gn/T/tmpbsul9bdg/model.ckpt-5\n",
            "INFO:tensorflow:Running local_init_op.\n",
            "INFO:tensorflow:Done running local_init_op.\n",
            "INFO:tensorflow:Calling checkpoint listeners before saving checkpoint 5...\n",
            "INFO:tensorflow:Saving checkpoints for 5 into /var/folders/8d/6z3j7y0n38nfd5nzd1trt4380000gn/T/tmpbsul9bdg/model.ckpt.\n",
            "INFO:tensorflow:Calling checkpoint listeners after saving checkpoint 5...\n",
            "INFO:tensorflow:loss = 10868026000000.0, step = 6\n",
            "INFO:tensorflow:Calling checkpoint listeners before saving checkpoint 7...\n",
            "INFO:tensorflow:Saving checkpoints for 7 into /var/folders/8d/6z3j7y0n38nfd5nzd1trt4380000gn/T/tmpbsul9bdg/model.ckpt.\n",
            "INFO:tensorflow:Calling checkpoint listeners after saving checkpoint 7...\n",
            "INFO:tensorflow:Loss for final step: 10868026000000.0.\n",
            "delta: [[ 1.2632482e+04  5.4464102e-01]\n",
            " [ 9.1327545e+01  6.8431640e-01]\n",
            " [ 4.5879012e-01 -2.6899815e-02]\n",
            " [ 1.2016356e+00 -2.8390646e-02]]\n",
            "INFO:tensorflow:Calling model_fn.\n",
            "INFO:tensorflow:Done calling model_fn.\n",
            "INFO:tensorflow:Starting evaluation at 2020-02-10T22:43:50Z\n",
            "INFO:tensorflow:Graph was finalized.\n",
            "INFO:tensorflow:Restoring parameters from /var/folders/8d/6z3j7y0n38nfd5nzd1trt4380000gn/T/tmpbsul9bdg/model.ckpt-7\n",
            "INFO:tensorflow:Running local_init_op.\n",
            "INFO:tensorflow:Done running local_init_op.\n",
            "INFO:tensorflow:Evaluation [1/1]\n",
            "INFO:tensorflow:Inference Time : 0.40039s\n",
            "INFO:tensorflow:Finished evaluation at 2020-02-10-22:43:51\n",
            "INFO:tensorflow:Saving dict for global step 7: global_step = 7, loss = 9209031000000.0, score = 9209031000000.0\n",
            "INFO:tensorflow:Saving 'checkpoint_path' summary for global step 7: /var/folders/8d/6z3j7y0n38nfd5nzd1trt4380000gn/T/tmpbsul9bdg/model.ckpt-7\n",
            "score: 9209031000000.0\n",
            "INFO:tensorflow:Calling model_fn.\n",
            "INFO:tensorflow:Done calling model_fn.\n",
            "INFO:tensorflow:Create CheckpointSaverHook.\n",
            "INFO:tensorflow:Graph was finalized.\n",
            "INFO:tensorflow:Restoring parameters from /var/folders/8d/6z3j7y0n38nfd5nzd1trt4380000gn/T/tmpbsul9bdg/model.ckpt-7\n",
            "INFO:tensorflow:Running local_init_op.\n",
            "INFO:tensorflow:Done running local_init_op.\n",
            "INFO:tensorflow:Calling checkpoint listeners before saving checkpoint 7...\n",
            "INFO:tensorflow:Saving checkpoints for 7 into /var/folders/8d/6z3j7y0n38nfd5nzd1trt4380000gn/T/tmpbsul9bdg/model.ckpt.\n",
            "INFO:tensorflow:Calling checkpoint listeners after saving checkpoint 7...\n",
            "INFO:tensorflow:loss = 9209031000000.0, step = 8\n",
            "INFO:tensorflow:Calling checkpoint listeners before saving checkpoint 9...\n",
            "INFO:tensorflow:Saving checkpoints for 9 into /var/folders/8d/6z3j7y0n38nfd5nzd1trt4380000gn/T/tmpbsul9bdg/model.ckpt.\n",
            "WARNING:tensorflow:From /Users/chettykulkarni/anaconda3/lib/python3.7/site-packages/tensorflow_core/python/training/saver.py:963: remove_checkpoint (from tensorflow.python.training.checkpoint_management) is deprecated and will be removed in a future version.\n",
            "Instructions for updating:\n",
            "Use standard file APIs to delete files with this prefix.\n",
            "INFO:tensorflow:Calling checkpoint listeners after saving checkpoint 9...\n",
            "INFO:tensorflow:Loss for final step: 9209031000000.0.\n",
            "delta: [[2.14724453e+04 6.59465790e-02]\n",
            " [3.89739655e+02 4.45486546e-01]\n",
            " [5.83649397e-01 2.79722214e-02]\n",
            " [3.14980125e+00 1.03891134e-01]]\n",
            "INFO:tensorflow:Calling model_fn.\n",
            "INFO:tensorflow:Done calling model_fn.\n",
            "INFO:tensorflow:Starting evaluation at 2020-02-10T22:43:54Z\n",
            "INFO:tensorflow:Graph was finalized.\n",
            "INFO:tensorflow:Restoring parameters from /var/folders/8d/6z3j7y0n38nfd5nzd1trt4380000gn/T/tmpbsul9bdg/model.ckpt-9\n",
            "INFO:tensorflow:Running local_init_op.\n",
            "INFO:tensorflow:Done running local_init_op.\n",
            "INFO:tensorflow:Evaluation [1/1]\n",
            "INFO:tensorflow:Inference Time : 0.37841s\n",
            "INFO:tensorflow:Finished evaluation at 2020-02-10-22:43:55\n",
            "INFO:tensorflow:Saving dict for global step 9: global_step = 9, loss = 7420711500000.0, score = 7420711500000.0\n",
            "INFO:tensorflow:Saving 'checkpoint_path' summary for global step 9: /var/folders/8d/6z3j7y0n38nfd5nzd1trt4380000gn/T/tmpbsul9bdg/model.ckpt-9\n",
            "score: 7420711500000.0\n",
            "INFO:tensorflow:Calling model_fn.\n",
            "INFO:tensorflow:Done calling model_fn.\n",
            "INFO:tensorflow:Create CheckpointSaverHook.\n",
            "INFO:tensorflow:Graph was finalized.\n",
            "INFO:tensorflow:Restoring parameters from /var/folders/8d/6z3j7y0n38nfd5nzd1trt4380000gn/T/tmpbsul9bdg/model.ckpt-9\n",
            "INFO:tensorflow:Running local_init_op.\n",
            "INFO:tensorflow:Done running local_init_op.\n",
            "INFO:tensorflow:Calling checkpoint listeners before saving checkpoint 9...\n",
            "INFO:tensorflow:Saving checkpoints for 9 into /var/folders/8d/6z3j7y0n38nfd5nzd1trt4380000gn/T/tmpbsul9bdg/model.ckpt.\n",
            "INFO:tensorflow:Calling checkpoint listeners after saving checkpoint 9...\n",
            "INFO:tensorflow:loss = 7420711500000.0, step = 10\n",
            "INFO:tensorflow:Calling checkpoint listeners before saving checkpoint 11...\n",
            "INFO:tensorflow:Saving checkpoints for 11 into /var/folders/8d/6z3j7y0n38nfd5nzd1trt4380000gn/T/tmpbsul9bdg/model.ckpt.\n",
            "INFO:tensorflow:Calling checkpoint listeners after saving checkpoint 11...\n",
            "INFO:tensorflow:Loss for final step: 7420711500000.0.\n",
            "delta: [[ 2.5577309e+04  3.2154083e-02]\n",
            " [ 1.3342062e+03  6.5211201e-01]\n",
            " [-1.0580330e+00 -9.7042084e-01]\n",
            " [ 8.7313643e+00  9.9459171e-02]]\n",
            "INFO:tensorflow:Calling model_fn.\n",
            "INFO:tensorflow:Done calling model_fn.\n",
            "INFO:tensorflow:Starting evaluation at 2020-02-10T22:43:59Z\n",
            "INFO:tensorflow:Graph was finalized.\n",
            "INFO:tensorflow:Restoring parameters from /var/folders/8d/6z3j7y0n38nfd5nzd1trt4380000gn/T/tmpbsul9bdg/model.ckpt-11\n",
            "INFO:tensorflow:Running local_init_op.\n",
            "INFO:tensorflow:Done running local_init_op.\n",
            "INFO:tensorflow:Evaluation [1/1]\n",
            "INFO:tensorflow:Inference Time : 0.37625s\n",
            "INFO:tensorflow:Finished evaluation at 2020-02-10-22:43:59\n",
            "INFO:tensorflow:Saving dict for global step 11: global_step = 11, loss = 6049473000000.0, score = 6049473000000.0\n",
            "INFO:tensorflow:Saving 'checkpoint_path' summary for global step 11: /var/folders/8d/6z3j7y0n38nfd5nzd1trt4380000gn/T/tmpbsul9bdg/model.ckpt-11\n",
            "score: 6049473000000.0\n",
            "INFO:tensorflow:Calling model_fn.\n",
            "INFO:tensorflow:Done calling model_fn.\n",
            "INFO:tensorflow:Create CheckpointSaverHook.\n",
            "INFO:tensorflow:Graph was finalized.\n",
            "INFO:tensorflow:Restoring parameters from /var/folders/8d/6z3j7y0n38nfd5nzd1trt4380000gn/T/tmpbsul9bdg/model.ckpt-11\n",
            "INFO:tensorflow:Running local_init_op.\n",
            "INFO:tensorflow:Done running local_init_op.\n",
            "INFO:tensorflow:Calling checkpoint listeners before saving checkpoint 11...\n",
            "INFO:tensorflow:Saving checkpoints for 11 into /var/folders/8d/6z3j7y0n38nfd5nzd1trt4380000gn/T/tmpbsul9bdg/model.ckpt.\n",
            "INFO:tensorflow:Calling checkpoint listeners after saving checkpoint 11...\n",
            "INFO:tensorflow:loss = 6049473000000.0, step = 12\n",
            "INFO:tensorflow:Calling checkpoint listeners before saving checkpoint 13...\n",
            "INFO:tensorflow:Saving checkpoints for 13 into /var/folders/8d/6z3j7y0n38nfd5nzd1trt4380000gn/T/tmpbsul9bdg/model.ckpt.\n",
            "INFO:tensorflow:Calling checkpoint listeners after saving checkpoint 13...\n",
            "INFO:tensorflow:Loss for final step: 6049473000000.0.\n",
            "delta: [[ 2.6615473e+04 -1.1561871e-02]\n",
            " [ 2.9469255e+03  3.7677717e-01]\n",
            " [ 3.0898231e-01 -1.6809182e+00]\n",
            " [ 4.6527412e+01  1.4743667e+00]]\n",
            "INFO:tensorflow:Calling model_fn.\n",
            "INFO:tensorflow:Done calling model_fn.\n",
            "INFO:tensorflow:Starting evaluation at 2020-02-10T22:44:03Z\n",
            "INFO:tensorflow:Graph was finalized.\n",
            "INFO:tensorflow:Restoring parameters from /var/folders/8d/6z3j7y0n38nfd5nzd1trt4380000gn/T/tmpbsul9bdg/model.ckpt-13\n",
            "INFO:tensorflow:Running local_init_op.\n",
            "INFO:tensorflow:Done running local_init_op.\n",
            "INFO:tensorflow:Evaluation [1/1]\n",
            "INFO:tensorflow:Inference Time : 0.38646s\n",
            "INFO:tensorflow:Finished evaluation at 2020-02-10-22:44:03\n",
            "INFO:tensorflow:Saving dict for global step 13: global_step = 13, loss = 5029162000000.0, score = 5029162000000.0\n",
            "INFO:tensorflow:Saving 'checkpoint_path' summary for global step 13: /var/folders/8d/6z3j7y0n38nfd5nzd1trt4380000gn/T/tmpbsul9bdg/model.ckpt-13\n",
            "score: 5029162000000.0\n",
            "INFO:tensorflow:Calling model_fn.\n"
          ],
          "name": "stdout"
        },
        {
          "output_type": "stream",
          "text": [
            "INFO:tensorflow:Done calling model_fn.\n",
            "INFO:tensorflow:Create CheckpointSaverHook.\n",
            "INFO:tensorflow:Graph was finalized.\n",
            "INFO:tensorflow:Restoring parameters from /var/folders/8d/6z3j7y0n38nfd5nzd1trt4380000gn/T/tmpbsul9bdg/model.ckpt-13\n",
            "INFO:tensorflow:Running local_init_op.\n",
            "INFO:tensorflow:Done running local_init_op.\n",
            "INFO:tensorflow:Calling checkpoint listeners before saving checkpoint 13...\n",
            "INFO:tensorflow:Saving checkpoints for 13 into /var/folders/8d/6z3j7y0n38nfd5nzd1trt4380000gn/T/tmpbsul9bdg/model.ckpt.\n",
            "INFO:tensorflow:Calling checkpoint listeners after saving checkpoint 13...\n",
            "INFO:tensorflow:loss = 5029162000000.0, step = 14\n",
            "INFO:tensorflow:Calling checkpoint listeners before saving checkpoint 15...\n",
            "INFO:tensorflow:Saving checkpoints for 15 into /var/folders/8d/6z3j7y0n38nfd5nzd1trt4380000gn/T/tmpbsul9bdg/model.ckpt.\n",
            "INFO:tensorflow:Calling checkpoint listeners after saving checkpoint 15...\n",
            "INFO:tensorflow:Loss for final step: 5029162000000.0.\n",
            "delta: [[ 2.5652516e+04 -4.2857170e-02]\n",
            " [ 4.6696133e+03  1.6930485e-01]\n",
            " [ 1.5071598e+00 -1.1450338e-01]\n",
            " [ 1.4325668e+02  4.4776940e-01]]\n",
            "INFO:tensorflow:Calling model_fn.\n",
            "INFO:tensorflow:Done calling model_fn.\n",
            "INFO:tensorflow:Starting evaluation at 2020-02-10T22:44:07Z\n",
            "INFO:tensorflow:Graph was finalized.\n",
            "INFO:tensorflow:Restoring parameters from /var/folders/8d/6z3j7y0n38nfd5nzd1trt4380000gn/T/tmpbsul9bdg/model.ckpt-15\n",
            "INFO:tensorflow:Running local_init_op.\n",
            "INFO:tensorflow:Done running local_init_op.\n",
            "INFO:tensorflow:Evaluation [1/1]\n",
            "INFO:tensorflow:Inference Time : 0.39799s\n",
            "INFO:tensorflow:Finished evaluation at 2020-02-10-22:44:07\n",
            "INFO:tensorflow:Saving dict for global step 15: global_step = 15, loss = 4236056000000.0, score = 4236056000000.0\n",
            "INFO:tensorflow:Saving 'checkpoint_path' summary for global step 15: /var/folders/8d/6z3j7y0n38nfd5nzd1trt4380000gn/T/tmpbsul9bdg/model.ckpt-15\n",
            "score: 4236056000000.0\n",
            "INFO:tensorflow:Calling model_fn.\n",
            "INFO:tensorflow:Done calling model_fn.\n",
            "INFO:tensorflow:Create CheckpointSaverHook.\n",
            "INFO:tensorflow:Graph was finalized.\n",
            "INFO:tensorflow:Restoring parameters from /var/folders/8d/6z3j7y0n38nfd5nzd1trt4380000gn/T/tmpbsul9bdg/model.ckpt-15\n",
            "INFO:tensorflow:Running local_init_op.\n",
            "INFO:tensorflow:Done running local_init_op.\n",
            "INFO:tensorflow:Calling checkpoint listeners before saving checkpoint 15...\n",
            "INFO:tensorflow:Saving checkpoints for 15 into /var/folders/8d/6z3j7y0n38nfd5nzd1trt4380000gn/T/tmpbsul9bdg/model.ckpt.\n",
            "INFO:tensorflow:Calling checkpoint listeners after saving checkpoint 15...\n",
            "INFO:tensorflow:loss = 4236056000000.0, step = 16\n",
            "INFO:tensorflow:Calling checkpoint listeners before saving checkpoint 17...\n",
            "INFO:tensorflow:Saving checkpoints for 17 into /var/folders/8d/6z3j7y0n38nfd5nzd1trt4380000gn/T/tmpbsul9bdg/model.ckpt.\n",
            "INFO:tensorflow:Calling checkpoint listeners after saving checkpoint 17...\n",
            "INFO:tensorflow:Loss for final step: 4236056000000.0.\n",
            "delta: [[ 2.7126453e+04 -7.3224068e-02]\n",
            " [ 6.1285869e+03  7.8832150e-02]\n",
            " [ 2.1552746e+00 -2.1641254e-02]\n",
            " [ 4.0218433e+02  5.1170063e-01]]\n",
            "INFO:tensorflow:Calling model_fn.\n",
            "INFO:tensorflow:Done calling model_fn.\n",
            "INFO:tensorflow:Starting evaluation at 2020-02-10T22:44:11Z\n",
            "INFO:tensorflow:Graph was finalized.\n",
            "INFO:tensorflow:Restoring parameters from /var/folders/8d/6z3j7y0n38nfd5nzd1trt4380000gn/T/tmpbsul9bdg/model.ckpt-17\n",
            "INFO:tensorflow:Running local_init_op.\n",
            "INFO:tensorflow:Done running local_init_op.\n",
            "INFO:tensorflow:Evaluation [1/1]\n",
            "INFO:tensorflow:Inference Time : 0.38233s\n",
            "INFO:tensorflow:Finished evaluation at 2020-02-10-22:44:11\n",
            "INFO:tensorflow:Saving dict for global step 17: global_step = 17, loss = 3528109600000.0, score = 3528109600000.0\n",
            "INFO:tensorflow:Saving 'checkpoint_path' summary for global step 17: /var/folders/8d/6z3j7y0n38nfd5nzd1trt4380000gn/T/tmpbsul9bdg/model.ckpt-17\n",
            "score: 3528109600000.0\n",
            "INFO:tensorflow:Calling model_fn.\n",
            "INFO:tensorflow:Done calling model_fn.\n",
            "INFO:tensorflow:Create CheckpointSaverHook.\n",
            "INFO:tensorflow:Graph was finalized.\n",
            "INFO:tensorflow:Restoring parameters from /var/folders/8d/6z3j7y0n38nfd5nzd1trt4380000gn/T/tmpbsul9bdg/model.ckpt-17\n",
            "INFO:tensorflow:Running local_init_op.\n",
            "INFO:tensorflow:Done running local_init_op.\n",
            "INFO:tensorflow:Calling checkpoint listeners before saving checkpoint 17...\n",
            "INFO:tensorflow:Saving checkpoints for 17 into /var/folders/8d/6z3j7y0n38nfd5nzd1trt4380000gn/T/tmpbsul9bdg/model.ckpt.\n",
            "INFO:tensorflow:Calling checkpoint listeners after saving checkpoint 17...\n",
            "INFO:tensorflow:loss = 3528109600000.0, step = 18\n",
            "INFO:tensorflow:Calling checkpoint listeners before saving checkpoint 19...\n",
            "INFO:tensorflow:Saving checkpoints for 19 into /var/folders/8d/6z3j7y0n38nfd5nzd1trt4380000gn/T/tmpbsul9bdg/model.ckpt.\n",
            "INFO:tensorflow:Calling checkpoint listeners after saving checkpoint 19...\n",
            "INFO:tensorflow:Loss for final step: 3528109600000.0.\n",
            "delta: [[ 2.7392297e+04 -5.3527832e-02]\n",
            " [ 7.4431475e+03  8.6221695e-03]\n",
            " [ 2.3951902e+00 -8.4352493e-04]\n",
            " [ 8.3275568e+02  4.3815947e-01]]\n",
            "INFO:tensorflow:Calling model_fn.\n",
            "INFO:tensorflow:Done calling model_fn.\n",
            "INFO:tensorflow:Starting evaluation at 2020-02-10T22:44:15Z\n",
            "INFO:tensorflow:Graph was finalized.\n",
            "INFO:tensorflow:Restoring parameters from /var/folders/8d/6z3j7y0n38nfd5nzd1trt4380000gn/T/tmpbsul9bdg/model.ckpt-19\n",
            "INFO:tensorflow:Running local_init_op.\n",
            "INFO:tensorflow:Done running local_init_op.\n",
            "INFO:tensorflow:Evaluation [1/1]\n",
            "INFO:tensorflow:Inference Time : 0.38595s\n",
            "INFO:tensorflow:Finished evaluation at 2020-02-10-22:44:15\n",
            "INFO:tensorflow:Saving dict for global step 19: global_step = 19, loss = 2963928000000.0, score = 2963928000000.0\n",
            "INFO:tensorflow:Saving 'checkpoint_path' summary for global step 19: /var/folders/8d/6z3j7y0n38nfd5nzd1trt4380000gn/T/tmpbsul9bdg/model.ckpt-19\n",
            "score: 2963928000000.0\n",
            "cluster centers: [[1.7091483e+05 5.6385541e+00]\n",
            " [2.3027996e+04 5.8058925e+00]\n",
            " [7.2132096e+00 4.5085125e+00]\n",
            " [1.4384701e+03 5.2073274e+00]]\n",
            "WARNING:tensorflow:Input graph does not use tf.data.Dataset or contain a QueueRunner. That means predict yields forever. This is probably a mistake.\n",
            "INFO:tensorflow:Calling model_fn.\n",
            "INFO:tensorflow:Done calling model_fn.\n",
            "INFO:tensorflow:Graph was finalized.\n",
            "INFO:tensorflow:Restoring parameters from /var/folders/8d/6z3j7y0n38nfd5nzd1trt4380000gn/T/tmpbsul9bdg/model.ckpt-19\n",
            "INFO:tensorflow:Running local_init_op.\n",
            "INFO:tensorflow:Done running local_init_op.\n",
            "point: FIRE_SIZE is in cluster 2 centered at [7.2132096 4.5085125]\n",
            "point: STAT_CAUSE_DESCR is in cluster 2 centered at [7.2132096 4.5085125]\n"
          ],
          "name": "stdout"
        }
      ]
    },
    {
      "cell_type": "code",
      "metadata": {
        "id": "8UAH19DaCY3Q",
        "colab_type": "code",
        "colab": {}
      },
      "source": [
        ""
      ],
      "execution_count": 0,
      "outputs": []
    }
  ]
}