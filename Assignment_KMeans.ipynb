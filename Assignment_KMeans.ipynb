{
  "nbformat": 4,
  "nbformat_minor": 0,
  "metadata": {
    "kernelspec": {
      "display_name": "Python 3",
      "language": "python",
      "name": "python3"
    },
    "language_info": {
      "codemirror_mode": {
        "name": "ipython",
        "version": 3
      },
      "file_extension": ".py",
      "mimetype": "text/x-python",
      "name": "python",
      "nbconvert_exporter": "python",
      "pygments_lexer": "ipython3",
      "version": "3.7.3"
    },
    "colab": {
      "name": "Assignment_KMeans.ipynb",
      "provenance": [],
      "include_colab_link": true
    }
  },
  "cells": [
    {
      "cell_type": "markdown",
      "metadata": {
        "id": "view-in-github",
        "colab_type": "text"
      },
      "source": [
        "<a href=\"https://colab.research.google.com/github/chettkulkarni/MachineLearning/blob/master/Assignment_KMeans.ipynb\" target=\"_parent\"><img src=\"https://colab.research.google.com/assets/colab-badge.svg\" alt=\"Open In Colab\"/></a>"
      ]
    },
    {
      "cell_type": "markdown",
      "metadata": {
        "id": "7yBSjkyRCY2K",
        "colab_type": "text"
      },
      "source": [
        "# Wildfire Predictions"
      ]
    },
    {
      "cell_type": "markdown",
      "metadata": {
        "id": "mfKc-LC2CY2N",
        "colab_type": "text"
      },
      "source": [
        "Dataset:- We have the historical dataset collected by american governement on all the wildfires in history of usa from 1900 to 2015.\n",
        "\n",
        "Hypothesis:- Predicting Wildfire Damage Area based on several different features including\n",
        "FIRE_YEAR, STAT_CAUSE_DESCR, LATITUDE, LONGITUDE, STATE, DISCOVERY_DATE\n",
        "\n",
        "Task of this ntebook is to find if we can find effective clusters on the bases of datasets that we have.\n"
      ]
    },
    {
      "cell_type": "code",
      "metadata": {
        "id": "L8B2-i3nCY2O",
        "colab_type": "code",
        "colab": {}
      },
      "source": [
        "#importing libraries required and also connecting to the sqlite3 db wildfire dataset.\n",
        "\n",
        "import sqlite3\n",
        "import pandas as pd\n",
        "from matplotlib import pyplot as plt\n",
        "from sklearn.cluster import KMeans\n",
        "from sklearn import preprocessing\n",
        "from sklearn.cluster import KMeans\n",
        "from mpl_toolkits.mplot3d import Axes3D #\n",
        "# conn = sqlite3.connect('../FPA_FOD_20170508.sqlite')\n"
      ],
      "execution_count": 0,
      "outputs": []
    },
    {
      "cell_type": "code",
      "metadata": {
        "id": "y6PWVj9yCY2S",
        "colab_type": "code",
        "outputId": "b8bae813-5116-40ad-ef56-ac0b565a4b0f",
        "colab": {}
      },
      "source": [
        "# conn\n",
        "from google.colab import drive\n",
        "drive.mount('/content/drive')"
      ],
      "execution_count": 0,
      "outputs": [
        {
          "output_type": "execute_result",
          "data": {
            "text/plain": [
              "<sqlite3.Connection at 0x12fc05490>"
            ]
          },
          "metadata": {
            "tags": []
          },
          "execution_count": 2
        }
      ]
    },
    {
      "cell_type": "code",
      "metadata": {
        "id": "Fzybkmi6CY2W",
        "colab_type": "code",
        "colab": {
          "base_uri": "https://localhost:8080/",
          "height": 71
        },
        "outputId": "81a77ff8-7d3e-4ed7-f32a-710480b9341b"
      },
      "source": [
        "#extracting meaningful columns\n",
        "# df = pd.read_sql_query(\"SELECT FIRE_YEAR,SOURCE_REPORTING_UNIT,LATITUDE,LONGITUDE,STATE,DISCOVERY_DATE,FIRE_SIZE,Shape,STAT_CAUSE_DESCR FROM 'Fires'\", conn)\n",
        "df=pd.read_csv('/content/drive/My Drive/Machine Learning/fire.csv')"
      ],
      "execution_count": 6,
      "outputs": [
        {
          "output_type": "stream",
          "text": [
            "/usr/local/lib/python3.6/dist-packages/IPython/core/interactiveshell.py:2718: DtypeWarning: Columns (9) have mixed types. Specify dtype option on import or set low_memory=False.\n",
            "  interactivity=interactivity, compiler=compiler, result=result)\n"
          ],
          "name": "stderr"
        }
      ]
    },
    {
      "cell_type": "code",
      "metadata": {
        "id": "V08OyTT-vxkb",
        "colab_type": "code",
        "colab": {
          "base_uri": "https://localhost:8080/",
          "height": 456
        },
        "outputId": "19d0d0a2-2bf4-4955-d87c-f5179ca16b32"
      },
      "source": [
        "df"
      ],
      "execution_count": 7,
      "outputs": [
        {
          "output_type": "execute_result",
          "data": {
            "text/html": [
              "<div>\n",
              "<style scoped>\n",
              "    .dataframe tbody tr th:only-of-type {\n",
              "        vertical-align: middle;\n",
              "    }\n",
              "\n",
              "    .dataframe tbody tr th {\n",
              "        vertical-align: top;\n",
              "    }\n",
              "\n",
              "    .dataframe thead th {\n",
              "        text-align: right;\n",
              "    }\n",
              "</style>\n",
              "<table border=\"1\" class=\"dataframe\">\n",
              "  <thead>\n",
              "    <tr style=\"text-align: right;\">\n",
              "      <th></th>\n",
              "      <th>Unnamed: 0</th>\n",
              "      <th>FIRE_YEAR</th>\n",
              "      <th>STAT_CAUSE_DESCR</th>\n",
              "      <th>LATITUDE</th>\n",
              "      <th>LONGITUDE</th>\n",
              "      <th>STATE</th>\n",
              "      <th>DISCOVERY_DATE</th>\n",
              "      <th>FIRE_SIZE</th>\n",
              "      <th>Shape</th>\n",
              "      <th>COUNTY</th>\n",
              "      <th>STAT_CAUSE_DESCR.1</th>\n",
              "    </tr>\n",
              "  </thead>\n",
              "  <tbody>\n",
              "    <tr>\n",
              "      <th>0</th>\n",
              "      <td>0</td>\n",
              "      <td>2005</td>\n",
              "      <td>Miscellaneous</td>\n",
              "      <td>40.036944</td>\n",
              "      <td>-121.005833</td>\n",
              "      <td>CA</td>\n",
              "      <td>2453403.5</td>\n",
              "      <td>0.10</td>\n",
              "      <td>b'\\x00\\x01\\xad\\x10\\x00\\x00\\xe8d\\xc2\\x92_@^\\xc0...</td>\n",
              "      <td>63</td>\n",
              "      <td>Miscellaneous</td>\n",
              "    </tr>\n",
              "    <tr>\n",
              "      <th>1</th>\n",
              "      <td>1</td>\n",
              "      <td>2004</td>\n",
              "      <td>Lightning</td>\n",
              "      <td>38.933056</td>\n",
              "      <td>-120.404444</td>\n",
              "      <td>CA</td>\n",
              "      <td>2453137.5</td>\n",
              "      <td>0.25</td>\n",
              "      <td>b'\\x00\\x01\\xad\\x10\\x00\\x00T\\xb6\\xeej\\xe2\\x19^\\...</td>\n",
              "      <td>61</td>\n",
              "      <td>Lightning</td>\n",
              "    </tr>\n",
              "    <tr>\n",
              "      <th>2</th>\n",
              "      <td>2</td>\n",
              "      <td>2004</td>\n",
              "      <td>Debris Burning</td>\n",
              "      <td>38.984167</td>\n",
              "      <td>-120.735556</td>\n",
              "      <td>CA</td>\n",
              "      <td>2453156.5</td>\n",
              "      <td>0.10</td>\n",
              "      <td>b'\\x00\\x01\\xad\\x10\\x00\\x00\\xd0\\xa5\\xa0W\\x13/^\\...</td>\n",
              "      <td>17</td>\n",
              "      <td>Debris Burning</td>\n",
              "    </tr>\n",
              "    <tr>\n",
              "      <th>3</th>\n",
              "      <td>3</td>\n",
              "      <td>2004</td>\n",
              "      <td>Lightning</td>\n",
              "      <td>38.559167</td>\n",
              "      <td>-119.913333</td>\n",
              "      <td>CA</td>\n",
              "      <td>2453184.5</td>\n",
              "      <td>0.10</td>\n",
              "      <td>b'\\x00\\x01\\xad\\x10\\x00\\x00\\x94\\xac\\xa3\\rt\\xfa]...</td>\n",
              "      <td>3</td>\n",
              "      <td>Lightning</td>\n",
              "    </tr>\n",
              "    <tr>\n",
              "      <th>4</th>\n",
              "      <td>4</td>\n",
              "      <td>2004</td>\n",
              "      <td>Lightning</td>\n",
              "      <td>38.559167</td>\n",
              "      <td>-119.933056</td>\n",
              "      <td>CA</td>\n",
              "      <td>2453184.5</td>\n",
              "      <td>0.10</td>\n",
              "      <td>b'\\x00\\x01\\xad\\x10\\x00\\x00@\\xe3\\xaa.\\xb7\\xfb]\\...</td>\n",
              "      <td>3</td>\n",
              "      <td>Lightning</td>\n",
              "    </tr>\n",
              "    <tr>\n",
              "      <th>...</th>\n",
              "      <td>...</td>\n",
              "      <td>...</td>\n",
              "      <td>...</td>\n",
              "      <td>...</td>\n",
              "      <td>...</td>\n",
              "      <td>...</td>\n",
              "      <td>...</td>\n",
              "      <td>...</td>\n",
              "      <td>...</td>\n",
              "      <td>...</td>\n",
              "      <td>...</td>\n",
              "    </tr>\n",
              "    <tr>\n",
              "      <th>1880460</th>\n",
              "      <td>1880460</td>\n",
              "      <td>2015</td>\n",
              "      <td>Missing/Undefined</td>\n",
              "      <td>40.481637</td>\n",
              "      <td>-122.389375</td>\n",
              "      <td>CA</td>\n",
              "      <td>2457291.5</td>\n",
              "      <td>0.01</td>\n",
              "      <td>b'\\x00\\x01\\xad\\x10\\x00\\x00P\\xb8\\x1e\\x85\\xeb\\x9...</td>\n",
              "      <td>NaN</td>\n",
              "      <td>Missing/Undefined</td>\n",
              "    </tr>\n",
              "    <tr>\n",
              "      <th>1880461</th>\n",
              "      <td>1880461</td>\n",
              "      <td>2015</td>\n",
              "      <td>Miscellaneous</td>\n",
              "      <td>37.617619</td>\n",
              "      <td>-120.938570</td>\n",
              "      <td>CA</td>\n",
              "      <td>2457300.5</td>\n",
              "      <td>0.20</td>\n",
              "      <td>b'\\x00\\x01\\xad\\x10\\x00\\x00\\x00\\x80\\xbe\\x88\\x11...</td>\n",
              "      <td>NaN</td>\n",
              "      <td>Miscellaneous</td>\n",
              "    </tr>\n",
              "    <tr>\n",
              "      <th>1880462</th>\n",
              "      <td>1880462</td>\n",
              "      <td>2015</td>\n",
              "      <td>Missing/Undefined</td>\n",
              "      <td>37.617619</td>\n",
              "      <td>-120.938570</td>\n",
              "      <td>CA</td>\n",
              "      <td>2457144.5</td>\n",
              "      <td>0.10</td>\n",
              "      <td>b'\\x00\\x01\\xad\\x10\\x00\\x00\\x00\\x80\\xbe\\x88\\x11...</td>\n",
              "      <td>NaN</td>\n",
              "      <td>Missing/Undefined</td>\n",
              "    </tr>\n",
              "    <tr>\n",
              "      <th>1880463</th>\n",
              "      <td>1880463</td>\n",
              "      <td>2015</td>\n",
              "      <td>Missing/Undefined</td>\n",
              "      <td>37.672235</td>\n",
              "      <td>-120.898356</td>\n",
              "      <td>CA</td>\n",
              "      <td>2457309.5</td>\n",
              "      <td>2.00</td>\n",
              "      <td>b'\\x00\\x01\\xad\\x10\\x00\\x00x\\xba_\\xaa~9^\\xc0\\xb...</td>\n",
              "      <td>NaN</td>\n",
              "      <td>Missing/Undefined</td>\n",
              "    </tr>\n",
              "    <tr>\n",
              "      <th>1880464</th>\n",
              "      <td>1880464</td>\n",
              "      <td>2015</td>\n",
              "      <td>Miscellaneous</td>\n",
              "      <td>34.263217</td>\n",
              "      <td>-116.830950</td>\n",
              "      <td>CA</td>\n",
              "      <td>2457095.5</td>\n",
              "      <td>0.10</td>\n",
              "      <td>b'\\x00\\x01\\xad\\x10\\x00\\x00\\x1c\\xa7\\xe8H.5]\\xc0...</td>\n",
              "      <td>NaN</td>\n",
              "      <td>Miscellaneous</td>\n",
              "    </tr>\n",
              "  </tbody>\n",
              "</table>\n",
              "<p>1880465 rows × 11 columns</p>\n",
              "</div>"
            ],
            "text/plain": [
              "         Unnamed: 0  FIRE_YEAR  ... COUNTY  STAT_CAUSE_DESCR.1\n",
              "0                 0       2005  ...     63       Miscellaneous\n",
              "1                 1       2004  ...     61           Lightning\n",
              "2                 2       2004  ...     17      Debris Burning\n",
              "3                 3       2004  ...      3           Lightning\n",
              "4                 4       2004  ...      3           Lightning\n",
              "...             ...        ...  ...    ...                 ...\n",
              "1880460     1880460       2015  ...    NaN   Missing/Undefined\n",
              "1880461     1880461       2015  ...    NaN       Miscellaneous\n",
              "1880462     1880462       2015  ...    NaN   Missing/Undefined\n",
              "1880463     1880463       2015  ...    NaN   Missing/Undefined\n",
              "1880464     1880464       2015  ...    NaN       Miscellaneous\n",
              "\n",
              "[1880465 rows x 11 columns]"
            ]
          },
          "metadata": {
            "tags": []
          },
          "execution_count": 7
        }
      ]
    },
    {
      "cell_type": "code",
      "metadata": {
        "id": "EQ1ojF2rCY2Z",
        "colab_type": "code",
        "outputId": "cd56244a-c502-4935-922b-e6f2ab1b172a",
        "colab": {
          "base_uri": "https://localhost:8080/",
          "height": 85
        }
      },
      "source": [
        "df.columns"
      ],
      "execution_count": 8,
      "outputs": [
        {
          "output_type": "execute_result",
          "data": {
            "text/plain": [
              "Index(['Unnamed: 0', 'FIRE_YEAR', 'STAT_CAUSE_DESCR', 'LATITUDE', 'LONGITUDE',\n",
              "       'STATE', 'DISCOVERY_DATE', 'FIRE_SIZE', 'Shape', 'COUNTY',\n",
              "       'STAT_CAUSE_DESCR.1'],\n",
              "      dtype='object')"
            ]
          },
          "metadata": {
            "tags": []
          },
          "execution_count": 8
        }
      ]
    },
    {
      "cell_type": "code",
      "metadata": {
        "id": "J2ioJVykCY2c",
        "colab_type": "code",
        "colab": {}
      },
      "source": [
        "#finding pearson corelation in the dataset\n",
        "pearsoncorr=df.corr()"
      ],
      "execution_count": 0,
      "outputs": []
    },
    {
      "cell_type": "markdown",
      "metadata": {
        "id": "tTC88_p9CY2f",
        "colab_type": "text"
      },
      "source": [
        "The data in the dataset is hily un-corelated."
      ]
    },
    {
      "cell_type": "code",
      "metadata": {
        "id": "dmjOVVMPCY2g",
        "colab_type": "code",
        "outputId": "ceb8f8a1-9d87-479a-870e-36e3455cae91",
        "colab": {
          "base_uri": "https://localhost:8080/",
          "height": 885
        }
      },
      "source": [
        "\n",
        "import seaborn as sb\n",
        "\n",
        "plt.figure(1,figsize=(15,15))\n",
        "sb.heatmap(pearsoncorr, \n",
        "            xticklabels=pearsoncorr.columns,\n",
        "            yticklabels=pearsoncorr.columns,\n",
        "            cmap='RdBu_r',\n",
        "            annot=True,\n",
        "            linewidth=0.5)"
      ],
      "execution_count": 10,
      "outputs": [
        {
          "output_type": "execute_result",
          "data": {
            "text/plain": [
              "<matplotlib.axes._subplots.AxesSubplot at 0x7ff536efa898>"
            ]
          },
          "metadata": {
            "tags": []
          },
          "execution_count": 10
        },
        {
          "output_type": "display_data",
          "data": {
            "image/png": "[encoded data removed]",
            "text/plain": [
              "<Figure size 1080x1080 with 2 Axes>"
            ]
          },
          "metadata": {
            "tags": []
          }
        }
      ]
    },
    {
      "cell_type": "markdown",
      "metadata": {
        "id": "dEElaPCxCY2j",
        "colab_type": "text"
      },
      "source": [
        "# Kmeans on fire size vs Fire Cause\n",
        "\n",
        "Even if the dataset doesnt have corelation wanted to explore if clusters can be formed on the bases of \n",
        "\n",
        "1)fire size and fire cause.\n",
        "\n",
        "2)fire size and fire year\n",
        "\n",
        "as our important feature at hand is fire size"
      ]
    },
    {
      "cell_type": "code",
      "metadata": {
        "id": "I5s7iuk0CY2j",
        "colab_type": "code",
        "colab": {}
      },
      "source": [
        "le = preprocessing.LabelEncoder()\n",
        "\n",
        "labelencoderlist=['STATE','STAT_CAUSE_DESCR']"
      ],
      "execution_count": 0,
      "outputs": []
    },
    {
      "cell_type": "code",
      "metadata": {
        "id": "By2mfdAUCY2m",
        "colab_type": "code",
        "colab": {}
      },
      "source": [
        "le.fit(df.STATE)\n",
        "df.STATE=le.transform(df.STATE)\n",
        "\n",
        "le.fit(df.STAT_CAUSE_DESCR)\n",
        "df.STAT_CAUSE_DESCR=le.transform(df.STAT_CAUSE_DESCR)\n",
        "df=df.drop(['Shape'],axis=1)"
      ],
      "execution_count": 0,
      "outputs": []
    },
    {
      "cell_type": "code",
      "metadata": {
        "id": "c5_-AypKCY2q",
        "colab_type": "code",
        "colab": {}
      },
      "source": [
        "df=df.dropna()\n",
        "df2=df[['FIRE_SIZE','STAT_CAUSE_DESCR']]"
      ],
      "execution_count": 0,
      "outputs": []
    },
    {
      "cell_type": "code",
      "metadata": {
        "id": "LviIfPpzCY2t",
        "colab_type": "code",
        "colab": {}
      },
      "source": [
        "Sum_of_squared_distances = []\n",
        "K = range(1,10)\n",
        "for k in K:\n",
        "    km = KMeans(n_clusters=k)\n",
        "    km = km.fit(df2)\n",
        "    Sum_of_squared_distances.append(km.inertia_)"
      ],
      "execution_count": 0,
      "outputs": []
    },
    {
      "cell_type": "markdown",
      "metadata": {
        "id": "KqaREWRECY2w",
        "colab_type": "text"
      },
      "source": [
        "Using elbow method to find the optimal k for performing k means clustering"
      ]
    },
    {
      "cell_type": "code",
      "metadata": {
        "id": "gDFggE9NCY2x",
        "colab_type": "code",
        "outputId": "efbf972d-1f0a-41b2-8a5c-6da3ad563475",
        "colab": {
          "base_uri": "https://localhost:8080/",
          "height": 295
        }
      },
      "source": [
        "plt.plot(K, Sum_of_squared_distances, 'bx-')\n",
        "plt.xlabel('k')\n",
        "plt.ylabel('Sum_of_squared_distances')\n",
        "plt.title('Elbow Method For Optimal k')\n",
        "plt.show()"
      ],
      "execution_count": 15,
      "outputs": [
        {
          "output_type": "display_data",
          "data": {
            "image/png": "[encoded data removed]",
            "text/plain": [
              "<Figure size 432x288 with 1 Axes>"
            ]
          },
          "metadata": {
            "tags": []
          }
        }
      ]
    },
    {
      "cell_type": "markdown",
      "metadata": {
        "id": "YNX9DSKgCY2z",
        "colab_type": "text"
      },
      "source": [
        "optimal k is 3"
      ]
    },
    {
      "cell_type": "code",
      "metadata": {
        "id": "e_vPdypXCY20",
        "colab_type": "code",
        "outputId": "174126b1-fb2f-4581-8338-0c8875950d86",
        "colab": {
          "base_uri": "https://localhost:8080/",
          "height": 119
        }
      },
      "source": [
        "df3 = df[['FIRE_SIZE','STAT_CAUSE_DESCR']]\n",
        "kmeans = KMeans(n_clusters=3)\n",
        "y = kmeans.fit_predict(df2)\n",
        "print(df3.head())"
      ],
      "execution_count": 16,
      "outputs": [
        {
          "output_type": "stream",
          "text": [
            "   FIRE_SIZE  STAT_CAUSE_DESCR\n",
            "0       0.10                 7\n",
            "1       0.25                 6\n",
            "2       0.10                 3\n",
            "3       0.10                 6\n",
            "4       0.10                 6\n"
          ],
          "name": "stdout"
        }
      ]
    },
    {
      "cell_type": "code",
      "metadata": {
        "id": "swEEek2tCY22",
        "colab_type": "code",
        "outputId": "9aa53c0e-b1fb-4899-b69c-259aff1007be",
        "colab": {
          "base_uri": "https://localhost:8080/",
          "height": 68
        }
      },
      "source": [
        "kmeans.cluster_centers_"
      ],
      "execution_count": 17,
      "outputs": [
        {
          "output_type": "execute_result",
          "data": {
            "text/plain": [
              "array([[3.20705627e+01, 4.61935951e+00],\n",
              "       [2.33522396e+05, 5.96000000e+00],\n",
              "       [5.38161860e+04, 5.95728643e+00]])"
            ]
          },
          "metadata": {
            "tags": []
          },
          "execution_count": 17
        }
      ]
    },
    {
      "cell_type": "code",
      "metadata": {
        "scrolled": false,
        "id": "VtNi1yoQCY25",
        "colab_type": "code",
        "outputId": "5d060119-8f15-495d-ce50-459a5005a21c",
        "colab": {
          "base_uri": "https://localhost:8080/",
          "height": 880
        }
      },
      "source": [
        "plt.figure(1,figsize=(15,15))\n",
        "plt.scatter(df3.FIRE_SIZE, df3.STAT_CAUSE_DESCR, c=kmeans.labels_, cmap='rainbow')\n",
        "plt.scatter(kmeans.cluster_centers_[:,0] ,kmeans.cluster_centers_[:,1], color='black')"
      ],
      "execution_count": 18,
      "outputs": [
        {
          "output_type": "execute_result",
          "data": {
            "text/plain": [
              "<matplotlib.collections.PathCollection at 0x7ff532738a20>"
            ]
          },
          "metadata": {
            "tags": []
          },
          "execution_count": 18
        },
        {
          "output_type": "display_data",
          "data": {
            "image/png": "[encoded data removed]",
            "text/plain": [
              "<Figure size 1080x1080 with 1 Axes>"
            ]
          },
          "metadata": {
            "tags": []
          }
        }
      ]
    },
    {
      "cell_type": "markdown",
      "metadata": {
        "id": "AS33D9AdCY28",
        "colab_type": "text"
      },
      "source": [
        "As observed above, no meaning ful clusters were formed on the bases of fire size vs fire cause"
      ]
    },
    {
      "cell_type": "markdown",
      "metadata": {
        "id": "ebS3Cjs3CY28",
        "colab_type": "text"
      },
      "source": [
        "Also performing same steps for fire size vs state,and again no meaningful clusters are formed"
      ]
    },
    {
      "cell_type": "code",
      "metadata": {
        "id": "XG7XgBscCY29",
        "colab_type": "code",
        "outputId": "6d2a24d2-ce01-478a-be4d-e7fa17a2e5d9",
        "colab": {
          "base_uri": "https://localhost:8080/",
          "height": 295
        }
      },
      "source": [
        "Sum_of_squared_distances = []\n",
        "K = range(1,10)\n",
        "for k in K:\n",
        "    km = KMeans(n_clusters=k)\n",
        "    km = km.fit(df2)\n",
        "    Sum_of_squared_distances.append(km.inertia_)\n",
        "\n",
        "plt.plot(K, Sum_of_squared_distances, 'bx-')\n",
        "plt.xlabel('k')\n",
        "plt.ylabel('Sum_of_squared_distances')\n",
        "plt.title('Elbow Method For Optimal k')\n",
        "plt.show()"
      ],
      "execution_count": 19,
      "outputs": [
        {
          "output_type": "display_data",
          "data": {
            "image/png": "[encoded data removed]",
            "text/plain": [
              "<Figure size 432x288 with 1 Axes>"
            ]
          },
          "metadata": {
            "tags": []
          }
        }
      ]
    },
    {
      "cell_type": "code",
      "metadata": {
        "id": "ZPsHsJE6CY2_",
        "colab_type": "code",
        "outputId": "44942b24-140f-44fd-9dfe-e73abf22cf84",
        "colab": {
          "base_uri": "https://localhost:8080/",
          "height": 119
        }
      },
      "source": [
        "df3 = df[['FIRE_SIZE','FIRE_YEAR']]\n",
        "kmeans = KMeans(n_clusters=3)\n",
        "y = kmeans.fit_predict(df2)\n",
        "print(df3.head())"
      ],
      "execution_count": 20,
      "outputs": [
        {
          "output_type": "stream",
          "text": [
            "   FIRE_SIZE  FIRE_YEAR\n",
            "0       0.10       2005\n",
            "1       0.25       2004\n",
            "2       0.10       2004\n",
            "3       0.10       2004\n",
            "4       0.10       2004\n"
          ],
          "name": "stdout"
        }
      ]
    },
    {
      "cell_type": "code",
      "metadata": {
        "id": "eOMPENWLCY3B",
        "colab_type": "code",
        "outputId": "593a6ac0-48b7-488b-806e-a4747f06ab68",
        "colab": {
          "base_uri": "https://localhost:8080/",
          "height": 880
        }
      },
      "source": [
        "plt.figure(1,figsize=(15,15))\n",
        "plt.scatter(df3.FIRE_SIZE, df3.FIRE_YEAR, c=kmeans.labels_, cmap='rainbow')\n",
        "plt.scatter(kmeans.cluster_centers_[:,0] ,kmeans.cluster_centers_[:,1], color='black')"
      ],
      "execution_count": 21,
      "outputs": [
        {
          "output_type": "execute_result",
          "data": {
            "text/plain": [
              "<matplotlib.collections.PathCollection at 0x7ff532617390>"
            ]
          },
          "metadata": {
            "tags": []
          },
          "execution_count": 21
        },
        {
          "output_type": "display_data",
          "data": {
            "image/png": "[encoded data removed]",
            "text/plain": [
              "<Figure size 1080x1080 with 1 Axes>"
            ]
          },
          "metadata": {
            "tags": []
          }
        }
      ]
    },
    {
      "cell_type": "markdown",
      "metadata": {
        "id": "D7grs-38CY3E",
        "colab_type": "text"
      },
      "source": [
        "# Agglomerative Clustering\n",
        "Tried aggloemerative clustering and it did not execute becasue data set is huge (900 mb)"
      ]
    },
    {
      "cell_type": "code",
      "metadata": {
        "id": "YVp4nXAGCY3E",
        "colab_type": "code",
        "colab": {}
      },
      "source": [
        "# from sklearn.cluster import AgglomerativeClustering "
      ],
      "execution_count": 0,
      "outputs": []
    },
    {
      "cell_type": "code",
      "metadata": {
        "id": "4P8sD2YZCY3J",
        "colab_type": "code",
        "colab": {}
      },
      "source": [
        "# ac2 = AgglomerativeClustering(n_clusters = 2) "
      ],
      "execution_count": 0,
      "outputs": []
    },
    {
      "cell_type": "code",
      "metadata": {
        "id": "jIlD5d8NCY3L",
        "colab_type": "code",
        "colab": {}
      },
      "source": [
        "# plt.figure(figsize =(6, 6)) \n",
        "# plt.scatter(df2.FIRE_SIZE, df2.FIRE_YEAR,  \n",
        "#            c = ac2.fit_predict(df2), cmap ='rainbow') \n",
        "# plt.show() "
      ],
      "execution_count": 0,
      "outputs": []
    },
    {
      "cell_type": "markdown",
      "metadata": {
        "id": "YRBTOVxVCY3N",
        "colab_type": "text"
      },
      "source": [
        "# Using TensorFlow KMeans"
      ]
    },
    {
      "cell_type": "markdown",
      "metadata": {
        "id": "VOYn0cfgCY3N",
        "colab_type": "text"
      },
      "source": [
        "Tried applying Kmeans Clustering from Kmeans Tensorflow documentation.\n",
        "Found two clusters using TensorFlow"
      ]
    },
    {
      "cell_type": "code",
      "metadata": {
        "id": "O7MtxSz3CY3O",
        "colab_type": "code",
        "outputId": "08e23ff7-906d-4746-cdad-c430d505ba2a",
        "colab": {
          "base_uri": "https://localhost:8080/",
          "height": 1000
        }
      },
      "source": [
        "import numpy as np\n",
        "import tensorflow as tf\n",
        "\n",
        "num_points = 100\n",
        "dimensions = 2\n",
        "# points = np.random.uniform(0, 1000, [num_points, dimensions])\n",
        "points=df[['FIRE_SIZE','STAT_CAUSE_DESCR']]\n",
        "def input_fn():\n",
        "    return tf.compat.v1.train.limit_epochs(\n",
        "      tf.convert_to_tensor(points, dtype=tf.float32), num_epochs=1)\n",
        "\n",
        "num_clusters = 4\n",
        "kmeans = tf.compat.v1.estimator.experimental.KMeans(\n",
        "    num_clusters=num_clusters, use_mini_batch=False)\n",
        "\n",
        "# train\n",
        "num_iterations = 10\n",
        "previous_centers = None\n",
        "for _ in range(num_iterations):\n",
        "    kmeans.train(input_fn)\n",
        "    cluster_centers = kmeans.cluster_centers()\n",
        "    if previous_centers is not None:\n",
        "        print('delta:', cluster_centers - previous_centers)\n",
        "    previous_centers = cluster_centers\n",
        "    print('score:', kmeans.score(input_fn))\n",
        "print('cluster centers:', cluster_centers)\n",
        "\n",
        "# map the input points to their clusters\n",
        "cluster_indices = list(kmeans.predict_cluster_index(input_fn))\n",
        "for i, point in enumerate(points):\n",
        "    cluster_index = cluster_indices[i]\n",
        "    center = cluster_centers[cluster_index]\n",
        "    print('point:', point, 'is in cluster', cluster_index, 'centered at', center)"
      ],
      "execution_count": 25,
      "outputs": [
        {
          "output_type": "display_data",
          "data": {
            "text/html": [
              "<p style=\"color: red;\">\n",
              "The default version of TensorFlow in Colab will soon switch to TensorFlow 2.x.<br>\n",
              "We recommend you <a href=\"https://www.tensorflow.org/guide/migrate\" target=\"_blank\">upgrade</a> now \n",
              "or ensure your notebook will continue to use TensorFlow 1.x via the <code>%tensorflow_version 1.x</code> magic:\n",
              "<a href=\"https://colab.research.google.com/notebooks/tensorflow_version.ipynb\" target=\"_blank\">more info</a>.</p>\n"
            ],
            "text/plain": [
              "<IPython.core.display.HTML object>"
            ]
          },
          "metadata": {
            "tags": []
          }
        },
        {
          "output_type": "stream",
          "text": [
            "INFO:tensorflow:Using default config.\n",
            "WARNING:tensorflow:Using temporary folder as model directory: /tmp/tmpttwm4nrc\n",
            "INFO:tensorflow:Using config: {'_model_dir': '/tmp/tmpttwm4nrc', '_tf_random_seed': None, '_save_summary_steps': 100, '_save_checkpoints_steps': None, '_save_checkpoints_secs': 600, '_session_config': allow_soft_placement: true\n",
            "graph_options {\n",
            "  rewrite_options {\n",
            "    meta_optimizer_iterations: ONE\n",
            "  }\n",
            "}\n",
            ", '_keep_checkpoint_max': 5, '_keep_checkpoint_every_n_hours': 10000, '_log_step_count_steps': 100, '_train_distribute': None, '_device_fn': None, '_protocol': None, '_eval_distribute': None, '_experimental_distribute': None, '_experimental_max_worker_delay_secs': None, '_session_creation_timeout_secs': 7200, '_service': None, '_cluster_spec': <tensorflow.python.training.server_lib.ClusterSpec object at 0x7ff4fb318be0>, '_task_type': 'worker', '_task_id': 0, '_global_id_in_cluster': 0, '_master': '', '_evaluation_master': '', '_is_chief': True, '_num_ps_replicas': 0, '_num_worker_replicas': 1}\n",
            "WARNING:tensorflow:From /usr/local/lib/python3.6/dist-packages/tensorflow_core/python/training/training_util.py:236: Variable.initialized_value (from tensorflow.python.ops.variables) is deprecated and will be removed in a future version.\n",
            "Instructions for updating:\n",
            "Use Variable.read_value. Variables in 2.X are initialized automatically both in eager and graph (inside tf.defun) contexts.\n",
            "WARNING:tensorflow:From <ipython-input-25-47064ef085cc>:10: limit_epochs (from tensorflow.python.training.input) is deprecated and will be removed in a future version.\n",
            "Instructions for updating:\n",
            "Queue-based input pipelines have been replaced by `tf.data`. Use `tf.data.Dataset.from_tensors(tensor).repeat(num_epochs)`.\n",
            "WARNING:tensorflow:From /usr/local/lib/python3.6/dist-packages/tensorflow_core/python/training/input.py:112: RefVariable.count_up_to (from tensorflow.python.ops.variables) is deprecated and will be removed in a future version.\n",
            "Instructions for updating:\n",
            "Prefer Dataset.range instead.\n",
            "WARNING:tensorflow:From /usr/local/lib/python3.6/dist-packages/tensorflow_core/python/ops/variables.py:2522: count_up_to (from tensorflow.python.ops.state_ops) is deprecated and will be removed in a future version.\n",
            "Instructions for updating:\n",
            "Prefer Dataset.range instead.\n",
            "INFO:tensorflow:Calling model_fn.\n",
            "INFO:tensorflow:Done calling model_fn.\n",
            "INFO:tensorflow:Create CheckpointSaverHook.\n",
            "WARNING:tensorflow:From /usr/local/lib/python3.6/dist-packages/tensorflow_core/python/ops/array_ops.py:1475: where (from tensorflow.python.ops.array_ops) is deprecated and will be removed in a future version.\n",
            "Instructions for updating:\n",
            "Use tf.where in 2.0, which has the same broadcast rule as np.where\n",
            "INFO:tensorflow:Graph was finalized.\n",
            "INFO:tensorflow:Running local_init_op.\n",
            "INFO:tensorflow:Done running local_init_op.\n",
            "INFO:tensorflow:Saving checkpoints for 0 into /tmp/tmpttwm4nrc/model.ckpt.\n",
            "INFO:tensorflow:Saving checkpoints for 1 into /tmp/tmpttwm4nrc/model.ckpt.\n",
            "WARNING:tensorflow:Training with estimator made no steps. Perhaps input is empty or misspecified.\n",
            "INFO:tensorflow:Loss for final step: None.\n",
            "INFO:tensorflow:Calling model_fn.\n",
            "INFO:tensorflow:Done calling model_fn.\n",
            "INFO:tensorflow:Starting evaluation at 2020-02-17T06:18:17Z\n",
            "INFO:tensorflow:Graph was finalized.\n",
            "INFO:tensorflow:Restoring parameters from /tmp/tmpttwm4nrc/model.ckpt-1\n",
            "INFO:tensorflow:Running local_init_op.\n",
            "INFO:tensorflow:Done running local_init_op.\n",
            "INFO:tensorflow:Evaluation [1/1]\n",
            "INFO:tensorflow:Finished evaluation at 2020-02-17-06:18:17\n",
            "INFO:tensorflow:Saving dict for global step 1: global_step = 1, loss = 4782517400000.0, score = 4782517400000.0\n",
            "INFO:tensorflow:Saving 'checkpoint_path' summary for global step 1: /tmp/tmpttwm4nrc/model.ckpt-1\n",
            "score: 4782517400000.0\n",
            "INFO:tensorflow:Calling model_fn.\n",
            "INFO:tensorflow:Done calling model_fn.\n",
            "INFO:tensorflow:Create CheckpointSaverHook.\n",
            "INFO:tensorflow:Graph was finalized.\n",
            "INFO:tensorflow:Restoring parameters from /tmp/tmpttwm4nrc/model.ckpt-1\n",
            "WARNING:tensorflow:From /usr/local/lib/python3.6/dist-packages/tensorflow_core/python/training/saver.py:1069: get_checkpoint_mtimes (from tensorflow.python.training.checkpoint_management) is deprecated and will be removed in a future version.\n",
            "Instructions for updating:\n",
            "Use standard file utilities to get mtimes.\n",
            "INFO:tensorflow:Running local_init_op.\n",
            "INFO:tensorflow:Done running local_init_op.\n",
            "INFO:tensorflow:Saving checkpoints for 1 into /tmp/tmpttwm4nrc/model.ckpt.\n",
            "INFO:tensorflow:loss = 4782517400000.0, step = 2\n",
            "INFO:tensorflow:Saving checkpoints for 3 into /tmp/tmpttwm4nrc/model.ckpt.\n",
            "INFO:tensorflow:Loss for final step: 4782517400000.0.\n",
            "delta: [[ 3.5714911e+02  2.8533792e-01]\n",
            " [ 8.6407185e-01  8.1100178e-01]\n",
            " [ 9.4341755e-02  1.4159188e+00]\n",
            " [ 4.4350487e-01 -1.8050628e+00]]\n",
            "INFO:tensorflow:Calling model_fn.\n",
            "INFO:tensorflow:Done calling model_fn.\n",
            "INFO:tensorflow:Starting evaluation at 2020-02-17T06:18:20Z\n",
            "INFO:tensorflow:Graph was finalized.\n",
            "INFO:tensorflow:Restoring parameters from /tmp/tmpttwm4nrc/model.ckpt-3\n",
            "INFO:tensorflow:Running local_init_op.\n",
            "INFO:tensorflow:Done running local_init_op.\n",
            "INFO:tensorflow:Evaluation [1/1]\n",
            "INFO:tensorflow:Finished evaluation at 2020-02-17-06:18:21\n",
            "INFO:tensorflow:Saving dict for global step 3: global_step = 3, loss = 4739365300000.0, score = 4739365300000.0\n",
            "INFO:tensorflow:Saving 'checkpoint_path' summary for global step 3: /tmp/tmpttwm4nrc/model.ckpt-3\n",
            "score: 4739365300000.0\n",
            "INFO:tensorflow:Calling model_fn.\n",
            "INFO:tensorflow:Done calling model_fn.\n",
            "INFO:tensorflow:Create CheckpointSaverHook.\n",
            "INFO:tensorflow:Graph was finalized.\n",
            "INFO:tensorflow:Restoring parameters from /tmp/tmpttwm4nrc/model.ckpt-3\n",
            "INFO:tensorflow:Running local_init_op.\n",
            "INFO:tensorflow:Done running local_init_op.\n",
            "INFO:tensorflow:Saving checkpoints for 3 into /tmp/tmpttwm4nrc/model.ckpt.\n",
            "INFO:tensorflow:loss = 4739365300000.0, step = 4\n",
            "INFO:tensorflow:Saving checkpoints for 5 into /tmp/tmpttwm4nrc/model.ckpt.\n",
            "INFO:tensorflow:Loss for final step: 4739365300000.0.\n",
            "delta: [[ 2.81737720e+03  9.68471050e-01]\n",
            " [ 9.23908353e-01 -4.88576889e-02]\n",
            " [ 1.19942875e+01  5.89455128e-01]\n",
            " [-1.10759139e-02 -1.21669769e-01]]\n",
            "INFO:tensorflow:Calling model_fn.\n",
            "INFO:tensorflow:Done calling model_fn.\n",
            "INFO:tensorflow:Starting evaluation at 2020-02-17T06:18:24Z\n",
            "INFO:tensorflow:Graph was finalized.\n",
            "INFO:tensorflow:Restoring parameters from /tmp/tmpttwm4nrc/model.ckpt-5\n",
            "INFO:tensorflow:Running local_init_op.\n",
            "INFO:tensorflow:Done running local_init_op.\n",
            "INFO:tensorflow:Evaluation [1/1]\n",
            "INFO:tensorflow:Finished evaluation at 2020-02-17-06:18:24\n",
            "INFO:tensorflow:Saving dict for global step 5: global_step = 5, loss = 4467893700000.0, score = 4467893700000.0\n",
            "INFO:tensorflow:Saving 'checkpoint_path' summary for global step 5: /tmp/tmpttwm4nrc/model.ckpt-5\n",
            "score: 4467893700000.0\n",
            "INFO:tensorflow:Calling model_fn.\n",
            "INFO:tensorflow:Done calling model_fn.\n",
            "INFO:tensorflow:Create CheckpointSaverHook.\n",
            "INFO:tensorflow:Graph was finalized.\n",
            "INFO:tensorflow:Restoring parameters from /tmp/tmpttwm4nrc/model.ckpt-5\n",
            "INFO:tensorflow:Running local_init_op.\n",
            "INFO:tensorflow:Done running local_init_op.\n",
            "INFO:tensorflow:Saving checkpoints for 5 into /tmp/tmpttwm4nrc/model.ckpt.\n",
            "INFO:tensorflow:loss = 4467893700000.0, step = 6\n",
            "INFO:tensorflow:Saving checkpoints for 7 into /tmp/tmpttwm4nrc/model.ckpt.\n",
            "INFO:tensorflow:Loss for final step: 4467893700000.0.\n",
            "delta: [[ 9.6911094e+03  6.1737919e-01]\n",
            " [-7.9057109e-01  1.4215469e-02]\n",
            " [ 5.8313339e+01  1.9763136e+00]\n",
            " [ 6.8602151e-01 -1.1824241e+00]]\n",
            "INFO:tensorflow:Calling model_fn.\n",
            "INFO:tensorflow:Done calling model_fn.\n",
            "INFO:tensorflow:Starting evaluation at 2020-02-17T06:18:27Z\n",
            "INFO:tensorflow:Graph was finalized.\n",
            "INFO:tensorflow:Restoring parameters from /tmp/tmpttwm4nrc/model.ckpt-7\n",
            "INFO:tensorflow:Running local_init_op.\n",
            "INFO:tensorflow:Done running local_init_op.\n",
            "INFO:tensorflow:Evaluation [1/1]\n",
            "INFO:tensorflow:Finished evaluation at 2020-02-17-06:18:27\n",
            "INFO:tensorflow:Saving dict for global step 7: global_step = 7, loss = 3817450500000.0, score = 3817450500000.0\n",
            "INFO:tensorflow:Saving 'checkpoint_path' summary for global step 7: /tmp/tmpttwm4nrc/model.ckpt-7\n",
            "score: 3817450500000.0\n",
            "INFO:tensorflow:Calling model_fn.\n",
            "INFO:tensorflow:Done calling model_fn.\n",
            "INFO:tensorflow:Create CheckpointSaverHook.\n",
            "INFO:tensorflow:Graph was finalized.\n",
            "INFO:tensorflow:Restoring parameters from /tmp/tmpttwm4nrc/model.ckpt-7\n",
            "INFO:tensorflow:Running local_init_op.\n",
            "INFO:tensorflow:Done running local_init_op.\n",
            "INFO:tensorflow:Saving checkpoints for 7 into /tmp/tmpttwm4nrc/model.ckpt.\n",
            "INFO:tensorflow:loss = 3817450500000.0, step = 8\n",
            "INFO:tensorflow:Saving checkpoints for 9 into /tmp/tmpttwm4nrc/model.ckpt.\n",
            "WARNING:tensorflow:From /usr/local/lib/python3.6/dist-packages/tensorflow_core/python/training/saver.py:963: remove_checkpoint (from tensorflow.python.training.checkpoint_management) is deprecated and will be removed in a future version.\n",
            "Instructions for updating:\n",
            "Use standard file APIs to delete files with this prefix.\n",
            "INFO:tensorflow:Loss for final step: 3817450500000.0.\n",
            "delta: [[ 1.7195861e+04  6.8205833e-02]\n",
            " [ 1.1689991e+00 -3.8867331e-01]\n",
            " [ 2.2960146e+02  5.1847363e-01]\n",
            " [ 2.2057710e+00 -6.8420219e-01]]\n",
            "INFO:tensorflow:Calling model_fn.\n",
            "INFO:tensorflow:Done calling model_fn.\n",
            "INFO:tensorflow:Starting evaluation at 2020-02-17T06:18:30Z\n",
            "INFO:tensorflow:Graph was finalized.\n",
            "INFO:tensorflow:Restoring parameters from /tmp/tmpttwm4nrc/model.ckpt-9\n",
            "INFO:tensorflow:Running local_init_op.\n",
            "INFO:tensorflow:Done running local_init_op.\n",
            "INFO:tensorflow:Evaluation [1/1]\n",
            "INFO:tensorflow:Finished evaluation at 2020-02-17-06:18:31\n",
            "INFO:tensorflow:Saving dict for global step 9: global_step = 9, loss = 3084536800000.0, score = 3084536800000.0\n",
            "INFO:tensorflow:Saving 'checkpoint_path' summary for global step 9: /tmp/tmpttwm4nrc/model.ckpt-9\n",
            "score: 3084536800000.0\n",
            "INFO:tensorflow:Calling model_fn.\n",
            "INFO:tensorflow:Done calling model_fn.\n",
            "INFO:tensorflow:Create CheckpointSaverHook.\n",
            "INFO:tensorflow:Graph was finalized.\n",
            "INFO:tensorflow:Restoring parameters from /tmp/tmpttwm4nrc/model.ckpt-9\n",
            "INFO:tensorflow:Running local_init_op.\n",
            "INFO:tensorflow:Done running local_init_op.\n",
            "INFO:tensorflow:Saving checkpoints for 9 into /tmp/tmpttwm4nrc/model.ckpt.\n",
            "INFO:tensorflow:loss = 3084536800000.0, step = 10\n",
            "INFO:tensorflow:Saving checkpoints for 11 into /tmp/tmpttwm4nrc/model.ckpt.\n",
            "INFO:tensorflow:Loss for final step: 3084536800000.0.\n",
            "delta: [[ 2.1711084e+04 -5.3417683e-02]\n",
            " [-8.5026109e-01  2.2149086e-02]\n",
            " [ 8.5275037e+02  6.4024639e-01]\n",
            " [ 5.3847885e+00  2.5961518e-01]]\n",
            "INFO:tensorflow:Calling model_fn.\n",
            "INFO:tensorflow:Done calling model_fn.\n",
            "INFO:tensorflow:Starting evaluation at 2020-02-17T06:18:34Z\n",
            "INFO:tensorflow:Graph was finalized.\n",
            "INFO:tensorflow:Restoring parameters from /tmp/tmpttwm4nrc/model.ckpt-11\n",
            "INFO:tensorflow:Running local_init_op.\n",
            "INFO:tensorflow:Done running local_init_op.\n",
            "INFO:tensorflow:Evaluation [1/1]\n",
            "INFO:tensorflow:Finished evaluation at 2020-02-17-06:18:34\n",
            "INFO:tensorflow:Saving dict for global step 11: global_step = 11, loss = 2505033400000.0, score = 2505033400000.0\n",
            "INFO:tensorflow:Saving 'checkpoint_path' summary for global step 11: /tmp/tmpttwm4nrc/model.ckpt-11\n",
            "score: 2505033400000.0\n",
            "INFO:tensorflow:Calling model_fn.\n",
            "INFO:tensorflow:Done calling model_fn.\n",
            "INFO:tensorflow:Create CheckpointSaverHook.\n",
            "INFO:tensorflow:Graph was finalized.\n",
            "INFO:tensorflow:Restoring parameters from /tmp/tmpttwm4nrc/model.ckpt-11\n",
            "INFO:tensorflow:Running local_init_op.\n",
            "INFO:tensorflow:Done running local_init_op.\n",
            "INFO:tensorflow:Saving checkpoints for 11 into /tmp/tmpttwm4nrc/model.ckpt.\n",
            "INFO:tensorflow:loss = 2505033400000.0, step = 12\n",
            "INFO:tensorflow:Saving checkpoints for 13 into /tmp/tmpttwm4nrc/model.ckpt.\n",
            "INFO:tensorflow:Loss for final step: 2505033400000.0.\n",
            "delta: [[ 2.1359770e+04  7.4463367e-02]\n",
            " [-8.1837964e-01 -2.4106617e+00]\n",
            " [ 2.1030107e+03  5.0782347e-01]\n",
            " [ 2.6656590e+01  8.8218498e-01]]\n",
            "INFO:tensorflow:Calling model_fn.\n",
            "INFO:tensorflow:Done calling model_fn.\n",
            "INFO:tensorflow:Starting evaluation at 2020-02-17T06:18:37Z\n",
            "INFO:tensorflow:Graph was finalized.\n",
            "INFO:tensorflow:Restoring parameters from /tmp/tmpttwm4nrc/model.ckpt-13\n",
            "INFO:tensorflow:Running local_init_op.\n",
            "INFO:tensorflow:Done running local_init_op.\n",
            "INFO:tensorflow:Evaluation [1/1]\n",
            "INFO:tensorflow:Finished evaluation at 2020-02-17-06:18:37\n",
            "INFO:tensorflow:Saving dict for global step 13: global_step = 13, loss = 2105644400000.0, score = 2105644400000.0\n",
            "INFO:tensorflow:Saving 'checkpoint_path' summary for global step 13: /tmp/tmpttwm4nrc/model.ckpt-13\n",
            "score: 2105644400000.0\n",
            "INFO:tensorflow:Calling model_fn.\n",
            "INFO:tensorflow:Done calling model_fn.\n",
            "INFO:tensorflow:Create CheckpointSaverHook.\n",
            "INFO:tensorflow:Graph was finalized.\n",
            "INFO:tensorflow:Restoring parameters from /tmp/tmpttwm4nrc/model.ckpt-13\n",
            "INFO:tensorflow:Running local_init_op.\n",
            "INFO:tensorflow:Done running local_init_op.\n",
            "INFO:tensorflow:Saving checkpoints for 13 into /tmp/tmpttwm4nrc/model.ckpt.\n",
            "INFO:tensorflow:loss = 2105644400000.0, step = 14\n",
            "INFO:tensorflow:Saving checkpoints for 15 into /tmp/tmpttwm4nrc/model.ckpt.\n",
            "INFO:tensorflow:Loss for final step: 2105644400000.0.\n",
            "delta: [[ 2.0138133e+04 -1.5995026e-02]\n",
            " [ 1.0847410e+00 -3.4707880e-01]\n",
            " [ 3.6755232e+03  2.2630405e-01]\n",
            " [ 7.7999359e+01  9.1863942e-01]]\n",
            "INFO:tensorflow:Calling model_fn.\n",
            "INFO:tensorflow:Done calling model_fn.\n",
            "INFO:tensorflow:Starting evaluation at 2020-02-17T06:18:40Z\n",
            "INFO:tensorflow:Graph was finalized.\n",
            "INFO:tensorflow:Restoring parameters from /tmp/tmpttwm4nrc/model.ckpt-15\n",
            "INFO:tensorflow:Running local_init_op.\n",
            "INFO:tensorflow:Done running local_init_op.\n",
            "INFO:tensorflow:Evaluation [1/1]\n",
            "INFO:tensorflow:Finished evaluation at 2020-02-17-06:18:41\n",
            "INFO:tensorflow:Saving dict for global step 15: global_step = 15, loss = 1802198000000.0, score = 1802198000000.0\n",
            "INFO:tensorflow:Saving 'checkpoint_path' summary for global step 15: /tmp/tmpttwm4nrc/model.ckpt-15\n",
            "score: 1802198000000.0\n",
            "INFO:tensorflow:Calling model_fn.\n",
            "INFO:tensorflow:Done calling model_fn.\n",
            "INFO:tensorflow:Create CheckpointSaverHook.\n",
            "INFO:tensorflow:Graph was finalized.\n",
            "INFO:tensorflow:Restoring parameters from /tmp/tmpttwm4nrc/model.ckpt-15\n",
            "INFO:tensorflow:Running local_init_op.\n",
            "INFO:tensorflow:Done running local_init_op.\n",
            "INFO:tensorflow:Saving checkpoints for 15 into /tmp/tmpttwm4nrc/model.ckpt.\n",
            "INFO:tensorflow:loss = 1802198000000.0, step = 16\n",
            "INFO:tensorflow:Saving checkpoints for 17 into /tmp/tmpttwm4nrc/model.ckpt.\n",
            "INFO:tensorflow:Loss for final step: 1802198000000.0.\n",
            "delta: [[ 2.0865188e+04 -2.5844574e-04]\n",
            " [ 1.7663217e+00 -3.6155701e-02]\n",
            " [ 5.0599717e+03  4.7537327e-02]\n",
            " [ 2.1367264e+02  3.7952375e-01]]\n",
            "INFO:tensorflow:Calling model_fn.\n",
            "INFO:tensorflow:Done calling model_fn.\n",
            "INFO:tensorflow:Starting evaluation at 2020-02-17T06:18:44Z\n",
            "INFO:tensorflow:Graph was finalized.\n",
            "INFO:tensorflow:Restoring parameters from /tmp/tmpttwm4nrc/model.ckpt-17\n",
            "INFO:tensorflow:Running local_init_op.\n",
            "INFO:tensorflow:Done running local_init_op.\n",
            "INFO:tensorflow:Evaluation [1/1]\n",
            "INFO:tensorflow:Finished evaluation at 2020-02-17-06:18:44\n",
            "INFO:tensorflow:Saving dict for global step 17: global_step = 17, loss = 1534229900000.0, score = 1534229900000.0\n",
            "INFO:tensorflow:Saving 'checkpoint_path' summary for global step 17: /tmp/tmpttwm4nrc/model.ckpt-17\n",
            "score: 1534229900000.0\n",
            "INFO:tensorflow:Calling model_fn.\n",
            "INFO:tensorflow:Done calling model_fn.\n",
            "INFO:tensorflow:Create CheckpointSaverHook.\n",
            "INFO:tensorflow:Graph was finalized.\n",
            "INFO:tensorflow:Restoring parameters from /tmp/tmpttwm4nrc/model.ckpt-17\n",
            "INFO:tensorflow:Running local_init_op.\n",
            "INFO:tensorflow:Done running local_init_op.\n",
            "INFO:tensorflow:Saving checkpoints for 17 into /tmp/tmpttwm4nrc/model.ckpt.\n",
            "INFO:tensorflow:loss = 1534229900000.0, step = 18\n",
            "INFO:tensorflow:Saving checkpoints for 19 into /tmp/tmpttwm4nrc/model.ckpt.\n",
            "INFO:tensorflow:Loss for final step: 1534229900000.0.\n",
            "delta: [[ 2.0979805e+04  5.1808357e-03]\n",
            " [ 2.0985973e+00 -6.6928864e-03]\n",
            " [ 5.9534004e+03  2.8129578e-02]\n",
            " [ 5.1119794e+02  4.9257994e-01]]\n",
            "INFO:tensorflow:Calling model_fn.\n",
            "INFO:tensorflow:Done calling model_fn.\n",
            "INFO:tensorflow:Starting evaluation at 2020-02-17T06:18:47Z\n",
            "INFO:tensorflow:Graph was finalized.\n",
            "INFO:tensorflow:Restoring parameters from /tmp/tmpttwm4nrc/model.ckpt-19\n",
            "INFO:tensorflow:Running local_init_op.\n",
            "INFO:tensorflow:Done running local_init_op.\n",
            "INFO:tensorflow:Evaluation [1/1]\n",
            "INFO:tensorflow:Finished evaluation at 2020-02-17-06:18:47\n",
            "INFO:tensorflow:Saving dict for global step 19: global_step = 19, loss = 1301885500000.0, score = 1301885500000.0\n",
            "INFO:tensorflow:Saving 'checkpoint_path' summary for global step 19: /tmp/tmpttwm4nrc/model.ckpt-19\n",
            "score: 1301885500000.0\n",
            "cluster centers: [[1.3513038e+05 5.9493670e+00]\n",
            " [5.8474274e+00 4.6092463e+00]\n",
            " [1.7946760e+04 5.9502020e+00]\n",
            " [8.3828552e+02 5.1391845e+00]]\n",
            "WARNING:tensorflow:Input graph does not use tf.data.Dataset or contain a QueueRunner. That means predict yields forever. This is probably a mistake.\n",
            "INFO:tensorflow:Calling model_fn.\n",
            "INFO:tensorflow:Done calling model_fn.\n",
            "INFO:tensorflow:Graph was finalized.\n",
            "INFO:tensorflow:Restoring parameters from /tmp/tmpttwm4nrc/model.ckpt-19\n",
            "INFO:tensorflow:Running local_init_op.\n",
            "INFO:tensorflow:Done running local_init_op.\n",
            "point: FIRE_SIZE is in cluster 1 centered at [5.8474274 4.6092463]\n",
            "point: STAT_CAUSE_DESCR is in cluster 1 centered at [5.8474274 4.6092463]\n"
          ],
          "name": "stdout"
        }
      ]
    },
    {
      "cell_type": "code",
      "metadata": {
        "id": "8UAH19DaCY3Q",
        "colab_type": "code",
        "colab": {}
      },
      "source": [
        ""
      ],
      "execution_count": 0,
      "outputs": []
    },
    {
      "cell_type": "markdown",
      "metadata": {
        "id": "SweIKrvVxvnd",
        "colab_type": "text"
      },
      "source": [
        "Trying to Have a triangulated Kmeans Calculation based on 3 features and newly calculated feature set called State, FireSize and Fire Year to find if they are in any way corelated "
      ]
    },
    {
      "cell_type": "code",
      "metadata": {
        "id": "cdT7hjjTyAXt",
        "colab_type": "code",
        "colab": {}
      },
      "source": [
        "new_df=df.groupby(by=['STATE','FIRE_YEAR'],axis=0)['FIRE_SIZE'].mean().reset_index()"
      ],
      "execution_count": 0,
      "outputs": []
    },
    {
      "cell_type": "code",
      "metadata": {
        "id": "n57nY9d9zLbE",
        "colab_type": "code",
        "colab": {
          "base_uri": "https://localhost:8080/",
          "height": 419
        },
        "outputId": "3d1adf6f-e538-45d1-cb69-2e3a14fbb23e"
      },
      "source": [
        "new_df"
      ],
      "execution_count": 33,
      "outputs": [
        {
          "output_type": "execute_result",
          "data": {
            "text/html": [
              "<div>\n",
              "<style scoped>\n",
              "    .dataframe tbody tr th:only-of-type {\n",
              "        vertical-align: middle;\n",
              "    }\n",
              "\n",
              "    .dataframe tbody tr th {\n",
              "        vertical-align: top;\n",
              "    }\n",
              "\n",
              "    .dataframe thead th {\n",
              "        text-align: right;\n",
              "    }\n",
              "</style>\n",
              "<table border=\"1\" class=\"dataframe\">\n",
              "  <thead>\n",
              "    <tr style=\"text-align: right;\">\n",
              "      <th></th>\n",
              "      <th>STATE</th>\n",
              "      <th>FIRE_YEAR</th>\n",
              "      <th>FIRE_SIZE</th>\n",
              "    </tr>\n",
              "  </thead>\n",
              "  <tbody>\n",
              "    <tr>\n",
              "      <th>0</th>\n",
              "      <td>0</td>\n",
              "      <td>1997</td>\n",
              "      <td>2.000000</td>\n",
              "    </tr>\n",
              "    <tr>\n",
              "      <th>1</th>\n",
              "      <td>0</td>\n",
              "      <td>2004</td>\n",
              "      <td>0.500000</td>\n",
              "    </tr>\n",
              "    <tr>\n",
              "      <th>2</th>\n",
              "      <td>0</td>\n",
              "      <td>2005</td>\n",
              "      <td>6.197368</td>\n",
              "    </tr>\n",
              "    <tr>\n",
              "      <th>3</th>\n",
              "      <td>0</td>\n",
              "      <td>2006</td>\n",
              "      <td>0.346667</td>\n",
              "    </tr>\n",
              "    <tr>\n",
              "      <th>4</th>\n",
              "      <td>0</td>\n",
              "      <td>2007</td>\n",
              "      <td>0.200000</td>\n",
              "    </tr>\n",
              "    <tr>\n",
              "      <th>...</th>\n",
              "      <td>...</td>\n",
              "      <td>...</td>\n",
              "      <td>...</td>\n",
              "    </tr>\n",
              "    <tr>\n",
              "      <th>960</th>\n",
              "      <td>51</td>\n",
              "      <td>2011</td>\n",
              "      <td>185.291953</td>\n",
              "    </tr>\n",
              "    <tr>\n",
              "      <th>961</th>\n",
              "      <td>51</td>\n",
              "      <td>2012</td>\n",
              "      <td>523.844400</td>\n",
              "    </tr>\n",
              "    <tr>\n",
              "      <th>962</th>\n",
              "      <td>51</td>\n",
              "      <td>2013</td>\n",
              "      <td>80.577203</td>\n",
              "    </tr>\n",
              "    <tr>\n",
              "      <th>963</th>\n",
              "      <td>51</td>\n",
              "      <td>2014</td>\n",
              "      <td>14.525928</td>\n",
              "    </tr>\n",
              "    <tr>\n",
              "      <th>964</th>\n",
              "      <td>51</td>\n",
              "      <td>2015</td>\n",
              "      <td>55.685734</td>\n",
              "    </tr>\n",
              "  </tbody>\n",
              "</table>\n",
              "<p>965 rows × 3 columns</p>\n",
              "</div>"
            ],
            "text/plain": [
              "     STATE  FIRE_YEAR   FIRE_SIZE\n",
              "0        0       1997    2.000000\n",
              "1        0       2004    0.500000\n",
              "2        0       2005    6.197368\n",
              "3        0       2006    0.346667\n",
              "4        0       2007    0.200000\n",
              "..     ...        ...         ...\n",
              "960     51       2011  185.291953\n",
              "961     51       2012  523.844400\n",
              "962     51       2013   80.577203\n",
              "963     51       2014   14.525928\n",
              "964     51       2015   55.685734\n",
              "\n",
              "[965 rows x 3 columns]"
            ]
          },
          "metadata": {
            "tags": []
          },
          "execution_count": 33
        }
      ]
    },
    {
      "cell_type": "code",
      "metadata": {
        "id": "hhByUED3zQTc",
        "colab_type": "code",
        "colab": {
          "base_uri": "https://localhost:8080/",
          "height": 428
        },
        "outputId": "bc14843b-376b-4152-8002-36c60917e2da"
      },
      "source": [
        "X=new_df\n",
        "k_means = KMeans(n_clusters=3)\n",
        "k_means.fit(X)\n",
        "k_means_predicted = k_means.predict(X)\n",
        "centroids = k_means.cluster_centers_\n",
        "colors = ['navy', 'turquoise', 'darkorange']\n",
        "plt.figure('K-Means on Iris Dataset', figsize=(7,7))\n",
        "ax = plt.axes(projection = '3d')\n",
        "ax.scatter(X.STATE,X.FIRE_YEAR,X.FIRE_SIZE , cmap='Set2', s=50)"
      ],
      "execution_count": 47,
      "outputs": [
        {
          "output_type": "execute_result",
          "data": {
            "text/plain": [
              "<mpl_toolkits.mplot3d.art3d.Path3DCollection at 0x7ff4ebb5fdd8>"
            ]
          },
          "metadata": {
            "tags": []
          },
          "execution_count": 47
        },
        {
          "output_type": "display_data",
          "data": {
            "image/png": "[encoded data removed]",
            "text/plain": [
              "<Figure size 504x504 with 1 Axes>"
            ]
          },
          "metadata": {
            "tags": []
          }
        }
      ]
    }
  ]
}